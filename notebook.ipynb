{
 "cells": [
  {
   "cell_type": "code",
   "execution_count": 1,
   "id": "initial_id",
   "metadata": {
    "collapsed": true,
    "ExecuteTime": {
     "end_time": "2024-01-03T15:59:47.944051800Z",
     "start_time": "2024-01-03T15:59:42.349303500Z"
    }
   },
   "outputs": [],
   "source": [
    "import numpy as np\n",
    "import pandas as pd\n",
    "import matplotlib.pyplot as plt\n",
    "import plotly.express as px"
   ]
  },
  {
   "cell_type": "markdown",
   "source": [
    "---\n",
    "## Récupération des jeux de données et compréhension"
   ],
   "metadata": {
    "collapsed": false
   },
   "id": "5925337c6611236e"
  },
  {
   "cell_type": "code",
   "outputs": [],
   "source": [
    "df_matches = pd.read_csv(\"Africa Cup of Nations Matches MaJ.csv\", sep=\";\")\n",
    "df_countries = pd.read_csv(\"African Countries.csv\", sep=\";\")\n",
    "df_stats = pd.read_csv(\"Tournaments General Statistics MaJ.csv\", sep=\";\")"
   ],
   "metadata": {
    "collapsed": false,
    "ExecuteTime": {
     "end_time": "2024-01-03T17:31:45.691228Z",
     "start_time": "2024-01-03T17:31:45.471320200Z"
    }
   },
   "id": "8017b01817e9c50d",
   "execution_count": 124
  },
  {
   "cell_type": "code",
   "outputs": [
    {
     "name": "stdout",
     "output_type": "stream",
     "text": [
      "<class 'pandas.core.frame.DataFrame'>\n",
      "RangeIndex: 746 entries, 0 to 745\n",
      "Data columns (total 12 columns):\n",
      " #   Column                Non-Null Count  Dtype  \n",
      "---  ------                --------------  -----  \n",
      " 0   Year                  746 non-null    int64  \n",
      " 1   Date                  662 non-null    object \n",
      " 2   Time                  333 non-null    object \n",
      " 3   HomeTeam              746 non-null    object \n",
      " 4   AwayTeam              746 non-null    object \n",
      " 5   HomeTeamGoals         742 non-null    float64\n",
      " 6   AwayTeamGoals         742 non-null    float64\n",
      " 7   Stage                 746 non-null    object \n",
      " 8   SpecialWinConditions  63 non-null     object \n",
      " 9   Stadium               742 non-null    object \n",
      " 10  City                  742 non-null    object \n",
      " 11  Attendance            522 non-null    float64\n",
      "dtypes: float64(3), int64(1), object(8)\n",
      "memory usage: 70.1+ KB\n"
     ]
    }
   ],
   "source": [
    "df_matches.info()"
   ],
   "metadata": {
    "collapsed": false,
    "ExecuteTime": {
     "end_time": "2024-01-03T16:33:55.349074100Z",
     "start_time": "2024-01-03T16:33:55.198991800Z"
    }
   },
   "id": "7c402f34a7106163",
   "execution_count": 57
  },
  {
   "cell_type": "code",
   "outputs": [
    {
     "data": {
      "text/plain": "Year                      0\nDate                     84\nTime                    413\nHomeTeam                  0\nAwayTeam                  0\nHomeTeamGoals             4\nAwayTeamGoals             4\nStage                     0\nSpecialWinConditions    683\nStadium                   4\nCity                      4\nAttendance              224\ndtype: int64"
     },
     "execution_count": 58,
     "metadata": {},
     "output_type": "execute_result"
    }
   ],
   "source": [
    "df_matches.isna().sum()"
   ],
   "metadata": {
    "collapsed": false,
    "ExecuteTime": {
     "end_time": "2024-01-03T16:34:03.048932700Z",
     "start_time": "2024-01-03T16:34:02.926563300Z"
    }
   },
   "id": "2fed2b9d8ec1d17a",
   "execution_count": 58
  },
  {
   "cell_type": "code",
   "outputs": [
    {
     "data": {
      "text/plain": "     Year       Date   Time        HomeTeam       AwayTeam  HomeTeamGoals  \\\n1    1957  10/02/1957    NaN      Ethiopia    South Africa            NaN   \n489  2010  11/01/2010  19:30         Ghana            Togo            NaN   \n490  2010  15/01/2010  17:00  Burkina Faso            Togo            NaN   \n493  2010  19/01/2010  17:00   Ivory Coast            Togo            NaN   \n\n     AwayTeamGoals       Stage  \\\n1              NaN  Semifinals   \n489            NaN     Group B   \n490            NaN     Group B   \n493            NaN     Group B   \n\n                                  SpecialWinConditions Stadium City  \\\n1    Ethiopia  wins due to disqualification of othe...     NaN  NaN   \n489  Ghana  wins due to disqualification of other team     NaN  NaN   \n490  Burkina Faso  wins due to disqualification of ...     NaN  NaN   \n493  Ivory Coast  wins due to disqualification of o...     NaN  NaN   \n\n     Attendance  \n1           NaN  \n489         NaN  \n490         NaN  \n493         NaN  ",
      "text/html": "<div>\n<style scoped>\n    .dataframe tbody tr th:only-of-type {\n        vertical-align: middle;\n    }\n\n    .dataframe tbody tr th {\n        vertical-align: top;\n    }\n\n    .dataframe thead th {\n        text-align: right;\n    }\n</style>\n<table border=\"1\" class=\"dataframe\">\n  <thead>\n    <tr style=\"text-align: right;\">\n      <th></th>\n      <th>Year</th>\n      <th>Date</th>\n      <th>Time</th>\n      <th>HomeTeam</th>\n      <th>AwayTeam</th>\n      <th>HomeTeamGoals</th>\n      <th>AwayTeamGoals</th>\n      <th>Stage</th>\n      <th>SpecialWinConditions</th>\n      <th>Stadium</th>\n      <th>City</th>\n      <th>Attendance</th>\n    </tr>\n  </thead>\n  <tbody>\n    <tr>\n      <th>1</th>\n      <td>1957</td>\n      <td>10/02/1957</td>\n      <td>NaN</td>\n      <td>Ethiopia</td>\n      <td>South Africa</td>\n      <td>NaN</td>\n      <td>NaN</td>\n      <td>Semifinals</td>\n      <td>Ethiopia  wins due to disqualification of othe...</td>\n      <td>NaN</td>\n      <td>NaN</td>\n      <td>NaN</td>\n    </tr>\n    <tr>\n      <th>489</th>\n      <td>2010</td>\n      <td>11/01/2010</td>\n      <td>19:30</td>\n      <td>Ghana</td>\n      <td>Togo</td>\n      <td>NaN</td>\n      <td>NaN</td>\n      <td>Group B</td>\n      <td>Ghana  wins due to disqualification of other team</td>\n      <td>NaN</td>\n      <td>NaN</td>\n      <td>NaN</td>\n    </tr>\n    <tr>\n      <th>490</th>\n      <td>2010</td>\n      <td>15/01/2010</td>\n      <td>17:00</td>\n      <td>Burkina Faso</td>\n      <td>Togo</td>\n      <td>NaN</td>\n      <td>NaN</td>\n      <td>Group B</td>\n      <td>Burkina Faso  wins due to disqualification of ...</td>\n      <td>NaN</td>\n      <td>NaN</td>\n      <td>NaN</td>\n    </tr>\n    <tr>\n      <th>493</th>\n      <td>2010</td>\n      <td>19/01/2010</td>\n      <td>17:00</td>\n      <td>Ivory Coast</td>\n      <td>Togo</td>\n      <td>NaN</td>\n      <td>NaN</td>\n      <td>Group B</td>\n      <td>Ivory Coast  wins due to disqualification of o...</td>\n      <td>NaN</td>\n      <td>NaN</td>\n      <td>NaN</td>\n    </tr>\n  </tbody>\n</table>\n</div>"
     },
     "execution_count": 59,
     "metadata": {},
     "output_type": "execute_result"
    }
   ],
   "source": [
    "df_matches.loc[df_matches['HomeTeamGoals'].isna()]"
   ],
   "metadata": {
    "collapsed": false,
    "ExecuteTime": {
     "end_time": "2024-01-03T16:34:04.205501300Z",
     "start_time": "2024-01-03T16:34:04.016749300Z"
    }
   },
   "id": "79b7e4d1233e9830",
   "execution_count": 59
  },
  {
   "cell_type": "markdown",
   "source": [
    "Nous allons supprimer tous les matchs qui n'ont pas été joués"
   ],
   "metadata": {
    "collapsed": false
   },
   "id": "1c600e128ac708fb"
  },
  {
   "cell_type": "code",
   "outputs": [],
   "source": [
    "df_matches.dropna(subset=['HomeTeamGoals'], inplace=True)"
   ],
   "metadata": {
    "collapsed": false,
    "ExecuteTime": {
     "end_time": "2024-01-03T16:34:07.059178100Z",
     "start_time": "2024-01-03T16:34:06.950144300Z"
    }
   },
   "id": "9ec23c7c83a22362",
   "execution_count": 60
  },
  {
   "cell_type": "code",
   "outputs": [
    {
     "data": {
      "text/plain": "Year                      0\nDate                     84\nTime                    412\nHomeTeam                  0\nAwayTeam                  0\nHomeTeamGoals             0\nAwayTeamGoals             0\nStage                     0\nSpecialWinConditions    683\nStadium                   0\nCity                      0\nAttendance              220\ndtype: int64"
     },
     "execution_count": 61,
     "metadata": {},
     "output_type": "execute_result"
    }
   ],
   "source": [
    "df_matches.isna().sum()"
   ],
   "metadata": {
    "collapsed": false,
    "ExecuteTime": {
     "end_time": "2024-01-03T16:34:07.980621200Z",
     "start_time": "2024-01-03T16:34:07.879054Z"
    }
   },
   "id": "7b98b7ee14716b49",
   "execution_count": 61
  },
  {
   "cell_type": "code",
   "outputs": [],
   "source": [
    "# Conversion des types float en int sur les buts et le nombre de personnes au stade\n",
    "df_matches['HomeTeamGoals'] = df_matches['HomeTeamGoals'].astype(int)\n",
    "df_matches['AwayTeamGoals'] = df_matches['AwayTeamGoals'].astype(int)"
   ],
   "metadata": {
    "collapsed": false,
    "ExecuteTime": {
     "end_time": "2024-01-03T16:34:09.211440600Z",
     "start_time": "2024-01-03T16:34:09.046972Z"
    }
   },
   "id": "bb9f23c7a0ecab81",
   "execution_count": 62
  },
  {
   "cell_type": "code",
   "outputs": [
    {
     "name": "stdout",
     "output_type": "stream",
     "text": [
      "<class 'pandas.core.frame.DataFrame'>\n",
      "Int64Index: 742 entries, 0 to 745\n",
      "Data columns (total 12 columns):\n",
      " #   Column                Non-Null Count  Dtype  \n",
      "---  ------                --------------  -----  \n",
      " 0   Year                  742 non-null    int64  \n",
      " 1   Date                  658 non-null    object \n",
      " 2   Time                  330 non-null    object \n",
      " 3   HomeTeam              742 non-null    object \n",
      " 4   AwayTeam              742 non-null    object \n",
      " 5   HomeTeamGoals         742 non-null    int32  \n",
      " 6   AwayTeamGoals         742 non-null    int32  \n",
      " 7   Stage                 742 non-null    object \n",
      " 8   SpecialWinConditions  59 non-null     object \n",
      " 9   Stadium               742 non-null    object \n",
      " 10  City                  742 non-null    object \n",
      " 11  Attendance            522 non-null    float64\n",
      "dtypes: float64(1), int32(2), int64(1), object(8)\n",
      "memory usage: 69.6+ KB\n"
     ]
    }
   ],
   "source": [
    "df_matches.info()"
   ],
   "metadata": {
    "collapsed": false,
    "ExecuteTime": {
     "end_time": "2024-01-03T16:34:10.325247200Z",
     "start_time": "2024-01-03T16:34:10.171635800Z"
    }
   },
   "id": "960ca5f131302843",
   "execution_count": 63
  },
  {
   "cell_type": "code",
   "outputs": [
    {
     "data": {
      "text/plain": "73"
     },
     "execution_count": 64,
     "metadata": {},
     "output_type": "execute_result"
    }
   ],
   "source": [
    "df_matches['HomeTeam'].nunique()"
   ],
   "metadata": {
    "collapsed": false,
    "ExecuteTime": {
     "end_time": "2024-01-03T16:34:11.445803500Z",
     "start_time": "2024-01-03T16:34:11.347406900Z"
    }
   },
   "id": "6952ac77df744ff2",
   "execution_count": 64
  },
  {
   "cell_type": "code",
   "outputs": [],
   "source": [
    "# Enlever les espaces\n",
    "df_matches['HomeTeam'] = df_matches['HomeTeam'].str.strip()"
   ],
   "metadata": {
    "collapsed": false,
    "ExecuteTime": {
     "end_time": "2024-01-03T16:34:12.417404200Z",
     "start_time": "2024-01-03T16:34:12.323311800Z"
    }
   },
   "id": "8d4c7e7eab0d09be",
   "execution_count": 65
  },
  {
   "cell_type": "code",
   "outputs": [
    {
     "data": {
      "text/plain": "46"
     },
     "execution_count": 66,
     "metadata": {},
     "output_type": "execute_result"
    }
   ],
   "source": [
    "df_matches['HomeTeam'].nunique()"
   ],
   "metadata": {
    "collapsed": false,
    "ExecuteTime": {
     "end_time": "2024-01-03T16:34:13.672709100Z",
     "start_time": "2024-01-03T16:34:13.535449500Z"
    }
   },
   "id": "a41e8940281877a0",
   "execution_count": 66
  },
  {
   "cell_type": "code",
   "outputs": [],
   "source": [
    "df_matches['AwayTeam'] = df_matches['AwayTeam'].str.strip()"
   ],
   "metadata": {
    "collapsed": false,
    "ExecuteTime": {
     "end_time": "2024-01-03T16:34:14.842947400Z",
     "start_time": "2024-01-03T16:34:14.785553400Z"
    }
   },
   "id": "b51345469e3789b9",
   "execution_count": 67
  },
  {
   "cell_type": "code",
   "outputs": [
    {
     "data": {
      "text/plain": "array(['Sudan', 'Egypt', 'Ethiopia', 'Tunisia', 'Ghana', 'Senegal',\n       'Ivory Coast', 'Algeria', 'Congo-Kinshasa', 'Cameroon',\n       'United Arab Rep.', 'Guinea', 'Mali', 'Togo', 'Congo', 'Zaire',\n       'Morocco', 'Zambia', 'Nigeria', 'Uganda', 'Libya', 'Malawi',\n       'South Africa', 'Angola', 'Sierra Leone', 'Gabon', 'Burkina Faso',\n       'DR Congo', 'Liberia', 'Rwanda', 'Kenya', 'Zimbabwe', 'Namibia',\n       'Mozambique', 'Guinea-Bissau', 'Madagascar', 'Burundi', 'Tanzania',\n       'Mauritania', 'Benin', 'Comoros', 'Equatorial Guinea',\n       'Cape Verde', 'Gambia', 'Niger', 'Botswana'], dtype=object)"
     },
     "execution_count": 68,
     "metadata": {},
     "output_type": "execute_result"
    }
   ],
   "source": [
    "df_matches['HomeTeam'].unique()"
   ],
   "metadata": {
    "collapsed": false,
    "ExecuteTime": {
     "end_time": "2024-01-03T16:34:15.983925400Z",
     "start_time": "2024-01-03T16:34:15.844544300Z"
    }
   },
   "id": "49444706b4736c7e",
   "execution_count": 68
  },
  {
   "cell_type": "code",
   "outputs": [
    {
     "data": {
      "text/plain": "array(['Egypt', 'Ethiopia', 'Sudan', 'Tunisia', 'Uganda', 'Nigeria',\n       'Congo-Léopoldville', 'Ivory Coast', 'Algeria', 'Senegal',\n       'Congo-Brazzaville', 'Congo-Kinshasa', 'Ghana', 'Cameroon',\n       'Guinea', 'Kenya', 'Togo', 'Mali', 'Morocco', 'Congo', 'Zaire',\n       'Zambia', 'Mauritius', 'Upper Volta', 'Tanzania', 'Libya',\n       'Malawi', 'Mozambique', 'Gabon', 'Sierra Leone', 'Angola',\n       'Burkina Faso', 'Liberia', 'DR Congo', 'Namibia', 'South Africa',\n       'Rwanda', 'Zimbabwe', 'Benin', 'Equatorial Guinea', 'Cape Verde',\n       'Guinea-Bissau', 'Burundi', 'Madagascar', 'Mauritania', 'Gambia',\n       'Comoros', 'Niger', 'Botswana'], dtype=object)"
     },
     "execution_count": 69,
     "metadata": {},
     "output_type": "execute_result"
    }
   ],
   "source": [
    "df_matches['AwayTeam'].unique()"
   ],
   "metadata": {
    "collapsed": false,
    "ExecuteTime": {
     "end_time": "2024-01-03T16:34:16.963665500Z",
     "start_time": "2024-01-03T16:34:16.813139300Z"
    }
   },
   "id": "79968cf412906eb6",
   "execution_count": 69
  },
  {
   "cell_type": "code",
   "outputs": [],
   "source": [
    "# Gérer le cas des Congo, du Burkina Faso, de l'Egypte qui ont changé de nom\n",
    "df_matches['HomeTeam'].replace('Congo-Kinshasa', 'DR Congo', inplace=True)\n",
    "df_matches['AwayTeam'].replace('Congo-Kinshasa', 'DR Congo', inplace=True)\n",
    "\n",
    "df_matches['HomeTeam'].replace('Zaire', 'DR Congo', inplace=True)\n",
    "df_matches['AwayTeam'].replace('Zaire', 'DR Congo', inplace=True)\n",
    "\n",
    "df_matches['HomeTeam'].replace('Congo-Léopoldville', 'DR Congo', inplace=True)\n",
    "df_matches['AwayTeam'].replace('Congo-Léopoldville', 'DR Congo', inplace=True)\n",
    "\n",
    "df_matches['HomeTeam'].replace('Congo-Brazzaville', 'Congo', inplace=True)\n",
    "df_matches['AwayTeam'].replace('Congo-Brazzaville', 'Congo', inplace=True)\n",
    "\n",
    "df_matches['HomeTeam'].replace('Upper Volta', 'Burkina Faso', inplace=True)\n",
    "df_matches['AwayTeam'].replace('Upper Volta', 'Burkina Faso', inplace=True)\n",
    "\n",
    "df_matches['HomeTeam'].replace('United Arab Rep.', 'Egypt', inplace=True)\n",
    "df_matches['AwayTeam'].replace('United Arab Rep.', 'Egypt', inplace=True)"
   ],
   "metadata": {
    "collapsed": false,
    "ExecuteTime": {
     "end_time": "2024-01-03T16:34:18.416969400Z",
     "start_time": "2024-01-03T16:34:18.334221300Z"
    }
   },
   "id": "ea22167e766147b1",
   "execution_count": 70
  },
  {
   "cell_type": "code",
   "outputs": [
    {
     "data": {
      "text/plain": "array(['Sudan', 'Egypt', 'Ethiopia', 'Tunisia', 'Ghana', 'Senegal',\n       'Ivory Coast', 'Algeria', 'DR Congo', 'Cameroon', 'Guinea', 'Mali',\n       'Togo', 'Congo', 'Morocco', 'Zambia', 'Nigeria', 'Uganda', 'Libya',\n       'Malawi', 'South Africa', 'Angola', 'Sierra Leone', 'Gabon',\n       'Burkina Faso', 'Liberia', 'Rwanda', 'Kenya', 'Zimbabwe',\n       'Namibia', 'Mozambique', 'Guinea-Bissau', 'Madagascar', 'Burundi',\n       'Tanzania', 'Mauritania', 'Benin', 'Comoros', 'Equatorial Guinea',\n       'Cape Verde', 'Gambia', 'Niger', 'Botswana'], dtype=object)"
     },
     "execution_count": 71,
     "metadata": {},
     "output_type": "execute_result"
    }
   ],
   "source": [
    "df_matches['HomeTeam'].unique()"
   ],
   "metadata": {
    "collapsed": false,
    "ExecuteTime": {
     "end_time": "2024-01-03T16:34:19.983700300Z",
     "start_time": "2024-01-03T16:34:19.915907500Z"
    }
   },
   "id": "cd98f4666794ebb2",
   "execution_count": 71
  },
  {
   "cell_type": "code",
   "outputs": [
    {
     "data": {
      "text/plain": "array(['Egypt', 'Ethiopia', 'Sudan', 'Tunisia', 'Uganda', 'Nigeria',\n       'DR Congo', 'Ivory Coast', 'Algeria', 'Senegal', 'Congo', 'Ghana',\n       'Cameroon', 'Guinea', 'Kenya', 'Togo', 'Mali', 'Morocco', 'Zambia',\n       'Mauritius', 'Burkina Faso', 'Tanzania', 'Libya', 'Malawi',\n       'Mozambique', 'Gabon', 'Sierra Leone', 'Angola', 'Liberia',\n       'Namibia', 'South Africa', 'Rwanda', 'Zimbabwe', 'Benin',\n       'Equatorial Guinea', 'Cape Verde', 'Guinea-Bissau', 'Burundi',\n       'Madagascar', 'Mauritania', 'Gambia', 'Comoros', 'Niger',\n       'Botswana'], dtype=object)"
     },
     "execution_count": 72,
     "metadata": {},
     "output_type": "execute_result"
    }
   ],
   "source": [
    "df_matches['AwayTeam'].unique()"
   ],
   "metadata": {
    "collapsed": false,
    "ExecuteTime": {
     "end_time": "2024-01-03T16:34:21.494395700Z",
     "start_time": "2024-01-03T16:34:21.353348900Z"
    }
   },
   "id": "82aa64952d0c56c1",
   "execution_count": 72
  },
  {
   "cell_type": "markdown",
   "source": [
    "---\n",
    "## Feature Engineering pour déterminer si l'équipe a gagné (ou perdu) à domicile (ou à l'extérieur) et déterminer le gagnant du match"
   ],
   "metadata": {
    "collapsed": false
   },
   "id": "5aa91aedcd3d56db"
  },
  {
   "cell_type": "code",
   "outputs": [],
   "source": [
    "df_matches['HomeWin'] = df_matches['HomeTeamGoals'] > df_matches['AwayTeamGoals']\n",
    "df_matches['AwayWin'] = df_matches['AwayTeamGoals'] > df_matches['HomeTeamGoals']\n",
    "\n",
    "df_matches['HomeLoss'] = df_matches['AwayWin']\n",
    "df_matches['AwayLoss'] = df_matches['HomeWin']\n",
    "\n",
    "df_matches['Draw'] = df_matches['HomeTeamGoals'] == df_matches['AwayTeamGoals']"
   ],
   "metadata": {
    "collapsed": false,
    "ExecuteTime": {
     "end_time": "2024-01-03T16:34:23.942685700Z",
     "start_time": "2024-01-03T16:34:23.808958800Z"
    }
   },
   "id": "e8b507bcec55e689",
   "execution_count": 73
  },
  {
   "cell_type": "code",
   "outputs": [
    {
     "data": {
      "text/plain": "     Year       Date  Time      HomeTeam AwayTeam  HomeTeamGoals  \\\n5    1959  29/05/1959   NaN        Egypt    Sudan              2   \n231  1992  15/01/1992   NaN        Ghana   Zambia              1   \n30   1968  16/01/1968   NaN  Ivory Coast   Uganda              2   \n64   1972  25/02/1972   NaN        Congo  Morocco              1   \n232  1992  17/01/1992   NaN        Ghana    Egypt              1   \n\n     AwayTeamGoals             Stage SpecialWinConditions  \\\n5                1  Final Tournament                  NaN   \n231              0           Group D                  NaN   \n30               1           Group A                  NaN   \n64               1           Group B                  NaN   \n232              0           Group D                  NaN   \n\n                       Stadium          City  Attendance  HomeWin  AwayWin  \\\n5        Prince Farouk Stadium         Cairo     30000.0     True    False   \n231   Stade Aline Sitoe Diatta    Ziguinchor      5000.0     True    False   \n30      Hailé Sélassié Stadium   Addis Ababa     15000.0     True    False   \n64   Stade de la Réunification        Douala         NaN    False    False   \n232   Stade Aline Sitoe Diatta    Ziguinchor      5000.0     True    False   \n\n     HomeLoss  AwayLoss   Draw  \n5       False      True  False  \n231     False      True  False  \n30      False      True  False  \n64      False     False   True  \n232     False      True  False  ",
      "text/html": "<div>\n<style scoped>\n    .dataframe tbody tr th:only-of-type {\n        vertical-align: middle;\n    }\n\n    .dataframe tbody tr th {\n        vertical-align: top;\n    }\n\n    .dataframe thead th {\n        text-align: right;\n    }\n</style>\n<table border=\"1\" class=\"dataframe\">\n  <thead>\n    <tr style=\"text-align: right;\">\n      <th></th>\n      <th>Year</th>\n      <th>Date</th>\n      <th>Time</th>\n      <th>HomeTeam</th>\n      <th>AwayTeam</th>\n      <th>HomeTeamGoals</th>\n      <th>AwayTeamGoals</th>\n      <th>Stage</th>\n      <th>SpecialWinConditions</th>\n      <th>Stadium</th>\n      <th>City</th>\n      <th>Attendance</th>\n      <th>HomeWin</th>\n      <th>AwayWin</th>\n      <th>HomeLoss</th>\n      <th>AwayLoss</th>\n      <th>Draw</th>\n    </tr>\n  </thead>\n  <tbody>\n    <tr>\n      <th>5</th>\n      <td>1959</td>\n      <td>29/05/1959</td>\n      <td>NaN</td>\n      <td>Egypt</td>\n      <td>Sudan</td>\n      <td>2</td>\n      <td>1</td>\n      <td>Final Tournament</td>\n      <td>NaN</td>\n      <td>Prince Farouk Stadium</td>\n      <td>Cairo</td>\n      <td>30000.0</td>\n      <td>True</td>\n      <td>False</td>\n      <td>False</td>\n      <td>True</td>\n      <td>False</td>\n    </tr>\n    <tr>\n      <th>231</th>\n      <td>1992</td>\n      <td>15/01/1992</td>\n      <td>NaN</td>\n      <td>Ghana</td>\n      <td>Zambia</td>\n      <td>1</td>\n      <td>0</td>\n      <td>Group D</td>\n      <td>NaN</td>\n      <td>Stade Aline Sitoe Diatta</td>\n      <td>Ziguinchor</td>\n      <td>5000.0</td>\n      <td>True</td>\n      <td>False</td>\n      <td>False</td>\n      <td>True</td>\n      <td>False</td>\n    </tr>\n    <tr>\n      <th>30</th>\n      <td>1968</td>\n      <td>16/01/1968</td>\n      <td>NaN</td>\n      <td>Ivory Coast</td>\n      <td>Uganda</td>\n      <td>2</td>\n      <td>1</td>\n      <td>Group A</td>\n      <td>NaN</td>\n      <td>Hailé Sélassié Stadium</td>\n      <td>Addis Ababa</td>\n      <td>15000.0</td>\n      <td>True</td>\n      <td>False</td>\n      <td>False</td>\n      <td>True</td>\n      <td>False</td>\n    </tr>\n    <tr>\n      <th>64</th>\n      <td>1972</td>\n      <td>25/02/1972</td>\n      <td>NaN</td>\n      <td>Congo</td>\n      <td>Morocco</td>\n      <td>1</td>\n      <td>1</td>\n      <td>Group B</td>\n      <td>NaN</td>\n      <td>Stade de la Réunification</td>\n      <td>Douala</td>\n      <td>NaN</td>\n      <td>False</td>\n      <td>False</td>\n      <td>False</td>\n      <td>False</td>\n      <td>True</td>\n    </tr>\n    <tr>\n      <th>232</th>\n      <td>1992</td>\n      <td>17/01/1992</td>\n      <td>NaN</td>\n      <td>Ghana</td>\n      <td>Egypt</td>\n      <td>1</td>\n      <td>0</td>\n      <td>Group D</td>\n      <td>NaN</td>\n      <td>Stade Aline Sitoe Diatta</td>\n      <td>Ziguinchor</td>\n      <td>5000.0</td>\n      <td>True</td>\n      <td>False</td>\n      <td>False</td>\n      <td>True</td>\n      <td>False</td>\n    </tr>\n  </tbody>\n</table>\n</div>"
     },
     "execution_count": 74,
     "metadata": {},
     "output_type": "execute_result"
    }
   ],
   "source": [
    "df_matches.sample(5)"
   ],
   "metadata": {
    "collapsed": false,
    "ExecuteTime": {
     "end_time": "2024-01-03T16:34:25.820736900Z",
     "start_time": "2024-01-03T16:34:25.668156900Z"
    }
   },
   "id": "ddc07b6ade250898",
   "execution_count": 74
  },
  {
   "cell_type": "code",
   "outputs": [],
   "source": [
    "df_matches['Winner'] = np.where(~df_matches['Draw'],\n",
    "                                np.where(df_matches['HomeWin'], df_matches['HomeTeam'], df_matches['AwayTeam']),\n",
    "                                df_matches['SpecialWinConditions'].apply(lambda x: x.split(' win')[0] if isinstance(x, str) else ''))"
   ],
   "metadata": {
    "collapsed": false,
    "ExecuteTime": {
     "end_time": "2024-01-03T16:34:27.677265600Z",
     "start_time": "2024-01-03T16:34:27.582182600Z"
    }
   },
   "id": "d00e30c85c1ddd18",
   "execution_count": 75
  },
  {
   "cell_type": "markdown",
   "source": [
    "---\n",
    "# Calcul du total de victoires, défaites et matchs nuls par équipe."
   ],
   "metadata": {
    "collapsed": false
   },
   "id": "5a696ae665a89ff4"
  },
  {
   "cell_type": "code",
   "outputs": [],
   "source": [
    "total_wins = pd.concat([df_matches.groupby('HomeTeam')['HomeWin'].sum(),\n",
    "                        df_matches.groupby('AwayTeam')['AwayWin'].sum()], axis=1, sort=False).sum(axis=1)"
   ],
   "metadata": {
    "collapsed": false,
    "ExecuteTime": {
     "end_time": "2024-01-03T16:34:29.945933600Z",
     "start_time": "2024-01-03T16:34:29.839227700Z"
    }
   },
   "id": "82d9f04ae3e8c99a",
   "execution_count": 76
  },
  {
   "cell_type": "code",
   "outputs": [],
   "source": [
    "total_losses = pd.concat([df_matches.groupby('HomeTeam')['HomeLoss'].sum(),\n",
    "                        df_matches.groupby('AwayTeam')['AwayLoss'].sum()], axis=1, sort=False).sum(axis=1)"
   ],
   "metadata": {
    "collapsed": false,
    "ExecuteTime": {
     "end_time": "2024-01-03T16:34:31.216439Z",
     "start_time": "2024-01-03T16:34:31.051664800Z"
    }
   },
   "id": "bdbc98ee211f0607",
   "execution_count": 77
  },
  {
   "cell_type": "code",
   "outputs": [],
   "source": [
    "total_draws = pd.concat([df_matches.groupby('HomeTeam')['Draw'].sum(),\n",
    "                        df_matches.groupby('AwayTeam')['Draw'].sum()], axis=1, sort=False).sum(axis=1)"
   ],
   "metadata": {
    "collapsed": false,
    "ExecuteTime": {
     "end_time": "2024-01-03T16:34:32.198969400Z",
     "start_time": "2024-01-03T16:34:31.981953400Z"
    }
   },
   "id": "612ec446a1363da",
   "execution_count": 78
  },
  {
   "cell_type": "code",
   "outputs": [
    {
     "data": {
      "text/plain": "Ghana                102.0\nCameroon              91.0\nEgypt                107.0\nNigeria               97.0\nIvory Coast           99.0\nMorocco               70.0\nAlgeria               77.0\nZambia                67.0\nSenegal               67.0\nTunisia               80.0\nDR Congo              73.0\nSouth Africa          43.0\nBurkina Faso          48.0\nMali                  54.0\nGabon                 25.0\nGuinea                47.0\nEthiopia              30.0\nCongo                 26.0\nSudan                 27.0\nAngola                26.0\nLibya                 11.0\nUganda                23.0\nEquatorial Guinea     15.0\nTogo                  25.0\nZimbabwe              15.0\nMalawi                10.0\nNiger                  6.0\nCape Verde            11.0\nMadagascar             5.0\nGuinea-Bissau          9.0\nKenya                 17.0\nMauritania             6.0\nNamibia                9.0\nBenin                 14.0\nRwanda                 3.0\nLiberia                5.0\nGambia                 5.0\nSierra Leone           8.0\nBotswana               3.0\nMozambique            12.0\nBurundi                3.0\nTanzania               6.0\nComoros                4.0\nMauritius              3.0\ndtype: float64"
     },
     "execution_count": 79,
     "metadata": {},
     "output_type": "execute_result"
    }
   ],
   "source": [
    "total_games = pd.concat([df_matches['HomeTeam'].value_counts(),\n",
    "                         df_matches['AwayTeam'].value_counts()], axis=1, sort=False).sum(axis=1)\n",
    "total_games"
   ],
   "metadata": {
    "collapsed": false,
    "ExecuteTime": {
     "end_time": "2024-01-03T16:34:32.836075Z",
     "start_time": "2024-01-03T16:34:32.674485900Z"
    }
   },
   "id": "f0880b9ec9d7fbd0",
   "execution_count": 79
  },
  {
   "cell_type": "code",
   "outputs": [],
   "source": [
    "# Transformer ces séries en dictionnaire\n",
    "dict_games = total_games.to_dict()\n",
    "dict_wins = total_wins.to_dict()\n",
    "dict_losses = total_losses.to_dict()\n",
    "dict_draws = total_draws.to_dict()"
   ],
   "metadata": {
    "collapsed": false,
    "ExecuteTime": {
     "end_time": "2024-01-03T16:34:36.045586700Z",
     "start_time": "2024-01-03T16:34:35.967988900Z"
    }
   },
   "id": "9caf2fc38a42a9fa",
   "execution_count": 80
  },
  {
   "cell_type": "code",
   "outputs": [
    {
     "data": {
      "text/plain": "{'Ghana': 102.0,\n 'Cameroon': 91.0,\n 'Egypt': 107.0,\n 'Nigeria': 97.0,\n 'Ivory Coast': 99.0,\n 'Morocco': 70.0,\n 'Algeria': 77.0,\n 'Zambia': 67.0,\n 'Senegal': 67.0,\n 'Tunisia': 80.0,\n 'DR Congo': 73.0,\n 'South Africa': 43.0,\n 'Burkina Faso': 48.0,\n 'Mali': 54.0,\n 'Gabon': 25.0,\n 'Guinea': 47.0,\n 'Ethiopia': 30.0,\n 'Congo': 26.0,\n 'Sudan': 27.0,\n 'Angola': 26.0,\n 'Libya': 11.0,\n 'Uganda': 23.0,\n 'Equatorial Guinea': 15.0,\n 'Togo': 25.0,\n 'Zimbabwe': 15.0,\n 'Malawi': 10.0,\n 'Niger': 6.0,\n 'Cape Verde': 11.0,\n 'Madagascar': 5.0,\n 'Guinea-Bissau': 9.0,\n 'Kenya': 17.0,\n 'Mauritania': 6.0,\n 'Namibia': 9.0,\n 'Benin': 14.0,\n 'Rwanda': 3.0,\n 'Liberia': 5.0,\n 'Gambia': 5.0,\n 'Sierra Leone': 8.0,\n 'Botswana': 3.0,\n 'Mozambique': 12.0,\n 'Burundi': 3.0,\n 'Tanzania': 6.0,\n 'Comoros': 4.0,\n 'Mauritius': 3.0}"
     },
     "execution_count": 81,
     "metadata": {},
     "output_type": "execute_result"
    }
   ],
   "source": [
    "dict_games"
   ],
   "metadata": {
    "collapsed": false,
    "ExecuteTime": {
     "end_time": "2024-01-03T16:34:37.301447200Z",
     "start_time": "2024-01-03T16:34:37.190671300Z"
    }
   },
   "id": "87c6739f2088fa12",
   "execution_count": 81
  },
  {
   "cell_type": "code",
   "outputs": [
    {
     "data": {
      "text/plain": "         Team  Year\n0       Sudan  1957\n2       Egypt  1957\n3       Egypt  1959\n4       Sudan  1959\n6    Ethiopia  1962\n..        ...   ...\n495     Benin  2010\n501   Tunisia  2010\n517   Tunisia  2012\n724    Angola  2012\n729    Guinea  2012\n\n[380 rows x 2 columns]",
      "text/html": "<div>\n<style scoped>\n    .dataframe tbody tr th:only-of-type {\n        vertical-align: middle;\n    }\n\n    .dataframe tbody tr th {\n        vertical-align: top;\n    }\n\n    .dataframe thead th {\n        text-align: right;\n    }\n</style>\n<table border=\"1\" class=\"dataframe\">\n  <thead>\n    <tr style=\"text-align: right;\">\n      <th></th>\n      <th>Team</th>\n      <th>Year</th>\n    </tr>\n  </thead>\n  <tbody>\n    <tr>\n      <th>0</th>\n      <td>Sudan</td>\n      <td>1957</td>\n    </tr>\n    <tr>\n      <th>2</th>\n      <td>Egypt</td>\n      <td>1957</td>\n    </tr>\n    <tr>\n      <th>3</th>\n      <td>Egypt</td>\n      <td>1959</td>\n    </tr>\n    <tr>\n      <th>4</th>\n      <td>Sudan</td>\n      <td>1959</td>\n    </tr>\n    <tr>\n      <th>6</th>\n      <td>Ethiopia</td>\n      <td>1962</td>\n    </tr>\n    <tr>\n      <th>...</th>\n      <td>...</td>\n      <td>...</td>\n    </tr>\n    <tr>\n      <th>495</th>\n      <td>Benin</td>\n      <td>2010</td>\n    </tr>\n    <tr>\n      <th>501</th>\n      <td>Tunisia</td>\n      <td>2010</td>\n    </tr>\n    <tr>\n      <th>517</th>\n      <td>Tunisia</td>\n      <td>2012</td>\n    </tr>\n    <tr>\n      <th>724</th>\n      <td>Angola</td>\n      <td>2012</td>\n    </tr>\n    <tr>\n      <th>729</th>\n      <td>Guinea</td>\n      <td>2012</td>\n    </tr>\n  </tbody>\n</table>\n<p>380 rows × 2 columns</p>\n</div>"
     },
     "execution_count": 82,
     "metadata": {},
     "output_type": "execute_result"
    }
   ],
   "source": [
    "# Constitution d'une série avec les équipes et les éditions auxquels ils ont participé...\n",
    "unique_home_teams_and_years = df_matches[[\"HomeTeam\", \"Year\"]].drop_duplicates()\n",
    "unique_home_teams_and_years.rename(columns={'HomeTeam': 'Team'}, inplace=True)\n",
    "\n",
    "unique_away_teams_and_years = df_matches[[\"AwayTeam\", \"Year\"]].drop_duplicates()\n",
    "unique_away_teams_and_years.rename(columns={'AwayTeam': 'Team'}, inplace=True)\n",
    "\n",
    "unique_teams_and_years = (pd.concat([unique_home_teams_and_years, unique_away_teams_and_years])).drop_duplicates()\n",
    "unique_teams_and_years"
   ],
   "metadata": {
    "collapsed": false,
    "ExecuteTime": {
     "end_time": "2024-01-03T16:34:38.270602Z",
     "start_time": "2024-01-03T16:34:38.118672700Z"
    }
   },
   "id": "e810932361d1e255",
   "execution_count": 82
  },
  {
   "cell_type": "code",
   "outputs": [
    {
     "data": {
      "text/plain": "{'Egypt': 25,\n 'Ivory Coast': 24,\n 'Ghana': 23,\n 'Tunisia': 20,\n 'Cameroon': 20,\n 'Nigeria': 19,\n 'Algeria': 19,\n 'DR Congo': 19,\n 'Morocco': 18,\n 'Zambia': 17,\n 'Senegal': 16,\n 'Guinea': 13,\n 'Mali': 12,\n 'Burkina Faso': 12,\n 'Ethiopia': 11,\n 'South Africa': 10,\n 'Sudan': 9,\n 'Angola': 8,\n 'Gabon': 8,\n 'Togo': 8,\n 'Uganda': 7,\n 'Congo': 7,\n 'Kenya': 6,\n 'Zimbabwe': 5,\n 'Mozambique': 4,\n 'Benin': 4,\n 'Cape Verde': 3,\n 'Equatorial Guinea': 3,\n 'Guinea-Bissau': 3,\n 'Sierra Leone': 3,\n 'Namibia': 3,\n 'Malawi': 3,\n 'Libya': 3,\n 'Tanzania': 2,\n 'Mauritania': 2,\n 'Liberia': 2,\n 'Niger': 2,\n 'Rwanda': 1,\n 'Madagascar': 1,\n 'Burundi': 1,\n 'Comoros': 1,\n 'Gambia': 1,\n 'Botswana': 1,\n 'Mauritius': 1}"
     },
     "execution_count": 83,
     "metadata": {},
     "output_type": "execute_result"
    }
   ],
   "source": [
    "# ... Calcul du nombre  et transformation en dictionnaire \n",
    "dict_tournaments = unique_teams_and_years['Team'].value_counts().to_dict()\n",
    "dict_tournaments"
   ],
   "metadata": {
    "collapsed": false,
    "ExecuteTime": {
     "end_time": "2024-01-03T16:34:39.375019200Z",
     "start_time": "2024-01-03T16:34:39.102957800Z"
    }
   },
   "id": "6b28a7ba0c69aa3e",
   "execution_count": 83
  },
  {
   "cell_type": "code",
   "outputs": [],
   "source": [
    "total_goals_scored = pd.concat([df_matches.groupby('HomeTeam')['HomeTeamGoals'].sum(),\n",
    "                        df_matches.groupby('AwayTeam')['AwayTeamGoals'].sum()], axis=1, sort=False).sum(axis=1)"
   ],
   "metadata": {
    "collapsed": false,
    "ExecuteTime": {
     "end_time": "2024-01-03T16:34:40.368326900Z",
     "start_time": "2024-01-03T16:34:40.259969300Z"
    }
   },
   "id": "2403c2218c75d32d",
   "execution_count": 84
  },
  {
   "cell_type": "code",
   "outputs": [
    {
     "data": {
      "text/plain": "{'Algeria': 94.0,\n 'Angola': 30.0,\n 'Benin': 7.0,\n 'Botswana': 2.0,\n 'Burkina Faso': 47.0,\n 'Burundi': 0.0,\n 'Cameroon': 137.0,\n 'Cape Verde': 6.0,\n 'Comoros': 4.0,\n 'Congo': 27.0,\n 'DR Congo': 88.0,\n 'Egypt': 168.0,\n 'Equatorial Guinea': 11.0,\n 'Ethiopia': 31.0,\n 'Gabon': 24.0,\n 'Gambia': 4.0,\n 'Ghana': 133.0,\n 'Guinea': 61.0,\n 'Guinea-Bissau': 2.0,\n 'Ivory Coast': 144.0,\n 'Kenya': 11.0,\n 'Liberia': 5.0,\n 'Libya': 12.0,\n 'Madagascar': 7.0,\n 'Malawi': 9.0,\n 'Mali': 65.0,\n 'Mauritania': 1.0,\n 'Morocco': 82.0,\n 'Mozambique': 4.0,\n 'Namibia': 10.0,\n 'Niger': 1.0,\n 'Nigeria': 137.0,\n 'Rwanda': 3.0,\n 'Senegal': 78.0,\n 'Sierra Leone': 4.0,\n 'South Africa': 48.0,\n 'Sudan': 29.0,\n 'Tanzania': 5.0,\n 'Togo': 19.0,\n 'Tunisia': 109.0,\n 'Uganda': 21.0,\n 'Zambia': 81.0,\n 'Zimbabwe': 16.0,\n 'Mauritius': 2.0}"
     },
     "execution_count": 85,
     "metadata": {},
     "output_type": "execute_result"
    }
   ],
   "source": [
    "dict_goals_scored = total_goals_scored.to_dict()\n",
    "dict_goals_scored"
   ],
   "metadata": {
    "collapsed": false,
    "ExecuteTime": {
     "end_time": "2024-01-03T16:34:41.411480700Z",
     "start_time": "2024-01-03T16:34:41.329825400Z"
    }
   },
   "id": "b22edc45c0ff2c4",
   "execution_count": 85
  },
  {
   "cell_type": "code",
   "outputs": [
    {
     "data": {
      "text/plain": "{'Algeria': 89.0,\n 'Angola': 39.0,\n 'Benin': 24.0,\n 'Botswana': 9.0,\n 'Burkina Faso': 72.0,\n 'Burundi': 4.0,\n 'Cameroon': 83.0,\n 'Cape Verde': 9.0,\n 'Comoros': 7.0,\n 'Congo': 40.0,\n 'DR Congo': 102.0,\n 'Egypt': 90.0,\n 'Equatorial Guinea': 14.0,\n 'Ethiopia': 67.0,\n 'Gabon': 30.0,\n 'Gambia': 3.0,\n 'Ghana': 87.0,\n 'Guinea': 66.0,\n 'Guinea-Bissau': 12.0,\n 'Ivory Coast': 103.0,\n 'Kenya': 31.0,\n 'Liberia': 7.0,\n 'Libya': 13.0,\n 'Madagascar': 7.0,\n 'Malawi': 15.0,\n 'Mali': 65.0,\n 'Mauritania': 11.0,\n 'Morocco': 63.0,\n 'Mozambique': 26.0,\n 'Namibia': 24.0,\n 'Niger': 9.0,\n 'Nigeria': 102.0,\n 'Rwanda': 3.0,\n 'Senegal': 56.0,\n 'Sierra Leone': 14.0,\n 'South Africa': 45.0,\n 'Sudan': 42.0,\n 'Tanzania': 14.0,\n 'Togo': 42.0,\n 'Tunisia': 94.0,\n 'Uganda': 38.0,\n 'Zambia': 69.0,\n 'Zimbabwe': 31.0,\n 'Mauritius': 8.0}"
     },
     "execution_count": 86,
     "metadata": {},
     "output_type": "execute_result"
    }
   ],
   "source": [
    "total_goals_conceded = pd.concat([df_matches.groupby('HomeTeam')['AwayTeamGoals'].sum(),\n",
    "                                df_matches.groupby('AwayTeam')['HomeTeamGoals'].sum()], axis=1, sort=False).sum(axis=1)\n",
    "dict_goals_conceded = total_goals_conceded.to_dict()\n",
    "dict_goals_conceded"
   ],
   "metadata": {
    "collapsed": false,
    "ExecuteTime": {
     "end_time": "2024-01-03T16:34:43.067129300Z",
     "start_time": "2024-01-03T16:34:42.885301900Z"
    }
   },
   "id": "59d8cacc3d59eb33",
   "execution_count": 86
  },
  {
   "cell_type": "code",
   "outputs": [
    {
     "data": {
      "text/plain": "                   nb_tournaments  nb_games  nb_wins  nb_losses  nb_draws  \\\nEgypt                          25     107.0     60.0       27.0      20.0   \nIvory Coast                    24      99.0     44.0       28.0      27.0   \nGhana                          23     102.0     54.0       27.0      21.0   \nTunisia                        20      80.0     26.0       26.0      28.0   \nCameroon                       20      91.0     45.0       16.0      30.0   \nNigeria                        19      97.0     53.0       23.0      21.0   \nAlgeria                        19      77.0     28.0       27.0      22.0   \nDR Congo                       19      73.0     20.0       29.0      24.0   \nMorocco                        18      70.0     27.0       19.0      24.0   \nZambia                         17      67.0     26.0       21.0      20.0   \nSenegal                        16      67.0     27.0       23.0      17.0   \nGuinea                         13      47.0     13.0       17.0      17.0   \nMali                           12      54.0     19.0       16.0      19.0   \nBurkina Faso                   12      48.0      9.0       23.0      16.0   \nEthiopia                       11      30.0      7.0       19.0       4.0   \nSouth Africa                   10      43.0     16.0       14.0      13.0   \nSudan                           9      27.0      7.0       13.0       7.0   \nAngola                          8      26.0      4.0       10.0      12.0   \nGabon                           8      25.0      7.0        8.0      10.0   \nTogo                            8      25.0      3.0       14.0       8.0   \nUganda                          7      23.0      4.0       16.0       3.0   \nCongo                           7      26.0      7.0       12.0       7.0   \nKenya                           6      17.0      2.0       11.0       4.0   \nZimbabwe                        5      15.0      3.0       10.0       2.0   \nMozambique                      4      12.0      0.0       10.0       2.0   \nBenin                           4      14.0      0.0        9.0       5.0   \nCape Verde                      3      11.0      2.0        3.0       6.0   \nEquatorial Guinea               3      15.0      6.0        5.0       4.0   \nGuinea-Bissau                   3       9.0      0.0        6.0       3.0   \nSierra Leone                    3       8.0      1.0        4.0       3.0   \nNamibia                         3       9.0      0.0        7.0       2.0   \nMalawi                          3      10.0      2.0        6.0       2.0   \nLibya                           3      11.0      3.0        3.0       5.0   \nTanzania                        2       6.0      0.0        5.0       1.0   \nMauritania                      2       6.0      0.0        4.0       2.0   \nLiberia                         2       5.0      1.0        2.0       2.0   \nNiger                           2       6.0      0.0        5.0       1.0   \nRwanda                          1       3.0      1.0        1.0       1.0   \nMadagascar                      1       5.0      2.0        1.0       2.0   \nBurundi                         1       3.0      0.0        3.0       0.0   \nComoros                         1       4.0      1.0        3.0       0.0   \nGambia                          1       5.0      3.0        1.0       1.0   \nBotswana                        1       3.0      0.0        3.0       0.0   \nMauritius                       1       3.0      0.0        3.0       0.0   \n\n                   nb_goals_scored  nb_goals_conceded  \nEgypt                        168.0               90.0  \nIvory Coast                  144.0              103.0  \nGhana                        133.0               87.0  \nTunisia                      109.0               94.0  \nCameroon                     137.0               83.0  \nNigeria                      137.0              102.0  \nAlgeria                       94.0               89.0  \nDR Congo                      88.0              102.0  \nMorocco                       82.0               63.0  \nZambia                        81.0               69.0  \nSenegal                       78.0               56.0  \nGuinea                        61.0               66.0  \nMali                          65.0               65.0  \nBurkina Faso                  47.0               72.0  \nEthiopia                      31.0               67.0  \nSouth Africa                  48.0               45.0  \nSudan                         29.0               42.0  \nAngola                        30.0               39.0  \nGabon                         24.0               30.0  \nTogo                          19.0               42.0  \nUganda                        21.0               38.0  \nCongo                         27.0               40.0  \nKenya                         11.0               31.0  \nZimbabwe                      16.0               31.0  \nMozambique                     4.0               26.0  \nBenin                          7.0               24.0  \nCape Verde                     6.0                9.0  \nEquatorial Guinea             11.0               14.0  \nGuinea-Bissau                  2.0               12.0  \nSierra Leone                   4.0               14.0  \nNamibia                       10.0               24.0  \nMalawi                         9.0               15.0  \nLibya                         12.0               13.0  \nTanzania                       5.0               14.0  \nMauritania                     1.0               11.0  \nLiberia                        5.0                7.0  \nNiger                          1.0                9.0  \nRwanda                         3.0                3.0  \nMadagascar                     7.0                7.0  \nBurundi                        0.0                4.0  \nComoros                        4.0                7.0  \nGambia                         4.0                3.0  \nBotswana                       2.0                9.0  \nMauritius                      2.0                8.0  ",
      "text/html": "<div>\n<style scoped>\n    .dataframe tbody tr th:only-of-type {\n        vertical-align: middle;\n    }\n\n    .dataframe tbody tr th {\n        vertical-align: top;\n    }\n\n    .dataframe thead th {\n        text-align: right;\n    }\n</style>\n<table border=\"1\" class=\"dataframe\">\n  <thead>\n    <tr style=\"text-align: right;\">\n      <th></th>\n      <th>nb_tournaments</th>\n      <th>nb_games</th>\n      <th>nb_wins</th>\n      <th>nb_losses</th>\n      <th>nb_draws</th>\n      <th>nb_goals_scored</th>\n      <th>nb_goals_conceded</th>\n    </tr>\n  </thead>\n  <tbody>\n    <tr>\n      <th>Egypt</th>\n      <td>25</td>\n      <td>107.0</td>\n      <td>60.0</td>\n      <td>27.0</td>\n      <td>20.0</td>\n      <td>168.0</td>\n      <td>90.0</td>\n    </tr>\n    <tr>\n      <th>Ivory Coast</th>\n      <td>24</td>\n      <td>99.0</td>\n      <td>44.0</td>\n      <td>28.0</td>\n      <td>27.0</td>\n      <td>144.0</td>\n      <td>103.0</td>\n    </tr>\n    <tr>\n      <th>Ghana</th>\n      <td>23</td>\n      <td>102.0</td>\n      <td>54.0</td>\n      <td>27.0</td>\n      <td>21.0</td>\n      <td>133.0</td>\n      <td>87.0</td>\n    </tr>\n    <tr>\n      <th>Tunisia</th>\n      <td>20</td>\n      <td>80.0</td>\n      <td>26.0</td>\n      <td>26.0</td>\n      <td>28.0</td>\n      <td>109.0</td>\n      <td>94.0</td>\n    </tr>\n    <tr>\n      <th>Cameroon</th>\n      <td>20</td>\n      <td>91.0</td>\n      <td>45.0</td>\n      <td>16.0</td>\n      <td>30.0</td>\n      <td>137.0</td>\n      <td>83.0</td>\n    </tr>\n    <tr>\n      <th>Nigeria</th>\n      <td>19</td>\n      <td>97.0</td>\n      <td>53.0</td>\n      <td>23.0</td>\n      <td>21.0</td>\n      <td>137.0</td>\n      <td>102.0</td>\n    </tr>\n    <tr>\n      <th>Algeria</th>\n      <td>19</td>\n      <td>77.0</td>\n      <td>28.0</td>\n      <td>27.0</td>\n      <td>22.0</td>\n      <td>94.0</td>\n      <td>89.0</td>\n    </tr>\n    <tr>\n      <th>DR Congo</th>\n      <td>19</td>\n      <td>73.0</td>\n      <td>20.0</td>\n      <td>29.0</td>\n      <td>24.0</td>\n      <td>88.0</td>\n      <td>102.0</td>\n    </tr>\n    <tr>\n      <th>Morocco</th>\n      <td>18</td>\n      <td>70.0</td>\n      <td>27.0</td>\n      <td>19.0</td>\n      <td>24.0</td>\n      <td>82.0</td>\n      <td>63.0</td>\n    </tr>\n    <tr>\n      <th>Zambia</th>\n      <td>17</td>\n      <td>67.0</td>\n      <td>26.0</td>\n      <td>21.0</td>\n      <td>20.0</td>\n      <td>81.0</td>\n      <td>69.0</td>\n    </tr>\n    <tr>\n      <th>Senegal</th>\n      <td>16</td>\n      <td>67.0</td>\n      <td>27.0</td>\n      <td>23.0</td>\n      <td>17.0</td>\n      <td>78.0</td>\n      <td>56.0</td>\n    </tr>\n    <tr>\n      <th>Guinea</th>\n      <td>13</td>\n      <td>47.0</td>\n      <td>13.0</td>\n      <td>17.0</td>\n      <td>17.0</td>\n      <td>61.0</td>\n      <td>66.0</td>\n    </tr>\n    <tr>\n      <th>Mali</th>\n      <td>12</td>\n      <td>54.0</td>\n      <td>19.0</td>\n      <td>16.0</td>\n      <td>19.0</td>\n      <td>65.0</td>\n      <td>65.0</td>\n    </tr>\n    <tr>\n      <th>Burkina Faso</th>\n      <td>12</td>\n      <td>48.0</td>\n      <td>9.0</td>\n      <td>23.0</td>\n      <td>16.0</td>\n      <td>47.0</td>\n      <td>72.0</td>\n    </tr>\n    <tr>\n      <th>Ethiopia</th>\n      <td>11</td>\n      <td>30.0</td>\n      <td>7.0</td>\n      <td>19.0</td>\n      <td>4.0</td>\n      <td>31.0</td>\n      <td>67.0</td>\n    </tr>\n    <tr>\n      <th>South Africa</th>\n      <td>10</td>\n      <td>43.0</td>\n      <td>16.0</td>\n      <td>14.0</td>\n      <td>13.0</td>\n      <td>48.0</td>\n      <td>45.0</td>\n    </tr>\n    <tr>\n      <th>Sudan</th>\n      <td>9</td>\n      <td>27.0</td>\n      <td>7.0</td>\n      <td>13.0</td>\n      <td>7.0</td>\n      <td>29.0</td>\n      <td>42.0</td>\n    </tr>\n    <tr>\n      <th>Angola</th>\n      <td>8</td>\n      <td>26.0</td>\n      <td>4.0</td>\n      <td>10.0</td>\n      <td>12.0</td>\n      <td>30.0</td>\n      <td>39.0</td>\n    </tr>\n    <tr>\n      <th>Gabon</th>\n      <td>8</td>\n      <td>25.0</td>\n      <td>7.0</td>\n      <td>8.0</td>\n      <td>10.0</td>\n      <td>24.0</td>\n      <td>30.0</td>\n    </tr>\n    <tr>\n      <th>Togo</th>\n      <td>8</td>\n      <td>25.0</td>\n      <td>3.0</td>\n      <td>14.0</td>\n      <td>8.0</td>\n      <td>19.0</td>\n      <td>42.0</td>\n    </tr>\n    <tr>\n      <th>Uganda</th>\n      <td>7</td>\n      <td>23.0</td>\n      <td>4.0</td>\n      <td>16.0</td>\n      <td>3.0</td>\n      <td>21.0</td>\n      <td>38.0</td>\n    </tr>\n    <tr>\n      <th>Congo</th>\n      <td>7</td>\n      <td>26.0</td>\n      <td>7.0</td>\n      <td>12.0</td>\n      <td>7.0</td>\n      <td>27.0</td>\n      <td>40.0</td>\n    </tr>\n    <tr>\n      <th>Kenya</th>\n      <td>6</td>\n      <td>17.0</td>\n      <td>2.0</td>\n      <td>11.0</td>\n      <td>4.0</td>\n      <td>11.0</td>\n      <td>31.0</td>\n    </tr>\n    <tr>\n      <th>Zimbabwe</th>\n      <td>5</td>\n      <td>15.0</td>\n      <td>3.0</td>\n      <td>10.0</td>\n      <td>2.0</td>\n      <td>16.0</td>\n      <td>31.0</td>\n    </tr>\n    <tr>\n      <th>Mozambique</th>\n      <td>4</td>\n      <td>12.0</td>\n      <td>0.0</td>\n      <td>10.0</td>\n      <td>2.0</td>\n      <td>4.0</td>\n      <td>26.0</td>\n    </tr>\n    <tr>\n      <th>Benin</th>\n      <td>4</td>\n      <td>14.0</td>\n      <td>0.0</td>\n      <td>9.0</td>\n      <td>5.0</td>\n      <td>7.0</td>\n      <td>24.0</td>\n    </tr>\n    <tr>\n      <th>Cape Verde</th>\n      <td>3</td>\n      <td>11.0</td>\n      <td>2.0</td>\n      <td>3.0</td>\n      <td>6.0</td>\n      <td>6.0</td>\n      <td>9.0</td>\n    </tr>\n    <tr>\n      <th>Equatorial Guinea</th>\n      <td>3</td>\n      <td>15.0</td>\n      <td>6.0</td>\n      <td>5.0</td>\n      <td>4.0</td>\n      <td>11.0</td>\n      <td>14.0</td>\n    </tr>\n    <tr>\n      <th>Guinea-Bissau</th>\n      <td>3</td>\n      <td>9.0</td>\n      <td>0.0</td>\n      <td>6.0</td>\n      <td>3.0</td>\n      <td>2.0</td>\n      <td>12.0</td>\n    </tr>\n    <tr>\n      <th>Sierra Leone</th>\n      <td>3</td>\n      <td>8.0</td>\n      <td>1.0</td>\n      <td>4.0</td>\n      <td>3.0</td>\n      <td>4.0</td>\n      <td>14.0</td>\n    </tr>\n    <tr>\n      <th>Namibia</th>\n      <td>3</td>\n      <td>9.0</td>\n      <td>0.0</td>\n      <td>7.0</td>\n      <td>2.0</td>\n      <td>10.0</td>\n      <td>24.0</td>\n    </tr>\n    <tr>\n      <th>Malawi</th>\n      <td>3</td>\n      <td>10.0</td>\n      <td>2.0</td>\n      <td>6.0</td>\n      <td>2.0</td>\n      <td>9.0</td>\n      <td>15.0</td>\n    </tr>\n    <tr>\n      <th>Libya</th>\n      <td>3</td>\n      <td>11.0</td>\n      <td>3.0</td>\n      <td>3.0</td>\n      <td>5.0</td>\n      <td>12.0</td>\n      <td>13.0</td>\n    </tr>\n    <tr>\n      <th>Tanzania</th>\n      <td>2</td>\n      <td>6.0</td>\n      <td>0.0</td>\n      <td>5.0</td>\n      <td>1.0</td>\n      <td>5.0</td>\n      <td>14.0</td>\n    </tr>\n    <tr>\n      <th>Mauritania</th>\n      <td>2</td>\n      <td>6.0</td>\n      <td>0.0</td>\n      <td>4.0</td>\n      <td>2.0</td>\n      <td>1.0</td>\n      <td>11.0</td>\n    </tr>\n    <tr>\n      <th>Liberia</th>\n      <td>2</td>\n      <td>5.0</td>\n      <td>1.0</td>\n      <td>2.0</td>\n      <td>2.0</td>\n      <td>5.0</td>\n      <td>7.0</td>\n    </tr>\n    <tr>\n      <th>Niger</th>\n      <td>2</td>\n      <td>6.0</td>\n      <td>0.0</td>\n      <td>5.0</td>\n      <td>1.0</td>\n      <td>1.0</td>\n      <td>9.0</td>\n    </tr>\n    <tr>\n      <th>Rwanda</th>\n      <td>1</td>\n      <td>3.0</td>\n      <td>1.0</td>\n      <td>1.0</td>\n      <td>1.0</td>\n      <td>3.0</td>\n      <td>3.0</td>\n    </tr>\n    <tr>\n      <th>Madagascar</th>\n      <td>1</td>\n      <td>5.0</td>\n      <td>2.0</td>\n      <td>1.0</td>\n      <td>2.0</td>\n      <td>7.0</td>\n      <td>7.0</td>\n    </tr>\n    <tr>\n      <th>Burundi</th>\n      <td>1</td>\n      <td>3.0</td>\n      <td>0.0</td>\n      <td>3.0</td>\n      <td>0.0</td>\n      <td>0.0</td>\n      <td>4.0</td>\n    </tr>\n    <tr>\n      <th>Comoros</th>\n      <td>1</td>\n      <td>4.0</td>\n      <td>1.0</td>\n      <td>3.0</td>\n      <td>0.0</td>\n      <td>4.0</td>\n      <td>7.0</td>\n    </tr>\n    <tr>\n      <th>Gambia</th>\n      <td>1</td>\n      <td>5.0</td>\n      <td>3.0</td>\n      <td>1.0</td>\n      <td>1.0</td>\n      <td>4.0</td>\n      <td>3.0</td>\n    </tr>\n    <tr>\n      <th>Botswana</th>\n      <td>1</td>\n      <td>3.0</td>\n      <td>0.0</td>\n      <td>3.0</td>\n      <td>0.0</td>\n      <td>2.0</td>\n      <td>9.0</td>\n    </tr>\n    <tr>\n      <th>Mauritius</th>\n      <td>1</td>\n      <td>3.0</td>\n      <td>0.0</td>\n      <td>3.0</td>\n      <td>0.0</td>\n      <td>2.0</td>\n      <td>8.0</td>\n    </tr>\n  </tbody>\n</table>\n</div>"
     },
     "execution_count": 87,
     "metadata": {},
     "output_type": "execute_result"
    }
   ],
   "source": [
    "df_summary = pd.DataFrame({'nb_tournaments' : dict_tournaments,\n",
    "                          'nb_games' : dict_games,\n",
    "                          'nb_wins' : dict_wins,\n",
    "                          'nb_losses' : dict_losses,\n",
    "                          'nb_draws' : dict_draws,\n",
    "                          'nb_goals_scored' : dict_goals_scored,\n",
    "                          'nb_goals_conceded' : dict_goals_conceded}\n",
    "                          )\n",
    "\n",
    "df_summary"
   ],
   "metadata": {
    "collapsed": false,
    "ExecuteTime": {
     "end_time": "2024-01-03T16:34:45.581715400Z",
     "start_time": "2024-01-03T16:34:45.471458400Z"
    }
   },
   "id": "f8718e9c70f2ae27",
   "execution_count": 87
  },
  {
   "cell_type": "code",
   "outputs": [
    {
     "data": {
      "text/plain": "                index  nb_tournaments  nb_games  nb_wins  nb_losses  nb_draws  \\\n0               Egypt              25     107.0     60.0       27.0      20.0   \n1         Ivory Coast              24      99.0     44.0       28.0      27.0   \n2               Ghana              23     102.0     54.0       27.0      21.0   \n3             Tunisia              20      80.0     26.0       26.0      28.0   \n4            Cameroon              20      91.0     45.0       16.0      30.0   \n5             Nigeria              19      97.0     53.0       23.0      21.0   \n6             Algeria              19      77.0     28.0       27.0      22.0   \n7            DR Congo              19      73.0     20.0       29.0      24.0   \n8             Morocco              18      70.0     27.0       19.0      24.0   \n9              Zambia              17      67.0     26.0       21.0      20.0   \n10            Senegal              16      67.0     27.0       23.0      17.0   \n11             Guinea              13      47.0     13.0       17.0      17.0   \n12               Mali              12      54.0     19.0       16.0      19.0   \n13       Burkina Faso              12      48.0      9.0       23.0      16.0   \n14           Ethiopia              11      30.0      7.0       19.0       4.0   \n15       South Africa              10      43.0     16.0       14.0      13.0   \n16              Sudan               9      27.0      7.0       13.0       7.0   \n17             Angola               8      26.0      4.0       10.0      12.0   \n18              Gabon               8      25.0      7.0        8.0      10.0   \n19               Togo               8      25.0      3.0       14.0       8.0   \n20             Uganda               7      23.0      4.0       16.0       3.0   \n21              Congo               7      26.0      7.0       12.0       7.0   \n22              Kenya               6      17.0      2.0       11.0       4.0   \n23           Zimbabwe               5      15.0      3.0       10.0       2.0   \n24         Mozambique               4      12.0      0.0       10.0       2.0   \n25              Benin               4      14.0      0.0        9.0       5.0   \n26         Cape Verde               3      11.0      2.0        3.0       6.0   \n27  Equatorial Guinea               3      15.0      6.0        5.0       4.0   \n28      Guinea-Bissau               3       9.0      0.0        6.0       3.0   \n29       Sierra Leone               3       8.0      1.0        4.0       3.0   \n30            Namibia               3       9.0      0.0        7.0       2.0   \n31             Malawi               3      10.0      2.0        6.0       2.0   \n32              Libya               3      11.0      3.0        3.0       5.0   \n33           Tanzania               2       6.0      0.0        5.0       1.0   \n34         Mauritania               2       6.0      0.0        4.0       2.0   \n35            Liberia               2       5.0      1.0        2.0       2.0   \n36              Niger               2       6.0      0.0        5.0       1.0   \n37             Rwanda               1       3.0      1.0        1.0       1.0   \n38         Madagascar               1       5.0      2.0        1.0       2.0   \n39            Burundi               1       3.0      0.0        3.0       0.0   \n40            Comoros               1       4.0      1.0        3.0       0.0   \n41             Gambia               1       5.0      3.0        1.0       1.0   \n42           Botswana               1       3.0      0.0        3.0       0.0   \n43          Mauritius               1       3.0      0.0        3.0       0.0   \n\n    nb_goals_scored  nb_goals_conceded  \n0             168.0               90.0  \n1             144.0              103.0  \n2             133.0               87.0  \n3             109.0               94.0  \n4             137.0               83.0  \n5             137.0              102.0  \n6              94.0               89.0  \n7              88.0              102.0  \n8              82.0               63.0  \n9              81.0               69.0  \n10             78.0               56.0  \n11             61.0               66.0  \n12             65.0               65.0  \n13             47.0               72.0  \n14             31.0               67.0  \n15             48.0               45.0  \n16             29.0               42.0  \n17             30.0               39.0  \n18             24.0               30.0  \n19             19.0               42.0  \n20             21.0               38.0  \n21             27.0               40.0  \n22             11.0               31.0  \n23             16.0               31.0  \n24              4.0               26.0  \n25              7.0               24.0  \n26              6.0                9.0  \n27             11.0               14.0  \n28              2.0               12.0  \n29              4.0               14.0  \n30             10.0               24.0  \n31              9.0               15.0  \n32             12.0               13.0  \n33              5.0               14.0  \n34              1.0               11.0  \n35              5.0                7.0  \n36              1.0                9.0  \n37              3.0                3.0  \n38              7.0                7.0  \n39              0.0                4.0  \n40              4.0                7.0  \n41              4.0                3.0  \n42              2.0                9.0  \n43              2.0                8.0  ",
      "text/html": "<div>\n<style scoped>\n    .dataframe tbody tr th:only-of-type {\n        vertical-align: middle;\n    }\n\n    .dataframe tbody tr th {\n        vertical-align: top;\n    }\n\n    .dataframe thead th {\n        text-align: right;\n    }\n</style>\n<table border=\"1\" class=\"dataframe\">\n  <thead>\n    <tr style=\"text-align: right;\">\n      <th></th>\n      <th>index</th>\n      <th>nb_tournaments</th>\n      <th>nb_games</th>\n      <th>nb_wins</th>\n      <th>nb_losses</th>\n      <th>nb_draws</th>\n      <th>nb_goals_scored</th>\n      <th>nb_goals_conceded</th>\n    </tr>\n  </thead>\n  <tbody>\n    <tr>\n      <th>0</th>\n      <td>Egypt</td>\n      <td>25</td>\n      <td>107.0</td>\n      <td>60.0</td>\n      <td>27.0</td>\n      <td>20.0</td>\n      <td>168.0</td>\n      <td>90.0</td>\n    </tr>\n    <tr>\n      <th>1</th>\n      <td>Ivory Coast</td>\n      <td>24</td>\n      <td>99.0</td>\n      <td>44.0</td>\n      <td>28.0</td>\n      <td>27.0</td>\n      <td>144.0</td>\n      <td>103.0</td>\n    </tr>\n    <tr>\n      <th>2</th>\n      <td>Ghana</td>\n      <td>23</td>\n      <td>102.0</td>\n      <td>54.0</td>\n      <td>27.0</td>\n      <td>21.0</td>\n      <td>133.0</td>\n      <td>87.0</td>\n    </tr>\n    <tr>\n      <th>3</th>\n      <td>Tunisia</td>\n      <td>20</td>\n      <td>80.0</td>\n      <td>26.0</td>\n      <td>26.0</td>\n      <td>28.0</td>\n      <td>109.0</td>\n      <td>94.0</td>\n    </tr>\n    <tr>\n      <th>4</th>\n      <td>Cameroon</td>\n      <td>20</td>\n      <td>91.0</td>\n      <td>45.0</td>\n      <td>16.0</td>\n      <td>30.0</td>\n      <td>137.0</td>\n      <td>83.0</td>\n    </tr>\n    <tr>\n      <th>5</th>\n      <td>Nigeria</td>\n      <td>19</td>\n      <td>97.0</td>\n      <td>53.0</td>\n      <td>23.0</td>\n      <td>21.0</td>\n      <td>137.0</td>\n      <td>102.0</td>\n    </tr>\n    <tr>\n      <th>6</th>\n      <td>Algeria</td>\n      <td>19</td>\n      <td>77.0</td>\n      <td>28.0</td>\n      <td>27.0</td>\n      <td>22.0</td>\n      <td>94.0</td>\n      <td>89.0</td>\n    </tr>\n    <tr>\n      <th>7</th>\n      <td>DR Congo</td>\n      <td>19</td>\n      <td>73.0</td>\n      <td>20.0</td>\n      <td>29.0</td>\n      <td>24.0</td>\n      <td>88.0</td>\n      <td>102.0</td>\n    </tr>\n    <tr>\n      <th>8</th>\n      <td>Morocco</td>\n      <td>18</td>\n      <td>70.0</td>\n      <td>27.0</td>\n      <td>19.0</td>\n      <td>24.0</td>\n      <td>82.0</td>\n      <td>63.0</td>\n    </tr>\n    <tr>\n      <th>9</th>\n      <td>Zambia</td>\n      <td>17</td>\n      <td>67.0</td>\n      <td>26.0</td>\n      <td>21.0</td>\n      <td>20.0</td>\n      <td>81.0</td>\n      <td>69.0</td>\n    </tr>\n    <tr>\n      <th>10</th>\n      <td>Senegal</td>\n      <td>16</td>\n      <td>67.0</td>\n      <td>27.0</td>\n      <td>23.0</td>\n      <td>17.0</td>\n      <td>78.0</td>\n      <td>56.0</td>\n    </tr>\n    <tr>\n      <th>11</th>\n      <td>Guinea</td>\n      <td>13</td>\n      <td>47.0</td>\n      <td>13.0</td>\n      <td>17.0</td>\n      <td>17.0</td>\n      <td>61.0</td>\n      <td>66.0</td>\n    </tr>\n    <tr>\n      <th>12</th>\n      <td>Mali</td>\n      <td>12</td>\n      <td>54.0</td>\n      <td>19.0</td>\n      <td>16.0</td>\n      <td>19.0</td>\n      <td>65.0</td>\n      <td>65.0</td>\n    </tr>\n    <tr>\n      <th>13</th>\n      <td>Burkina Faso</td>\n      <td>12</td>\n      <td>48.0</td>\n      <td>9.0</td>\n      <td>23.0</td>\n      <td>16.0</td>\n      <td>47.0</td>\n      <td>72.0</td>\n    </tr>\n    <tr>\n      <th>14</th>\n      <td>Ethiopia</td>\n      <td>11</td>\n      <td>30.0</td>\n      <td>7.0</td>\n      <td>19.0</td>\n      <td>4.0</td>\n      <td>31.0</td>\n      <td>67.0</td>\n    </tr>\n    <tr>\n      <th>15</th>\n      <td>South Africa</td>\n      <td>10</td>\n      <td>43.0</td>\n      <td>16.0</td>\n      <td>14.0</td>\n      <td>13.0</td>\n      <td>48.0</td>\n      <td>45.0</td>\n    </tr>\n    <tr>\n      <th>16</th>\n      <td>Sudan</td>\n      <td>9</td>\n      <td>27.0</td>\n      <td>7.0</td>\n      <td>13.0</td>\n      <td>7.0</td>\n      <td>29.0</td>\n      <td>42.0</td>\n    </tr>\n    <tr>\n      <th>17</th>\n      <td>Angola</td>\n      <td>8</td>\n      <td>26.0</td>\n      <td>4.0</td>\n      <td>10.0</td>\n      <td>12.0</td>\n      <td>30.0</td>\n      <td>39.0</td>\n    </tr>\n    <tr>\n      <th>18</th>\n      <td>Gabon</td>\n      <td>8</td>\n      <td>25.0</td>\n      <td>7.0</td>\n      <td>8.0</td>\n      <td>10.0</td>\n      <td>24.0</td>\n      <td>30.0</td>\n    </tr>\n    <tr>\n      <th>19</th>\n      <td>Togo</td>\n      <td>8</td>\n      <td>25.0</td>\n      <td>3.0</td>\n      <td>14.0</td>\n      <td>8.0</td>\n      <td>19.0</td>\n      <td>42.0</td>\n    </tr>\n    <tr>\n      <th>20</th>\n      <td>Uganda</td>\n      <td>7</td>\n      <td>23.0</td>\n      <td>4.0</td>\n      <td>16.0</td>\n      <td>3.0</td>\n      <td>21.0</td>\n      <td>38.0</td>\n    </tr>\n    <tr>\n      <th>21</th>\n      <td>Congo</td>\n      <td>7</td>\n      <td>26.0</td>\n      <td>7.0</td>\n      <td>12.0</td>\n      <td>7.0</td>\n      <td>27.0</td>\n      <td>40.0</td>\n    </tr>\n    <tr>\n      <th>22</th>\n      <td>Kenya</td>\n      <td>6</td>\n      <td>17.0</td>\n      <td>2.0</td>\n      <td>11.0</td>\n      <td>4.0</td>\n      <td>11.0</td>\n      <td>31.0</td>\n    </tr>\n    <tr>\n      <th>23</th>\n      <td>Zimbabwe</td>\n      <td>5</td>\n      <td>15.0</td>\n      <td>3.0</td>\n      <td>10.0</td>\n      <td>2.0</td>\n      <td>16.0</td>\n      <td>31.0</td>\n    </tr>\n    <tr>\n      <th>24</th>\n      <td>Mozambique</td>\n      <td>4</td>\n      <td>12.0</td>\n      <td>0.0</td>\n      <td>10.0</td>\n      <td>2.0</td>\n      <td>4.0</td>\n      <td>26.0</td>\n    </tr>\n    <tr>\n      <th>25</th>\n      <td>Benin</td>\n      <td>4</td>\n      <td>14.0</td>\n      <td>0.0</td>\n      <td>9.0</td>\n      <td>5.0</td>\n      <td>7.0</td>\n      <td>24.0</td>\n    </tr>\n    <tr>\n      <th>26</th>\n      <td>Cape Verde</td>\n      <td>3</td>\n      <td>11.0</td>\n      <td>2.0</td>\n      <td>3.0</td>\n      <td>6.0</td>\n      <td>6.0</td>\n      <td>9.0</td>\n    </tr>\n    <tr>\n      <th>27</th>\n      <td>Equatorial Guinea</td>\n      <td>3</td>\n      <td>15.0</td>\n      <td>6.0</td>\n      <td>5.0</td>\n      <td>4.0</td>\n      <td>11.0</td>\n      <td>14.0</td>\n    </tr>\n    <tr>\n      <th>28</th>\n      <td>Guinea-Bissau</td>\n      <td>3</td>\n      <td>9.0</td>\n      <td>0.0</td>\n      <td>6.0</td>\n      <td>3.0</td>\n      <td>2.0</td>\n      <td>12.0</td>\n    </tr>\n    <tr>\n      <th>29</th>\n      <td>Sierra Leone</td>\n      <td>3</td>\n      <td>8.0</td>\n      <td>1.0</td>\n      <td>4.0</td>\n      <td>3.0</td>\n      <td>4.0</td>\n      <td>14.0</td>\n    </tr>\n    <tr>\n      <th>30</th>\n      <td>Namibia</td>\n      <td>3</td>\n      <td>9.0</td>\n      <td>0.0</td>\n      <td>7.0</td>\n      <td>2.0</td>\n      <td>10.0</td>\n      <td>24.0</td>\n    </tr>\n    <tr>\n      <th>31</th>\n      <td>Malawi</td>\n      <td>3</td>\n      <td>10.0</td>\n      <td>2.0</td>\n      <td>6.0</td>\n      <td>2.0</td>\n      <td>9.0</td>\n      <td>15.0</td>\n    </tr>\n    <tr>\n      <th>32</th>\n      <td>Libya</td>\n      <td>3</td>\n      <td>11.0</td>\n      <td>3.0</td>\n      <td>3.0</td>\n      <td>5.0</td>\n      <td>12.0</td>\n      <td>13.0</td>\n    </tr>\n    <tr>\n      <th>33</th>\n      <td>Tanzania</td>\n      <td>2</td>\n      <td>6.0</td>\n      <td>0.0</td>\n      <td>5.0</td>\n      <td>1.0</td>\n      <td>5.0</td>\n      <td>14.0</td>\n    </tr>\n    <tr>\n      <th>34</th>\n      <td>Mauritania</td>\n      <td>2</td>\n      <td>6.0</td>\n      <td>0.0</td>\n      <td>4.0</td>\n      <td>2.0</td>\n      <td>1.0</td>\n      <td>11.0</td>\n    </tr>\n    <tr>\n      <th>35</th>\n      <td>Liberia</td>\n      <td>2</td>\n      <td>5.0</td>\n      <td>1.0</td>\n      <td>2.0</td>\n      <td>2.0</td>\n      <td>5.0</td>\n      <td>7.0</td>\n    </tr>\n    <tr>\n      <th>36</th>\n      <td>Niger</td>\n      <td>2</td>\n      <td>6.0</td>\n      <td>0.0</td>\n      <td>5.0</td>\n      <td>1.0</td>\n      <td>1.0</td>\n      <td>9.0</td>\n    </tr>\n    <tr>\n      <th>37</th>\n      <td>Rwanda</td>\n      <td>1</td>\n      <td>3.0</td>\n      <td>1.0</td>\n      <td>1.0</td>\n      <td>1.0</td>\n      <td>3.0</td>\n      <td>3.0</td>\n    </tr>\n    <tr>\n      <th>38</th>\n      <td>Madagascar</td>\n      <td>1</td>\n      <td>5.0</td>\n      <td>2.0</td>\n      <td>1.0</td>\n      <td>2.0</td>\n      <td>7.0</td>\n      <td>7.0</td>\n    </tr>\n    <tr>\n      <th>39</th>\n      <td>Burundi</td>\n      <td>1</td>\n      <td>3.0</td>\n      <td>0.0</td>\n      <td>3.0</td>\n      <td>0.0</td>\n      <td>0.0</td>\n      <td>4.0</td>\n    </tr>\n    <tr>\n      <th>40</th>\n      <td>Comoros</td>\n      <td>1</td>\n      <td>4.0</td>\n      <td>1.0</td>\n      <td>3.0</td>\n      <td>0.0</td>\n      <td>4.0</td>\n      <td>7.0</td>\n    </tr>\n    <tr>\n      <th>41</th>\n      <td>Gambia</td>\n      <td>1</td>\n      <td>5.0</td>\n      <td>3.0</td>\n      <td>1.0</td>\n      <td>1.0</td>\n      <td>4.0</td>\n      <td>3.0</td>\n    </tr>\n    <tr>\n      <th>42</th>\n      <td>Botswana</td>\n      <td>1</td>\n      <td>3.0</td>\n      <td>0.0</td>\n      <td>3.0</td>\n      <td>0.0</td>\n      <td>2.0</td>\n      <td>9.0</td>\n    </tr>\n    <tr>\n      <th>43</th>\n      <td>Mauritius</td>\n      <td>1</td>\n      <td>3.0</td>\n      <td>0.0</td>\n      <td>3.0</td>\n      <td>0.0</td>\n      <td>2.0</td>\n      <td>8.0</td>\n    </tr>\n  </tbody>\n</table>\n</div>"
     },
     "execution_count": 88,
     "metadata": {},
     "output_type": "execute_result"
    }
   ],
   "source": [
    "df_summary.reset_index(inplace=True)\n",
    "df_summary"
   ],
   "metadata": {
    "collapsed": false,
    "ExecuteTime": {
     "end_time": "2024-01-03T16:34:47.462035900Z",
     "start_time": "2024-01-03T16:34:47.300239Z"
    }
   },
   "id": "42fdefaaea860e87",
   "execution_count": 88
  },
  {
   "cell_type": "code",
   "outputs": [
    {
     "data": {
      "text/plain": "                 team  nb_tournaments  nb_games  nb_wins  nb_losses  nb_draws  \\\n0               Egypt              25     107.0     60.0       27.0      20.0   \n1         Ivory Coast              24      99.0     44.0       28.0      27.0   \n2               Ghana              23     102.0     54.0       27.0      21.0   \n3             Tunisia              20      80.0     26.0       26.0      28.0   \n4            Cameroon              20      91.0     45.0       16.0      30.0   \n5             Nigeria              19      97.0     53.0       23.0      21.0   \n6             Algeria              19      77.0     28.0       27.0      22.0   \n7            DR Congo              19      73.0     20.0       29.0      24.0   \n8             Morocco              18      70.0     27.0       19.0      24.0   \n9              Zambia              17      67.0     26.0       21.0      20.0   \n10            Senegal              16      67.0     27.0       23.0      17.0   \n11             Guinea              13      47.0     13.0       17.0      17.0   \n12               Mali              12      54.0     19.0       16.0      19.0   \n13       Burkina Faso              12      48.0      9.0       23.0      16.0   \n14           Ethiopia              11      30.0      7.0       19.0       4.0   \n15       South Africa              10      43.0     16.0       14.0      13.0   \n16              Sudan               9      27.0      7.0       13.0       7.0   \n17             Angola               8      26.0      4.0       10.0      12.0   \n18              Gabon               8      25.0      7.0        8.0      10.0   \n19               Togo               8      25.0      3.0       14.0       8.0   \n20             Uganda               7      23.0      4.0       16.0       3.0   \n21              Congo               7      26.0      7.0       12.0       7.0   \n22              Kenya               6      17.0      2.0       11.0       4.0   \n23           Zimbabwe               5      15.0      3.0       10.0       2.0   \n24         Mozambique               4      12.0      0.0       10.0       2.0   \n25              Benin               4      14.0      0.0        9.0       5.0   \n26         Cape Verde               3      11.0      2.0        3.0       6.0   \n27  Equatorial Guinea               3      15.0      6.0        5.0       4.0   \n28      Guinea-Bissau               3       9.0      0.0        6.0       3.0   \n29       Sierra Leone               3       8.0      1.0        4.0       3.0   \n30            Namibia               3       9.0      0.0        7.0       2.0   \n31             Malawi               3      10.0      2.0        6.0       2.0   \n32              Libya               3      11.0      3.0        3.0       5.0   \n33           Tanzania               2       6.0      0.0        5.0       1.0   \n34         Mauritania               2       6.0      0.0        4.0       2.0   \n35            Liberia               2       5.0      1.0        2.0       2.0   \n36              Niger               2       6.0      0.0        5.0       1.0   \n37             Rwanda               1       3.0      1.0        1.0       1.0   \n38         Madagascar               1       5.0      2.0        1.0       2.0   \n39            Burundi               1       3.0      0.0        3.0       0.0   \n40            Comoros               1       4.0      1.0        3.0       0.0   \n41             Gambia               1       5.0      3.0        1.0       1.0   \n42           Botswana               1       3.0      0.0        3.0       0.0   \n43          Mauritius               1       3.0      0.0        3.0       0.0   \n\n    nb_goals_scored  nb_goals_conceded  \n0             168.0               90.0  \n1             144.0              103.0  \n2             133.0               87.0  \n3             109.0               94.0  \n4             137.0               83.0  \n5             137.0              102.0  \n6              94.0               89.0  \n7              88.0              102.0  \n8              82.0               63.0  \n9              81.0               69.0  \n10             78.0               56.0  \n11             61.0               66.0  \n12             65.0               65.0  \n13             47.0               72.0  \n14             31.0               67.0  \n15             48.0               45.0  \n16             29.0               42.0  \n17             30.0               39.0  \n18             24.0               30.0  \n19             19.0               42.0  \n20             21.0               38.0  \n21             27.0               40.0  \n22             11.0               31.0  \n23             16.0               31.0  \n24              4.0               26.0  \n25              7.0               24.0  \n26              6.0                9.0  \n27             11.0               14.0  \n28              2.0               12.0  \n29              4.0               14.0  \n30             10.0               24.0  \n31              9.0               15.0  \n32             12.0               13.0  \n33              5.0               14.0  \n34              1.0               11.0  \n35              5.0                7.0  \n36              1.0                9.0  \n37              3.0                3.0  \n38              7.0                7.0  \n39              0.0                4.0  \n40              4.0                7.0  \n41              4.0                3.0  \n42              2.0                9.0  \n43              2.0                8.0  ",
      "text/html": "<div>\n<style scoped>\n    .dataframe tbody tr th:only-of-type {\n        vertical-align: middle;\n    }\n\n    .dataframe tbody tr th {\n        vertical-align: top;\n    }\n\n    .dataframe thead th {\n        text-align: right;\n    }\n</style>\n<table border=\"1\" class=\"dataframe\">\n  <thead>\n    <tr style=\"text-align: right;\">\n      <th></th>\n      <th>team</th>\n      <th>nb_tournaments</th>\n      <th>nb_games</th>\n      <th>nb_wins</th>\n      <th>nb_losses</th>\n      <th>nb_draws</th>\n      <th>nb_goals_scored</th>\n      <th>nb_goals_conceded</th>\n    </tr>\n  </thead>\n  <tbody>\n    <tr>\n      <th>0</th>\n      <td>Egypt</td>\n      <td>25</td>\n      <td>107.0</td>\n      <td>60.0</td>\n      <td>27.0</td>\n      <td>20.0</td>\n      <td>168.0</td>\n      <td>90.0</td>\n    </tr>\n    <tr>\n      <th>1</th>\n      <td>Ivory Coast</td>\n      <td>24</td>\n      <td>99.0</td>\n      <td>44.0</td>\n      <td>28.0</td>\n      <td>27.0</td>\n      <td>144.0</td>\n      <td>103.0</td>\n    </tr>\n    <tr>\n      <th>2</th>\n      <td>Ghana</td>\n      <td>23</td>\n      <td>102.0</td>\n      <td>54.0</td>\n      <td>27.0</td>\n      <td>21.0</td>\n      <td>133.0</td>\n      <td>87.0</td>\n    </tr>\n    <tr>\n      <th>3</th>\n      <td>Tunisia</td>\n      <td>20</td>\n      <td>80.0</td>\n      <td>26.0</td>\n      <td>26.0</td>\n      <td>28.0</td>\n      <td>109.0</td>\n      <td>94.0</td>\n    </tr>\n    <tr>\n      <th>4</th>\n      <td>Cameroon</td>\n      <td>20</td>\n      <td>91.0</td>\n      <td>45.0</td>\n      <td>16.0</td>\n      <td>30.0</td>\n      <td>137.0</td>\n      <td>83.0</td>\n    </tr>\n    <tr>\n      <th>5</th>\n      <td>Nigeria</td>\n      <td>19</td>\n      <td>97.0</td>\n      <td>53.0</td>\n      <td>23.0</td>\n      <td>21.0</td>\n      <td>137.0</td>\n      <td>102.0</td>\n    </tr>\n    <tr>\n      <th>6</th>\n      <td>Algeria</td>\n      <td>19</td>\n      <td>77.0</td>\n      <td>28.0</td>\n      <td>27.0</td>\n      <td>22.0</td>\n      <td>94.0</td>\n      <td>89.0</td>\n    </tr>\n    <tr>\n      <th>7</th>\n      <td>DR Congo</td>\n      <td>19</td>\n      <td>73.0</td>\n      <td>20.0</td>\n      <td>29.0</td>\n      <td>24.0</td>\n      <td>88.0</td>\n      <td>102.0</td>\n    </tr>\n    <tr>\n      <th>8</th>\n      <td>Morocco</td>\n      <td>18</td>\n      <td>70.0</td>\n      <td>27.0</td>\n      <td>19.0</td>\n      <td>24.0</td>\n      <td>82.0</td>\n      <td>63.0</td>\n    </tr>\n    <tr>\n      <th>9</th>\n      <td>Zambia</td>\n      <td>17</td>\n      <td>67.0</td>\n      <td>26.0</td>\n      <td>21.0</td>\n      <td>20.0</td>\n      <td>81.0</td>\n      <td>69.0</td>\n    </tr>\n    <tr>\n      <th>10</th>\n      <td>Senegal</td>\n      <td>16</td>\n      <td>67.0</td>\n      <td>27.0</td>\n      <td>23.0</td>\n      <td>17.0</td>\n      <td>78.0</td>\n      <td>56.0</td>\n    </tr>\n    <tr>\n      <th>11</th>\n      <td>Guinea</td>\n      <td>13</td>\n      <td>47.0</td>\n      <td>13.0</td>\n      <td>17.0</td>\n      <td>17.0</td>\n      <td>61.0</td>\n      <td>66.0</td>\n    </tr>\n    <tr>\n      <th>12</th>\n      <td>Mali</td>\n      <td>12</td>\n      <td>54.0</td>\n      <td>19.0</td>\n      <td>16.0</td>\n      <td>19.0</td>\n      <td>65.0</td>\n      <td>65.0</td>\n    </tr>\n    <tr>\n      <th>13</th>\n      <td>Burkina Faso</td>\n      <td>12</td>\n      <td>48.0</td>\n      <td>9.0</td>\n      <td>23.0</td>\n      <td>16.0</td>\n      <td>47.0</td>\n      <td>72.0</td>\n    </tr>\n    <tr>\n      <th>14</th>\n      <td>Ethiopia</td>\n      <td>11</td>\n      <td>30.0</td>\n      <td>7.0</td>\n      <td>19.0</td>\n      <td>4.0</td>\n      <td>31.0</td>\n      <td>67.0</td>\n    </tr>\n    <tr>\n      <th>15</th>\n      <td>South Africa</td>\n      <td>10</td>\n      <td>43.0</td>\n      <td>16.0</td>\n      <td>14.0</td>\n      <td>13.0</td>\n      <td>48.0</td>\n      <td>45.0</td>\n    </tr>\n    <tr>\n      <th>16</th>\n      <td>Sudan</td>\n      <td>9</td>\n      <td>27.0</td>\n      <td>7.0</td>\n      <td>13.0</td>\n      <td>7.0</td>\n      <td>29.0</td>\n      <td>42.0</td>\n    </tr>\n    <tr>\n      <th>17</th>\n      <td>Angola</td>\n      <td>8</td>\n      <td>26.0</td>\n      <td>4.0</td>\n      <td>10.0</td>\n      <td>12.0</td>\n      <td>30.0</td>\n      <td>39.0</td>\n    </tr>\n    <tr>\n      <th>18</th>\n      <td>Gabon</td>\n      <td>8</td>\n      <td>25.0</td>\n      <td>7.0</td>\n      <td>8.0</td>\n      <td>10.0</td>\n      <td>24.0</td>\n      <td>30.0</td>\n    </tr>\n    <tr>\n      <th>19</th>\n      <td>Togo</td>\n      <td>8</td>\n      <td>25.0</td>\n      <td>3.0</td>\n      <td>14.0</td>\n      <td>8.0</td>\n      <td>19.0</td>\n      <td>42.0</td>\n    </tr>\n    <tr>\n      <th>20</th>\n      <td>Uganda</td>\n      <td>7</td>\n      <td>23.0</td>\n      <td>4.0</td>\n      <td>16.0</td>\n      <td>3.0</td>\n      <td>21.0</td>\n      <td>38.0</td>\n    </tr>\n    <tr>\n      <th>21</th>\n      <td>Congo</td>\n      <td>7</td>\n      <td>26.0</td>\n      <td>7.0</td>\n      <td>12.0</td>\n      <td>7.0</td>\n      <td>27.0</td>\n      <td>40.0</td>\n    </tr>\n    <tr>\n      <th>22</th>\n      <td>Kenya</td>\n      <td>6</td>\n      <td>17.0</td>\n      <td>2.0</td>\n      <td>11.0</td>\n      <td>4.0</td>\n      <td>11.0</td>\n      <td>31.0</td>\n    </tr>\n    <tr>\n      <th>23</th>\n      <td>Zimbabwe</td>\n      <td>5</td>\n      <td>15.0</td>\n      <td>3.0</td>\n      <td>10.0</td>\n      <td>2.0</td>\n      <td>16.0</td>\n      <td>31.0</td>\n    </tr>\n    <tr>\n      <th>24</th>\n      <td>Mozambique</td>\n      <td>4</td>\n      <td>12.0</td>\n      <td>0.0</td>\n      <td>10.0</td>\n      <td>2.0</td>\n      <td>4.0</td>\n      <td>26.0</td>\n    </tr>\n    <tr>\n      <th>25</th>\n      <td>Benin</td>\n      <td>4</td>\n      <td>14.0</td>\n      <td>0.0</td>\n      <td>9.0</td>\n      <td>5.0</td>\n      <td>7.0</td>\n      <td>24.0</td>\n    </tr>\n    <tr>\n      <th>26</th>\n      <td>Cape Verde</td>\n      <td>3</td>\n      <td>11.0</td>\n      <td>2.0</td>\n      <td>3.0</td>\n      <td>6.0</td>\n      <td>6.0</td>\n      <td>9.0</td>\n    </tr>\n    <tr>\n      <th>27</th>\n      <td>Equatorial Guinea</td>\n      <td>3</td>\n      <td>15.0</td>\n      <td>6.0</td>\n      <td>5.0</td>\n      <td>4.0</td>\n      <td>11.0</td>\n      <td>14.0</td>\n    </tr>\n    <tr>\n      <th>28</th>\n      <td>Guinea-Bissau</td>\n      <td>3</td>\n      <td>9.0</td>\n      <td>0.0</td>\n      <td>6.0</td>\n      <td>3.0</td>\n      <td>2.0</td>\n      <td>12.0</td>\n    </tr>\n    <tr>\n      <th>29</th>\n      <td>Sierra Leone</td>\n      <td>3</td>\n      <td>8.0</td>\n      <td>1.0</td>\n      <td>4.0</td>\n      <td>3.0</td>\n      <td>4.0</td>\n      <td>14.0</td>\n    </tr>\n    <tr>\n      <th>30</th>\n      <td>Namibia</td>\n      <td>3</td>\n      <td>9.0</td>\n      <td>0.0</td>\n      <td>7.0</td>\n      <td>2.0</td>\n      <td>10.0</td>\n      <td>24.0</td>\n    </tr>\n    <tr>\n      <th>31</th>\n      <td>Malawi</td>\n      <td>3</td>\n      <td>10.0</td>\n      <td>2.0</td>\n      <td>6.0</td>\n      <td>2.0</td>\n      <td>9.0</td>\n      <td>15.0</td>\n    </tr>\n    <tr>\n      <th>32</th>\n      <td>Libya</td>\n      <td>3</td>\n      <td>11.0</td>\n      <td>3.0</td>\n      <td>3.0</td>\n      <td>5.0</td>\n      <td>12.0</td>\n      <td>13.0</td>\n    </tr>\n    <tr>\n      <th>33</th>\n      <td>Tanzania</td>\n      <td>2</td>\n      <td>6.0</td>\n      <td>0.0</td>\n      <td>5.0</td>\n      <td>1.0</td>\n      <td>5.0</td>\n      <td>14.0</td>\n    </tr>\n    <tr>\n      <th>34</th>\n      <td>Mauritania</td>\n      <td>2</td>\n      <td>6.0</td>\n      <td>0.0</td>\n      <td>4.0</td>\n      <td>2.0</td>\n      <td>1.0</td>\n      <td>11.0</td>\n    </tr>\n    <tr>\n      <th>35</th>\n      <td>Liberia</td>\n      <td>2</td>\n      <td>5.0</td>\n      <td>1.0</td>\n      <td>2.0</td>\n      <td>2.0</td>\n      <td>5.0</td>\n      <td>7.0</td>\n    </tr>\n    <tr>\n      <th>36</th>\n      <td>Niger</td>\n      <td>2</td>\n      <td>6.0</td>\n      <td>0.0</td>\n      <td>5.0</td>\n      <td>1.0</td>\n      <td>1.0</td>\n      <td>9.0</td>\n    </tr>\n    <tr>\n      <th>37</th>\n      <td>Rwanda</td>\n      <td>1</td>\n      <td>3.0</td>\n      <td>1.0</td>\n      <td>1.0</td>\n      <td>1.0</td>\n      <td>3.0</td>\n      <td>3.0</td>\n    </tr>\n    <tr>\n      <th>38</th>\n      <td>Madagascar</td>\n      <td>1</td>\n      <td>5.0</td>\n      <td>2.0</td>\n      <td>1.0</td>\n      <td>2.0</td>\n      <td>7.0</td>\n      <td>7.0</td>\n    </tr>\n    <tr>\n      <th>39</th>\n      <td>Burundi</td>\n      <td>1</td>\n      <td>3.0</td>\n      <td>0.0</td>\n      <td>3.0</td>\n      <td>0.0</td>\n      <td>0.0</td>\n      <td>4.0</td>\n    </tr>\n    <tr>\n      <th>40</th>\n      <td>Comoros</td>\n      <td>1</td>\n      <td>4.0</td>\n      <td>1.0</td>\n      <td>3.0</td>\n      <td>0.0</td>\n      <td>4.0</td>\n      <td>7.0</td>\n    </tr>\n    <tr>\n      <th>41</th>\n      <td>Gambia</td>\n      <td>1</td>\n      <td>5.0</td>\n      <td>3.0</td>\n      <td>1.0</td>\n      <td>1.0</td>\n      <td>4.0</td>\n      <td>3.0</td>\n    </tr>\n    <tr>\n      <th>42</th>\n      <td>Botswana</td>\n      <td>1</td>\n      <td>3.0</td>\n      <td>0.0</td>\n      <td>3.0</td>\n      <td>0.0</td>\n      <td>2.0</td>\n      <td>9.0</td>\n    </tr>\n    <tr>\n      <th>43</th>\n      <td>Mauritius</td>\n      <td>1</td>\n      <td>3.0</td>\n      <td>0.0</td>\n      <td>3.0</td>\n      <td>0.0</td>\n      <td>2.0</td>\n      <td>8.0</td>\n    </tr>\n  </tbody>\n</table>\n</div>"
     },
     "execution_count": 89,
     "metadata": {},
     "output_type": "execute_result"
    }
   ],
   "source": [
    "df_summary.rename(columns={'index' : 'team'}, inplace=True)\n",
    "df_summary"
   ],
   "metadata": {
    "collapsed": false,
    "ExecuteTime": {
     "end_time": "2024-01-03T16:34:51.534670500Z",
     "start_time": "2024-01-03T16:34:51.385980700Z"
    }
   },
   "id": "3733474386343cbf",
   "execution_count": 89
  },
  {
   "cell_type": "code",
   "outputs": [],
   "source": [
    "df_summary['win_percentage'] = (df_summary['nb_wins']/df_summary['nb_games'])*100\n",
    "df_summary['loss_percentage'] = (df_summary['nb_losses']/df_summary['nb_games'])*100\n",
    "df_summary['draw_percentage'] = (df_summary['nb_draws']/df_summary['nb_games'])*100"
   ],
   "metadata": {
    "collapsed": false,
    "ExecuteTime": {
     "end_time": "2024-01-03T16:34:54.746683900Z",
     "start_time": "2024-01-03T16:34:54.627519700Z"
    }
   },
   "id": "dbbd7e0bcc3bb05a",
   "execution_count": 90
  },
  {
   "cell_type": "code",
   "outputs": [
    {
     "name": "stdout",
     "output_type": "stream",
     "text": [
      "<class 'pandas.core.frame.DataFrame'>\n",
      "RangeIndex: 44 entries, 0 to 43\n",
      "Data columns (total 11 columns):\n",
      " #   Column             Non-Null Count  Dtype  \n",
      "---  ------             --------------  -----  \n",
      " 0   team               44 non-null     object \n",
      " 1   nb_tournaments     44 non-null     int64  \n",
      " 2   nb_games           44 non-null     float64\n",
      " 3   nb_wins            44 non-null     float64\n",
      " 4   nb_losses          44 non-null     float64\n",
      " 5   nb_draws           44 non-null     float64\n",
      " 6   nb_goals_scored    44 non-null     float64\n",
      " 7   nb_goals_conceded  44 non-null     float64\n",
      " 8   win_percentage     44 non-null     float64\n",
      " 9   loss_percentage    44 non-null     float64\n",
      " 10  draw_percentage    44 non-null     float64\n",
      "dtypes: float64(9), int64(1), object(1)\n",
      "memory usage: 3.9+ KB\n"
     ]
    }
   ],
   "source": [
    "df_summary.info()"
   ],
   "metadata": {
    "collapsed": false,
    "ExecuteTime": {
     "end_time": "2024-01-03T16:34:57.091792400Z",
     "start_time": "2024-01-03T16:34:56.926232600Z"
    }
   },
   "id": "2f0ac29306ee5f09",
   "execution_count": 91
  },
  {
   "cell_type": "code",
   "outputs": [
    {
     "data": {
      "text/plain": "       nb_tournaments    nb_games    nb_wins  nb_losses   nb_draws  \\\ncount       44.000000   44.000000  44.000000  44.000000  44.000000   \nmean         8.636364   33.727273  12.113636  12.113636   9.500000   \nstd          7.514609   32.972408  16.712641   8.890067   9.304912   \nmin          1.000000    3.000000   0.000000   1.000000   0.000000   \n25%          2.750000    7.500000   1.000000   4.000000   2.000000   \n50%          6.500000   20.000000   3.500000  10.000000   5.000000   \n75%         13.750000   57.250000  19.250000  19.000000  17.500000   \nmax         25.000000  107.000000  60.000000  29.000000  30.000000   \n\n       nb_goals_scored  nb_goals_conceded  win_percentage  loss_percentage  \\\ncount        44.000000          44.000000       44.000000        44.000000   \nmean         40.431818          40.431818       24.256859        49.188739   \nstd          47.849278          32.502878       17.694798        23.704379   \nmin           0.000000           3.000000        0.000000        17.582418   \n25%           4.750000          11.750000       11.941176        30.914870   \n50%          17.500000          31.000000       25.462963        39.863014   \n75%          68.250000          66.250000       37.549834        66.666667   \nmax         168.000000         103.000000       60.000000       100.000000   \n\n       draw_percentage  \ncount        44.000000  \nmean         26.554402  \nstd          12.552914  \nmin           0.000000  \n25%          19.672897  \n50%          27.922078  \n75%          34.464286  \nmax          54.545455  ",
      "text/html": "<div>\n<style scoped>\n    .dataframe tbody tr th:only-of-type {\n        vertical-align: middle;\n    }\n\n    .dataframe tbody tr th {\n        vertical-align: top;\n    }\n\n    .dataframe thead th {\n        text-align: right;\n    }\n</style>\n<table border=\"1\" class=\"dataframe\">\n  <thead>\n    <tr style=\"text-align: right;\">\n      <th></th>\n      <th>nb_tournaments</th>\n      <th>nb_games</th>\n      <th>nb_wins</th>\n      <th>nb_losses</th>\n      <th>nb_draws</th>\n      <th>nb_goals_scored</th>\n      <th>nb_goals_conceded</th>\n      <th>win_percentage</th>\n      <th>loss_percentage</th>\n      <th>draw_percentage</th>\n    </tr>\n  </thead>\n  <tbody>\n    <tr>\n      <th>count</th>\n      <td>44.000000</td>\n      <td>44.000000</td>\n      <td>44.000000</td>\n      <td>44.000000</td>\n      <td>44.000000</td>\n      <td>44.000000</td>\n      <td>44.000000</td>\n      <td>44.000000</td>\n      <td>44.000000</td>\n      <td>44.000000</td>\n    </tr>\n    <tr>\n      <th>mean</th>\n      <td>8.636364</td>\n      <td>33.727273</td>\n      <td>12.113636</td>\n      <td>12.113636</td>\n      <td>9.500000</td>\n      <td>40.431818</td>\n      <td>40.431818</td>\n      <td>24.256859</td>\n      <td>49.188739</td>\n      <td>26.554402</td>\n    </tr>\n    <tr>\n      <th>std</th>\n      <td>7.514609</td>\n      <td>32.972408</td>\n      <td>16.712641</td>\n      <td>8.890067</td>\n      <td>9.304912</td>\n      <td>47.849278</td>\n      <td>32.502878</td>\n      <td>17.694798</td>\n      <td>23.704379</td>\n      <td>12.552914</td>\n    </tr>\n    <tr>\n      <th>min</th>\n      <td>1.000000</td>\n      <td>3.000000</td>\n      <td>0.000000</td>\n      <td>1.000000</td>\n      <td>0.000000</td>\n      <td>0.000000</td>\n      <td>3.000000</td>\n      <td>0.000000</td>\n      <td>17.582418</td>\n      <td>0.000000</td>\n    </tr>\n    <tr>\n      <th>25%</th>\n      <td>2.750000</td>\n      <td>7.500000</td>\n      <td>1.000000</td>\n      <td>4.000000</td>\n      <td>2.000000</td>\n      <td>4.750000</td>\n      <td>11.750000</td>\n      <td>11.941176</td>\n      <td>30.914870</td>\n      <td>19.672897</td>\n    </tr>\n    <tr>\n      <th>50%</th>\n      <td>6.500000</td>\n      <td>20.000000</td>\n      <td>3.500000</td>\n      <td>10.000000</td>\n      <td>5.000000</td>\n      <td>17.500000</td>\n      <td>31.000000</td>\n      <td>25.462963</td>\n      <td>39.863014</td>\n      <td>27.922078</td>\n    </tr>\n    <tr>\n      <th>75%</th>\n      <td>13.750000</td>\n      <td>57.250000</td>\n      <td>19.250000</td>\n      <td>19.000000</td>\n      <td>17.500000</td>\n      <td>68.250000</td>\n      <td>66.250000</td>\n      <td>37.549834</td>\n      <td>66.666667</td>\n      <td>34.464286</td>\n    </tr>\n    <tr>\n      <th>max</th>\n      <td>25.000000</td>\n      <td>107.000000</td>\n      <td>60.000000</td>\n      <td>29.000000</td>\n      <td>30.000000</td>\n      <td>168.000000</td>\n      <td>103.000000</td>\n      <td>60.000000</td>\n      <td>100.000000</td>\n      <td>54.545455</td>\n    </tr>\n  </tbody>\n</table>\n</div>"
     },
     "execution_count": 92,
     "metadata": {},
     "output_type": "execute_result"
    }
   ],
   "source": [
    "df_summary.describe()"
   ],
   "metadata": {
    "collapsed": false,
    "ExecuteTime": {
     "end_time": "2024-01-03T16:34:59.151381900Z",
     "start_time": "2024-01-03T16:34:58.925208600Z"
    }
   },
   "id": "e2df5c3d5555d268",
   "execution_count": 92
  },
  {
   "cell_type": "code",
   "outputs": [],
   "source": [
    "df_summary['nb_tournaments'] = df_summary['nb_tournaments'].astype(int)\n",
    "df_summary['nb_games'] = df_summary['nb_games'].astype(int)\n",
    "df_summary['nb_wins'] = df_summary['nb_wins'].astype(int)\n",
    "df_summary['nb_draws'] = df_summary['nb_draws'].astype(int)\n",
    "df_summary['nb_losses'] = df_summary['nb_losses'].astype(int)\n",
    "df_summary['nb_goals_scored'] = df_summary['nb_goals_scored'].astype(int)\n",
    "df_summary['nb_goals_conceded'] = df_summary['nb_goals_conceded'].astype(int)"
   ],
   "metadata": {
    "collapsed": false,
    "ExecuteTime": {
     "end_time": "2024-01-03T16:35:01.313550400Z",
     "start_time": "2024-01-03T16:35:01.168949900Z"
    }
   },
   "id": "7a1ed9d8e1b33cc7",
   "execution_count": 93
  },
  {
   "cell_type": "code",
   "outputs": [
    {
     "name": "stdout",
     "output_type": "stream",
     "text": [
      "<class 'pandas.core.frame.DataFrame'>\n",
      "RangeIndex: 44 entries, 0 to 43\n",
      "Data columns (total 11 columns):\n",
      " #   Column             Non-Null Count  Dtype  \n",
      "---  ------             --------------  -----  \n",
      " 0   team               44 non-null     object \n",
      " 1   nb_tournaments     44 non-null     int32  \n",
      " 2   nb_games           44 non-null     int32  \n",
      " 3   nb_wins            44 non-null     int32  \n",
      " 4   nb_losses          44 non-null     int32  \n",
      " 5   nb_draws           44 non-null     int32  \n",
      " 6   nb_goals_scored    44 non-null     int32  \n",
      " 7   nb_goals_conceded  44 non-null     int32  \n",
      " 8   win_percentage     44 non-null     float64\n",
      " 9   loss_percentage    44 non-null     float64\n",
      " 10  draw_percentage    44 non-null     float64\n",
      "dtypes: float64(3), int32(7), object(1)\n",
      "memory usage: 2.7+ KB\n"
     ]
    }
   ],
   "source": [
    "df_summary.info()"
   ],
   "metadata": {
    "collapsed": false,
    "ExecuteTime": {
     "end_time": "2024-01-03T16:35:03.091751400Z",
     "start_time": "2024-01-03T16:35:03.026894100Z"
    }
   },
   "id": "1262ad52b6531ff4",
   "execution_count": 94
  },
  {
   "cell_type": "code",
   "outputs": [],
   "source": [
    "df_summary['ratio_goals_scored'] = df_summary['nb_goals_scored'] / df_summary['nb_games']\n",
    "df_summary['ratio_goals_conceded'] = df_summary['nb_goals_conceded'] / df_summary['nb_games']"
   ],
   "metadata": {
    "collapsed": false,
    "ExecuteTime": {
     "end_time": "2024-01-03T16:35:04.652769900Z",
     "start_time": "2024-01-03T16:35:04.590819900Z"
    }
   },
   "id": "5e498da1a7dfe54c",
   "execution_count": 95
  },
  {
   "cell_type": "code",
   "outputs": [
    {
     "name": "stdout",
     "output_type": "stream",
     "text": [
      "<class 'pandas.core.frame.DataFrame'>\n",
      "RangeIndex: 44 entries, 0 to 43\n",
      "Data columns (total 13 columns):\n",
      " #   Column                Non-Null Count  Dtype  \n",
      "---  ------                --------------  -----  \n",
      " 0   team                  44 non-null     object \n",
      " 1   nb_tournaments        44 non-null     int32  \n",
      " 2   nb_games              44 non-null     int32  \n",
      " 3   nb_wins               44 non-null     int32  \n",
      " 4   nb_losses             44 non-null     int32  \n",
      " 5   nb_draws              44 non-null     int32  \n",
      " 6   nb_goals_scored       44 non-null     int32  \n",
      " 7   nb_goals_conceded     44 non-null     int32  \n",
      " 8   win_percentage        44 non-null     float64\n",
      " 9   loss_percentage       44 non-null     float64\n",
      " 10  draw_percentage       44 non-null     float64\n",
      " 11  ratio_goals_scored    44 non-null     float64\n",
      " 12  ratio_goals_conceded  44 non-null     float64\n",
      "dtypes: float64(5), int32(7), object(1)\n",
      "memory usage: 3.4+ KB\n"
     ]
    }
   ],
   "source": [
    "df_summary.info()"
   ],
   "metadata": {
    "collapsed": false,
    "ExecuteTime": {
     "end_time": "2024-01-03T16:35:06.103377800Z",
     "start_time": "2024-01-03T16:35:06.021940700Z"
    }
   },
   "id": "456e347f65392edd",
   "execution_count": 96
  },
  {
   "cell_type": "markdown",
   "source": [
    "---\n",
    "## Visualisation"
   ],
   "metadata": {
    "collapsed": false
   },
   "id": "9f8fea1556e65e51"
  },
  {
   "cell_type": "markdown",
   "source": [
    "Je vais tracer un graphique à barres pour les 10 équipes ayant participé à plus d'éditions de la CAN. Il est difficile de mettre toutes les équipes sur le même graphique "
   ],
   "metadata": {
    "collapsed": false
   },
   "id": "cf12df89c5a7e9e1"
  },
  {
   "cell_type": "code",
   "outputs": [
    {
     "data": {
      "application/vnd.plotly.v1+json": {
       "data": [
        {
         "alignmentgroup": "True",
         "hovertemplate": "team=%{x}<br>nb_tournaments=%{text}<extra></extra>",
         "legendgroup": "Egypt",
         "marker": {
          "color": "#636efa",
          "pattern": {
           "shape": ""
          }
         },
         "name": "Egypt",
         "offsetgroup": "Egypt",
         "orientation": "v",
         "showlegend": true,
         "text": [
          25.0
         ],
         "textposition": "outside",
         "x": [
          "Egypt"
         ],
         "xaxis": "x",
         "y": [
          25
         ],
         "yaxis": "y",
         "type": "bar"
        },
        {
         "alignmentgroup": "True",
         "hovertemplate": "team=%{x}<br>nb_tournaments=%{text}<extra></extra>",
         "legendgroup": "Ivory Coast",
         "marker": {
          "color": "#EF553B",
          "pattern": {
           "shape": ""
          }
         },
         "name": "Ivory Coast",
         "offsetgroup": "Ivory Coast",
         "orientation": "v",
         "showlegend": true,
         "text": [
          24.0
         ],
         "textposition": "outside",
         "x": [
          "Ivory Coast"
         ],
         "xaxis": "x",
         "y": [
          24
         ],
         "yaxis": "y",
         "type": "bar"
        },
        {
         "alignmentgroup": "True",
         "hovertemplate": "team=%{x}<br>nb_tournaments=%{text}<extra></extra>",
         "legendgroup": "Ghana",
         "marker": {
          "color": "#00cc96",
          "pattern": {
           "shape": ""
          }
         },
         "name": "Ghana",
         "offsetgroup": "Ghana",
         "orientation": "v",
         "showlegend": true,
         "text": [
          23.0
         ],
         "textposition": "outside",
         "x": [
          "Ghana"
         ],
         "xaxis": "x",
         "y": [
          23
         ],
         "yaxis": "y",
         "type": "bar"
        },
        {
         "alignmentgroup": "True",
         "hovertemplate": "team=%{x}<br>nb_tournaments=%{text}<extra></extra>",
         "legendgroup": "Tunisia",
         "marker": {
          "color": "#ab63fa",
          "pattern": {
           "shape": ""
          }
         },
         "name": "Tunisia",
         "offsetgroup": "Tunisia",
         "orientation": "v",
         "showlegend": true,
         "text": [
          20.0
         ],
         "textposition": "outside",
         "x": [
          "Tunisia"
         ],
         "xaxis": "x",
         "y": [
          20
         ],
         "yaxis": "y",
         "type": "bar"
        },
        {
         "alignmentgroup": "True",
         "hovertemplate": "team=%{x}<br>nb_tournaments=%{text}<extra></extra>",
         "legendgroup": "Cameroon",
         "marker": {
          "color": "#FFA15A",
          "pattern": {
           "shape": ""
          }
         },
         "name": "Cameroon",
         "offsetgroup": "Cameroon",
         "orientation": "v",
         "showlegend": true,
         "text": [
          20.0
         ],
         "textposition": "outside",
         "x": [
          "Cameroon"
         ],
         "xaxis": "x",
         "y": [
          20
         ],
         "yaxis": "y",
         "type": "bar"
        },
        {
         "alignmentgroup": "True",
         "hovertemplate": "team=%{x}<br>nb_tournaments=%{text}<extra></extra>",
         "legendgroup": "Nigeria",
         "marker": {
          "color": "#19d3f3",
          "pattern": {
           "shape": ""
          }
         },
         "name": "Nigeria",
         "offsetgroup": "Nigeria",
         "orientation": "v",
         "showlegend": true,
         "text": [
          19.0
         ],
         "textposition": "outside",
         "x": [
          "Nigeria"
         ],
         "xaxis": "x",
         "y": [
          19
         ],
         "yaxis": "y",
         "type": "bar"
        },
        {
         "alignmentgroup": "True",
         "hovertemplate": "team=%{x}<br>nb_tournaments=%{text}<extra></extra>",
         "legendgroup": "Algeria",
         "marker": {
          "color": "#FF6692",
          "pattern": {
           "shape": ""
          }
         },
         "name": "Algeria",
         "offsetgroup": "Algeria",
         "orientation": "v",
         "showlegend": true,
         "text": [
          19.0
         ],
         "textposition": "outside",
         "x": [
          "Algeria"
         ],
         "xaxis": "x",
         "y": [
          19
         ],
         "yaxis": "y",
         "type": "bar"
        },
        {
         "alignmentgroup": "True",
         "hovertemplate": "team=%{x}<br>nb_tournaments=%{text}<extra></extra>",
         "legendgroup": "DR Congo",
         "marker": {
          "color": "#B6E880",
          "pattern": {
           "shape": ""
          }
         },
         "name": "DR Congo",
         "offsetgroup": "DR Congo",
         "orientation": "v",
         "showlegend": true,
         "text": [
          19.0
         ],
         "textposition": "outside",
         "x": [
          "DR Congo"
         ],
         "xaxis": "x",
         "y": [
          19
         ],
         "yaxis": "y",
         "type": "bar"
        },
        {
         "alignmentgroup": "True",
         "hovertemplate": "team=%{x}<br>nb_tournaments=%{text}<extra></extra>",
         "legendgroup": "Morocco",
         "marker": {
          "color": "#FF97FF",
          "pattern": {
           "shape": ""
          }
         },
         "name": "Morocco",
         "offsetgroup": "Morocco",
         "orientation": "v",
         "showlegend": true,
         "text": [
          18.0
         ],
         "textposition": "outside",
         "x": [
          "Morocco"
         ],
         "xaxis": "x",
         "y": [
          18
         ],
         "yaxis": "y",
         "type": "bar"
        },
        {
         "alignmentgroup": "True",
         "hovertemplate": "team=%{x}<br>nb_tournaments=%{text}<extra></extra>",
         "legendgroup": "Zambia",
         "marker": {
          "color": "#FECB52",
          "pattern": {
           "shape": ""
          }
         },
         "name": "Zambia",
         "offsetgroup": "Zambia",
         "orientation": "v",
         "showlegend": true,
         "text": [
          17.0
         ],
         "textposition": "outside",
         "x": [
          "Zambia"
         ],
         "xaxis": "x",
         "y": [
          17
         ],
         "yaxis": "y",
         "type": "bar"
        }
       ],
       "layout": {
        "template": {
         "data": {
          "histogram2dcontour": [
           {
            "type": "histogram2dcontour",
            "colorbar": {
             "outlinewidth": 0,
             "ticks": ""
            },
            "colorscale": [
             [
              0.0,
              "#0d0887"
             ],
             [
              0.1111111111111111,
              "#46039f"
             ],
             [
              0.2222222222222222,
              "#7201a8"
             ],
             [
              0.3333333333333333,
              "#9c179e"
             ],
             [
              0.4444444444444444,
              "#bd3786"
             ],
             [
              0.5555555555555556,
              "#d8576b"
             ],
             [
              0.6666666666666666,
              "#ed7953"
             ],
             [
              0.7777777777777778,
              "#fb9f3a"
             ],
             [
              0.8888888888888888,
              "#fdca26"
             ],
             [
              1.0,
              "#f0f921"
             ]
            ]
           }
          ],
          "choropleth": [
           {
            "type": "choropleth",
            "colorbar": {
             "outlinewidth": 0,
             "ticks": ""
            }
           }
          ],
          "histogram2d": [
           {
            "type": "histogram2d",
            "colorbar": {
             "outlinewidth": 0,
             "ticks": ""
            },
            "colorscale": [
             [
              0.0,
              "#0d0887"
             ],
             [
              0.1111111111111111,
              "#46039f"
             ],
             [
              0.2222222222222222,
              "#7201a8"
             ],
             [
              0.3333333333333333,
              "#9c179e"
             ],
             [
              0.4444444444444444,
              "#bd3786"
             ],
             [
              0.5555555555555556,
              "#d8576b"
             ],
             [
              0.6666666666666666,
              "#ed7953"
             ],
             [
              0.7777777777777778,
              "#fb9f3a"
             ],
             [
              0.8888888888888888,
              "#fdca26"
             ],
             [
              1.0,
              "#f0f921"
             ]
            ]
           }
          ],
          "heatmap": [
           {
            "type": "heatmap",
            "colorbar": {
             "outlinewidth": 0,
             "ticks": ""
            },
            "colorscale": [
             [
              0.0,
              "#0d0887"
             ],
             [
              0.1111111111111111,
              "#46039f"
             ],
             [
              0.2222222222222222,
              "#7201a8"
             ],
             [
              0.3333333333333333,
              "#9c179e"
             ],
             [
              0.4444444444444444,
              "#bd3786"
             ],
             [
              0.5555555555555556,
              "#d8576b"
             ],
             [
              0.6666666666666666,
              "#ed7953"
             ],
             [
              0.7777777777777778,
              "#fb9f3a"
             ],
             [
              0.8888888888888888,
              "#fdca26"
             ],
             [
              1.0,
              "#f0f921"
             ]
            ]
           }
          ],
          "heatmapgl": [
           {
            "type": "heatmapgl",
            "colorbar": {
             "outlinewidth": 0,
             "ticks": ""
            },
            "colorscale": [
             [
              0.0,
              "#0d0887"
             ],
             [
              0.1111111111111111,
              "#46039f"
             ],
             [
              0.2222222222222222,
              "#7201a8"
             ],
             [
              0.3333333333333333,
              "#9c179e"
             ],
             [
              0.4444444444444444,
              "#bd3786"
             ],
             [
              0.5555555555555556,
              "#d8576b"
             ],
             [
              0.6666666666666666,
              "#ed7953"
             ],
             [
              0.7777777777777778,
              "#fb9f3a"
             ],
             [
              0.8888888888888888,
              "#fdca26"
             ],
             [
              1.0,
              "#f0f921"
             ]
            ]
           }
          ],
          "contourcarpet": [
           {
            "type": "contourcarpet",
            "colorbar": {
             "outlinewidth": 0,
             "ticks": ""
            }
           }
          ],
          "contour": [
           {
            "type": "contour",
            "colorbar": {
             "outlinewidth": 0,
             "ticks": ""
            },
            "colorscale": [
             [
              0.0,
              "#0d0887"
             ],
             [
              0.1111111111111111,
              "#46039f"
             ],
             [
              0.2222222222222222,
              "#7201a8"
             ],
             [
              0.3333333333333333,
              "#9c179e"
             ],
             [
              0.4444444444444444,
              "#bd3786"
             ],
             [
              0.5555555555555556,
              "#d8576b"
             ],
             [
              0.6666666666666666,
              "#ed7953"
             ],
             [
              0.7777777777777778,
              "#fb9f3a"
             ],
             [
              0.8888888888888888,
              "#fdca26"
             ],
             [
              1.0,
              "#f0f921"
             ]
            ]
           }
          ],
          "surface": [
           {
            "type": "surface",
            "colorbar": {
             "outlinewidth": 0,
             "ticks": ""
            },
            "colorscale": [
             [
              0.0,
              "#0d0887"
             ],
             [
              0.1111111111111111,
              "#46039f"
             ],
             [
              0.2222222222222222,
              "#7201a8"
             ],
             [
              0.3333333333333333,
              "#9c179e"
             ],
             [
              0.4444444444444444,
              "#bd3786"
             ],
             [
              0.5555555555555556,
              "#d8576b"
             ],
             [
              0.6666666666666666,
              "#ed7953"
             ],
             [
              0.7777777777777778,
              "#fb9f3a"
             ],
             [
              0.8888888888888888,
              "#fdca26"
             ],
             [
              1.0,
              "#f0f921"
             ]
            ]
           }
          ],
          "mesh3d": [
           {
            "type": "mesh3d",
            "colorbar": {
             "outlinewidth": 0,
             "ticks": ""
            }
           }
          ],
          "scatter": [
           {
            "marker": {
             "line": {
              "color": "#283442"
             }
            },
            "type": "scatter"
           }
          ],
          "parcoords": [
           {
            "type": "parcoords",
            "line": {
             "colorbar": {
              "outlinewidth": 0,
              "ticks": ""
             }
            }
           }
          ],
          "scatterpolargl": [
           {
            "type": "scatterpolargl",
            "marker": {
             "colorbar": {
              "outlinewidth": 0,
              "ticks": ""
             }
            }
           }
          ],
          "bar": [
           {
            "error_x": {
             "color": "#f2f5fa"
            },
            "error_y": {
             "color": "#f2f5fa"
            },
            "marker": {
             "line": {
              "color": "rgb(17,17,17)",
              "width": 0.5
             },
             "pattern": {
              "fillmode": "overlay",
              "size": 10,
              "solidity": 0.2
             }
            },
            "type": "bar"
           }
          ],
          "scattergeo": [
           {
            "type": "scattergeo",
            "marker": {
             "colorbar": {
              "outlinewidth": 0,
              "ticks": ""
             }
            }
           }
          ],
          "scatterpolar": [
           {
            "type": "scatterpolar",
            "marker": {
             "colorbar": {
              "outlinewidth": 0,
              "ticks": ""
             }
            }
           }
          ],
          "histogram": [
           {
            "marker": {
             "pattern": {
              "fillmode": "overlay",
              "size": 10,
              "solidity": 0.2
             }
            },
            "type": "histogram"
           }
          ],
          "scattergl": [
           {
            "marker": {
             "line": {
              "color": "#283442"
             }
            },
            "type": "scattergl"
           }
          ],
          "scatter3d": [
           {
            "type": "scatter3d",
            "line": {
             "colorbar": {
              "outlinewidth": 0,
              "ticks": ""
             }
            },
            "marker": {
             "colorbar": {
              "outlinewidth": 0,
              "ticks": ""
             }
            }
           }
          ],
          "scattermapbox": [
           {
            "type": "scattermapbox",
            "marker": {
             "colorbar": {
              "outlinewidth": 0,
              "ticks": ""
             }
            }
           }
          ],
          "scatterternary": [
           {
            "type": "scatterternary",
            "marker": {
             "colorbar": {
              "outlinewidth": 0,
              "ticks": ""
             }
            }
           }
          ],
          "scattercarpet": [
           {
            "type": "scattercarpet",
            "marker": {
             "colorbar": {
              "outlinewidth": 0,
              "ticks": ""
             }
            }
           }
          ],
          "carpet": [
           {
            "aaxis": {
             "endlinecolor": "#A2B1C6",
             "gridcolor": "#506784",
             "linecolor": "#506784",
             "minorgridcolor": "#506784",
             "startlinecolor": "#A2B1C6"
            },
            "baxis": {
             "endlinecolor": "#A2B1C6",
             "gridcolor": "#506784",
             "linecolor": "#506784",
             "minorgridcolor": "#506784",
             "startlinecolor": "#A2B1C6"
            },
            "type": "carpet"
           }
          ],
          "table": [
           {
            "cells": {
             "fill": {
              "color": "#506784"
             },
             "line": {
              "color": "rgb(17,17,17)"
             }
            },
            "header": {
             "fill": {
              "color": "#2a3f5f"
             },
             "line": {
              "color": "rgb(17,17,17)"
             }
            },
            "type": "table"
           }
          ],
          "barpolar": [
           {
            "marker": {
             "line": {
              "color": "rgb(17,17,17)",
              "width": 0.5
             },
             "pattern": {
              "fillmode": "overlay",
              "size": 10,
              "solidity": 0.2
             }
            },
            "type": "barpolar"
           }
          ],
          "pie": [
           {
            "automargin": true,
            "type": "pie"
           }
          ]
         },
         "layout": {
          "autotypenumbers": "strict",
          "colorway": [
           "#636efa",
           "#EF553B",
           "#00cc96",
           "#ab63fa",
           "#FFA15A",
           "#19d3f3",
           "#FF6692",
           "#B6E880",
           "#FF97FF",
           "#FECB52"
          ],
          "font": {
           "color": "#f2f5fa"
          },
          "hovermode": "closest",
          "hoverlabel": {
           "align": "left"
          },
          "paper_bgcolor": "rgb(17,17,17)",
          "plot_bgcolor": "rgb(17,17,17)",
          "polar": {
           "bgcolor": "rgb(17,17,17)",
           "angularaxis": {
            "gridcolor": "#506784",
            "linecolor": "#506784",
            "ticks": ""
           },
           "radialaxis": {
            "gridcolor": "#506784",
            "linecolor": "#506784",
            "ticks": ""
           }
          },
          "ternary": {
           "bgcolor": "rgb(17,17,17)",
           "aaxis": {
            "gridcolor": "#506784",
            "linecolor": "#506784",
            "ticks": ""
           },
           "baxis": {
            "gridcolor": "#506784",
            "linecolor": "#506784",
            "ticks": ""
           },
           "caxis": {
            "gridcolor": "#506784",
            "linecolor": "#506784",
            "ticks": ""
           }
          },
          "coloraxis": {
           "colorbar": {
            "outlinewidth": 0,
            "ticks": ""
           }
          },
          "colorscale": {
           "sequential": [
            [
             0.0,
             "#0d0887"
            ],
            [
             0.1111111111111111,
             "#46039f"
            ],
            [
             0.2222222222222222,
             "#7201a8"
            ],
            [
             0.3333333333333333,
             "#9c179e"
            ],
            [
             0.4444444444444444,
             "#bd3786"
            ],
            [
             0.5555555555555556,
             "#d8576b"
            ],
            [
             0.6666666666666666,
             "#ed7953"
            ],
            [
             0.7777777777777778,
             "#fb9f3a"
            ],
            [
             0.8888888888888888,
             "#fdca26"
            ],
            [
             1.0,
             "#f0f921"
            ]
           ],
           "sequentialminus": [
            [
             0.0,
             "#0d0887"
            ],
            [
             0.1111111111111111,
             "#46039f"
            ],
            [
             0.2222222222222222,
             "#7201a8"
            ],
            [
             0.3333333333333333,
             "#9c179e"
            ],
            [
             0.4444444444444444,
             "#bd3786"
            ],
            [
             0.5555555555555556,
             "#d8576b"
            ],
            [
             0.6666666666666666,
             "#ed7953"
            ],
            [
             0.7777777777777778,
             "#fb9f3a"
            ],
            [
             0.8888888888888888,
             "#fdca26"
            ],
            [
             1.0,
             "#f0f921"
            ]
           ],
           "diverging": [
            [
             0,
             "#8e0152"
            ],
            [
             0.1,
             "#c51b7d"
            ],
            [
             0.2,
             "#de77ae"
            ],
            [
             0.3,
             "#f1b6da"
            ],
            [
             0.4,
             "#fde0ef"
            ],
            [
             0.5,
             "#f7f7f7"
            ],
            [
             0.6,
             "#e6f5d0"
            ],
            [
             0.7,
             "#b8e186"
            ],
            [
             0.8,
             "#7fbc41"
            ],
            [
             0.9,
             "#4d9221"
            ],
            [
             1,
             "#276419"
            ]
           ]
          },
          "xaxis": {
           "gridcolor": "#283442",
           "linecolor": "#506784",
           "ticks": "",
           "title": {
            "standoff": 15
           },
           "zerolinecolor": "#283442",
           "automargin": true,
           "zerolinewidth": 2
          },
          "yaxis": {
           "gridcolor": "#283442",
           "linecolor": "#506784",
           "ticks": "",
           "title": {
            "standoff": 15
           },
           "zerolinecolor": "#283442",
           "automargin": true,
           "zerolinewidth": 2
          },
          "scene": {
           "xaxis": {
            "backgroundcolor": "rgb(17,17,17)",
            "gridcolor": "#506784",
            "linecolor": "#506784",
            "showbackground": true,
            "ticks": "",
            "zerolinecolor": "#C8D4E3",
            "gridwidth": 2
           },
           "yaxis": {
            "backgroundcolor": "rgb(17,17,17)",
            "gridcolor": "#506784",
            "linecolor": "#506784",
            "showbackground": true,
            "ticks": "",
            "zerolinecolor": "#C8D4E3",
            "gridwidth": 2
           },
           "zaxis": {
            "backgroundcolor": "rgb(17,17,17)",
            "gridcolor": "#506784",
            "linecolor": "#506784",
            "showbackground": true,
            "ticks": "",
            "zerolinecolor": "#C8D4E3",
            "gridwidth": 2
           }
          },
          "shapedefaults": {
           "line": {
            "color": "#f2f5fa"
           }
          },
          "annotationdefaults": {
           "arrowcolor": "#f2f5fa",
           "arrowhead": 0,
           "arrowwidth": 1
          },
          "geo": {
           "bgcolor": "rgb(17,17,17)",
           "landcolor": "rgb(17,17,17)",
           "subunitcolor": "#506784",
           "showland": true,
           "showlakes": true,
           "lakecolor": "rgb(17,17,17)"
          },
          "title": {
           "x": 0.05
          },
          "updatemenudefaults": {
           "bgcolor": "#506784",
           "borderwidth": 0
          },
          "sliderdefaults": {
           "bgcolor": "#C8D4E3",
           "borderwidth": 1,
           "bordercolor": "rgb(17,17,17)",
           "tickwidth": 0
          },
          "mapbox": {
           "style": "dark"
          }
         }
        },
        "xaxis": {
         "anchor": "y",
         "domain": [
          0.0,
          1.0
         ],
         "title": {
          "text": "team"
         },
         "categoryorder": "array",
         "categoryarray": [
          "Egypt",
          "Ivory Coast",
          "Ghana",
          "Tunisia",
          "Cameroon",
          "Nigeria",
          "Algeria",
          "DR Congo",
          "Morocco",
          "Zambia"
         ]
        },
        "yaxis": {
         "anchor": "x",
         "domain": [
          0.0,
          1.0
         ],
         "title": {
          "text": "nb_tournaments"
         }
        },
        "legend": {
         "title": {
          "text": "team"
         },
         "tracegroupgap": 0
        },
        "title": {
         "text": "Nombre de tournois par équipe (Top 10)"
        },
        "barmode": "relative"
       },
       "config": {
        "plotlyServerURL": "https://plot.ly"
       }
      },
      "text/html": "<div>                            <div id=\"158a9ef3-3447-41df-ad17-4e37dce25e0c\" class=\"plotly-graph-div\" style=\"height:525px; width:100%;\"></div>            <script type=\"text/javascript\">                require([\"plotly\"], function(Plotly) {                    window.PLOTLYENV=window.PLOTLYENV || {};                                    if (document.getElementById(\"158a9ef3-3447-41df-ad17-4e37dce25e0c\")) {                    Plotly.newPlot(                        \"158a9ef3-3447-41df-ad17-4e37dce25e0c\",                        [{\"alignmentgroup\":\"True\",\"hovertemplate\":\"team=%{x}<br>nb_tournaments=%{text}<extra></extra>\",\"legendgroup\":\"Egypt\",\"marker\":{\"color\":\"#636efa\",\"pattern\":{\"shape\":\"\"}},\"name\":\"Egypt\",\"offsetgroup\":\"Egypt\",\"orientation\":\"v\",\"showlegend\":true,\"text\":[25.0],\"textposition\":\"outside\",\"x\":[\"Egypt\"],\"xaxis\":\"x\",\"y\":[25],\"yaxis\":\"y\",\"type\":\"bar\"},{\"alignmentgroup\":\"True\",\"hovertemplate\":\"team=%{x}<br>nb_tournaments=%{text}<extra></extra>\",\"legendgroup\":\"Ivory Coast\",\"marker\":{\"color\":\"#EF553B\",\"pattern\":{\"shape\":\"\"}},\"name\":\"Ivory Coast\",\"offsetgroup\":\"Ivory Coast\",\"orientation\":\"v\",\"showlegend\":true,\"text\":[24.0],\"textposition\":\"outside\",\"x\":[\"Ivory Coast\"],\"xaxis\":\"x\",\"y\":[24],\"yaxis\":\"y\",\"type\":\"bar\"},{\"alignmentgroup\":\"True\",\"hovertemplate\":\"team=%{x}<br>nb_tournaments=%{text}<extra></extra>\",\"legendgroup\":\"Ghana\",\"marker\":{\"color\":\"#00cc96\",\"pattern\":{\"shape\":\"\"}},\"name\":\"Ghana\",\"offsetgroup\":\"Ghana\",\"orientation\":\"v\",\"showlegend\":true,\"text\":[23.0],\"textposition\":\"outside\",\"x\":[\"Ghana\"],\"xaxis\":\"x\",\"y\":[23],\"yaxis\":\"y\",\"type\":\"bar\"},{\"alignmentgroup\":\"True\",\"hovertemplate\":\"team=%{x}<br>nb_tournaments=%{text}<extra></extra>\",\"legendgroup\":\"Tunisia\",\"marker\":{\"color\":\"#ab63fa\",\"pattern\":{\"shape\":\"\"}},\"name\":\"Tunisia\",\"offsetgroup\":\"Tunisia\",\"orientation\":\"v\",\"showlegend\":true,\"text\":[20.0],\"textposition\":\"outside\",\"x\":[\"Tunisia\"],\"xaxis\":\"x\",\"y\":[20],\"yaxis\":\"y\",\"type\":\"bar\"},{\"alignmentgroup\":\"True\",\"hovertemplate\":\"team=%{x}<br>nb_tournaments=%{text}<extra></extra>\",\"legendgroup\":\"Cameroon\",\"marker\":{\"color\":\"#FFA15A\",\"pattern\":{\"shape\":\"\"}},\"name\":\"Cameroon\",\"offsetgroup\":\"Cameroon\",\"orientation\":\"v\",\"showlegend\":true,\"text\":[20.0],\"textposition\":\"outside\",\"x\":[\"Cameroon\"],\"xaxis\":\"x\",\"y\":[20],\"yaxis\":\"y\",\"type\":\"bar\"},{\"alignmentgroup\":\"True\",\"hovertemplate\":\"team=%{x}<br>nb_tournaments=%{text}<extra></extra>\",\"legendgroup\":\"Nigeria\",\"marker\":{\"color\":\"#19d3f3\",\"pattern\":{\"shape\":\"\"}},\"name\":\"Nigeria\",\"offsetgroup\":\"Nigeria\",\"orientation\":\"v\",\"showlegend\":true,\"text\":[19.0],\"textposition\":\"outside\",\"x\":[\"Nigeria\"],\"xaxis\":\"x\",\"y\":[19],\"yaxis\":\"y\",\"type\":\"bar\"},{\"alignmentgroup\":\"True\",\"hovertemplate\":\"team=%{x}<br>nb_tournaments=%{text}<extra></extra>\",\"legendgroup\":\"Algeria\",\"marker\":{\"color\":\"#FF6692\",\"pattern\":{\"shape\":\"\"}},\"name\":\"Algeria\",\"offsetgroup\":\"Algeria\",\"orientation\":\"v\",\"showlegend\":true,\"text\":[19.0],\"textposition\":\"outside\",\"x\":[\"Algeria\"],\"xaxis\":\"x\",\"y\":[19],\"yaxis\":\"y\",\"type\":\"bar\"},{\"alignmentgroup\":\"True\",\"hovertemplate\":\"team=%{x}<br>nb_tournaments=%{text}<extra></extra>\",\"legendgroup\":\"DR Congo\",\"marker\":{\"color\":\"#B6E880\",\"pattern\":{\"shape\":\"\"}},\"name\":\"DR Congo\",\"offsetgroup\":\"DR Congo\",\"orientation\":\"v\",\"showlegend\":true,\"text\":[19.0],\"textposition\":\"outside\",\"x\":[\"DR Congo\"],\"xaxis\":\"x\",\"y\":[19],\"yaxis\":\"y\",\"type\":\"bar\"},{\"alignmentgroup\":\"True\",\"hovertemplate\":\"team=%{x}<br>nb_tournaments=%{text}<extra></extra>\",\"legendgroup\":\"Morocco\",\"marker\":{\"color\":\"#FF97FF\",\"pattern\":{\"shape\":\"\"}},\"name\":\"Morocco\",\"offsetgroup\":\"Morocco\",\"orientation\":\"v\",\"showlegend\":true,\"text\":[18.0],\"textposition\":\"outside\",\"x\":[\"Morocco\"],\"xaxis\":\"x\",\"y\":[18],\"yaxis\":\"y\",\"type\":\"bar\"},{\"alignmentgroup\":\"True\",\"hovertemplate\":\"team=%{x}<br>nb_tournaments=%{text}<extra></extra>\",\"legendgroup\":\"Zambia\",\"marker\":{\"color\":\"#FECB52\",\"pattern\":{\"shape\":\"\"}},\"name\":\"Zambia\",\"offsetgroup\":\"Zambia\",\"orientation\":\"v\",\"showlegend\":true,\"text\":[17.0],\"textposition\":\"outside\",\"x\":[\"Zambia\"],\"xaxis\":\"x\",\"y\":[17],\"yaxis\":\"y\",\"type\":\"bar\"}],                        {\"template\":{\"data\":{\"histogram2dcontour\":[{\"type\":\"histogram2dcontour\",\"colorbar\":{\"outlinewidth\":0,\"ticks\":\"\"},\"colorscale\":[[0.0,\"#0d0887\"],[0.1111111111111111,\"#46039f\"],[0.2222222222222222,\"#7201a8\"],[0.3333333333333333,\"#9c179e\"],[0.4444444444444444,\"#bd3786\"],[0.5555555555555556,\"#d8576b\"],[0.6666666666666666,\"#ed7953\"],[0.7777777777777778,\"#fb9f3a\"],[0.8888888888888888,\"#fdca26\"],[1.0,\"#f0f921\"]]}],\"choropleth\":[{\"type\":\"choropleth\",\"colorbar\":{\"outlinewidth\":0,\"ticks\":\"\"}}],\"histogram2d\":[{\"type\":\"histogram2d\",\"colorbar\":{\"outlinewidth\":0,\"ticks\":\"\"},\"colorscale\":[[0.0,\"#0d0887\"],[0.1111111111111111,\"#46039f\"],[0.2222222222222222,\"#7201a8\"],[0.3333333333333333,\"#9c179e\"],[0.4444444444444444,\"#bd3786\"],[0.5555555555555556,\"#d8576b\"],[0.6666666666666666,\"#ed7953\"],[0.7777777777777778,\"#fb9f3a\"],[0.8888888888888888,\"#fdca26\"],[1.0,\"#f0f921\"]]}],\"heatmap\":[{\"type\":\"heatmap\",\"colorbar\":{\"outlinewidth\":0,\"ticks\":\"\"},\"colorscale\":[[0.0,\"#0d0887\"],[0.1111111111111111,\"#46039f\"],[0.2222222222222222,\"#7201a8\"],[0.3333333333333333,\"#9c179e\"],[0.4444444444444444,\"#bd3786\"],[0.5555555555555556,\"#d8576b\"],[0.6666666666666666,\"#ed7953\"],[0.7777777777777778,\"#fb9f3a\"],[0.8888888888888888,\"#fdca26\"],[1.0,\"#f0f921\"]]}],\"heatmapgl\":[{\"type\":\"heatmapgl\",\"colorbar\":{\"outlinewidth\":0,\"ticks\":\"\"},\"colorscale\":[[0.0,\"#0d0887\"],[0.1111111111111111,\"#46039f\"],[0.2222222222222222,\"#7201a8\"],[0.3333333333333333,\"#9c179e\"],[0.4444444444444444,\"#bd3786\"],[0.5555555555555556,\"#d8576b\"],[0.6666666666666666,\"#ed7953\"],[0.7777777777777778,\"#fb9f3a\"],[0.8888888888888888,\"#fdca26\"],[1.0,\"#f0f921\"]]}],\"contourcarpet\":[{\"type\":\"contourcarpet\",\"colorbar\":{\"outlinewidth\":0,\"ticks\":\"\"}}],\"contour\":[{\"type\":\"contour\",\"colorbar\":{\"outlinewidth\":0,\"ticks\":\"\"},\"colorscale\":[[0.0,\"#0d0887\"],[0.1111111111111111,\"#46039f\"],[0.2222222222222222,\"#7201a8\"],[0.3333333333333333,\"#9c179e\"],[0.4444444444444444,\"#bd3786\"],[0.5555555555555556,\"#d8576b\"],[0.6666666666666666,\"#ed7953\"],[0.7777777777777778,\"#fb9f3a\"],[0.8888888888888888,\"#fdca26\"],[1.0,\"#f0f921\"]]}],\"surface\":[{\"type\":\"surface\",\"colorbar\":{\"outlinewidth\":0,\"ticks\":\"\"},\"colorscale\":[[0.0,\"#0d0887\"],[0.1111111111111111,\"#46039f\"],[0.2222222222222222,\"#7201a8\"],[0.3333333333333333,\"#9c179e\"],[0.4444444444444444,\"#bd3786\"],[0.5555555555555556,\"#d8576b\"],[0.6666666666666666,\"#ed7953\"],[0.7777777777777778,\"#fb9f3a\"],[0.8888888888888888,\"#fdca26\"],[1.0,\"#f0f921\"]]}],\"mesh3d\":[{\"type\":\"mesh3d\",\"colorbar\":{\"outlinewidth\":0,\"ticks\":\"\"}}],\"scatter\":[{\"marker\":{\"line\":{\"color\":\"#283442\"}},\"type\":\"scatter\"}],\"parcoords\":[{\"type\":\"parcoords\",\"line\":{\"colorbar\":{\"outlinewidth\":0,\"ticks\":\"\"}}}],\"scatterpolargl\":[{\"type\":\"scatterpolargl\",\"marker\":{\"colorbar\":{\"outlinewidth\":0,\"ticks\":\"\"}}}],\"bar\":[{\"error_x\":{\"color\":\"#f2f5fa\"},\"error_y\":{\"color\":\"#f2f5fa\"},\"marker\":{\"line\":{\"color\":\"rgb(17,17,17)\",\"width\":0.5},\"pattern\":{\"fillmode\":\"overlay\",\"size\":10,\"solidity\":0.2}},\"type\":\"bar\"}],\"scattergeo\":[{\"type\":\"scattergeo\",\"marker\":{\"colorbar\":{\"outlinewidth\":0,\"ticks\":\"\"}}}],\"scatterpolar\":[{\"type\":\"scatterpolar\",\"marker\":{\"colorbar\":{\"outlinewidth\":0,\"ticks\":\"\"}}}],\"histogram\":[{\"marker\":{\"pattern\":{\"fillmode\":\"overlay\",\"size\":10,\"solidity\":0.2}},\"type\":\"histogram\"}],\"scattergl\":[{\"marker\":{\"line\":{\"color\":\"#283442\"}},\"type\":\"scattergl\"}],\"scatter3d\":[{\"type\":\"scatter3d\",\"line\":{\"colorbar\":{\"outlinewidth\":0,\"ticks\":\"\"}},\"marker\":{\"colorbar\":{\"outlinewidth\":0,\"ticks\":\"\"}}}],\"scattermapbox\":[{\"type\":\"scattermapbox\",\"marker\":{\"colorbar\":{\"outlinewidth\":0,\"ticks\":\"\"}}}],\"scatterternary\":[{\"type\":\"scatterternary\",\"marker\":{\"colorbar\":{\"outlinewidth\":0,\"ticks\":\"\"}}}],\"scattercarpet\":[{\"type\":\"scattercarpet\",\"marker\":{\"colorbar\":{\"outlinewidth\":0,\"ticks\":\"\"}}}],\"carpet\":[{\"aaxis\":{\"endlinecolor\":\"#A2B1C6\",\"gridcolor\":\"#506784\",\"linecolor\":\"#506784\",\"minorgridcolor\":\"#506784\",\"startlinecolor\":\"#A2B1C6\"},\"baxis\":{\"endlinecolor\":\"#A2B1C6\",\"gridcolor\":\"#506784\",\"linecolor\":\"#506784\",\"minorgridcolor\":\"#506784\",\"startlinecolor\":\"#A2B1C6\"},\"type\":\"carpet\"}],\"table\":[{\"cells\":{\"fill\":{\"color\":\"#506784\"},\"line\":{\"color\":\"rgb(17,17,17)\"}},\"header\":{\"fill\":{\"color\":\"#2a3f5f\"},\"line\":{\"color\":\"rgb(17,17,17)\"}},\"type\":\"table\"}],\"barpolar\":[{\"marker\":{\"line\":{\"color\":\"rgb(17,17,17)\",\"width\":0.5},\"pattern\":{\"fillmode\":\"overlay\",\"size\":10,\"solidity\":0.2}},\"type\":\"barpolar\"}],\"pie\":[{\"automargin\":true,\"type\":\"pie\"}]},\"layout\":{\"autotypenumbers\":\"strict\",\"colorway\":[\"#636efa\",\"#EF553B\",\"#00cc96\",\"#ab63fa\",\"#FFA15A\",\"#19d3f3\",\"#FF6692\",\"#B6E880\",\"#FF97FF\",\"#FECB52\"],\"font\":{\"color\":\"#f2f5fa\"},\"hovermode\":\"closest\",\"hoverlabel\":{\"align\":\"left\"},\"paper_bgcolor\":\"rgb(17,17,17)\",\"plot_bgcolor\":\"rgb(17,17,17)\",\"polar\":{\"bgcolor\":\"rgb(17,17,17)\",\"angularaxis\":{\"gridcolor\":\"#506784\",\"linecolor\":\"#506784\",\"ticks\":\"\"},\"radialaxis\":{\"gridcolor\":\"#506784\",\"linecolor\":\"#506784\",\"ticks\":\"\"}},\"ternary\":{\"bgcolor\":\"rgb(17,17,17)\",\"aaxis\":{\"gridcolor\":\"#506784\",\"linecolor\":\"#506784\",\"ticks\":\"\"},\"baxis\":{\"gridcolor\":\"#506784\",\"linecolor\":\"#506784\",\"ticks\":\"\"},\"caxis\":{\"gridcolor\":\"#506784\",\"linecolor\":\"#506784\",\"ticks\":\"\"}},\"coloraxis\":{\"colorbar\":{\"outlinewidth\":0,\"ticks\":\"\"}},\"colorscale\":{\"sequential\":[[0.0,\"#0d0887\"],[0.1111111111111111,\"#46039f\"],[0.2222222222222222,\"#7201a8\"],[0.3333333333333333,\"#9c179e\"],[0.4444444444444444,\"#bd3786\"],[0.5555555555555556,\"#d8576b\"],[0.6666666666666666,\"#ed7953\"],[0.7777777777777778,\"#fb9f3a\"],[0.8888888888888888,\"#fdca26\"],[1.0,\"#f0f921\"]],\"sequentialminus\":[[0.0,\"#0d0887\"],[0.1111111111111111,\"#46039f\"],[0.2222222222222222,\"#7201a8\"],[0.3333333333333333,\"#9c179e\"],[0.4444444444444444,\"#bd3786\"],[0.5555555555555556,\"#d8576b\"],[0.6666666666666666,\"#ed7953\"],[0.7777777777777778,\"#fb9f3a\"],[0.8888888888888888,\"#fdca26\"],[1.0,\"#f0f921\"]],\"diverging\":[[0,\"#8e0152\"],[0.1,\"#c51b7d\"],[0.2,\"#de77ae\"],[0.3,\"#f1b6da\"],[0.4,\"#fde0ef\"],[0.5,\"#f7f7f7\"],[0.6,\"#e6f5d0\"],[0.7,\"#b8e186\"],[0.8,\"#7fbc41\"],[0.9,\"#4d9221\"],[1,\"#276419\"]]},\"xaxis\":{\"gridcolor\":\"#283442\",\"linecolor\":\"#506784\",\"ticks\":\"\",\"title\":{\"standoff\":15},\"zerolinecolor\":\"#283442\",\"automargin\":true,\"zerolinewidth\":2},\"yaxis\":{\"gridcolor\":\"#283442\",\"linecolor\":\"#506784\",\"ticks\":\"\",\"title\":{\"standoff\":15},\"zerolinecolor\":\"#283442\",\"automargin\":true,\"zerolinewidth\":2},\"scene\":{\"xaxis\":{\"backgroundcolor\":\"rgb(17,17,17)\",\"gridcolor\":\"#506784\",\"linecolor\":\"#506784\",\"showbackground\":true,\"ticks\":\"\",\"zerolinecolor\":\"#C8D4E3\",\"gridwidth\":2},\"yaxis\":{\"backgroundcolor\":\"rgb(17,17,17)\",\"gridcolor\":\"#506784\",\"linecolor\":\"#506784\",\"showbackground\":true,\"ticks\":\"\",\"zerolinecolor\":\"#C8D4E3\",\"gridwidth\":2},\"zaxis\":{\"backgroundcolor\":\"rgb(17,17,17)\",\"gridcolor\":\"#506784\",\"linecolor\":\"#506784\",\"showbackground\":true,\"ticks\":\"\",\"zerolinecolor\":\"#C8D4E3\",\"gridwidth\":2}},\"shapedefaults\":{\"line\":{\"color\":\"#f2f5fa\"}},\"annotationdefaults\":{\"arrowcolor\":\"#f2f5fa\",\"arrowhead\":0,\"arrowwidth\":1},\"geo\":{\"bgcolor\":\"rgb(17,17,17)\",\"landcolor\":\"rgb(17,17,17)\",\"subunitcolor\":\"#506784\",\"showland\":true,\"showlakes\":true,\"lakecolor\":\"rgb(17,17,17)\"},\"title\":{\"x\":0.05},\"updatemenudefaults\":{\"bgcolor\":\"#506784\",\"borderwidth\":0},\"sliderdefaults\":{\"bgcolor\":\"#C8D4E3\",\"borderwidth\":1,\"bordercolor\":\"rgb(17,17,17)\",\"tickwidth\":0},\"mapbox\":{\"style\":\"dark\"}}},\"xaxis\":{\"anchor\":\"y\",\"domain\":[0.0,1.0],\"title\":{\"text\":\"team\"},\"categoryorder\":\"array\",\"categoryarray\":[\"Egypt\",\"Ivory Coast\",\"Ghana\",\"Tunisia\",\"Cameroon\",\"Nigeria\",\"Algeria\",\"DR Congo\",\"Morocco\",\"Zambia\"]},\"yaxis\":{\"anchor\":\"x\",\"domain\":[0.0,1.0],\"title\":{\"text\":\"nb_tournaments\"}},\"legend\":{\"title\":{\"text\":\"team\"},\"tracegroupgap\":0},\"title\":{\"text\":\"Nombre de tournois par \\u00e9quipe (Top 10)\"},\"barmode\":\"relative\"},                        {\"responsive\": true}                    ).then(function(){\n                            \nvar gd = document.getElementById('158a9ef3-3447-41df-ad17-4e37dce25e0c');\nvar x = new MutationObserver(function (mutations, observer) {{\n        var display = window.getComputedStyle(gd).display;\n        if (!display || display === 'none') {{\n            console.log([gd, 'removed!']);\n            Plotly.purge(gd);\n            observer.disconnect();\n        }}\n}});\n\n// Listen for the removal of the full notebook cells\nvar notebookContainer = gd.closest('#notebook-container');\nif (notebookContainer) {{\n    x.observe(notebookContainer, {childList: true});\n}}\n\n// Listen for the clearing of the current output cell\nvar outputEl = gd.closest('.output');\nif (outputEl) {{\n    x.observe(outputEl, {childList: true});\n}}\n\n                        })                };                });            </script>        </div>"
     },
     "metadata": {},
     "output_type": "display_data"
    }
   ],
   "source": [
    "top_10_teams = df_summary.sort_values(by='nb_tournaments', ascending=False).head(10)\n",
    "\n",
    "fig = px.bar(top_10_teams, x='team', y='nb_tournaments',\n",
    "             title='Nombre de tournois par équipe (Top 10)',\n",
    "             text='nb_tournaments',\n",
    "             color='team')\n",
    "fig.update_traces(textposition='outside')  # Position des annotations\n",
    "fig.show()"
   ],
   "metadata": {
    "collapsed": false,
    "ExecuteTime": {
     "end_time": "2024-01-03T16:47:00.183244400Z",
     "start_time": "2024-01-03T16:46:59.773902100Z"
    }
   },
   "id": "afa219812ba7b74f",
   "execution_count": 103
  },
  {
   "cell_type": "markdown",
   "source": [
    "Je vais tracer un graphique à barres empilées pour les 10 équipes ayant le plus de victoires. Ce graphique comportera les statistiques de victoires, défaites et nuls."
   ],
   "metadata": {
    "collapsed": false
   },
   "id": "1c51d629436a13c8"
  },
  {
   "cell_type": "code",
   "outputs": [
    {
     "data": {
      "application/vnd.plotly.v1+json": {
       "data": [
        {
         "alignmentgroup": "True",
         "hovertemplate": "variable=nb_wins<br>team=%{x}<br>value=%{y}<extra></extra>",
         "legendgroup": "nb_wins",
         "marker": {
          "color": "#636efa",
          "pattern": {
           "shape": ""
          }
         },
         "name": "nb_wins",
         "offsetgroup": "nb_wins",
         "orientation": "v",
         "showlegend": true,
         "textposition": "auto",
         "x": [
          "Egypt",
          "Ghana",
          "Ivory Coast",
          "Nigeria",
          "Cameroon",
          "Tunisia",
          "Algeria",
          "DR Congo",
          "Morocco",
          "Zambia"
         ],
         "xaxis": "x",
         "y": [
          60,
          54,
          44,
          53,
          45,
          26,
          28,
          20,
          27,
          26
         ],
         "yaxis": "y",
         "type": "bar"
        },
        {
         "alignmentgroup": "True",
         "hovertemplate": "variable=nb_losses<br>team=%{x}<br>value=%{y}<extra></extra>",
         "legendgroup": "nb_losses",
         "marker": {
          "color": "#EF553B",
          "pattern": {
           "shape": ""
          }
         },
         "name": "nb_losses",
         "offsetgroup": "nb_losses",
         "orientation": "v",
         "showlegend": true,
         "textposition": "auto",
         "x": [
          "Egypt",
          "Ghana",
          "Ivory Coast",
          "Nigeria",
          "Cameroon",
          "Tunisia",
          "Algeria",
          "DR Congo",
          "Morocco",
          "Zambia"
         ],
         "xaxis": "x",
         "y": [
          27,
          27,
          28,
          23,
          16,
          26,
          27,
          29,
          19,
          21
         ],
         "yaxis": "y",
         "type": "bar"
        },
        {
         "alignmentgroup": "True",
         "hovertemplate": "variable=nb_draws<br>team=%{x}<br>value=%{y}<extra></extra>",
         "legendgroup": "nb_draws",
         "marker": {
          "color": "#00cc96",
          "pattern": {
           "shape": ""
          }
         },
         "name": "nb_draws",
         "offsetgroup": "nb_draws",
         "orientation": "v",
         "showlegend": true,
         "textposition": "auto",
         "x": [
          "Egypt",
          "Ghana",
          "Ivory Coast",
          "Nigeria",
          "Cameroon",
          "Tunisia",
          "Algeria",
          "DR Congo",
          "Morocco",
          "Zambia"
         ],
         "xaxis": "x",
         "y": [
          20,
          21,
          27,
          21,
          30,
          28,
          22,
          24,
          24,
          20
         ],
         "yaxis": "y",
         "type": "bar"
        }
       ],
       "layout": {
        "template": {
         "data": {
          "histogram2dcontour": [
           {
            "type": "histogram2dcontour",
            "colorbar": {
             "outlinewidth": 0,
             "ticks": ""
            },
            "colorscale": [
             [
              0.0,
              "#0d0887"
             ],
             [
              0.1111111111111111,
              "#46039f"
             ],
             [
              0.2222222222222222,
              "#7201a8"
             ],
             [
              0.3333333333333333,
              "#9c179e"
             ],
             [
              0.4444444444444444,
              "#bd3786"
             ],
             [
              0.5555555555555556,
              "#d8576b"
             ],
             [
              0.6666666666666666,
              "#ed7953"
             ],
             [
              0.7777777777777778,
              "#fb9f3a"
             ],
             [
              0.8888888888888888,
              "#fdca26"
             ],
             [
              1.0,
              "#f0f921"
             ]
            ]
           }
          ],
          "choropleth": [
           {
            "type": "choropleth",
            "colorbar": {
             "outlinewidth": 0,
             "ticks": ""
            }
           }
          ],
          "histogram2d": [
           {
            "type": "histogram2d",
            "colorbar": {
             "outlinewidth": 0,
             "ticks": ""
            },
            "colorscale": [
             [
              0.0,
              "#0d0887"
             ],
             [
              0.1111111111111111,
              "#46039f"
             ],
             [
              0.2222222222222222,
              "#7201a8"
             ],
             [
              0.3333333333333333,
              "#9c179e"
             ],
             [
              0.4444444444444444,
              "#bd3786"
             ],
             [
              0.5555555555555556,
              "#d8576b"
             ],
             [
              0.6666666666666666,
              "#ed7953"
             ],
             [
              0.7777777777777778,
              "#fb9f3a"
             ],
             [
              0.8888888888888888,
              "#fdca26"
             ],
             [
              1.0,
              "#f0f921"
             ]
            ]
           }
          ],
          "heatmap": [
           {
            "type": "heatmap",
            "colorbar": {
             "outlinewidth": 0,
             "ticks": ""
            },
            "colorscale": [
             [
              0.0,
              "#0d0887"
             ],
             [
              0.1111111111111111,
              "#46039f"
             ],
             [
              0.2222222222222222,
              "#7201a8"
             ],
             [
              0.3333333333333333,
              "#9c179e"
             ],
             [
              0.4444444444444444,
              "#bd3786"
             ],
             [
              0.5555555555555556,
              "#d8576b"
             ],
             [
              0.6666666666666666,
              "#ed7953"
             ],
             [
              0.7777777777777778,
              "#fb9f3a"
             ],
             [
              0.8888888888888888,
              "#fdca26"
             ],
             [
              1.0,
              "#f0f921"
             ]
            ]
           }
          ],
          "heatmapgl": [
           {
            "type": "heatmapgl",
            "colorbar": {
             "outlinewidth": 0,
             "ticks": ""
            },
            "colorscale": [
             [
              0.0,
              "#0d0887"
             ],
             [
              0.1111111111111111,
              "#46039f"
             ],
             [
              0.2222222222222222,
              "#7201a8"
             ],
             [
              0.3333333333333333,
              "#9c179e"
             ],
             [
              0.4444444444444444,
              "#bd3786"
             ],
             [
              0.5555555555555556,
              "#d8576b"
             ],
             [
              0.6666666666666666,
              "#ed7953"
             ],
             [
              0.7777777777777778,
              "#fb9f3a"
             ],
             [
              0.8888888888888888,
              "#fdca26"
             ],
             [
              1.0,
              "#f0f921"
             ]
            ]
           }
          ],
          "contourcarpet": [
           {
            "type": "contourcarpet",
            "colorbar": {
             "outlinewidth": 0,
             "ticks": ""
            }
           }
          ],
          "contour": [
           {
            "type": "contour",
            "colorbar": {
             "outlinewidth": 0,
             "ticks": ""
            },
            "colorscale": [
             [
              0.0,
              "#0d0887"
             ],
             [
              0.1111111111111111,
              "#46039f"
             ],
             [
              0.2222222222222222,
              "#7201a8"
             ],
             [
              0.3333333333333333,
              "#9c179e"
             ],
             [
              0.4444444444444444,
              "#bd3786"
             ],
             [
              0.5555555555555556,
              "#d8576b"
             ],
             [
              0.6666666666666666,
              "#ed7953"
             ],
             [
              0.7777777777777778,
              "#fb9f3a"
             ],
             [
              0.8888888888888888,
              "#fdca26"
             ],
             [
              1.0,
              "#f0f921"
             ]
            ]
           }
          ],
          "surface": [
           {
            "type": "surface",
            "colorbar": {
             "outlinewidth": 0,
             "ticks": ""
            },
            "colorscale": [
             [
              0.0,
              "#0d0887"
             ],
             [
              0.1111111111111111,
              "#46039f"
             ],
             [
              0.2222222222222222,
              "#7201a8"
             ],
             [
              0.3333333333333333,
              "#9c179e"
             ],
             [
              0.4444444444444444,
              "#bd3786"
             ],
             [
              0.5555555555555556,
              "#d8576b"
             ],
             [
              0.6666666666666666,
              "#ed7953"
             ],
             [
              0.7777777777777778,
              "#fb9f3a"
             ],
             [
              0.8888888888888888,
              "#fdca26"
             ],
             [
              1.0,
              "#f0f921"
             ]
            ]
           }
          ],
          "mesh3d": [
           {
            "type": "mesh3d",
            "colorbar": {
             "outlinewidth": 0,
             "ticks": ""
            }
           }
          ],
          "scatter": [
           {
            "marker": {
             "line": {
              "color": "#283442"
             }
            },
            "type": "scatter"
           }
          ],
          "parcoords": [
           {
            "type": "parcoords",
            "line": {
             "colorbar": {
              "outlinewidth": 0,
              "ticks": ""
             }
            }
           }
          ],
          "scatterpolargl": [
           {
            "type": "scatterpolargl",
            "marker": {
             "colorbar": {
              "outlinewidth": 0,
              "ticks": ""
             }
            }
           }
          ],
          "bar": [
           {
            "error_x": {
             "color": "#f2f5fa"
            },
            "error_y": {
             "color": "#f2f5fa"
            },
            "marker": {
             "line": {
              "color": "rgb(17,17,17)",
              "width": 0.5
             },
             "pattern": {
              "fillmode": "overlay",
              "size": 10,
              "solidity": 0.2
             }
            },
            "type": "bar"
           }
          ],
          "scattergeo": [
           {
            "type": "scattergeo",
            "marker": {
             "colorbar": {
              "outlinewidth": 0,
              "ticks": ""
             }
            }
           }
          ],
          "scatterpolar": [
           {
            "type": "scatterpolar",
            "marker": {
             "colorbar": {
              "outlinewidth": 0,
              "ticks": ""
             }
            }
           }
          ],
          "histogram": [
           {
            "marker": {
             "pattern": {
              "fillmode": "overlay",
              "size": 10,
              "solidity": 0.2
             }
            },
            "type": "histogram"
           }
          ],
          "scattergl": [
           {
            "marker": {
             "line": {
              "color": "#283442"
             }
            },
            "type": "scattergl"
           }
          ],
          "scatter3d": [
           {
            "type": "scatter3d",
            "line": {
             "colorbar": {
              "outlinewidth": 0,
              "ticks": ""
             }
            },
            "marker": {
             "colorbar": {
              "outlinewidth": 0,
              "ticks": ""
             }
            }
           }
          ],
          "scattermapbox": [
           {
            "type": "scattermapbox",
            "marker": {
             "colorbar": {
              "outlinewidth": 0,
              "ticks": ""
             }
            }
           }
          ],
          "scatterternary": [
           {
            "type": "scatterternary",
            "marker": {
             "colorbar": {
              "outlinewidth": 0,
              "ticks": ""
             }
            }
           }
          ],
          "scattercarpet": [
           {
            "type": "scattercarpet",
            "marker": {
             "colorbar": {
              "outlinewidth": 0,
              "ticks": ""
             }
            }
           }
          ],
          "carpet": [
           {
            "aaxis": {
             "endlinecolor": "#A2B1C6",
             "gridcolor": "#506784",
             "linecolor": "#506784",
             "minorgridcolor": "#506784",
             "startlinecolor": "#A2B1C6"
            },
            "baxis": {
             "endlinecolor": "#A2B1C6",
             "gridcolor": "#506784",
             "linecolor": "#506784",
             "minorgridcolor": "#506784",
             "startlinecolor": "#A2B1C6"
            },
            "type": "carpet"
           }
          ],
          "table": [
           {
            "cells": {
             "fill": {
              "color": "#506784"
             },
             "line": {
              "color": "rgb(17,17,17)"
             }
            },
            "header": {
             "fill": {
              "color": "#2a3f5f"
             },
             "line": {
              "color": "rgb(17,17,17)"
             }
            },
            "type": "table"
           }
          ],
          "barpolar": [
           {
            "marker": {
             "line": {
              "color": "rgb(17,17,17)",
              "width": 0.5
             },
             "pattern": {
              "fillmode": "overlay",
              "size": 10,
              "solidity": 0.2
             }
            },
            "type": "barpolar"
           }
          ],
          "pie": [
           {
            "automargin": true,
            "type": "pie"
           }
          ]
         },
         "layout": {
          "autotypenumbers": "strict",
          "colorway": [
           "#636efa",
           "#EF553B",
           "#00cc96",
           "#ab63fa",
           "#FFA15A",
           "#19d3f3",
           "#FF6692",
           "#B6E880",
           "#FF97FF",
           "#FECB52"
          ],
          "font": {
           "color": "#f2f5fa"
          },
          "hovermode": "closest",
          "hoverlabel": {
           "align": "left"
          },
          "paper_bgcolor": "rgb(17,17,17)",
          "plot_bgcolor": "rgb(17,17,17)",
          "polar": {
           "bgcolor": "rgb(17,17,17)",
           "angularaxis": {
            "gridcolor": "#506784",
            "linecolor": "#506784",
            "ticks": ""
           },
           "radialaxis": {
            "gridcolor": "#506784",
            "linecolor": "#506784",
            "ticks": ""
           }
          },
          "ternary": {
           "bgcolor": "rgb(17,17,17)",
           "aaxis": {
            "gridcolor": "#506784",
            "linecolor": "#506784",
            "ticks": ""
           },
           "baxis": {
            "gridcolor": "#506784",
            "linecolor": "#506784",
            "ticks": ""
           },
           "caxis": {
            "gridcolor": "#506784",
            "linecolor": "#506784",
            "ticks": ""
           }
          },
          "coloraxis": {
           "colorbar": {
            "outlinewidth": 0,
            "ticks": ""
           }
          },
          "colorscale": {
           "sequential": [
            [
             0.0,
             "#0d0887"
            ],
            [
             0.1111111111111111,
             "#46039f"
            ],
            [
             0.2222222222222222,
             "#7201a8"
            ],
            [
             0.3333333333333333,
             "#9c179e"
            ],
            [
             0.4444444444444444,
             "#bd3786"
            ],
            [
             0.5555555555555556,
             "#d8576b"
            ],
            [
             0.6666666666666666,
             "#ed7953"
            ],
            [
             0.7777777777777778,
             "#fb9f3a"
            ],
            [
             0.8888888888888888,
             "#fdca26"
            ],
            [
             1.0,
             "#f0f921"
            ]
           ],
           "sequentialminus": [
            [
             0.0,
             "#0d0887"
            ],
            [
             0.1111111111111111,
             "#46039f"
            ],
            [
             0.2222222222222222,
             "#7201a8"
            ],
            [
             0.3333333333333333,
             "#9c179e"
            ],
            [
             0.4444444444444444,
             "#bd3786"
            ],
            [
             0.5555555555555556,
             "#d8576b"
            ],
            [
             0.6666666666666666,
             "#ed7953"
            ],
            [
             0.7777777777777778,
             "#fb9f3a"
            ],
            [
             0.8888888888888888,
             "#fdca26"
            ],
            [
             1.0,
             "#f0f921"
            ]
           ],
           "diverging": [
            [
             0,
             "#8e0152"
            ],
            [
             0.1,
             "#c51b7d"
            ],
            [
             0.2,
             "#de77ae"
            ],
            [
             0.3,
             "#f1b6da"
            ],
            [
             0.4,
             "#fde0ef"
            ],
            [
             0.5,
             "#f7f7f7"
            ],
            [
             0.6,
             "#e6f5d0"
            ],
            [
             0.7,
             "#b8e186"
            ],
            [
             0.8,
             "#7fbc41"
            ],
            [
             0.9,
             "#4d9221"
            ],
            [
             1,
             "#276419"
            ]
           ]
          },
          "xaxis": {
           "gridcolor": "#283442",
           "linecolor": "#506784",
           "ticks": "",
           "title": {
            "standoff": 15
           },
           "zerolinecolor": "#283442",
           "automargin": true,
           "zerolinewidth": 2
          },
          "yaxis": {
           "gridcolor": "#283442",
           "linecolor": "#506784",
           "ticks": "",
           "title": {
            "standoff": 15
           },
           "zerolinecolor": "#283442",
           "automargin": true,
           "zerolinewidth": 2
          },
          "scene": {
           "xaxis": {
            "backgroundcolor": "rgb(17,17,17)",
            "gridcolor": "#506784",
            "linecolor": "#506784",
            "showbackground": true,
            "ticks": "",
            "zerolinecolor": "#C8D4E3",
            "gridwidth": 2
           },
           "yaxis": {
            "backgroundcolor": "rgb(17,17,17)",
            "gridcolor": "#506784",
            "linecolor": "#506784",
            "showbackground": true,
            "ticks": "",
            "zerolinecolor": "#C8D4E3",
            "gridwidth": 2
           },
           "zaxis": {
            "backgroundcolor": "rgb(17,17,17)",
            "gridcolor": "#506784",
            "linecolor": "#506784",
            "showbackground": true,
            "ticks": "",
            "zerolinecolor": "#C8D4E3",
            "gridwidth": 2
           }
          },
          "shapedefaults": {
           "line": {
            "color": "#f2f5fa"
           }
          },
          "annotationdefaults": {
           "arrowcolor": "#f2f5fa",
           "arrowhead": 0,
           "arrowwidth": 1
          },
          "geo": {
           "bgcolor": "rgb(17,17,17)",
           "landcolor": "rgb(17,17,17)",
           "subunitcolor": "#506784",
           "showland": true,
           "showlakes": true,
           "lakecolor": "rgb(17,17,17)"
          },
          "title": {
           "x": 0.05
          },
          "updatemenudefaults": {
           "bgcolor": "#506784",
           "borderwidth": 0
          },
          "sliderdefaults": {
           "bgcolor": "#C8D4E3",
           "borderwidth": 1,
           "bordercolor": "rgb(17,17,17)",
           "tickwidth": 0
          },
          "mapbox": {
           "style": "dark"
          }
         }
        },
        "xaxis": {
         "anchor": "y",
         "domain": [
          0.0,
          1.0
         ],
         "title": {
          "text": "team"
         }
        },
        "yaxis": {
         "anchor": "x",
         "domain": [
          0.0,
          1.0
         ],
         "title": {
          "text": "value"
         }
        },
        "legend": {
         "title": {
          "text": "variable"
         },
         "tracegroupgap": 0
        },
        "title": {
         "text": "Statistiques de victoires, défaites et matchs nuls par équipe (Top 10)"
        },
        "barmode": "stack"
       },
       "config": {
        "plotlyServerURL": "https://plot.ly"
       }
      },
      "text/html": "<div>                            <div id=\"51ef8d8d-f090-436e-9ded-39a2a025f88f\" class=\"plotly-graph-div\" style=\"height:525px; width:100%;\"></div>            <script type=\"text/javascript\">                require([\"plotly\"], function(Plotly) {                    window.PLOTLYENV=window.PLOTLYENV || {};                                    if (document.getElementById(\"51ef8d8d-f090-436e-9ded-39a2a025f88f\")) {                    Plotly.newPlot(                        \"51ef8d8d-f090-436e-9ded-39a2a025f88f\",                        [{\"alignmentgroup\":\"True\",\"hovertemplate\":\"variable=nb_wins<br>team=%{x}<br>value=%{y}<extra></extra>\",\"legendgroup\":\"nb_wins\",\"marker\":{\"color\":\"#636efa\",\"pattern\":{\"shape\":\"\"}},\"name\":\"nb_wins\",\"offsetgroup\":\"nb_wins\",\"orientation\":\"v\",\"showlegend\":true,\"textposition\":\"auto\",\"x\":[\"Egypt\",\"Ghana\",\"Ivory Coast\",\"Nigeria\",\"Cameroon\",\"Tunisia\",\"Algeria\",\"DR Congo\",\"Morocco\",\"Zambia\"],\"xaxis\":\"x\",\"y\":[60,54,44,53,45,26,28,20,27,26],\"yaxis\":\"y\",\"type\":\"bar\"},{\"alignmentgroup\":\"True\",\"hovertemplate\":\"variable=nb_losses<br>team=%{x}<br>value=%{y}<extra></extra>\",\"legendgroup\":\"nb_losses\",\"marker\":{\"color\":\"#EF553B\",\"pattern\":{\"shape\":\"\"}},\"name\":\"nb_losses\",\"offsetgroup\":\"nb_losses\",\"orientation\":\"v\",\"showlegend\":true,\"textposition\":\"auto\",\"x\":[\"Egypt\",\"Ghana\",\"Ivory Coast\",\"Nigeria\",\"Cameroon\",\"Tunisia\",\"Algeria\",\"DR Congo\",\"Morocco\",\"Zambia\"],\"xaxis\":\"x\",\"y\":[27,27,28,23,16,26,27,29,19,21],\"yaxis\":\"y\",\"type\":\"bar\"},{\"alignmentgroup\":\"True\",\"hovertemplate\":\"variable=nb_draws<br>team=%{x}<br>value=%{y}<extra></extra>\",\"legendgroup\":\"nb_draws\",\"marker\":{\"color\":\"#00cc96\",\"pattern\":{\"shape\":\"\"}},\"name\":\"nb_draws\",\"offsetgroup\":\"nb_draws\",\"orientation\":\"v\",\"showlegend\":true,\"textposition\":\"auto\",\"x\":[\"Egypt\",\"Ghana\",\"Ivory Coast\",\"Nigeria\",\"Cameroon\",\"Tunisia\",\"Algeria\",\"DR Congo\",\"Morocco\",\"Zambia\"],\"xaxis\":\"x\",\"y\":[20,21,27,21,30,28,22,24,24,20],\"yaxis\":\"y\",\"type\":\"bar\"}],                        {\"template\":{\"data\":{\"histogram2dcontour\":[{\"type\":\"histogram2dcontour\",\"colorbar\":{\"outlinewidth\":0,\"ticks\":\"\"},\"colorscale\":[[0.0,\"#0d0887\"],[0.1111111111111111,\"#46039f\"],[0.2222222222222222,\"#7201a8\"],[0.3333333333333333,\"#9c179e\"],[0.4444444444444444,\"#bd3786\"],[0.5555555555555556,\"#d8576b\"],[0.6666666666666666,\"#ed7953\"],[0.7777777777777778,\"#fb9f3a\"],[0.8888888888888888,\"#fdca26\"],[1.0,\"#f0f921\"]]}],\"choropleth\":[{\"type\":\"choropleth\",\"colorbar\":{\"outlinewidth\":0,\"ticks\":\"\"}}],\"histogram2d\":[{\"type\":\"histogram2d\",\"colorbar\":{\"outlinewidth\":0,\"ticks\":\"\"},\"colorscale\":[[0.0,\"#0d0887\"],[0.1111111111111111,\"#46039f\"],[0.2222222222222222,\"#7201a8\"],[0.3333333333333333,\"#9c179e\"],[0.4444444444444444,\"#bd3786\"],[0.5555555555555556,\"#d8576b\"],[0.6666666666666666,\"#ed7953\"],[0.7777777777777778,\"#fb9f3a\"],[0.8888888888888888,\"#fdca26\"],[1.0,\"#f0f921\"]]}],\"heatmap\":[{\"type\":\"heatmap\",\"colorbar\":{\"outlinewidth\":0,\"ticks\":\"\"},\"colorscale\":[[0.0,\"#0d0887\"],[0.1111111111111111,\"#46039f\"],[0.2222222222222222,\"#7201a8\"],[0.3333333333333333,\"#9c179e\"],[0.4444444444444444,\"#bd3786\"],[0.5555555555555556,\"#d8576b\"],[0.6666666666666666,\"#ed7953\"],[0.7777777777777778,\"#fb9f3a\"],[0.8888888888888888,\"#fdca26\"],[1.0,\"#f0f921\"]]}],\"heatmapgl\":[{\"type\":\"heatmapgl\",\"colorbar\":{\"outlinewidth\":0,\"ticks\":\"\"},\"colorscale\":[[0.0,\"#0d0887\"],[0.1111111111111111,\"#46039f\"],[0.2222222222222222,\"#7201a8\"],[0.3333333333333333,\"#9c179e\"],[0.4444444444444444,\"#bd3786\"],[0.5555555555555556,\"#d8576b\"],[0.6666666666666666,\"#ed7953\"],[0.7777777777777778,\"#fb9f3a\"],[0.8888888888888888,\"#fdca26\"],[1.0,\"#f0f921\"]]}],\"contourcarpet\":[{\"type\":\"contourcarpet\",\"colorbar\":{\"outlinewidth\":0,\"ticks\":\"\"}}],\"contour\":[{\"type\":\"contour\",\"colorbar\":{\"outlinewidth\":0,\"ticks\":\"\"},\"colorscale\":[[0.0,\"#0d0887\"],[0.1111111111111111,\"#46039f\"],[0.2222222222222222,\"#7201a8\"],[0.3333333333333333,\"#9c179e\"],[0.4444444444444444,\"#bd3786\"],[0.5555555555555556,\"#d8576b\"],[0.6666666666666666,\"#ed7953\"],[0.7777777777777778,\"#fb9f3a\"],[0.8888888888888888,\"#fdca26\"],[1.0,\"#f0f921\"]]}],\"surface\":[{\"type\":\"surface\",\"colorbar\":{\"outlinewidth\":0,\"ticks\":\"\"},\"colorscale\":[[0.0,\"#0d0887\"],[0.1111111111111111,\"#46039f\"],[0.2222222222222222,\"#7201a8\"],[0.3333333333333333,\"#9c179e\"],[0.4444444444444444,\"#bd3786\"],[0.5555555555555556,\"#d8576b\"],[0.6666666666666666,\"#ed7953\"],[0.7777777777777778,\"#fb9f3a\"],[0.8888888888888888,\"#fdca26\"],[1.0,\"#f0f921\"]]}],\"mesh3d\":[{\"type\":\"mesh3d\",\"colorbar\":{\"outlinewidth\":0,\"ticks\":\"\"}}],\"scatter\":[{\"marker\":{\"line\":{\"color\":\"#283442\"}},\"type\":\"scatter\"}],\"parcoords\":[{\"type\":\"parcoords\",\"line\":{\"colorbar\":{\"outlinewidth\":0,\"ticks\":\"\"}}}],\"scatterpolargl\":[{\"type\":\"scatterpolargl\",\"marker\":{\"colorbar\":{\"outlinewidth\":0,\"ticks\":\"\"}}}],\"bar\":[{\"error_x\":{\"color\":\"#f2f5fa\"},\"error_y\":{\"color\":\"#f2f5fa\"},\"marker\":{\"line\":{\"color\":\"rgb(17,17,17)\",\"width\":0.5},\"pattern\":{\"fillmode\":\"overlay\",\"size\":10,\"solidity\":0.2}},\"type\":\"bar\"}],\"scattergeo\":[{\"type\":\"scattergeo\",\"marker\":{\"colorbar\":{\"outlinewidth\":0,\"ticks\":\"\"}}}],\"scatterpolar\":[{\"type\":\"scatterpolar\",\"marker\":{\"colorbar\":{\"outlinewidth\":0,\"ticks\":\"\"}}}],\"histogram\":[{\"marker\":{\"pattern\":{\"fillmode\":\"overlay\",\"size\":10,\"solidity\":0.2}},\"type\":\"histogram\"}],\"scattergl\":[{\"marker\":{\"line\":{\"color\":\"#283442\"}},\"type\":\"scattergl\"}],\"scatter3d\":[{\"type\":\"scatter3d\",\"line\":{\"colorbar\":{\"outlinewidth\":0,\"ticks\":\"\"}},\"marker\":{\"colorbar\":{\"outlinewidth\":0,\"ticks\":\"\"}}}],\"scattermapbox\":[{\"type\":\"scattermapbox\",\"marker\":{\"colorbar\":{\"outlinewidth\":0,\"ticks\":\"\"}}}],\"scatterternary\":[{\"type\":\"scatterternary\",\"marker\":{\"colorbar\":{\"outlinewidth\":0,\"ticks\":\"\"}}}],\"scattercarpet\":[{\"type\":\"scattercarpet\",\"marker\":{\"colorbar\":{\"outlinewidth\":0,\"ticks\":\"\"}}}],\"carpet\":[{\"aaxis\":{\"endlinecolor\":\"#A2B1C6\",\"gridcolor\":\"#506784\",\"linecolor\":\"#506784\",\"minorgridcolor\":\"#506784\",\"startlinecolor\":\"#A2B1C6\"},\"baxis\":{\"endlinecolor\":\"#A2B1C6\",\"gridcolor\":\"#506784\",\"linecolor\":\"#506784\",\"minorgridcolor\":\"#506784\",\"startlinecolor\":\"#A2B1C6\"},\"type\":\"carpet\"}],\"table\":[{\"cells\":{\"fill\":{\"color\":\"#506784\"},\"line\":{\"color\":\"rgb(17,17,17)\"}},\"header\":{\"fill\":{\"color\":\"#2a3f5f\"},\"line\":{\"color\":\"rgb(17,17,17)\"}},\"type\":\"table\"}],\"barpolar\":[{\"marker\":{\"line\":{\"color\":\"rgb(17,17,17)\",\"width\":0.5},\"pattern\":{\"fillmode\":\"overlay\",\"size\":10,\"solidity\":0.2}},\"type\":\"barpolar\"}],\"pie\":[{\"automargin\":true,\"type\":\"pie\"}]},\"layout\":{\"autotypenumbers\":\"strict\",\"colorway\":[\"#636efa\",\"#EF553B\",\"#00cc96\",\"#ab63fa\",\"#FFA15A\",\"#19d3f3\",\"#FF6692\",\"#B6E880\",\"#FF97FF\",\"#FECB52\"],\"font\":{\"color\":\"#f2f5fa\"},\"hovermode\":\"closest\",\"hoverlabel\":{\"align\":\"left\"},\"paper_bgcolor\":\"rgb(17,17,17)\",\"plot_bgcolor\":\"rgb(17,17,17)\",\"polar\":{\"bgcolor\":\"rgb(17,17,17)\",\"angularaxis\":{\"gridcolor\":\"#506784\",\"linecolor\":\"#506784\",\"ticks\":\"\"},\"radialaxis\":{\"gridcolor\":\"#506784\",\"linecolor\":\"#506784\",\"ticks\":\"\"}},\"ternary\":{\"bgcolor\":\"rgb(17,17,17)\",\"aaxis\":{\"gridcolor\":\"#506784\",\"linecolor\":\"#506784\",\"ticks\":\"\"},\"baxis\":{\"gridcolor\":\"#506784\",\"linecolor\":\"#506784\",\"ticks\":\"\"},\"caxis\":{\"gridcolor\":\"#506784\",\"linecolor\":\"#506784\",\"ticks\":\"\"}},\"coloraxis\":{\"colorbar\":{\"outlinewidth\":0,\"ticks\":\"\"}},\"colorscale\":{\"sequential\":[[0.0,\"#0d0887\"],[0.1111111111111111,\"#46039f\"],[0.2222222222222222,\"#7201a8\"],[0.3333333333333333,\"#9c179e\"],[0.4444444444444444,\"#bd3786\"],[0.5555555555555556,\"#d8576b\"],[0.6666666666666666,\"#ed7953\"],[0.7777777777777778,\"#fb9f3a\"],[0.8888888888888888,\"#fdca26\"],[1.0,\"#f0f921\"]],\"sequentialminus\":[[0.0,\"#0d0887\"],[0.1111111111111111,\"#46039f\"],[0.2222222222222222,\"#7201a8\"],[0.3333333333333333,\"#9c179e\"],[0.4444444444444444,\"#bd3786\"],[0.5555555555555556,\"#d8576b\"],[0.6666666666666666,\"#ed7953\"],[0.7777777777777778,\"#fb9f3a\"],[0.8888888888888888,\"#fdca26\"],[1.0,\"#f0f921\"]],\"diverging\":[[0,\"#8e0152\"],[0.1,\"#c51b7d\"],[0.2,\"#de77ae\"],[0.3,\"#f1b6da\"],[0.4,\"#fde0ef\"],[0.5,\"#f7f7f7\"],[0.6,\"#e6f5d0\"],[0.7,\"#b8e186\"],[0.8,\"#7fbc41\"],[0.9,\"#4d9221\"],[1,\"#276419\"]]},\"xaxis\":{\"gridcolor\":\"#283442\",\"linecolor\":\"#506784\",\"ticks\":\"\",\"title\":{\"standoff\":15},\"zerolinecolor\":\"#283442\",\"automargin\":true,\"zerolinewidth\":2},\"yaxis\":{\"gridcolor\":\"#283442\",\"linecolor\":\"#506784\",\"ticks\":\"\",\"title\":{\"standoff\":15},\"zerolinecolor\":\"#283442\",\"automargin\":true,\"zerolinewidth\":2},\"scene\":{\"xaxis\":{\"backgroundcolor\":\"rgb(17,17,17)\",\"gridcolor\":\"#506784\",\"linecolor\":\"#506784\",\"showbackground\":true,\"ticks\":\"\",\"zerolinecolor\":\"#C8D4E3\",\"gridwidth\":2},\"yaxis\":{\"backgroundcolor\":\"rgb(17,17,17)\",\"gridcolor\":\"#506784\",\"linecolor\":\"#506784\",\"showbackground\":true,\"ticks\":\"\",\"zerolinecolor\":\"#C8D4E3\",\"gridwidth\":2},\"zaxis\":{\"backgroundcolor\":\"rgb(17,17,17)\",\"gridcolor\":\"#506784\",\"linecolor\":\"#506784\",\"showbackground\":true,\"ticks\":\"\",\"zerolinecolor\":\"#C8D4E3\",\"gridwidth\":2}},\"shapedefaults\":{\"line\":{\"color\":\"#f2f5fa\"}},\"annotationdefaults\":{\"arrowcolor\":\"#f2f5fa\",\"arrowhead\":0,\"arrowwidth\":1},\"geo\":{\"bgcolor\":\"rgb(17,17,17)\",\"landcolor\":\"rgb(17,17,17)\",\"subunitcolor\":\"#506784\",\"showland\":true,\"showlakes\":true,\"lakecolor\":\"rgb(17,17,17)\"},\"title\":{\"x\":0.05},\"updatemenudefaults\":{\"bgcolor\":\"#506784\",\"borderwidth\":0},\"sliderdefaults\":{\"bgcolor\":\"#C8D4E3\",\"borderwidth\":1,\"bordercolor\":\"rgb(17,17,17)\",\"tickwidth\":0},\"mapbox\":{\"style\":\"dark\"}}},\"xaxis\":{\"anchor\":\"y\",\"domain\":[0.0,1.0],\"title\":{\"text\":\"team\"}},\"yaxis\":{\"anchor\":\"x\",\"domain\":[0.0,1.0],\"title\":{\"text\":\"value\"}},\"legend\":{\"title\":{\"text\":\"variable\"},\"tracegroupgap\":0},\"title\":{\"text\":\"Statistiques de victoires, d\\u00e9faites et matchs nuls par \\u00e9quipe (Top 10)\"},\"barmode\":\"stack\"},                        {\"responsive\": true}                    ).then(function(){\n                            \nvar gd = document.getElementById('51ef8d8d-f090-436e-9ded-39a2a025f88f');\nvar x = new MutationObserver(function (mutations, observer) {{\n        var display = window.getComputedStyle(gd).display;\n        if (!display || display === 'none') {{\n            console.log([gd, 'removed!']);\n            Plotly.purge(gd);\n            observer.disconnect();\n        }}\n}});\n\n// Listen for the removal of the full notebook cells\nvar notebookContainer = gd.closest('#notebook-container');\nif (notebookContainer) {{\n    x.observe(notebookContainer, {childList: true});\n}}\n\n// Listen for the clearing of the current output cell\nvar outputEl = gd.closest('.output');\nif (outputEl) {{\n    x.observe(outputEl, {childList: true});\n}}\n\n                        })                };                });            </script>        </div>"
     },
     "metadata": {},
     "output_type": "display_data"
    }
   ],
   "source": [
    "top_10_teams = df_summary.sort_values(by='nb_games', ascending=False).head(10)\n",
    "\n",
    "fig = px.bar(top_10_teams, x='team', y=['nb_wins', 'nb_losses', 'nb_draws'],\n",
    "             title='Statistiques de victoires, défaites et matchs nuls par équipe (Top 10)',\n",
    "             barmode='stack')\n",
    "fig.show()"
   ],
   "metadata": {
    "collapsed": false,
    "ExecuteTime": {
     "end_time": "2024-01-03T16:51:36.139806600Z",
     "start_time": "2024-01-03T16:51:35.892223300Z"
    }
   },
   "id": "aa6f759bf54aaf4a",
   "execution_count": 109
  },
  {
   "cell_type": "markdown",
   "source": [
    "Existe-t-il une corrélation entre le nombre de buts marqués et le nombre de buts encaissés ?"
   ],
   "metadata": {
    "collapsed": false
   },
   "id": "1c5ecc1da5b4f2eb"
  },
  {
   "cell_type": "code",
   "outputs": [
    {
     "data": {
      "application/vnd.plotly.v1+json": {
       "data": [
        {
         "hovertemplate": "team=Egypt<br>nb_goals_scored=%{x}<br>nb_goals_conceded=%{y}<br>nb_tournaments=%{marker.size}<extra></extra>",
         "legendgroup": "Egypt",
         "marker": {
          "color": "#636efa",
          "size": [
           25
          ],
          "sizemode": "area",
          "sizeref": 0.0625,
          "symbol": "circle"
         },
         "mode": "markers",
         "name": "Egypt",
         "orientation": "v",
         "showlegend": true,
         "x": [
          168
         ],
         "xaxis": "x",
         "y": [
          90
         ],
         "yaxis": "y",
         "type": "scatter"
        },
        {
         "hovertemplate": "team=Ivory Coast<br>nb_goals_scored=%{x}<br>nb_goals_conceded=%{y}<br>nb_tournaments=%{marker.size}<extra></extra>",
         "legendgroup": "Ivory Coast",
         "marker": {
          "color": "#EF553B",
          "size": [
           24
          ],
          "sizemode": "area",
          "sizeref": 0.0625,
          "symbol": "circle"
         },
         "mode": "markers",
         "name": "Ivory Coast",
         "orientation": "v",
         "showlegend": true,
         "x": [
          144
         ],
         "xaxis": "x",
         "y": [
          103
         ],
         "yaxis": "y",
         "type": "scatter"
        },
        {
         "hovertemplate": "team=Ghana<br>nb_goals_scored=%{x}<br>nb_goals_conceded=%{y}<br>nb_tournaments=%{marker.size}<extra></extra>",
         "legendgroup": "Ghana",
         "marker": {
          "color": "#00cc96",
          "size": [
           23
          ],
          "sizemode": "area",
          "sizeref": 0.0625,
          "symbol": "circle"
         },
         "mode": "markers",
         "name": "Ghana",
         "orientation": "v",
         "showlegend": true,
         "x": [
          133
         ],
         "xaxis": "x",
         "y": [
          87
         ],
         "yaxis": "y",
         "type": "scatter"
        },
        {
         "hovertemplate": "team=Tunisia<br>nb_goals_scored=%{x}<br>nb_goals_conceded=%{y}<br>nb_tournaments=%{marker.size}<extra></extra>",
         "legendgroup": "Tunisia",
         "marker": {
          "color": "#ab63fa",
          "size": [
           20
          ],
          "sizemode": "area",
          "sizeref": 0.0625,
          "symbol": "circle"
         },
         "mode": "markers",
         "name": "Tunisia",
         "orientation": "v",
         "showlegend": true,
         "x": [
          109
         ],
         "xaxis": "x",
         "y": [
          94
         ],
         "yaxis": "y",
         "type": "scatter"
        },
        {
         "hovertemplate": "team=Cameroon<br>nb_goals_scored=%{x}<br>nb_goals_conceded=%{y}<br>nb_tournaments=%{marker.size}<extra></extra>",
         "legendgroup": "Cameroon",
         "marker": {
          "color": "#FFA15A",
          "size": [
           20
          ],
          "sizemode": "area",
          "sizeref": 0.0625,
          "symbol": "circle"
         },
         "mode": "markers",
         "name": "Cameroon",
         "orientation": "v",
         "showlegend": true,
         "x": [
          137
         ],
         "xaxis": "x",
         "y": [
          83
         ],
         "yaxis": "y",
         "type": "scatter"
        },
        {
         "hovertemplate": "team=Nigeria<br>nb_goals_scored=%{x}<br>nb_goals_conceded=%{y}<br>nb_tournaments=%{marker.size}<extra></extra>",
         "legendgroup": "Nigeria",
         "marker": {
          "color": "#19d3f3",
          "size": [
           19
          ],
          "sizemode": "area",
          "sizeref": 0.0625,
          "symbol": "circle"
         },
         "mode": "markers",
         "name": "Nigeria",
         "orientation": "v",
         "showlegend": true,
         "x": [
          137
         ],
         "xaxis": "x",
         "y": [
          102
         ],
         "yaxis": "y",
         "type": "scatter"
        },
        {
         "hovertemplate": "team=Algeria<br>nb_goals_scored=%{x}<br>nb_goals_conceded=%{y}<br>nb_tournaments=%{marker.size}<extra></extra>",
         "legendgroup": "Algeria",
         "marker": {
          "color": "#FF6692",
          "size": [
           19
          ],
          "sizemode": "area",
          "sizeref": 0.0625,
          "symbol": "circle"
         },
         "mode": "markers",
         "name": "Algeria",
         "orientation": "v",
         "showlegend": true,
         "x": [
          94
         ],
         "xaxis": "x",
         "y": [
          89
         ],
         "yaxis": "y",
         "type": "scatter"
        },
        {
         "hovertemplate": "team=DR Congo<br>nb_goals_scored=%{x}<br>nb_goals_conceded=%{y}<br>nb_tournaments=%{marker.size}<extra></extra>",
         "legendgroup": "DR Congo",
         "marker": {
          "color": "#B6E880",
          "size": [
           19
          ],
          "sizemode": "area",
          "sizeref": 0.0625,
          "symbol": "circle"
         },
         "mode": "markers",
         "name": "DR Congo",
         "orientation": "v",
         "showlegend": true,
         "x": [
          88
         ],
         "xaxis": "x",
         "y": [
          102
         ],
         "yaxis": "y",
         "type": "scatter"
        },
        {
         "hovertemplate": "team=Morocco<br>nb_goals_scored=%{x}<br>nb_goals_conceded=%{y}<br>nb_tournaments=%{marker.size}<extra></extra>",
         "legendgroup": "Morocco",
         "marker": {
          "color": "#FF97FF",
          "size": [
           18
          ],
          "sizemode": "area",
          "sizeref": 0.0625,
          "symbol": "circle"
         },
         "mode": "markers",
         "name": "Morocco",
         "orientation": "v",
         "showlegend": true,
         "x": [
          82
         ],
         "xaxis": "x",
         "y": [
          63
         ],
         "yaxis": "y",
         "type": "scatter"
        },
        {
         "hovertemplate": "team=Zambia<br>nb_goals_scored=%{x}<br>nb_goals_conceded=%{y}<br>nb_tournaments=%{marker.size}<extra></extra>",
         "legendgroup": "Zambia",
         "marker": {
          "color": "#FECB52",
          "size": [
           17
          ],
          "sizemode": "area",
          "sizeref": 0.0625,
          "symbol": "circle"
         },
         "mode": "markers",
         "name": "Zambia",
         "orientation": "v",
         "showlegend": true,
         "x": [
          81
         ],
         "xaxis": "x",
         "y": [
          69
         ],
         "yaxis": "y",
         "type": "scatter"
        },
        {
         "hovertemplate": "team=Senegal<br>nb_goals_scored=%{x}<br>nb_goals_conceded=%{y}<br>nb_tournaments=%{marker.size}<extra></extra>",
         "legendgroup": "Senegal",
         "marker": {
          "color": "#636efa",
          "size": [
           16
          ],
          "sizemode": "area",
          "sizeref": 0.0625,
          "symbol": "circle"
         },
         "mode": "markers",
         "name": "Senegal",
         "orientation": "v",
         "showlegend": true,
         "x": [
          78
         ],
         "xaxis": "x",
         "y": [
          56
         ],
         "yaxis": "y",
         "type": "scatter"
        },
        {
         "hovertemplate": "team=Guinea<br>nb_goals_scored=%{x}<br>nb_goals_conceded=%{y}<br>nb_tournaments=%{marker.size}<extra></extra>",
         "legendgroup": "Guinea",
         "marker": {
          "color": "#EF553B",
          "size": [
           13
          ],
          "sizemode": "area",
          "sizeref": 0.0625,
          "symbol": "circle"
         },
         "mode": "markers",
         "name": "Guinea",
         "orientation": "v",
         "showlegend": true,
         "x": [
          61
         ],
         "xaxis": "x",
         "y": [
          66
         ],
         "yaxis": "y",
         "type": "scatter"
        },
        {
         "hovertemplate": "team=Mali<br>nb_goals_scored=%{x}<br>nb_goals_conceded=%{y}<br>nb_tournaments=%{marker.size}<extra></extra>",
         "legendgroup": "Mali",
         "marker": {
          "color": "#00cc96",
          "size": [
           12
          ],
          "sizemode": "area",
          "sizeref": 0.0625,
          "symbol": "circle"
         },
         "mode": "markers",
         "name": "Mali",
         "orientation": "v",
         "showlegend": true,
         "x": [
          65
         ],
         "xaxis": "x",
         "y": [
          65
         ],
         "yaxis": "y",
         "type": "scatter"
        },
        {
         "hovertemplate": "team=Burkina Faso<br>nb_goals_scored=%{x}<br>nb_goals_conceded=%{y}<br>nb_tournaments=%{marker.size}<extra></extra>",
         "legendgroup": "Burkina Faso",
         "marker": {
          "color": "#ab63fa",
          "size": [
           12
          ],
          "sizemode": "area",
          "sizeref": 0.0625,
          "symbol": "circle"
         },
         "mode": "markers",
         "name": "Burkina Faso",
         "orientation": "v",
         "showlegend": true,
         "x": [
          47
         ],
         "xaxis": "x",
         "y": [
          72
         ],
         "yaxis": "y",
         "type": "scatter"
        },
        {
         "hovertemplate": "team=Ethiopia<br>nb_goals_scored=%{x}<br>nb_goals_conceded=%{y}<br>nb_tournaments=%{marker.size}<extra></extra>",
         "legendgroup": "Ethiopia",
         "marker": {
          "color": "#FFA15A",
          "size": [
           11
          ],
          "sizemode": "area",
          "sizeref": 0.0625,
          "symbol": "circle"
         },
         "mode": "markers",
         "name": "Ethiopia",
         "orientation": "v",
         "showlegend": true,
         "x": [
          31
         ],
         "xaxis": "x",
         "y": [
          67
         ],
         "yaxis": "y",
         "type": "scatter"
        },
        {
         "hovertemplate": "team=South Africa<br>nb_goals_scored=%{x}<br>nb_goals_conceded=%{y}<br>nb_tournaments=%{marker.size}<extra></extra>",
         "legendgroup": "South Africa",
         "marker": {
          "color": "#19d3f3",
          "size": [
           10
          ],
          "sizemode": "area",
          "sizeref": 0.0625,
          "symbol": "circle"
         },
         "mode": "markers",
         "name": "South Africa",
         "orientation": "v",
         "showlegend": true,
         "x": [
          48
         ],
         "xaxis": "x",
         "y": [
          45
         ],
         "yaxis": "y",
         "type": "scatter"
        },
        {
         "hovertemplate": "team=Sudan<br>nb_goals_scored=%{x}<br>nb_goals_conceded=%{y}<br>nb_tournaments=%{marker.size}<extra></extra>",
         "legendgroup": "Sudan",
         "marker": {
          "color": "#FF6692",
          "size": [
           9
          ],
          "sizemode": "area",
          "sizeref": 0.0625,
          "symbol": "circle"
         },
         "mode": "markers",
         "name": "Sudan",
         "orientation": "v",
         "showlegend": true,
         "x": [
          29
         ],
         "xaxis": "x",
         "y": [
          42
         ],
         "yaxis": "y",
         "type": "scatter"
        },
        {
         "hovertemplate": "team=Angola<br>nb_goals_scored=%{x}<br>nb_goals_conceded=%{y}<br>nb_tournaments=%{marker.size}<extra></extra>",
         "legendgroup": "Angola",
         "marker": {
          "color": "#B6E880",
          "size": [
           8
          ],
          "sizemode": "area",
          "sizeref": 0.0625,
          "symbol": "circle"
         },
         "mode": "markers",
         "name": "Angola",
         "orientation": "v",
         "showlegend": true,
         "x": [
          30
         ],
         "xaxis": "x",
         "y": [
          39
         ],
         "yaxis": "y",
         "type": "scatter"
        },
        {
         "hovertemplate": "team=Gabon<br>nb_goals_scored=%{x}<br>nb_goals_conceded=%{y}<br>nb_tournaments=%{marker.size}<extra></extra>",
         "legendgroup": "Gabon",
         "marker": {
          "color": "#FF97FF",
          "size": [
           8
          ],
          "sizemode": "area",
          "sizeref": 0.0625,
          "symbol": "circle"
         },
         "mode": "markers",
         "name": "Gabon",
         "orientation": "v",
         "showlegend": true,
         "x": [
          24
         ],
         "xaxis": "x",
         "y": [
          30
         ],
         "yaxis": "y",
         "type": "scatter"
        },
        {
         "hovertemplate": "team=Togo<br>nb_goals_scored=%{x}<br>nb_goals_conceded=%{y}<br>nb_tournaments=%{marker.size}<extra></extra>",
         "legendgroup": "Togo",
         "marker": {
          "color": "#FECB52",
          "size": [
           8
          ],
          "sizemode": "area",
          "sizeref": 0.0625,
          "symbol": "circle"
         },
         "mode": "markers",
         "name": "Togo",
         "orientation": "v",
         "showlegend": true,
         "x": [
          19
         ],
         "xaxis": "x",
         "y": [
          42
         ],
         "yaxis": "y",
         "type": "scatter"
        },
        {
         "hovertemplate": "team=Uganda<br>nb_goals_scored=%{x}<br>nb_goals_conceded=%{y}<br>nb_tournaments=%{marker.size}<extra></extra>",
         "legendgroup": "Uganda",
         "marker": {
          "color": "#636efa",
          "size": [
           7
          ],
          "sizemode": "area",
          "sizeref": 0.0625,
          "symbol": "circle"
         },
         "mode": "markers",
         "name": "Uganda",
         "orientation": "v",
         "showlegend": true,
         "x": [
          21
         ],
         "xaxis": "x",
         "y": [
          38
         ],
         "yaxis": "y",
         "type": "scatter"
        },
        {
         "hovertemplate": "team=Congo<br>nb_goals_scored=%{x}<br>nb_goals_conceded=%{y}<br>nb_tournaments=%{marker.size}<extra></extra>",
         "legendgroup": "Congo",
         "marker": {
          "color": "#EF553B",
          "size": [
           7
          ],
          "sizemode": "area",
          "sizeref": 0.0625,
          "symbol": "circle"
         },
         "mode": "markers",
         "name": "Congo",
         "orientation": "v",
         "showlegend": true,
         "x": [
          27
         ],
         "xaxis": "x",
         "y": [
          40
         ],
         "yaxis": "y",
         "type": "scatter"
        },
        {
         "hovertemplate": "team=Kenya<br>nb_goals_scored=%{x}<br>nb_goals_conceded=%{y}<br>nb_tournaments=%{marker.size}<extra></extra>",
         "legendgroup": "Kenya",
         "marker": {
          "color": "#00cc96",
          "size": [
           6
          ],
          "sizemode": "area",
          "sizeref": 0.0625,
          "symbol": "circle"
         },
         "mode": "markers",
         "name": "Kenya",
         "orientation": "v",
         "showlegend": true,
         "x": [
          11
         ],
         "xaxis": "x",
         "y": [
          31
         ],
         "yaxis": "y",
         "type": "scatter"
        },
        {
         "hovertemplate": "team=Zimbabwe<br>nb_goals_scored=%{x}<br>nb_goals_conceded=%{y}<br>nb_tournaments=%{marker.size}<extra></extra>",
         "legendgroup": "Zimbabwe",
         "marker": {
          "color": "#ab63fa",
          "size": [
           5
          ],
          "sizemode": "area",
          "sizeref": 0.0625,
          "symbol": "circle"
         },
         "mode": "markers",
         "name": "Zimbabwe",
         "orientation": "v",
         "showlegend": true,
         "x": [
          16
         ],
         "xaxis": "x",
         "y": [
          31
         ],
         "yaxis": "y",
         "type": "scatter"
        },
        {
         "hovertemplate": "team=Mozambique<br>nb_goals_scored=%{x}<br>nb_goals_conceded=%{y}<br>nb_tournaments=%{marker.size}<extra></extra>",
         "legendgroup": "Mozambique",
         "marker": {
          "color": "#FFA15A",
          "size": [
           4
          ],
          "sizemode": "area",
          "sizeref": 0.0625,
          "symbol": "circle"
         },
         "mode": "markers",
         "name": "Mozambique",
         "orientation": "v",
         "showlegend": true,
         "x": [
          4
         ],
         "xaxis": "x",
         "y": [
          26
         ],
         "yaxis": "y",
         "type": "scatter"
        },
        {
         "hovertemplate": "team=Benin<br>nb_goals_scored=%{x}<br>nb_goals_conceded=%{y}<br>nb_tournaments=%{marker.size}<extra></extra>",
         "legendgroup": "Benin",
         "marker": {
          "color": "#19d3f3",
          "size": [
           4
          ],
          "sizemode": "area",
          "sizeref": 0.0625,
          "symbol": "circle"
         },
         "mode": "markers",
         "name": "Benin",
         "orientation": "v",
         "showlegend": true,
         "x": [
          7
         ],
         "xaxis": "x",
         "y": [
          24
         ],
         "yaxis": "y",
         "type": "scatter"
        },
        {
         "hovertemplate": "team=Cape Verde<br>nb_goals_scored=%{x}<br>nb_goals_conceded=%{y}<br>nb_tournaments=%{marker.size}<extra></extra>",
         "legendgroup": "Cape Verde",
         "marker": {
          "color": "#FF6692",
          "size": [
           3
          ],
          "sizemode": "area",
          "sizeref": 0.0625,
          "symbol": "circle"
         },
         "mode": "markers",
         "name": "Cape Verde",
         "orientation": "v",
         "showlegend": true,
         "x": [
          6
         ],
         "xaxis": "x",
         "y": [
          9
         ],
         "yaxis": "y",
         "type": "scatter"
        },
        {
         "hovertemplate": "team=Equatorial Guinea<br>nb_goals_scored=%{x}<br>nb_goals_conceded=%{y}<br>nb_tournaments=%{marker.size}<extra></extra>",
         "legendgroup": "Equatorial Guinea",
         "marker": {
          "color": "#B6E880",
          "size": [
           3
          ],
          "sizemode": "area",
          "sizeref": 0.0625,
          "symbol": "circle"
         },
         "mode": "markers",
         "name": "Equatorial Guinea",
         "orientation": "v",
         "showlegend": true,
         "x": [
          11
         ],
         "xaxis": "x",
         "y": [
          14
         ],
         "yaxis": "y",
         "type": "scatter"
        },
        {
         "hovertemplate": "team=Guinea-Bissau<br>nb_goals_scored=%{x}<br>nb_goals_conceded=%{y}<br>nb_tournaments=%{marker.size}<extra></extra>",
         "legendgroup": "Guinea-Bissau",
         "marker": {
          "color": "#FF97FF",
          "size": [
           3
          ],
          "sizemode": "area",
          "sizeref": 0.0625,
          "symbol": "circle"
         },
         "mode": "markers",
         "name": "Guinea-Bissau",
         "orientation": "v",
         "showlegend": true,
         "x": [
          2
         ],
         "xaxis": "x",
         "y": [
          12
         ],
         "yaxis": "y",
         "type": "scatter"
        },
        {
         "hovertemplate": "team=Sierra Leone<br>nb_goals_scored=%{x}<br>nb_goals_conceded=%{y}<br>nb_tournaments=%{marker.size}<extra></extra>",
         "legendgroup": "Sierra Leone",
         "marker": {
          "color": "#FECB52",
          "size": [
           3
          ],
          "sizemode": "area",
          "sizeref": 0.0625,
          "symbol": "circle"
         },
         "mode": "markers",
         "name": "Sierra Leone",
         "orientation": "v",
         "showlegend": true,
         "x": [
          4
         ],
         "xaxis": "x",
         "y": [
          14
         ],
         "yaxis": "y",
         "type": "scatter"
        },
        {
         "hovertemplate": "team=Namibia<br>nb_goals_scored=%{x}<br>nb_goals_conceded=%{y}<br>nb_tournaments=%{marker.size}<extra></extra>",
         "legendgroup": "Namibia",
         "marker": {
          "color": "#636efa",
          "size": [
           3
          ],
          "sizemode": "area",
          "sizeref": 0.0625,
          "symbol": "circle"
         },
         "mode": "markers",
         "name": "Namibia",
         "orientation": "v",
         "showlegend": true,
         "x": [
          10
         ],
         "xaxis": "x",
         "y": [
          24
         ],
         "yaxis": "y",
         "type": "scatter"
        },
        {
         "hovertemplate": "team=Malawi<br>nb_goals_scored=%{x}<br>nb_goals_conceded=%{y}<br>nb_tournaments=%{marker.size}<extra></extra>",
         "legendgroup": "Malawi",
         "marker": {
          "color": "#EF553B",
          "size": [
           3
          ],
          "sizemode": "area",
          "sizeref": 0.0625,
          "symbol": "circle"
         },
         "mode": "markers",
         "name": "Malawi",
         "orientation": "v",
         "showlegend": true,
         "x": [
          9
         ],
         "xaxis": "x",
         "y": [
          15
         ],
         "yaxis": "y",
         "type": "scatter"
        },
        {
         "hovertemplate": "team=Libya<br>nb_goals_scored=%{x}<br>nb_goals_conceded=%{y}<br>nb_tournaments=%{marker.size}<extra></extra>",
         "legendgroup": "Libya",
         "marker": {
          "color": "#00cc96",
          "size": [
           3
          ],
          "sizemode": "area",
          "sizeref": 0.0625,
          "symbol": "circle"
         },
         "mode": "markers",
         "name": "Libya",
         "orientation": "v",
         "showlegend": true,
         "x": [
          12
         ],
         "xaxis": "x",
         "y": [
          13
         ],
         "yaxis": "y",
         "type": "scatter"
        },
        {
         "hovertemplate": "team=Tanzania<br>nb_goals_scored=%{x}<br>nb_goals_conceded=%{y}<br>nb_tournaments=%{marker.size}<extra></extra>",
         "legendgroup": "Tanzania",
         "marker": {
          "color": "#ab63fa",
          "size": [
           2
          ],
          "sizemode": "area",
          "sizeref": 0.0625,
          "symbol": "circle"
         },
         "mode": "markers",
         "name": "Tanzania",
         "orientation": "v",
         "showlegend": true,
         "x": [
          5
         ],
         "xaxis": "x",
         "y": [
          14
         ],
         "yaxis": "y",
         "type": "scatter"
        },
        {
         "hovertemplate": "team=Mauritania<br>nb_goals_scored=%{x}<br>nb_goals_conceded=%{y}<br>nb_tournaments=%{marker.size}<extra></extra>",
         "legendgroup": "Mauritania",
         "marker": {
          "color": "#FFA15A",
          "size": [
           2
          ],
          "sizemode": "area",
          "sizeref": 0.0625,
          "symbol": "circle"
         },
         "mode": "markers",
         "name": "Mauritania",
         "orientation": "v",
         "showlegend": true,
         "x": [
          1
         ],
         "xaxis": "x",
         "y": [
          11
         ],
         "yaxis": "y",
         "type": "scatter"
        },
        {
         "hovertemplate": "team=Liberia<br>nb_goals_scored=%{x}<br>nb_goals_conceded=%{y}<br>nb_tournaments=%{marker.size}<extra></extra>",
         "legendgroup": "Liberia",
         "marker": {
          "color": "#19d3f3",
          "size": [
           2
          ],
          "sizemode": "area",
          "sizeref": 0.0625,
          "symbol": "circle"
         },
         "mode": "markers",
         "name": "Liberia",
         "orientation": "v",
         "showlegend": true,
         "x": [
          5
         ],
         "xaxis": "x",
         "y": [
          7
         ],
         "yaxis": "y",
         "type": "scatter"
        },
        {
         "hovertemplate": "team=Niger<br>nb_goals_scored=%{x}<br>nb_goals_conceded=%{y}<br>nb_tournaments=%{marker.size}<extra></extra>",
         "legendgroup": "Niger",
         "marker": {
          "color": "#FF6692",
          "size": [
           2
          ],
          "sizemode": "area",
          "sizeref": 0.0625,
          "symbol": "circle"
         },
         "mode": "markers",
         "name": "Niger",
         "orientation": "v",
         "showlegend": true,
         "x": [
          1
         ],
         "xaxis": "x",
         "y": [
          9
         ],
         "yaxis": "y",
         "type": "scatter"
        },
        {
         "hovertemplate": "team=Rwanda<br>nb_goals_scored=%{x}<br>nb_goals_conceded=%{y}<br>nb_tournaments=%{marker.size}<extra></extra>",
         "legendgroup": "Rwanda",
         "marker": {
          "color": "#B6E880",
          "size": [
           1
          ],
          "sizemode": "area",
          "sizeref": 0.0625,
          "symbol": "circle"
         },
         "mode": "markers",
         "name": "Rwanda",
         "orientation": "v",
         "showlegend": true,
         "x": [
          3
         ],
         "xaxis": "x",
         "y": [
          3
         ],
         "yaxis": "y",
         "type": "scatter"
        },
        {
         "hovertemplate": "team=Madagascar<br>nb_goals_scored=%{x}<br>nb_goals_conceded=%{y}<br>nb_tournaments=%{marker.size}<extra></extra>",
         "legendgroup": "Madagascar",
         "marker": {
          "color": "#FF97FF",
          "size": [
           1
          ],
          "sizemode": "area",
          "sizeref": 0.0625,
          "symbol": "circle"
         },
         "mode": "markers",
         "name": "Madagascar",
         "orientation": "v",
         "showlegend": true,
         "x": [
          7
         ],
         "xaxis": "x",
         "y": [
          7
         ],
         "yaxis": "y",
         "type": "scatter"
        },
        {
         "hovertemplate": "team=Burundi<br>nb_goals_scored=%{x}<br>nb_goals_conceded=%{y}<br>nb_tournaments=%{marker.size}<extra></extra>",
         "legendgroup": "Burundi",
         "marker": {
          "color": "#FECB52",
          "size": [
           1
          ],
          "sizemode": "area",
          "sizeref": 0.0625,
          "symbol": "circle"
         },
         "mode": "markers",
         "name": "Burundi",
         "orientation": "v",
         "showlegend": true,
         "x": [
          0
         ],
         "xaxis": "x",
         "y": [
          4
         ],
         "yaxis": "y",
         "type": "scatter"
        },
        {
         "hovertemplate": "team=Comoros<br>nb_goals_scored=%{x}<br>nb_goals_conceded=%{y}<br>nb_tournaments=%{marker.size}<extra></extra>",
         "legendgroup": "Comoros",
         "marker": {
          "color": "#636efa",
          "size": [
           1
          ],
          "sizemode": "area",
          "sizeref": 0.0625,
          "symbol": "circle"
         },
         "mode": "markers",
         "name": "Comoros",
         "orientation": "v",
         "showlegend": true,
         "x": [
          4
         ],
         "xaxis": "x",
         "y": [
          7
         ],
         "yaxis": "y",
         "type": "scatter"
        },
        {
         "hovertemplate": "team=Gambia<br>nb_goals_scored=%{x}<br>nb_goals_conceded=%{y}<br>nb_tournaments=%{marker.size}<extra></extra>",
         "legendgroup": "Gambia",
         "marker": {
          "color": "#EF553B",
          "size": [
           1
          ],
          "sizemode": "area",
          "sizeref": 0.0625,
          "symbol": "circle"
         },
         "mode": "markers",
         "name": "Gambia",
         "orientation": "v",
         "showlegend": true,
         "x": [
          4
         ],
         "xaxis": "x",
         "y": [
          3
         ],
         "yaxis": "y",
         "type": "scatter"
        },
        {
         "hovertemplate": "team=Botswana<br>nb_goals_scored=%{x}<br>nb_goals_conceded=%{y}<br>nb_tournaments=%{marker.size}<extra></extra>",
         "legendgroup": "Botswana",
         "marker": {
          "color": "#00cc96",
          "size": [
           1
          ],
          "sizemode": "area",
          "sizeref": 0.0625,
          "symbol": "circle"
         },
         "mode": "markers",
         "name": "Botswana",
         "orientation": "v",
         "showlegend": true,
         "x": [
          2
         ],
         "xaxis": "x",
         "y": [
          9
         ],
         "yaxis": "y",
         "type": "scatter"
        },
        {
         "hovertemplate": "team=Mauritius<br>nb_goals_scored=%{x}<br>nb_goals_conceded=%{y}<br>nb_tournaments=%{marker.size}<extra></extra>",
         "legendgroup": "Mauritius",
         "marker": {
          "color": "#ab63fa",
          "size": [
           1
          ],
          "sizemode": "area",
          "sizeref": 0.0625,
          "symbol": "circle"
         },
         "mode": "markers",
         "name": "Mauritius",
         "orientation": "v",
         "showlegend": true,
         "x": [
          2
         ],
         "xaxis": "x",
         "y": [
          8
         ],
         "yaxis": "y",
         "type": "scatter"
        }
       ],
       "layout": {
        "template": {
         "data": {
          "histogram2dcontour": [
           {
            "type": "histogram2dcontour",
            "colorbar": {
             "outlinewidth": 0,
             "ticks": ""
            },
            "colorscale": [
             [
              0.0,
              "#0d0887"
             ],
             [
              0.1111111111111111,
              "#46039f"
             ],
             [
              0.2222222222222222,
              "#7201a8"
             ],
             [
              0.3333333333333333,
              "#9c179e"
             ],
             [
              0.4444444444444444,
              "#bd3786"
             ],
             [
              0.5555555555555556,
              "#d8576b"
             ],
             [
              0.6666666666666666,
              "#ed7953"
             ],
             [
              0.7777777777777778,
              "#fb9f3a"
             ],
             [
              0.8888888888888888,
              "#fdca26"
             ],
             [
              1.0,
              "#f0f921"
             ]
            ]
           }
          ],
          "choropleth": [
           {
            "type": "choropleth",
            "colorbar": {
             "outlinewidth": 0,
             "ticks": ""
            }
           }
          ],
          "histogram2d": [
           {
            "type": "histogram2d",
            "colorbar": {
             "outlinewidth": 0,
             "ticks": ""
            },
            "colorscale": [
             [
              0.0,
              "#0d0887"
             ],
             [
              0.1111111111111111,
              "#46039f"
             ],
             [
              0.2222222222222222,
              "#7201a8"
             ],
             [
              0.3333333333333333,
              "#9c179e"
             ],
             [
              0.4444444444444444,
              "#bd3786"
             ],
             [
              0.5555555555555556,
              "#d8576b"
             ],
             [
              0.6666666666666666,
              "#ed7953"
             ],
             [
              0.7777777777777778,
              "#fb9f3a"
             ],
             [
              0.8888888888888888,
              "#fdca26"
             ],
             [
              1.0,
              "#f0f921"
             ]
            ]
           }
          ],
          "heatmap": [
           {
            "type": "heatmap",
            "colorbar": {
             "outlinewidth": 0,
             "ticks": ""
            },
            "colorscale": [
             [
              0.0,
              "#0d0887"
             ],
             [
              0.1111111111111111,
              "#46039f"
             ],
             [
              0.2222222222222222,
              "#7201a8"
             ],
             [
              0.3333333333333333,
              "#9c179e"
             ],
             [
              0.4444444444444444,
              "#bd3786"
             ],
             [
              0.5555555555555556,
              "#d8576b"
             ],
             [
              0.6666666666666666,
              "#ed7953"
             ],
             [
              0.7777777777777778,
              "#fb9f3a"
             ],
             [
              0.8888888888888888,
              "#fdca26"
             ],
             [
              1.0,
              "#f0f921"
             ]
            ]
           }
          ],
          "heatmapgl": [
           {
            "type": "heatmapgl",
            "colorbar": {
             "outlinewidth": 0,
             "ticks": ""
            },
            "colorscale": [
             [
              0.0,
              "#0d0887"
             ],
             [
              0.1111111111111111,
              "#46039f"
             ],
             [
              0.2222222222222222,
              "#7201a8"
             ],
             [
              0.3333333333333333,
              "#9c179e"
             ],
             [
              0.4444444444444444,
              "#bd3786"
             ],
             [
              0.5555555555555556,
              "#d8576b"
             ],
             [
              0.6666666666666666,
              "#ed7953"
             ],
             [
              0.7777777777777778,
              "#fb9f3a"
             ],
             [
              0.8888888888888888,
              "#fdca26"
             ],
             [
              1.0,
              "#f0f921"
             ]
            ]
           }
          ],
          "contourcarpet": [
           {
            "type": "contourcarpet",
            "colorbar": {
             "outlinewidth": 0,
             "ticks": ""
            }
           }
          ],
          "contour": [
           {
            "type": "contour",
            "colorbar": {
             "outlinewidth": 0,
             "ticks": ""
            },
            "colorscale": [
             [
              0.0,
              "#0d0887"
             ],
             [
              0.1111111111111111,
              "#46039f"
             ],
             [
              0.2222222222222222,
              "#7201a8"
             ],
             [
              0.3333333333333333,
              "#9c179e"
             ],
             [
              0.4444444444444444,
              "#bd3786"
             ],
             [
              0.5555555555555556,
              "#d8576b"
             ],
             [
              0.6666666666666666,
              "#ed7953"
             ],
             [
              0.7777777777777778,
              "#fb9f3a"
             ],
             [
              0.8888888888888888,
              "#fdca26"
             ],
             [
              1.0,
              "#f0f921"
             ]
            ]
           }
          ],
          "surface": [
           {
            "type": "surface",
            "colorbar": {
             "outlinewidth": 0,
             "ticks": ""
            },
            "colorscale": [
             [
              0.0,
              "#0d0887"
             ],
             [
              0.1111111111111111,
              "#46039f"
             ],
             [
              0.2222222222222222,
              "#7201a8"
             ],
             [
              0.3333333333333333,
              "#9c179e"
             ],
             [
              0.4444444444444444,
              "#bd3786"
             ],
             [
              0.5555555555555556,
              "#d8576b"
             ],
             [
              0.6666666666666666,
              "#ed7953"
             ],
             [
              0.7777777777777778,
              "#fb9f3a"
             ],
             [
              0.8888888888888888,
              "#fdca26"
             ],
             [
              1.0,
              "#f0f921"
             ]
            ]
           }
          ],
          "mesh3d": [
           {
            "type": "mesh3d",
            "colorbar": {
             "outlinewidth": 0,
             "ticks": ""
            }
           }
          ],
          "scatter": [
           {
            "marker": {
             "line": {
              "color": "#283442"
             }
            },
            "type": "scatter"
           }
          ],
          "parcoords": [
           {
            "type": "parcoords",
            "line": {
             "colorbar": {
              "outlinewidth": 0,
              "ticks": ""
             }
            }
           }
          ],
          "scatterpolargl": [
           {
            "type": "scatterpolargl",
            "marker": {
             "colorbar": {
              "outlinewidth": 0,
              "ticks": ""
             }
            }
           }
          ],
          "bar": [
           {
            "error_x": {
             "color": "#f2f5fa"
            },
            "error_y": {
             "color": "#f2f5fa"
            },
            "marker": {
             "line": {
              "color": "rgb(17,17,17)",
              "width": 0.5
             },
             "pattern": {
              "fillmode": "overlay",
              "size": 10,
              "solidity": 0.2
             }
            },
            "type": "bar"
           }
          ],
          "scattergeo": [
           {
            "type": "scattergeo",
            "marker": {
             "colorbar": {
              "outlinewidth": 0,
              "ticks": ""
             }
            }
           }
          ],
          "scatterpolar": [
           {
            "type": "scatterpolar",
            "marker": {
             "colorbar": {
              "outlinewidth": 0,
              "ticks": ""
             }
            }
           }
          ],
          "histogram": [
           {
            "marker": {
             "pattern": {
              "fillmode": "overlay",
              "size": 10,
              "solidity": 0.2
             }
            },
            "type": "histogram"
           }
          ],
          "scattergl": [
           {
            "marker": {
             "line": {
              "color": "#283442"
             }
            },
            "type": "scattergl"
           }
          ],
          "scatter3d": [
           {
            "type": "scatter3d",
            "line": {
             "colorbar": {
              "outlinewidth": 0,
              "ticks": ""
             }
            },
            "marker": {
             "colorbar": {
              "outlinewidth": 0,
              "ticks": ""
             }
            }
           }
          ],
          "scattermapbox": [
           {
            "type": "scattermapbox",
            "marker": {
             "colorbar": {
              "outlinewidth": 0,
              "ticks": ""
             }
            }
           }
          ],
          "scatterternary": [
           {
            "type": "scatterternary",
            "marker": {
             "colorbar": {
              "outlinewidth": 0,
              "ticks": ""
             }
            }
           }
          ],
          "scattercarpet": [
           {
            "type": "scattercarpet",
            "marker": {
             "colorbar": {
              "outlinewidth": 0,
              "ticks": ""
             }
            }
           }
          ],
          "carpet": [
           {
            "aaxis": {
             "endlinecolor": "#A2B1C6",
             "gridcolor": "#506784",
             "linecolor": "#506784",
             "minorgridcolor": "#506784",
             "startlinecolor": "#A2B1C6"
            },
            "baxis": {
             "endlinecolor": "#A2B1C6",
             "gridcolor": "#506784",
             "linecolor": "#506784",
             "minorgridcolor": "#506784",
             "startlinecolor": "#A2B1C6"
            },
            "type": "carpet"
           }
          ],
          "table": [
           {
            "cells": {
             "fill": {
              "color": "#506784"
             },
             "line": {
              "color": "rgb(17,17,17)"
             }
            },
            "header": {
             "fill": {
              "color": "#2a3f5f"
             },
             "line": {
              "color": "rgb(17,17,17)"
             }
            },
            "type": "table"
           }
          ],
          "barpolar": [
           {
            "marker": {
             "line": {
              "color": "rgb(17,17,17)",
              "width": 0.5
             },
             "pattern": {
              "fillmode": "overlay",
              "size": 10,
              "solidity": 0.2
             }
            },
            "type": "barpolar"
           }
          ],
          "pie": [
           {
            "automargin": true,
            "type": "pie"
           }
          ]
         },
         "layout": {
          "autotypenumbers": "strict",
          "colorway": [
           "#636efa",
           "#EF553B",
           "#00cc96",
           "#ab63fa",
           "#FFA15A",
           "#19d3f3",
           "#FF6692",
           "#B6E880",
           "#FF97FF",
           "#FECB52"
          ],
          "font": {
           "color": "#f2f5fa"
          },
          "hovermode": "closest",
          "hoverlabel": {
           "align": "left"
          },
          "paper_bgcolor": "rgb(17,17,17)",
          "plot_bgcolor": "rgb(17,17,17)",
          "polar": {
           "bgcolor": "rgb(17,17,17)",
           "angularaxis": {
            "gridcolor": "#506784",
            "linecolor": "#506784",
            "ticks": ""
           },
           "radialaxis": {
            "gridcolor": "#506784",
            "linecolor": "#506784",
            "ticks": ""
           }
          },
          "ternary": {
           "bgcolor": "rgb(17,17,17)",
           "aaxis": {
            "gridcolor": "#506784",
            "linecolor": "#506784",
            "ticks": ""
           },
           "baxis": {
            "gridcolor": "#506784",
            "linecolor": "#506784",
            "ticks": ""
           },
           "caxis": {
            "gridcolor": "#506784",
            "linecolor": "#506784",
            "ticks": ""
           }
          },
          "coloraxis": {
           "colorbar": {
            "outlinewidth": 0,
            "ticks": ""
           }
          },
          "colorscale": {
           "sequential": [
            [
             0.0,
             "#0d0887"
            ],
            [
             0.1111111111111111,
             "#46039f"
            ],
            [
             0.2222222222222222,
             "#7201a8"
            ],
            [
             0.3333333333333333,
             "#9c179e"
            ],
            [
             0.4444444444444444,
             "#bd3786"
            ],
            [
             0.5555555555555556,
             "#d8576b"
            ],
            [
             0.6666666666666666,
             "#ed7953"
            ],
            [
             0.7777777777777778,
             "#fb9f3a"
            ],
            [
             0.8888888888888888,
             "#fdca26"
            ],
            [
             1.0,
             "#f0f921"
            ]
           ],
           "sequentialminus": [
            [
             0.0,
             "#0d0887"
            ],
            [
             0.1111111111111111,
             "#46039f"
            ],
            [
             0.2222222222222222,
             "#7201a8"
            ],
            [
             0.3333333333333333,
             "#9c179e"
            ],
            [
             0.4444444444444444,
             "#bd3786"
            ],
            [
             0.5555555555555556,
             "#d8576b"
            ],
            [
             0.6666666666666666,
             "#ed7953"
            ],
            [
             0.7777777777777778,
             "#fb9f3a"
            ],
            [
             0.8888888888888888,
             "#fdca26"
            ],
            [
             1.0,
             "#f0f921"
            ]
           ],
           "diverging": [
            [
             0,
             "#8e0152"
            ],
            [
             0.1,
             "#c51b7d"
            ],
            [
             0.2,
             "#de77ae"
            ],
            [
             0.3,
             "#f1b6da"
            ],
            [
             0.4,
             "#fde0ef"
            ],
            [
             0.5,
             "#f7f7f7"
            ],
            [
             0.6,
             "#e6f5d0"
            ],
            [
             0.7,
             "#b8e186"
            ],
            [
             0.8,
             "#7fbc41"
            ],
            [
             0.9,
             "#4d9221"
            ],
            [
             1,
             "#276419"
            ]
           ]
          },
          "xaxis": {
           "gridcolor": "#283442",
           "linecolor": "#506784",
           "ticks": "",
           "title": {
            "standoff": 15
           },
           "zerolinecolor": "#283442",
           "automargin": true,
           "zerolinewidth": 2
          },
          "yaxis": {
           "gridcolor": "#283442",
           "linecolor": "#506784",
           "ticks": "",
           "title": {
            "standoff": 15
           },
           "zerolinecolor": "#283442",
           "automargin": true,
           "zerolinewidth": 2
          },
          "scene": {
           "xaxis": {
            "backgroundcolor": "rgb(17,17,17)",
            "gridcolor": "#506784",
            "linecolor": "#506784",
            "showbackground": true,
            "ticks": "",
            "zerolinecolor": "#C8D4E3",
            "gridwidth": 2
           },
           "yaxis": {
            "backgroundcolor": "rgb(17,17,17)",
            "gridcolor": "#506784",
            "linecolor": "#506784",
            "showbackground": true,
            "ticks": "",
            "zerolinecolor": "#C8D4E3",
            "gridwidth": 2
           },
           "zaxis": {
            "backgroundcolor": "rgb(17,17,17)",
            "gridcolor": "#506784",
            "linecolor": "#506784",
            "showbackground": true,
            "ticks": "",
            "zerolinecolor": "#C8D4E3",
            "gridwidth": 2
           }
          },
          "shapedefaults": {
           "line": {
            "color": "#f2f5fa"
           }
          },
          "annotationdefaults": {
           "arrowcolor": "#f2f5fa",
           "arrowhead": 0,
           "arrowwidth": 1
          },
          "geo": {
           "bgcolor": "rgb(17,17,17)",
           "landcolor": "rgb(17,17,17)",
           "subunitcolor": "#506784",
           "showland": true,
           "showlakes": true,
           "lakecolor": "rgb(17,17,17)"
          },
          "title": {
           "x": 0.05
          },
          "updatemenudefaults": {
           "bgcolor": "#506784",
           "borderwidth": 0
          },
          "sliderdefaults": {
           "bgcolor": "#C8D4E3",
           "borderwidth": 1,
           "bordercolor": "rgb(17,17,17)",
           "tickwidth": 0
          },
          "mapbox": {
           "style": "dark"
          }
         }
        },
        "xaxis": {
         "anchor": "y",
         "domain": [
          0.0,
          1.0
         ],
         "title": {
          "text": "nb_goals_scored"
         }
        },
        "yaxis": {
         "anchor": "x",
         "domain": [
          0.0,
          1.0
         ],
         "title": {
          "text": "nb_goals_conceded"
         }
        },
        "legend": {
         "title": {
          "text": "team"
         },
         "tracegroupgap": 0,
         "itemsizing": "constant"
        },
        "title": {
         "text": "Corrélation entre le nombre de buts marqués et concédés"
        },
        "shapes": [
         {
          "line": {
           "color": "red",
           "dash": "dash",
           "width": 2
          },
          "type": "line",
          "x0": 0,
          "x1": 168,
          "y0": 3,
          "y1": 103
         }
        ]
       },
       "config": {
        "plotlyServerURL": "https://plot.ly"
       }
      },
      "text/html": "<div>                            <div id=\"46e121ba-c4d0-4f29-9846-b2eee6431133\" class=\"plotly-graph-div\" style=\"height:525px; width:100%;\"></div>            <script type=\"text/javascript\">                require([\"plotly\"], function(Plotly) {                    window.PLOTLYENV=window.PLOTLYENV || {};                                    if (document.getElementById(\"46e121ba-c4d0-4f29-9846-b2eee6431133\")) {                    Plotly.newPlot(                        \"46e121ba-c4d0-4f29-9846-b2eee6431133\",                        [{\"hovertemplate\":\"team=Egypt<br>nb_goals_scored=%{x}<br>nb_goals_conceded=%{y}<br>nb_tournaments=%{marker.size}<extra></extra>\",\"legendgroup\":\"Egypt\",\"marker\":{\"color\":\"#636efa\",\"size\":[25],\"sizemode\":\"area\",\"sizeref\":0.0625,\"symbol\":\"circle\"},\"mode\":\"markers\",\"name\":\"Egypt\",\"orientation\":\"v\",\"showlegend\":true,\"x\":[168],\"xaxis\":\"x\",\"y\":[90],\"yaxis\":\"y\",\"type\":\"scatter\"},{\"hovertemplate\":\"team=Ivory Coast<br>nb_goals_scored=%{x}<br>nb_goals_conceded=%{y}<br>nb_tournaments=%{marker.size}<extra></extra>\",\"legendgroup\":\"Ivory Coast\",\"marker\":{\"color\":\"#EF553B\",\"size\":[24],\"sizemode\":\"area\",\"sizeref\":0.0625,\"symbol\":\"circle\"},\"mode\":\"markers\",\"name\":\"Ivory Coast\",\"orientation\":\"v\",\"showlegend\":true,\"x\":[144],\"xaxis\":\"x\",\"y\":[103],\"yaxis\":\"y\",\"type\":\"scatter\"},{\"hovertemplate\":\"team=Ghana<br>nb_goals_scored=%{x}<br>nb_goals_conceded=%{y}<br>nb_tournaments=%{marker.size}<extra></extra>\",\"legendgroup\":\"Ghana\",\"marker\":{\"color\":\"#00cc96\",\"size\":[23],\"sizemode\":\"area\",\"sizeref\":0.0625,\"symbol\":\"circle\"},\"mode\":\"markers\",\"name\":\"Ghana\",\"orientation\":\"v\",\"showlegend\":true,\"x\":[133],\"xaxis\":\"x\",\"y\":[87],\"yaxis\":\"y\",\"type\":\"scatter\"},{\"hovertemplate\":\"team=Tunisia<br>nb_goals_scored=%{x}<br>nb_goals_conceded=%{y}<br>nb_tournaments=%{marker.size}<extra></extra>\",\"legendgroup\":\"Tunisia\",\"marker\":{\"color\":\"#ab63fa\",\"size\":[20],\"sizemode\":\"area\",\"sizeref\":0.0625,\"symbol\":\"circle\"},\"mode\":\"markers\",\"name\":\"Tunisia\",\"orientation\":\"v\",\"showlegend\":true,\"x\":[109],\"xaxis\":\"x\",\"y\":[94],\"yaxis\":\"y\",\"type\":\"scatter\"},{\"hovertemplate\":\"team=Cameroon<br>nb_goals_scored=%{x}<br>nb_goals_conceded=%{y}<br>nb_tournaments=%{marker.size}<extra></extra>\",\"legendgroup\":\"Cameroon\",\"marker\":{\"color\":\"#FFA15A\",\"size\":[20],\"sizemode\":\"area\",\"sizeref\":0.0625,\"symbol\":\"circle\"},\"mode\":\"markers\",\"name\":\"Cameroon\",\"orientation\":\"v\",\"showlegend\":true,\"x\":[137],\"xaxis\":\"x\",\"y\":[83],\"yaxis\":\"y\",\"type\":\"scatter\"},{\"hovertemplate\":\"team=Nigeria<br>nb_goals_scored=%{x}<br>nb_goals_conceded=%{y}<br>nb_tournaments=%{marker.size}<extra></extra>\",\"legendgroup\":\"Nigeria\",\"marker\":{\"color\":\"#19d3f3\",\"size\":[19],\"sizemode\":\"area\",\"sizeref\":0.0625,\"symbol\":\"circle\"},\"mode\":\"markers\",\"name\":\"Nigeria\",\"orientation\":\"v\",\"showlegend\":true,\"x\":[137],\"xaxis\":\"x\",\"y\":[102],\"yaxis\":\"y\",\"type\":\"scatter\"},{\"hovertemplate\":\"team=Algeria<br>nb_goals_scored=%{x}<br>nb_goals_conceded=%{y}<br>nb_tournaments=%{marker.size}<extra></extra>\",\"legendgroup\":\"Algeria\",\"marker\":{\"color\":\"#FF6692\",\"size\":[19],\"sizemode\":\"area\",\"sizeref\":0.0625,\"symbol\":\"circle\"},\"mode\":\"markers\",\"name\":\"Algeria\",\"orientation\":\"v\",\"showlegend\":true,\"x\":[94],\"xaxis\":\"x\",\"y\":[89],\"yaxis\":\"y\",\"type\":\"scatter\"},{\"hovertemplate\":\"team=DR Congo<br>nb_goals_scored=%{x}<br>nb_goals_conceded=%{y}<br>nb_tournaments=%{marker.size}<extra></extra>\",\"legendgroup\":\"DR Congo\",\"marker\":{\"color\":\"#B6E880\",\"size\":[19],\"sizemode\":\"area\",\"sizeref\":0.0625,\"symbol\":\"circle\"},\"mode\":\"markers\",\"name\":\"DR Congo\",\"orientation\":\"v\",\"showlegend\":true,\"x\":[88],\"xaxis\":\"x\",\"y\":[102],\"yaxis\":\"y\",\"type\":\"scatter\"},{\"hovertemplate\":\"team=Morocco<br>nb_goals_scored=%{x}<br>nb_goals_conceded=%{y}<br>nb_tournaments=%{marker.size}<extra></extra>\",\"legendgroup\":\"Morocco\",\"marker\":{\"color\":\"#FF97FF\",\"size\":[18],\"sizemode\":\"area\",\"sizeref\":0.0625,\"symbol\":\"circle\"},\"mode\":\"markers\",\"name\":\"Morocco\",\"orientation\":\"v\",\"showlegend\":true,\"x\":[82],\"xaxis\":\"x\",\"y\":[63],\"yaxis\":\"y\",\"type\":\"scatter\"},{\"hovertemplate\":\"team=Zambia<br>nb_goals_scored=%{x}<br>nb_goals_conceded=%{y}<br>nb_tournaments=%{marker.size}<extra></extra>\",\"legendgroup\":\"Zambia\",\"marker\":{\"color\":\"#FECB52\",\"size\":[17],\"sizemode\":\"area\",\"sizeref\":0.0625,\"symbol\":\"circle\"},\"mode\":\"markers\",\"name\":\"Zambia\",\"orientation\":\"v\",\"showlegend\":true,\"x\":[81],\"xaxis\":\"x\",\"y\":[69],\"yaxis\":\"y\",\"type\":\"scatter\"},{\"hovertemplate\":\"team=Senegal<br>nb_goals_scored=%{x}<br>nb_goals_conceded=%{y}<br>nb_tournaments=%{marker.size}<extra></extra>\",\"legendgroup\":\"Senegal\",\"marker\":{\"color\":\"#636efa\",\"size\":[16],\"sizemode\":\"area\",\"sizeref\":0.0625,\"symbol\":\"circle\"},\"mode\":\"markers\",\"name\":\"Senegal\",\"orientation\":\"v\",\"showlegend\":true,\"x\":[78],\"xaxis\":\"x\",\"y\":[56],\"yaxis\":\"y\",\"type\":\"scatter\"},{\"hovertemplate\":\"team=Guinea<br>nb_goals_scored=%{x}<br>nb_goals_conceded=%{y}<br>nb_tournaments=%{marker.size}<extra></extra>\",\"legendgroup\":\"Guinea\",\"marker\":{\"color\":\"#EF553B\",\"size\":[13],\"sizemode\":\"area\",\"sizeref\":0.0625,\"symbol\":\"circle\"},\"mode\":\"markers\",\"name\":\"Guinea\",\"orientation\":\"v\",\"showlegend\":true,\"x\":[61],\"xaxis\":\"x\",\"y\":[66],\"yaxis\":\"y\",\"type\":\"scatter\"},{\"hovertemplate\":\"team=Mali<br>nb_goals_scored=%{x}<br>nb_goals_conceded=%{y}<br>nb_tournaments=%{marker.size}<extra></extra>\",\"legendgroup\":\"Mali\",\"marker\":{\"color\":\"#00cc96\",\"size\":[12],\"sizemode\":\"area\",\"sizeref\":0.0625,\"symbol\":\"circle\"},\"mode\":\"markers\",\"name\":\"Mali\",\"orientation\":\"v\",\"showlegend\":true,\"x\":[65],\"xaxis\":\"x\",\"y\":[65],\"yaxis\":\"y\",\"type\":\"scatter\"},{\"hovertemplate\":\"team=Burkina Faso<br>nb_goals_scored=%{x}<br>nb_goals_conceded=%{y}<br>nb_tournaments=%{marker.size}<extra></extra>\",\"legendgroup\":\"Burkina Faso\",\"marker\":{\"color\":\"#ab63fa\",\"size\":[12],\"sizemode\":\"area\",\"sizeref\":0.0625,\"symbol\":\"circle\"},\"mode\":\"markers\",\"name\":\"Burkina Faso\",\"orientation\":\"v\",\"showlegend\":true,\"x\":[47],\"xaxis\":\"x\",\"y\":[72],\"yaxis\":\"y\",\"type\":\"scatter\"},{\"hovertemplate\":\"team=Ethiopia<br>nb_goals_scored=%{x}<br>nb_goals_conceded=%{y}<br>nb_tournaments=%{marker.size}<extra></extra>\",\"legendgroup\":\"Ethiopia\",\"marker\":{\"color\":\"#FFA15A\",\"size\":[11],\"sizemode\":\"area\",\"sizeref\":0.0625,\"symbol\":\"circle\"},\"mode\":\"markers\",\"name\":\"Ethiopia\",\"orientation\":\"v\",\"showlegend\":true,\"x\":[31],\"xaxis\":\"x\",\"y\":[67],\"yaxis\":\"y\",\"type\":\"scatter\"},{\"hovertemplate\":\"team=South Africa<br>nb_goals_scored=%{x}<br>nb_goals_conceded=%{y}<br>nb_tournaments=%{marker.size}<extra></extra>\",\"legendgroup\":\"South Africa\",\"marker\":{\"color\":\"#19d3f3\",\"size\":[10],\"sizemode\":\"area\",\"sizeref\":0.0625,\"symbol\":\"circle\"},\"mode\":\"markers\",\"name\":\"South Africa\",\"orientation\":\"v\",\"showlegend\":true,\"x\":[48],\"xaxis\":\"x\",\"y\":[45],\"yaxis\":\"y\",\"type\":\"scatter\"},{\"hovertemplate\":\"team=Sudan<br>nb_goals_scored=%{x}<br>nb_goals_conceded=%{y}<br>nb_tournaments=%{marker.size}<extra></extra>\",\"legendgroup\":\"Sudan\",\"marker\":{\"color\":\"#FF6692\",\"size\":[9],\"sizemode\":\"area\",\"sizeref\":0.0625,\"symbol\":\"circle\"},\"mode\":\"markers\",\"name\":\"Sudan\",\"orientation\":\"v\",\"showlegend\":true,\"x\":[29],\"xaxis\":\"x\",\"y\":[42],\"yaxis\":\"y\",\"type\":\"scatter\"},{\"hovertemplate\":\"team=Angola<br>nb_goals_scored=%{x}<br>nb_goals_conceded=%{y}<br>nb_tournaments=%{marker.size}<extra></extra>\",\"legendgroup\":\"Angola\",\"marker\":{\"color\":\"#B6E880\",\"size\":[8],\"sizemode\":\"area\",\"sizeref\":0.0625,\"symbol\":\"circle\"},\"mode\":\"markers\",\"name\":\"Angola\",\"orientation\":\"v\",\"showlegend\":true,\"x\":[30],\"xaxis\":\"x\",\"y\":[39],\"yaxis\":\"y\",\"type\":\"scatter\"},{\"hovertemplate\":\"team=Gabon<br>nb_goals_scored=%{x}<br>nb_goals_conceded=%{y}<br>nb_tournaments=%{marker.size}<extra></extra>\",\"legendgroup\":\"Gabon\",\"marker\":{\"color\":\"#FF97FF\",\"size\":[8],\"sizemode\":\"area\",\"sizeref\":0.0625,\"symbol\":\"circle\"},\"mode\":\"markers\",\"name\":\"Gabon\",\"orientation\":\"v\",\"showlegend\":true,\"x\":[24],\"xaxis\":\"x\",\"y\":[30],\"yaxis\":\"y\",\"type\":\"scatter\"},{\"hovertemplate\":\"team=Togo<br>nb_goals_scored=%{x}<br>nb_goals_conceded=%{y}<br>nb_tournaments=%{marker.size}<extra></extra>\",\"legendgroup\":\"Togo\",\"marker\":{\"color\":\"#FECB52\",\"size\":[8],\"sizemode\":\"area\",\"sizeref\":0.0625,\"symbol\":\"circle\"},\"mode\":\"markers\",\"name\":\"Togo\",\"orientation\":\"v\",\"showlegend\":true,\"x\":[19],\"xaxis\":\"x\",\"y\":[42],\"yaxis\":\"y\",\"type\":\"scatter\"},{\"hovertemplate\":\"team=Uganda<br>nb_goals_scored=%{x}<br>nb_goals_conceded=%{y}<br>nb_tournaments=%{marker.size}<extra></extra>\",\"legendgroup\":\"Uganda\",\"marker\":{\"color\":\"#636efa\",\"size\":[7],\"sizemode\":\"area\",\"sizeref\":0.0625,\"symbol\":\"circle\"},\"mode\":\"markers\",\"name\":\"Uganda\",\"orientation\":\"v\",\"showlegend\":true,\"x\":[21],\"xaxis\":\"x\",\"y\":[38],\"yaxis\":\"y\",\"type\":\"scatter\"},{\"hovertemplate\":\"team=Congo<br>nb_goals_scored=%{x}<br>nb_goals_conceded=%{y}<br>nb_tournaments=%{marker.size}<extra></extra>\",\"legendgroup\":\"Congo\",\"marker\":{\"color\":\"#EF553B\",\"size\":[7],\"sizemode\":\"area\",\"sizeref\":0.0625,\"symbol\":\"circle\"},\"mode\":\"markers\",\"name\":\"Congo\",\"orientation\":\"v\",\"showlegend\":true,\"x\":[27],\"xaxis\":\"x\",\"y\":[40],\"yaxis\":\"y\",\"type\":\"scatter\"},{\"hovertemplate\":\"team=Kenya<br>nb_goals_scored=%{x}<br>nb_goals_conceded=%{y}<br>nb_tournaments=%{marker.size}<extra></extra>\",\"legendgroup\":\"Kenya\",\"marker\":{\"color\":\"#00cc96\",\"size\":[6],\"sizemode\":\"area\",\"sizeref\":0.0625,\"symbol\":\"circle\"},\"mode\":\"markers\",\"name\":\"Kenya\",\"orientation\":\"v\",\"showlegend\":true,\"x\":[11],\"xaxis\":\"x\",\"y\":[31],\"yaxis\":\"y\",\"type\":\"scatter\"},{\"hovertemplate\":\"team=Zimbabwe<br>nb_goals_scored=%{x}<br>nb_goals_conceded=%{y}<br>nb_tournaments=%{marker.size}<extra></extra>\",\"legendgroup\":\"Zimbabwe\",\"marker\":{\"color\":\"#ab63fa\",\"size\":[5],\"sizemode\":\"area\",\"sizeref\":0.0625,\"symbol\":\"circle\"},\"mode\":\"markers\",\"name\":\"Zimbabwe\",\"orientation\":\"v\",\"showlegend\":true,\"x\":[16],\"xaxis\":\"x\",\"y\":[31],\"yaxis\":\"y\",\"type\":\"scatter\"},{\"hovertemplate\":\"team=Mozambique<br>nb_goals_scored=%{x}<br>nb_goals_conceded=%{y}<br>nb_tournaments=%{marker.size}<extra></extra>\",\"legendgroup\":\"Mozambique\",\"marker\":{\"color\":\"#FFA15A\",\"size\":[4],\"sizemode\":\"area\",\"sizeref\":0.0625,\"symbol\":\"circle\"},\"mode\":\"markers\",\"name\":\"Mozambique\",\"orientation\":\"v\",\"showlegend\":true,\"x\":[4],\"xaxis\":\"x\",\"y\":[26],\"yaxis\":\"y\",\"type\":\"scatter\"},{\"hovertemplate\":\"team=Benin<br>nb_goals_scored=%{x}<br>nb_goals_conceded=%{y}<br>nb_tournaments=%{marker.size}<extra></extra>\",\"legendgroup\":\"Benin\",\"marker\":{\"color\":\"#19d3f3\",\"size\":[4],\"sizemode\":\"area\",\"sizeref\":0.0625,\"symbol\":\"circle\"},\"mode\":\"markers\",\"name\":\"Benin\",\"orientation\":\"v\",\"showlegend\":true,\"x\":[7],\"xaxis\":\"x\",\"y\":[24],\"yaxis\":\"y\",\"type\":\"scatter\"},{\"hovertemplate\":\"team=Cape Verde<br>nb_goals_scored=%{x}<br>nb_goals_conceded=%{y}<br>nb_tournaments=%{marker.size}<extra></extra>\",\"legendgroup\":\"Cape Verde\",\"marker\":{\"color\":\"#FF6692\",\"size\":[3],\"sizemode\":\"area\",\"sizeref\":0.0625,\"symbol\":\"circle\"},\"mode\":\"markers\",\"name\":\"Cape Verde\",\"orientation\":\"v\",\"showlegend\":true,\"x\":[6],\"xaxis\":\"x\",\"y\":[9],\"yaxis\":\"y\",\"type\":\"scatter\"},{\"hovertemplate\":\"team=Equatorial Guinea<br>nb_goals_scored=%{x}<br>nb_goals_conceded=%{y}<br>nb_tournaments=%{marker.size}<extra></extra>\",\"legendgroup\":\"Equatorial Guinea\",\"marker\":{\"color\":\"#B6E880\",\"size\":[3],\"sizemode\":\"area\",\"sizeref\":0.0625,\"symbol\":\"circle\"},\"mode\":\"markers\",\"name\":\"Equatorial Guinea\",\"orientation\":\"v\",\"showlegend\":true,\"x\":[11],\"xaxis\":\"x\",\"y\":[14],\"yaxis\":\"y\",\"type\":\"scatter\"},{\"hovertemplate\":\"team=Guinea-Bissau<br>nb_goals_scored=%{x}<br>nb_goals_conceded=%{y}<br>nb_tournaments=%{marker.size}<extra></extra>\",\"legendgroup\":\"Guinea-Bissau\",\"marker\":{\"color\":\"#FF97FF\",\"size\":[3],\"sizemode\":\"area\",\"sizeref\":0.0625,\"symbol\":\"circle\"},\"mode\":\"markers\",\"name\":\"Guinea-Bissau\",\"orientation\":\"v\",\"showlegend\":true,\"x\":[2],\"xaxis\":\"x\",\"y\":[12],\"yaxis\":\"y\",\"type\":\"scatter\"},{\"hovertemplate\":\"team=Sierra Leone<br>nb_goals_scored=%{x}<br>nb_goals_conceded=%{y}<br>nb_tournaments=%{marker.size}<extra></extra>\",\"legendgroup\":\"Sierra Leone\",\"marker\":{\"color\":\"#FECB52\",\"size\":[3],\"sizemode\":\"area\",\"sizeref\":0.0625,\"symbol\":\"circle\"},\"mode\":\"markers\",\"name\":\"Sierra Leone\",\"orientation\":\"v\",\"showlegend\":true,\"x\":[4],\"xaxis\":\"x\",\"y\":[14],\"yaxis\":\"y\",\"type\":\"scatter\"},{\"hovertemplate\":\"team=Namibia<br>nb_goals_scored=%{x}<br>nb_goals_conceded=%{y}<br>nb_tournaments=%{marker.size}<extra></extra>\",\"legendgroup\":\"Namibia\",\"marker\":{\"color\":\"#636efa\",\"size\":[3],\"sizemode\":\"area\",\"sizeref\":0.0625,\"symbol\":\"circle\"},\"mode\":\"markers\",\"name\":\"Namibia\",\"orientation\":\"v\",\"showlegend\":true,\"x\":[10],\"xaxis\":\"x\",\"y\":[24],\"yaxis\":\"y\",\"type\":\"scatter\"},{\"hovertemplate\":\"team=Malawi<br>nb_goals_scored=%{x}<br>nb_goals_conceded=%{y}<br>nb_tournaments=%{marker.size}<extra></extra>\",\"legendgroup\":\"Malawi\",\"marker\":{\"color\":\"#EF553B\",\"size\":[3],\"sizemode\":\"area\",\"sizeref\":0.0625,\"symbol\":\"circle\"},\"mode\":\"markers\",\"name\":\"Malawi\",\"orientation\":\"v\",\"showlegend\":true,\"x\":[9],\"xaxis\":\"x\",\"y\":[15],\"yaxis\":\"y\",\"type\":\"scatter\"},{\"hovertemplate\":\"team=Libya<br>nb_goals_scored=%{x}<br>nb_goals_conceded=%{y}<br>nb_tournaments=%{marker.size}<extra></extra>\",\"legendgroup\":\"Libya\",\"marker\":{\"color\":\"#00cc96\",\"size\":[3],\"sizemode\":\"area\",\"sizeref\":0.0625,\"symbol\":\"circle\"},\"mode\":\"markers\",\"name\":\"Libya\",\"orientation\":\"v\",\"showlegend\":true,\"x\":[12],\"xaxis\":\"x\",\"y\":[13],\"yaxis\":\"y\",\"type\":\"scatter\"},{\"hovertemplate\":\"team=Tanzania<br>nb_goals_scored=%{x}<br>nb_goals_conceded=%{y}<br>nb_tournaments=%{marker.size}<extra></extra>\",\"legendgroup\":\"Tanzania\",\"marker\":{\"color\":\"#ab63fa\",\"size\":[2],\"sizemode\":\"area\",\"sizeref\":0.0625,\"symbol\":\"circle\"},\"mode\":\"markers\",\"name\":\"Tanzania\",\"orientation\":\"v\",\"showlegend\":true,\"x\":[5],\"xaxis\":\"x\",\"y\":[14],\"yaxis\":\"y\",\"type\":\"scatter\"},{\"hovertemplate\":\"team=Mauritania<br>nb_goals_scored=%{x}<br>nb_goals_conceded=%{y}<br>nb_tournaments=%{marker.size}<extra></extra>\",\"legendgroup\":\"Mauritania\",\"marker\":{\"color\":\"#FFA15A\",\"size\":[2],\"sizemode\":\"area\",\"sizeref\":0.0625,\"symbol\":\"circle\"},\"mode\":\"markers\",\"name\":\"Mauritania\",\"orientation\":\"v\",\"showlegend\":true,\"x\":[1],\"xaxis\":\"x\",\"y\":[11],\"yaxis\":\"y\",\"type\":\"scatter\"},{\"hovertemplate\":\"team=Liberia<br>nb_goals_scored=%{x}<br>nb_goals_conceded=%{y}<br>nb_tournaments=%{marker.size}<extra></extra>\",\"legendgroup\":\"Liberia\",\"marker\":{\"color\":\"#19d3f3\",\"size\":[2],\"sizemode\":\"area\",\"sizeref\":0.0625,\"symbol\":\"circle\"},\"mode\":\"markers\",\"name\":\"Liberia\",\"orientation\":\"v\",\"showlegend\":true,\"x\":[5],\"xaxis\":\"x\",\"y\":[7],\"yaxis\":\"y\",\"type\":\"scatter\"},{\"hovertemplate\":\"team=Niger<br>nb_goals_scored=%{x}<br>nb_goals_conceded=%{y}<br>nb_tournaments=%{marker.size}<extra></extra>\",\"legendgroup\":\"Niger\",\"marker\":{\"color\":\"#FF6692\",\"size\":[2],\"sizemode\":\"area\",\"sizeref\":0.0625,\"symbol\":\"circle\"},\"mode\":\"markers\",\"name\":\"Niger\",\"orientation\":\"v\",\"showlegend\":true,\"x\":[1],\"xaxis\":\"x\",\"y\":[9],\"yaxis\":\"y\",\"type\":\"scatter\"},{\"hovertemplate\":\"team=Rwanda<br>nb_goals_scored=%{x}<br>nb_goals_conceded=%{y}<br>nb_tournaments=%{marker.size}<extra></extra>\",\"legendgroup\":\"Rwanda\",\"marker\":{\"color\":\"#B6E880\",\"size\":[1],\"sizemode\":\"area\",\"sizeref\":0.0625,\"symbol\":\"circle\"},\"mode\":\"markers\",\"name\":\"Rwanda\",\"orientation\":\"v\",\"showlegend\":true,\"x\":[3],\"xaxis\":\"x\",\"y\":[3],\"yaxis\":\"y\",\"type\":\"scatter\"},{\"hovertemplate\":\"team=Madagascar<br>nb_goals_scored=%{x}<br>nb_goals_conceded=%{y}<br>nb_tournaments=%{marker.size}<extra></extra>\",\"legendgroup\":\"Madagascar\",\"marker\":{\"color\":\"#FF97FF\",\"size\":[1],\"sizemode\":\"area\",\"sizeref\":0.0625,\"symbol\":\"circle\"},\"mode\":\"markers\",\"name\":\"Madagascar\",\"orientation\":\"v\",\"showlegend\":true,\"x\":[7],\"xaxis\":\"x\",\"y\":[7],\"yaxis\":\"y\",\"type\":\"scatter\"},{\"hovertemplate\":\"team=Burundi<br>nb_goals_scored=%{x}<br>nb_goals_conceded=%{y}<br>nb_tournaments=%{marker.size}<extra></extra>\",\"legendgroup\":\"Burundi\",\"marker\":{\"color\":\"#FECB52\",\"size\":[1],\"sizemode\":\"area\",\"sizeref\":0.0625,\"symbol\":\"circle\"},\"mode\":\"markers\",\"name\":\"Burundi\",\"orientation\":\"v\",\"showlegend\":true,\"x\":[0],\"xaxis\":\"x\",\"y\":[4],\"yaxis\":\"y\",\"type\":\"scatter\"},{\"hovertemplate\":\"team=Comoros<br>nb_goals_scored=%{x}<br>nb_goals_conceded=%{y}<br>nb_tournaments=%{marker.size}<extra></extra>\",\"legendgroup\":\"Comoros\",\"marker\":{\"color\":\"#636efa\",\"size\":[1],\"sizemode\":\"area\",\"sizeref\":0.0625,\"symbol\":\"circle\"},\"mode\":\"markers\",\"name\":\"Comoros\",\"orientation\":\"v\",\"showlegend\":true,\"x\":[4],\"xaxis\":\"x\",\"y\":[7],\"yaxis\":\"y\",\"type\":\"scatter\"},{\"hovertemplate\":\"team=Gambia<br>nb_goals_scored=%{x}<br>nb_goals_conceded=%{y}<br>nb_tournaments=%{marker.size}<extra></extra>\",\"legendgroup\":\"Gambia\",\"marker\":{\"color\":\"#EF553B\",\"size\":[1],\"sizemode\":\"area\",\"sizeref\":0.0625,\"symbol\":\"circle\"},\"mode\":\"markers\",\"name\":\"Gambia\",\"orientation\":\"v\",\"showlegend\":true,\"x\":[4],\"xaxis\":\"x\",\"y\":[3],\"yaxis\":\"y\",\"type\":\"scatter\"},{\"hovertemplate\":\"team=Botswana<br>nb_goals_scored=%{x}<br>nb_goals_conceded=%{y}<br>nb_tournaments=%{marker.size}<extra></extra>\",\"legendgroup\":\"Botswana\",\"marker\":{\"color\":\"#00cc96\",\"size\":[1],\"sizemode\":\"area\",\"sizeref\":0.0625,\"symbol\":\"circle\"},\"mode\":\"markers\",\"name\":\"Botswana\",\"orientation\":\"v\",\"showlegend\":true,\"x\":[2],\"xaxis\":\"x\",\"y\":[9],\"yaxis\":\"y\",\"type\":\"scatter\"},{\"hovertemplate\":\"team=Mauritius<br>nb_goals_scored=%{x}<br>nb_goals_conceded=%{y}<br>nb_tournaments=%{marker.size}<extra></extra>\",\"legendgroup\":\"Mauritius\",\"marker\":{\"color\":\"#ab63fa\",\"size\":[1],\"sizemode\":\"area\",\"sizeref\":0.0625,\"symbol\":\"circle\"},\"mode\":\"markers\",\"name\":\"Mauritius\",\"orientation\":\"v\",\"showlegend\":true,\"x\":[2],\"xaxis\":\"x\",\"y\":[8],\"yaxis\":\"y\",\"type\":\"scatter\"}],                        {\"template\":{\"data\":{\"histogram2dcontour\":[{\"type\":\"histogram2dcontour\",\"colorbar\":{\"outlinewidth\":0,\"ticks\":\"\"},\"colorscale\":[[0.0,\"#0d0887\"],[0.1111111111111111,\"#46039f\"],[0.2222222222222222,\"#7201a8\"],[0.3333333333333333,\"#9c179e\"],[0.4444444444444444,\"#bd3786\"],[0.5555555555555556,\"#d8576b\"],[0.6666666666666666,\"#ed7953\"],[0.7777777777777778,\"#fb9f3a\"],[0.8888888888888888,\"#fdca26\"],[1.0,\"#f0f921\"]]}],\"choropleth\":[{\"type\":\"choropleth\",\"colorbar\":{\"outlinewidth\":0,\"ticks\":\"\"}}],\"histogram2d\":[{\"type\":\"histogram2d\",\"colorbar\":{\"outlinewidth\":0,\"ticks\":\"\"},\"colorscale\":[[0.0,\"#0d0887\"],[0.1111111111111111,\"#46039f\"],[0.2222222222222222,\"#7201a8\"],[0.3333333333333333,\"#9c179e\"],[0.4444444444444444,\"#bd3786\"],[0.5555555555555556,\"#d8576b\"],[0.6666666666666666,\"#ed7953\"],[0.7777777777777778,\"#fb9f3a\"],[0.8888888888888888,\"#fdca26\"],[1.0,\"#f0f921\"]]}],\"heatmap\":[{\"type\":\"heatmap\",\"colorbar\":{\"outlinewidth\":0,\"ticks\":\"\"},\"colorscale\":[[0.0,\"#0d0887\"],[0.1111111111111111,\"#46039f\"],[0.2222222222222222,\"#7201a8\"],[0.3333333333333333,\"#9c179e\"],[0.4444444444444444,\"#bd3786\"],[0.5555555555555556,\"#d8576b\"],[0.6666666666666666,\"#ed7953\"],[0.7777777777777778,\"#fb9f3a\"],[0.8888888888888888,\"#fdca26\"],[1.0,\"#f0f921\"]]}],\"heatmapgl\":[{\"type\":\"heatmapgl\",\"colorbar\":{\"outlinewidth\":0,\"ticks\":\"\"},\"colorscale\":[[0.0,\"#0d0887\"],[0.1111111111111111,\"#46039f\"],[0.2222222222222222,\"#7201a8\"],[0.3333333333333333,\"#9c179e\"],[0.4444444444444444,\"#bd3786\"],[0.5555555555555556,\"#d8576b\"],[0.6666666666666666,\"#ed7953\"],[0.7777777777777778,\"#fb9f3a\"],[0.8888888888888888,\"#fdca26\"],[1.0,\"#f0f921\"]]}],\"contourcarpet\":[{\"type\":\"contourcarpet\",\"colorbar\":{\"outlinewidth\":0,\"ticks\":\"\"}}],\"contour\":[{\"type\":\"contour\",\"colorbar\":{\"outlinewidth\":0,\"ticks\":\"\"},\"colorscale\":[[0.0,\"#0d0887\"],[0.1111111111111111,\"#46039f\"],[0.2222222222222222,\"#7201a8\"],[0.3333333333333333,\"#9c179e\"],[0.4444444444444444,\"#bd3786\"],[0.5555555555555556,\"#d8576b\"],[0.6666666666666666,\"#ed7953\"],[0.7777777777777778,\"#fb9f3a\"],[0.8888888888888888,\"#fdca26\"],[1.0,\"#f0f921\"]]}],\"surface\":[{\"type\":\"surface\",\"colorbar\":{\"outlinewidth\":0,\"ticks\":\"\"},\"colorscale\":[[0.0,\"#0d0887\"],[0.1111111111111111,\"#46039f\"],[0.2222222222222222,\"#7201a8\"],[0.3333333333333333,\"#9c179e\"],[0.4444444444444444,\"#bd3786\"],[0.5555555555555556,\"#d8576b\"],[0.6666666666666666,\"#ed7953\"],[0.7777777777777778,\"#fb9f3a\"],[0.8888888888888888,\"#fdca26\"],[1.0,\"#f0f921\"]]}],\"mesh3d\":[{\"type\":\"mesh3d\",\"colorbar\":{\"outlinewidth\":0,\"ticks\":\"\"}}],\"scatter\":[{\"marker\":{\"line\":{\"color\":\"#283442\"}},\"type\":\"scatter\"}],\"parcoords\":[{\"type\":\"parcoords\",\"line\":{\"colorbar\":{\"outlinewidth\":0,\"ticks\":\"\"}}}],\"scatterpolargl\":[{\"type\":\"scatterpolargl\",\"marker\":{\"colorbar\":{\"outlinewidth\":0,\"ticks\":\"\"}}}],\"bar\":[{\"error_x\":{\"color\":\"#f2f5fa\"},\"error_y\":{\"color\":\"#f2f5fa\"},\"marker\":{\"line\":{\"color\":\"rgb(17,17,17)\",\"width\":0.5},\"pattern\":{\"fillmode\":\"overlay\",\"size\":10,\"solidity\":0.2}},\"type\":\"bar\"}],\"scattergeo\":[{\"type\":\"scattergeo\",\"marker\":{\"colorbar\":{\"outlinewidth\":0,\"ticks\":\"\"}}}],\"scatterpolar\":[{\"type\":\"scatterpolar\",\"marker\":{\"colorbar\":{\"outlinewidth\":0,\"ticks\":\"\"}}}],\"histogram\":[{\"marker\":{\"pattern\":{\"fillmode\":\"overlay\",\"size\":10,\"solidity\":0.2}},\"type\":\"histogram\"}],\"scattergl\":[{\"marker\":{\"line\":{\"color\":\"#283442\"}},\"type\":\"scattergl\"}],\"scatter3d\":[{\"type\":\"scatter3d\",\"line\":{\"colorbar\":{\"outlinewidth\":0,\"ticks\":\"\"}},\"marker\":{\"colorbar\":{\"outlinewidth\":0,\"ticks\":\"\"}}}],\"scattermapbox\":[{\"type\":\"scattermapbox\",\"marker\":{\"colorbar\":{\"outlinewidth\":0,\"ticks\":\"\"}}}],\"scatterternary\":[{\"type\":\"scatterternary\",\"marker\":{\"colorbar\":{\"outlinewidth\":0,\"ticks\":\"\"}}}],\"scattercarpet\":[{\"type\":\"scattercarpet\",\"marker\":{\"colorbar\":{\"outlinewidth\":0,\"ticks\":\"\"}}}],\"carpet\":[{\"aaxis\":{\"endlinecolor\":\"#A2B1C6\",\"gridcolor\":\"#506784\",\"linecolor\":\"#506784\",\"minorgridcolor\":\"#506784\",\"startlinecolor\":\"#A2B1C6\"},\"baxis\":{\"endlinecolor\":\"#A2B1C6\",\"gridcolor\":\"#506784\",\"linecolor\":\"#506784\",\"minorgridcolor\":\"#506784\",\"startlinecolor\":\"#A2B1C6\"},\"type\":\"carpet\"}],\"table\":[{\"cells\":{\"fill\":{\"color\":\"#506784\"},\"line\":{\"color\":\"rgb(17,17,17)\"}},\"header\":{\"fill\":{\"color\":\"#2a3f5f\"},\"line\":{\"color\":\"rgb(17,17,17)\"}},\"type\":\"table\"}],\"barpolar\":[{\"marker\":{\"line\":{\"color\":\"rgb(17,17,17)\",\"width\":0.5},\"pattern\":{\"fillmode\":\"overlay\",\"size\":10,\"solidity\":0.2}},\"type\":\"barpolar\"}],\"pie\":[{\"automargin\":true,\"type\":\"pie\"}]},\"layout\":{\"autotypenumbers\":\"strict\",\"colorway\":[\"#636efa\",\"#EF553B\",\"#00cc96\",\"#ab63fa\",\"#FFA15A\",\"#19d3f3\",\"#FF6692\",\"#B6E880\",\"#FF97FF\",\"#FECB52\"],\"font\":{\"color\":\"#f2f5fa\"},\"hovermode\":\"closest\",\"hoverlabel\":{\"align\":\"left\"},\"paper_bgcolor\":\"rgb(17,17,17)\",\"plot_bgcolor\":\"rgb(17,17,17)\",\"polar\":{\"bgcolor\":\"rgb(17,17,17)\",\"angularaxis\":{\"gridcolor\":\"#506784\",\"linecolor\":\"#506784\",\"ticks\":\"\"},\"radialaxis\":{\"gridcolor\":\"#506784\",\"linecolor\":\"#506784\",\"ticks\":\"\"}},\"ternary\":{\"bgcolor\":\"rgb(17,17,17)\",\"aaxis\":{\"gridcolor\":\"#506784\",\"linecolor\":\"#506784\",\"ticks\":\"\"},\"baxis\":{\"gridcolor\":\"#506784\",\"linecolor\":\"#506784\",\"ticks\":\"\"},\"caxis\":{\"gridcolor\":\"#506784\",\"linecolor\":\"#506784\",\"ticks\":\"\"}},\"coloraxis\":{\"colorbar\":{\"outlinewidth\":0,\"ticks\":\"\"}},\"colorscale\":{\"sequential\":[[0.0,\"#0d0887\"],[0.1111111111111111,\"#46039f\"],[0.2222222222222222,\"#7201a8\"],[0.3333333333333333,\"#9c179e\"],[0.4444444444444444,\"#bd3786\"],[0.5555555555555556,\"#d8576b\"],[0.6666666666666666,\"#ed7953\"],[0.7777777777777778,\"#fb9f3a\"],[0.8888888888888888,\"#fdca26\"],[1.0,\"#f0f921\"]],\"sequentialminus\":[[0.0,\"#0d0887\"],[0.1111111111111111,\"#46039f\"],[0.2222222222222222,\"#7201a8\"],[0.3333333333333333,\"#9c179e\"],[0.4444444444444444,\"#bd3786\"],[0.5555555555555556,\"#d8576b\"],[0.6666666666666666,\"#ed7953\"],[0.7777777777777778,\"#fb9f3a\"],[0.8888888888888888,\"#fdca26\"],[1.0,\"#f0f921\"]],\"diverging\":[[0,\"#8e0152\"],[0.1,\"#c51b7d\"],[0.2,\"#de77ae\"],[0.3,\"#f1b6da\"],[0.4,\"#fde0ef\"],[0.5,\"#f7f7f7\"],[0.6,\"#e6f5d0\"],[0.7,\"#b8e186\"],[0.8,\"#7fbc41\"],[0.9,\"#4d9221\"],[1,\"#276419\"]]},\"xaxis\":{\"gridcolor\":\"#283442\",\"linecolor\":\"#506784\",\"ticks\":\"\",\"title\":{\"standoff\":15},\"zerolinecolor\":\"#283442\",\"automargin\":true,\"zerolinewidth\":2},\"yaxis\":{\"gridcolor\":\"#283442\",\"linecolor\":\"#506784\",\"ticks\":\"\",\"title\":{\"standoff\":15},\"zerolinecolor\":\"#283442\",\"automargin\":true,\"zerolinewidth\":2},\"scene\":{\"xaxis\":{\"backgroundcolor\":\"rgb(17,17,17)\",\"gridcolor\":\"#506784\",\"linecolor\":\"#506784\",\"showbackground\":true,\"ticks\":\"\",\"zerolinecolor\":\"#C8D4E3\",\"gridwidth\":2},\"yaxis\":{\"backgroundcolor\":\"rgb(17,17,17)\",\"gridcolor\":\"#506784\",\"linecolor\":\"#506784\",\"showbackground\":true,\"ticks\":\"\",\"zerolinecolor\":\"#C8D4E3\",\"gridwidth\":2},\"zaxis\":{\"backgroundcolor\":\"rgb(17,17,17)\",\"gridcolor\":\"#506784\",\"linecolor\":\"#506784\",\"showbackground\":true,\"ticks\":\"\",\"zerolinecolor\":\"#C8D4E3\",\"gridwidth\":2}},\"shapedefaults\":{\"line\":{\"color\":\"#f2f5fa\"}},\"annotationdefaults\":{\"arrowcolor\":\"#f2f5fa\",\"arrowhead\":0,\"arrowwidth\":1},\"geo\":{\"bgcolor\":\"rgb(17,17,17)\",\"landcolor\":\"rgb(17,17,17)\",\"subunitcolor\":\"#506784\",\"showland\":true,\"showlakes\":true,\"lakecolor\":\"rgb(17,17,17)\"},\"title\":{\"x\":0.05},\"updatemenudefaults\":{\"bgcolor\":\"#506784\",\"borderwidth\":0},\"sliderdefaults\":{\"bgcolor\":\"#C8D4E3\",\"borderwidth\":1,\"bordercolor\":\"rgb(17,17,17)\",\"tickwidth\":0},\"mapbox\":{\"style\":\"dark\"}}},\"xaxis\":{\"anchor\":\"y\",\"domain\":[0.0,1.0],\"title\":{\"text\":\"nb_goals_scored\"}},\"yaxis\":{\"anchor\":\"x\",\"domain\":[0.0,1.0],\"title\":{\"text\":\"nb_goals_conceded\"}},\"legend\":{\"title\":{\"text\":\"team\"},\"tracegroupgap\":0,\"itemsizing\":\"constant\"},\"title\":{\"text\":\"Corr\\u00e9lation entre le nombre de buts marqu\\u00e9s et conc\\u00e9d\\u00e9s\"},\"shapes\":[{\"line\":{\"color\":\"red\",\"dash\":\"dash\",\"width\":2},\"type\":\"line\",\"x0\":0,\"x1\":168,\"y0\":3,\"y1\":103}]},                        {\"responsive\": true}                    ).then(function(){\n                            \nvar gd = document.getElementById('46e121ba-c4d0-4f29-9846-b2eee6431133');\nvar x = new MutationObserver(function (mutations, observer) {{\n        var display = window.getComputedStyle(gd).display;\n        if (!display || display === 'none') {{\n            console.log([gd, 'removed!']);\n            Plotly.purge(gd);\n            observer.disconnect();\n        }}\n}});\n\n// Listen for the removal of the full notebook cells\nvar notebookContainer = gd.closest('#notebook-container');\nif (notebookContainer) {{\n    x.observe(notebookContainer, {childList: true});\n}}\n\n// Listen for the clearing of the current output cell\nvar outputEl = gd.closest('.output');\nif (outputEl) {{\n    x.observe(outputEl, {childList: true});\n}}\n\n                        })                };                });            </script>        </div>"
     },
     "metadata": {},
     "output_type": "display_data"
    }
   ],
   "source": [
    "fig = px.scatter(df_summary, x='nb_goals_scored', y='nb_goals_conceded',\n",
    "                 size='nb_tournaments',\n",
    "                 title='Corrélation entre le nombre de buts marqués et concédés')\n",
    "\n",
    "fig.add_shape(type='line',\n",
    "              x0=df_summary['nb_goals_scored'].min(),\n",
    "              y0=df_summary['nb_goals_conceded'].min(),\n",
    "              x1=df_summary['nb_goals_scored'].max(),\n",
    "              y1=df_summary['nb_goals_conceded'].max(),\n",
    "              line=dict(color='red', width=2, dash='dash'))\n",
    "\n",
    "fig.show()"
   ],
   "metadata": {
    "collapsed": false,
    "ExecuteTime": {
     "end_time": "2024-01-03T17:00:38.160571200Z",
     "start_time": "2024-01-03T17:00:37.519925700Z"
    }
   },
   "id": "3bff67a7db3f6fa5",
   "execution_count": 115
  },
  {
   "cell_type": "markdown",
   "source": [
    "Existe-t-il une corrélation entre le nombre de buts marqués et le nombre de victoires ?"
   ],
   "metadata": {
    "collapsed": false
   },
   "id": "850276916f17a0d6"
  },
  {
   "cell_type": "code",
   "outputs": [
    {
     "data": {
      "application/vnd.plotly.v1+json": {
       "data": [
        {
         "hovertemplate": "nb_goals_scored=%{x}<br>nb_wins=%{y}<br>nb_tournaments=%{marker.size}<extra></extra>",
         "legendgroup": "",
         "marker": {
          "color": "#636efa",
          "size": [
           25,
           24,
           23,
           20,
           20,
           19,
           19,
           19,
           18,
           17,
           16,
           13,
           12,
           12,
           11,
           10,
           9,
           8,
           8,
           8,
           7,
           7,
           6,
           5,
           4,
           4,
           3,
           3,
           3,
           3,
           3,
           3,
           3,
           2,
           2,
           2,
           2,
           1,
           1,
           1,
           1,
           1,
           1,
           1
          ],
          "sizemode": "area",
          "sizeref": 0.0625,
          "symbol": "circle"
         },
         "mode": "markers",
         "name": "",
         "orientation": "v",
         "showlegend": false,
         "x": [
          168,
          144,
          133,
          109,
          137,
          137,
          94,
          88,
          82,
          81,
          78,
          61,
          65,
          47,
          31,
          48,
          29,
          30,
          24,
          19,
          21,
          27,
          11,
          16,
          4,
          7,
          6,
          11,
          2,
          4,
          10,
          9,
          12,
          5,
          1,
          5,
          1,
          3,
          7,
          0,
          4,
          4,
          2,
          2
         ],
         "xaxis": "x",
         "y": [
          60,
          44,
          54,
          26,
          45,
          53,
          28,
          20,
          27,
          26,
          27,
          13,
          19,
          9,
          7,
          16,
          7,
          4,
          7,
          3,
          4,
          7,
          2,
          3,
          0,
          0,
          2,
          6,
          0,
          1,
          0,
          2,
          3,
          0,
          0,
          1,
          0,
          1,
          2,
          0,
          1,
          3,
          0,
          0
         ],
         "yaxis": "y",
         "type": "scatter"
        }
       ],
       "layout": {
        "template": {
         "data": {
          "histogram2dcontour": [
           {
            "type": "histogram2dcontour",
            "colorbar": {
             "outlinewidth": 0,
             "ticks": ""
            },
            "colorscale": [
             [
              0.0,
              "#0d0887"
             ],
             [
              0.1111111111111111,
              "#46039f"
             ],
             [
              0.2222222222222222,
              "#7201a8"
             ],
             [
              0.3333333333333333,
              "#9c179e"
             ],
             [
              0.4444444444444444,
              "#bd3786"
             ],
             [
              0.5555555555555556,
              "#d8576b"
             ],
             [
              0.6666666666666666,
              "#ed7953"
             ],
             [
              0.7777777777777778,
              "#fb9f3a"
             ],
             [
              0.8888888888888888,
              "#fdca26"
             ],
             [
              1.0,
              "#f0f921"
             ]
            ]
           }
          ],
          "choropleth": [
           {
            "type": "choropleth",
            "colorbar": {
             "outlinewidth": 0,
             "ticks": ""
            }
           }
          ],
          "histogram2d": [
           {
            "type": "histogram2d",
            "colorbar": {
             "outlinewidth": 0,
             "ticks": ""
            },
            "colorscale": [
             [
              0.0,
              "#0d0887"
             ],
             [
              0.1111111111111111,
              "#46039f"
             ],
             [
              0.2222222222222222,
              "#7201a8"
             ],
             [
              0.3333333333333333,
              "#9c179e"
             ],
             [
              0.4444444444444444,
              "#bd3786"
             ],
             [
              0.5555555555555556,
              "#d8576b"
             ],
             [
              0.6666666666666666,
              "#ed7953"
             ],
             [
              0.7777777777777778,
              "#fb9f3a"
             ],
             [
              0.8888888888888888,
              "#fdca26"
             ],
             [
              1.0,
              "#f0f921"
             ]
            ]
           }
          ],
          "heatmap": [
           {
            "type": "heatmap",
            "colorbar": {
             "outlinewidth": 0,
             "ticks": ""
            },
            "colorscale": [
             [
              0.0,
              "#0d0887"
             ],
             [
              0.1111111111111111,
              "#46039f"
             ],
             [
              0.2222222222222222,
              "#7201a8"
             ],
             [
              0.3333333333333333,
              "#9c179e"
             ],
             [
              0.4444444444444444,
              "#bd3786"
             ],
             [
              0.5555555555555556,
              "#d8576b"
             ],
             [
              0.6666666666666666,
              "#ed7953"
             ],
             [
              0.7777777777777778,
              "#fb9f3a"
             ],
             [
              0.8888888888888888,
              "#fdca26"
             ],
             [
              1.0,
              "#f0f921"
             ]
            ]
           }
          ],
          "heatmapgl": [
           {
            "type": "heatmapgl",
            "colorbar": {
             "outlinewidth": 0,
             "ticks": ""
            },
            "colorscale": [
             [
              0.0,
              "#0d0887"
             ],
             [
              0.1111111111111111,
              "#46039f"
             ],
             [
              0.2222222222222222,
              "#7201a8"
             ],
             [
              0.3333333333333333,
              "#9c179e"
             ],
             [
              0.4444444444444444,
              "#bd3786"
             ],
             [
              0.5555555555555556,
              "#d8576b"
             ],
             [
              0.6666666666666666,
              "#ed7953"
             ],
             [
              0.7777777777777778,
              "#fb9f3a"
             ],
             [
              0.8888888888888888,
              "#fdca26"
             ],
             [
              1.0,
              "#f0f921"
             ]
            ]
           }
          ],
          "contourcarpet": [
           {
            "type": "contourcarpet",
            "colorbar": {
             "outlinewidth": 0,
             "ticks": ""
            }
           }
          ],
          "contour": [
           {
            "type": "contour",
            "colorbar": {
             "outlinewidth": 0,
             "ticks": ""
            },
            "colorscale": [
             [
              0.0,
              "#0d0887"
             ],
             [
              0.1111111111111111,
              "#46039f"
             ],
             [
              0.2222222222222222,
              "#7201a8"
             ],
             [
              0.3333333333333333,
              "#9c179e"
             ],
             [
              0.4444444444444444,
              "#bd3786"
             ],
             [
              0.5555555555555556,
              "#d8576b"
             ],
             [
              0.6666666666666666,
              "#ed7953"
             ],
             [
              0.7777777777777778,
              "#fb9f3a"
             ],
             [
              0.8888888888888888,
              "#fdca26"
             ],
             [
              1.0,
              "#f0f921"
             ]
            ]
           }
          ],
          "surface": [
           {
            "type": "surface",
            "colorbar": {
             "outlinewidth": 0,
             "ticks": ""
            },
            "colorscale": [
             [
              0.0,
              "#0d0887"
             ],
             [
              0.1111111111111111,
              "#46039f"
             ],
             [
              0.2222222222222222,
              "#7201a8"
             ],
             [
              0.3333333333333333,
              "#9c179e"
             ],
             [
              0.4444444444444444,
              "#bd3786"
             ],
             [
              0.5555555555555556,
              "#d8576b"
             ],
             [
              0.6666666666666666,
              "#ed7953"
             ],
             [
              0.7777777777777778,
              "#fb9f3a"
             ],
             [
              0.8888888888888888,
              "#fdca26"
             ],
             [
              1.0,
              "#f0f921"
             ]
            ]
           }
          ],
          "mesh3d": [
           {
            "type": "mesh3d",
            "colorbar": {
             "outlinewidth": 0,
             "ticks": ""
            }
           }
          ],
          "scatter": [
           {
            "marker": {
             "line": {
              "color": "#283442"
             }
            },
            "type": "scatter"
           }
          ],
          "parcoords": [
           {
            "type": "parcoords",
            "line": {
             "colorbar": {
              "outlinewidth": 0,
              "ticks": ""
             }
            }
           }
          ],
          "scatterpolargl": [
           {
            "type": "scatterpolargl",
            "marker": {
             "colorbar": {
              "outlinewidth": 0,
              "ticks": ""
             }
            }
           }
          ],
          "bar": [
           {
            "error_x": {
             "color": "#f2f5fa"
            },
            "error_y": {
             "color": "#f2f5fa"
            },
            "marker": {
             "line": {
              "color": "rgb(17,17,17)",
              "width": 0.5
             },
             "pattern": {
              "fillmode": "overlay",
              "size": 10,
              "solidity": 0.2
             }
            },
            "type": "bar"
           }
          ],
          "scattergeo": [
           {
            "type": "scattergeo",
            "marker": {
             "colorbar": {
              "outlinewidth": 0,
              "ticks": ""
             }
            }
           }
          ],
          "scatterpolar": [
           {
            "type": "scatterpolar",
            "marker": {
             "colorbar": {
              "outlinewidth": 0,
              "ticks": ""
             }
            }
           }
          ],
          "histogram": [
           {
            "marker": {
             "pattern": {
              "fillmode": "overlay",
              "size": 10,
              "solidity": 0.2
             }
            },
            "type": "histogram"
           }
          ],
          "scattergl": [
           {
            "marker": {
             "line": {
              "color": "#283442"
             }
            },
            "type": "scattergl"
           }
          ],
          "scatter3d": [
           {
            "type": "scatter3d",
            "line": {
             "colorbar": {
              "outlinewidth": 0,
              "ticks": ""
             }
            },
            "marker": {
             "colorbar": {
              "outlinewidth": 0,
              "ticks": ""
             }
            }
           }
          ],
          "scattermapbox": [
           {
            "type": "scattermapbox",
            "marker": {
             "colorbar": {
              "outlinewidth": 0,
              "ticks": ""
             }
            }
           }
          ],
          "scatterternary": [
           {
            "type": "scatterternary",
            "marker": {
             "colorbar": {
              "outlinewidth": 0,
              "ticks": ""
             }
            }
           }
          ],
          "scattercarpet": [
           {
            "type": "scattercarpet",
            "marker": {
             "colorbar": {
              "outlinewidth": 0,
              "ticks": ""
             }
            }
           }
          ],
          "carpet": [
           {
            "aaxis": {
             "endlinecolor": "#A2B1C6",
             "gridcolor": "#506784",
             "linecolor": "#506784",
             "minorgridcolor": "#506784",
             "startlinecolor": "#A2B1C6"
            },
            "baxis": {
             "endlinecolor": "#A2B1C6",
             "gridcolor": "#506784",
             "linecolor": "#506784",
             "minorgridcolor": "#506784",
             "startlinecolor": "#A2B1C6"
            },
            "type": "carpet"
           }
          ],
          "table": [
           {
            "cells": {
             "fill": {
              "color": "#506784"
             },
             "line": {
              "color": "rgb(17,17,17)"
             }
            },
            "header": {
             "fill": {
              "color": "#2a3f5f"
             },
             "line": {
              "color": "rgb(17,17,17)"
             }
            },
            "type": "table"
           }
          ],
          "barpolar": [
           {
            "marker": {
             "line": {
              "color": "rgb(17,17,17)",
              "width": 0.5
             },
             "pattern": {
              "fillmode": "overlay",
              "size": 10,
              "solidity": 0.2
             }
            },
            "type": "barpolar"
           }
          ],
          "pie": [
           {
            "automargin": true,
            "type": "pie"
           }
          ]
         },
         "layout": {
          "autotypenumbers": "strict",
          "colorway": [
           "#636efa",
           "#EF553B",
           "#00cc96",
           "#ab63fa",
           "#FFA15A",
           "#19d3f3",
           "#FF6692",
           "#B6E880",
           "#FF97FF",
           "#FECB52"
          ],
          "font": {
           "color": "#f2f5fa"
          },
          "hovermode": "closest",
          "hoverlabel": {
           "align": "left"
          },
          "paper_bgcolor": "rgb(17,17,17)",
          "plot_bgcolor": "rgb(17,17,17)",
          "polar": {
           "bgcolor": "rgb(17,17,17)",
           "angularaxis": {
            "gridcolor": "#506784",
            "linecolor": "#506784",
            "ticks": ""
           },
           "radialaxis": {
            "gridcolor": "#506784",
            "linecolor": "#506784",
            "ticks": ""
           }
          },
          "ternary": {
           "bgcolor": "rgb(17,17,17)",
           "aaxis": {
            "gridcolor": "#506784",
            "linecolor": "#506784",
            "ticks": ""
           },
           "baxis": {
            "gridcolor": "#506784",
            "linecolor": "#506784",
            "ticks": ""
           },
           "caxis": {
            "gridcolor": "#506784",
            "linecolor": "#506784",
            "ticks": ""
           }
          },
          "coloraxis": {
           "colorbar": {
            "outlinewidth": 0,
            "ticks": ""
           }
          },
          "colorscale": {
           "sequential": [
            [
             0.0,
             "#0d0887"
            ],
            [
             0.1111111111111111,
             "#46039f"
            ],
            [
             0.2222222222222222,
             "#7201a8"
            ],
            [
             0.3333333333333333,
             "#9c179e"
            ],
            [
             0.4444444444444444,
             "#bd3786"
            ],
            [
             0.5555555555555556,
             "#d8576b"
            ],
            [
             0.6666666666666666,
             "#ed7953"
            ],
            [
             0.7777777777777778,
             "#fb9f3a"
            ],
            [
             0.8888888888888888,
             "#fdca26"
            ],
            [
             1.0,
             "#f0f921"
            ]
           ],
           "sequentialminus": [
            [
             0.0,
             "#0d0887"
            ],
            [
             0.1111111111111111,
             "#46039f"
            ],
            [
             0.2222222222222222,
             "#7201a8"
            ],
            [
             0.3333333333333333,
             "#9c179e"
            ],
            [
             0.4444444444444444,
             "#bd3786"
            ],
            [
             0.5555555555555556,
             "#d8576b"
            ],
            [
             0.6666666666666666,
             "#ed7953"
            ],
            [
             0.7777777777777778,
             "#fb9f3a"
            ],
            [
             0.8888888888888888,
             "#fdca26"
            ],
            [
             1.0,
             "#f0f921"
            ]
           ],
           "diverging": [
            [
             0,
             "#8e0152"
            ],
            [
             0.1,
             "#c51b7d"
            ],
            [
             0.2,
             "#de77ae"
            ],
            [
             0.3,
             "#f1b6da"
            ],
            [
             0.4,
             "#fde0ef"
            ],
            [
             0.5,
             "#f7f7f7"
            ],
            [
             0.6,
             "#e6f5d0"
            ],
            [
             0.7,
             "#b8e186"
            ],
            [
             0.8,
             "#7fbc41"
            ],
            [
             0.9,
             "#4d9221"
            ],
            [
             1,
             "#276419"
            ]
           ]
          },
          "xaxis": {
           "gridcolor": "#283442",
           "linecolor": "#506784",
           "ticks": "",
           "title": {
            "standoff": 15
           },
           "zerolinecolor": "#283442",
           "automargin": true,
           "zerolinewidth": 2
          },
          "yaxis": {
           "gridcolor": "#283442",
           "linecolor": "#506784",
           "ticks": "",
           "title": {
            "standoff": 15
           },
           "zerolinecolor": "#283442",
           "automargin": true,
           "zerolinewidth": 2
          },
          "scene": {
           "xaxis": {
            "backgroundcolor": "rgb(17,17,17)",
            "gridcolor": "#506784",
            "linecolor": "#506784",
            "showbackground": true,
            "ticks": "",
            "zerolinecolor": "#C8D4E3",
            "gridwidth": 2
           },
           "yaxis": {
            "backgroundcolor": "rgb(17,17,17)",
            "gridcolor": "#506784",
            "linecolor": "#506784",
            "showbackground": true,
            "ticks": "",
            "zerolinecolor": "#C8D4E3",
            "gridwidth": 2
           },
           "zaxis": {
            "backgroundcolor": "rgb(17,17,17)",
            "gridcolor": "#506784",
            "linecolor": "#506784",
            "showbackground": true,
            "ticks": "",
            "zerolinecolor": "#C8D4E3",
            "gridwidth": 2
           }
          },
          "shapedefaults": {
           "line": {
            "color": "#f2f5fa"
           }
          },
          "annotationdefaults": {
           "arrowcolor": "#f2f5fa",
           "arrowhead": 0,
           "arrowwidth": 1
          },
          "geo": {
           "bgcolor": "rgb(17,17,17)",
           "landcolor": "rgb(17,17,17)",
           "subunitcolor": "#506784",
           "showland": true,
           "showlakes": true,
           "lakecolor": "rgb(17,17,17)"
          },
          "title": {
           "x": 0.05
          },
          "updatemenudefaults": {
           "bgcolor": "#506784",
           "borderwidth": 0
          },
          "sliderdefaults": {
           "bgcolor": "#C8D4E3",
           "borderwidth": 1,
           "bordercolor": "rgb(17,17,17)",
           "tickwidth": 0
          },
          "mapbox": {
           "style": "dark"
          }
         }
        },
        "xaxis": {
         "anchor": "y",
         "domain": [
          0.0,
          1.0
         ],
         "title": {
          "text": "nb_goals_scored"
         }
        },
        "yaxis": {
         "anchor": "x",
         "domain": [
          0.0,
          1.0
         ],
         "title": {
          "text": "nb_wins"
         }
        },
        "legend": {
         "tracegroupgap": 0,
         "itemsizing": "constant"
        },
        "title": {
         "text": "Corrélation entre le nombre de buts marqués et le nombre de victoires"
        },
        "shapes": [
         {
          "line": {
           "color": "red",
           "dash": "dash",
           "width": 2
          },
          "type": "line",
          "x0": 0,
          "x1": 168,
          "y0": 0,
          "y1": 60
         }
        ]
       },
       "config": {
        "plotlyServerURL": "https://plot.ly"
       }
      },
      "text/html": "<div>                            <div id=\"9645d3b2-8b69-4ebf-89ab-dbd6eccbc69f\" class=\"plotly-graph-div\" style=\"height:525px; width:100%;\"></div>            <script type=\"text/javascript\">                require([\"plotly\"], function(Plotly) {                    window.PLOTLYENV=window.PLOTLYENV || {};                                    if (document.getElementById(\"9645d3b2-8b69-4ebf-89ab-dbd6eccbc69f\")) {                    Plotly.newPlot(                        \"9645d3b2-8b69-4ebf-89ab-dbd6eccbc69f\",                        [{\"hovertemplate\":\"nb_goals_scored=%{x}<br>nb_wins=%{y}<br>nb_tournaments=%{marker.size}<extra></extra>\",\"legendgroup\":\"\",\"marker\":{\"color\":\"#636efa\",\"size\":[25,24,23,20,20,19,19,19,18,17,16,13,12,12,11,10,9,8,8,8,7,7,6,5,4,4,3,3,3,3,3,3,3,2,2,2,2,1,1,1,1,1,1,1],\"sizemode\":\"area\",\"sizeref\":0.0625,\"symbol\":\"circle\"},\"mode\":\"markers\",\"name\":\"\",\"orientation\":\"v\",\"showlegend\":false,\"x\":[168,144,133,109,137,137,94,88,82,81,78,61,65,47,31,48,29,30,24,19,21,27,11,16,4,7,6,11,2,4,10,9,12,5,1,5,1,3,7,0,4,4,2,2],\"xaxis\":\"x\",\"y\":[60,44,54,26,45,53,28,20,27,26,27,13,19,9,7,16,7,4,7,3,4,7,2,3,0,0,2,6,0,1,0,2,3,0,0,1,0,1,2,0,1,3,0,0],\"yaxis\":\"y\",\"type\":\"scatter\"}],                        {\"template\":{\"data\":{\"histogram2dcontour\":[{\"type\":\"histogram2dcontour\",\"colorbar\":{\"outlinewidth\":0,\"ticks\":\"\"},\"colorscale\":[[0.0,\"#0d0887\"],[0.1111111111111111,\"#46039f\"],[0.2222222222222222,\"#7201a8\"],[0.3333333333333333,\"#9c179e\"],[0.4444444444444444,\"#bd3786\"],[0.5555555555555556,\"#d8576b\"],[0.6666666666666666,\"#ed7953\"],[0.7777777777777778,\"#fb9f3a\"],[0.8888888888888888,\"#fdca26\"],[1.0,\"#f0f921\"]]}],\"choropleth\":[{\"type\":\"choropleth\",\"colorbar\":{\"outlinewidth\":0,\"ticks\":\"\"}}],\"histogram2d\":[{\"type\":\"histogram2d\",\"colorbar\":{\"outlinewidth\":0,\"ticks\":\"\"},\"colorscale\":[[0.0,\"#0d0887\"],[0.1111111111111111,\"#46039f\"],[0.2222222222222222,\"#7201a8\"],[0.3333333333333333,\"#9c179e\"],[0.4444444444444444,\"#bd3786\"],[0.5555555555555556,\"#d8576b\"],[0.6666666666666666,\"#ed7953\"],[0.7777777777777778,\"#fb9f3a\"],[0.8888888888888888,\"#fdca26\"],[1.0,\"#f0f921\"]]}],\"heatmap\":[{\"type\":\"heatmap\",\"colorbar\":{\"outlinewidth\":0,\"ticks\":\"\"},\"colorscale\":[[0.0,\"#0d0887\"],[0.1111111111111111,\"#46039f\"],[0.2222222222222222,\"#7201a8\"],[0.3333333333333333,\"#9c179e\"],[0.4444444444444444,\"#bd3786\"],[0.5555555555555556,\"#d8576b\"],[0.6666666666666666,\"#ed7953\"],[0.7777777777777778,\"#fb9f3a\"],[0.8888888888888888,\"#fdca26\"],[1.0,\"#f0f921\"]]}],\"heatmapgl\":[{\"type\":\"heatmapgl\",\"colorbar\":{\"outlinewidth\":0,\"ticks\":\"\"},\"colorscale\":[[0.0,\"#0d0887\"],[0.1111111111111111,\"#46039f\"],[0.2222222222222222,\"#7201a8\"],[0.3333333333333333,\"#9c179e\"],[0.4444444444444444,\"#bd3786\"],[0.5555555555555556,\"#d8576b\"],[0.6666666666666666,\"#ed7953\"],[0.7777777777777778,\"#fb9f3a\"],[0.8888888888888888,\"#fdca26\"],[1.0,\"#f0f921\"]]}],\"contourcarpet\":[{\"type\":\"contourcarpet\",\"colorbar\":{\"outlinewidth\":0,\"ticks\":\"\"}}],\"contour\":[{\"type\":\"contour\",\"colorbar\":{\"outlinewidth\":0,\"ticks\":\"\"},\"colorscale\":[[0.0,\"#0d0887\"],[0.1111111111111111,\"#46039f\"],[0.2222222222222222,\"#7201a8\"],[0.3333333333333333,\"#9c179e\"],[0.4444444444444444,\"#bd3786\"],[0.5555555555555556,\"#d8576b\"],[0.6666666666666666,\"#ed7953\"],[0.7777777777777778,\"#fb9f3a\"],[0.8888888888888888,\"#fdca26\"],[1.0,\"#f0f921\"]]}],\"surface\":[{\"type\":\"surface\",\"colorbar\":{\"outlinewidth\":0,\"ticks\":\"\"},\"colorscale\":[[0.0,\"#0d0887\"],[0.1111111111111111,\"#46039f\"],[0.2222222222222222,\"#7201a8\"],[0.3333333333333333,\"#9c179e\"],[0.4444444444444444,\"#bd3786\"],[0.5555555555555556,\"#d8576b\"],[0.6666666666666666,\"#ed7953\"],[0.7777777777777778,\"#fb9f3a\"],[0.8888888888888888,\"#fdca26\"],[1.0,\"#f0f921\"]]}],\"mesh3d\":[{\"type\":\"mesh3d\",\"colorbar\":{\"outlinewidth\":0,\"ticks\":\"\"}}],\"scatter\":[{\"marker\":{\"line\":{\"color\":\"#283442\"}},\"type\":\"scatter\"}],\"parcoords\":[{\"type\":\"parcoords\",\"line\":{\"colorbar\":{\"outlinewidth\":0,\"ticks\":\"\"}}}],\"scatterpolargl\":[{\"type\":\"scatterpolargl\",\"marker\":{\"colorbar\":{\"outlinewidth\":0,\"ticks\":\"\"}}}],\"bar\":[{\"error_x\":{\"color\":\"#f2f5fa\"},\"error_y\":{\"color\":\"#f2f5fa\"},\"marker\":{\"line\":{\"color\":\"rgb(17,17,17)\",\"width\":0.5},\"pattern\":{\"fillmode\":\"overlay\",\"size\":10,\"solidity\":0.2}},\"type\":\"bar\"}],\"scattergeo\":[{\"type\":\"scattergeo\",\"marker\":{\"colorbar\":{\"outlinewidth\":0,\"ticks\":\"\"}}}],\"scatterpolar\":[{\"type\":\"scatterpolar\",\"marker\":{\"colorbar\":{\"outlinewidth\":0,\"ticks\":\"\"}}}],\"histogram\":[{\"marker\":{\"pattern\":{\"fillmode\":\"overlay\",\"size\":10,\"solidity\":0.2}},\"type\":\"histogram\"}],\"scattergl\":[{\"marker\":{\"line\":{\"color\":\"#283442\"}},\"type\":\"scattergl\"}],\"scatter3d\":[{\"type\":\"scatter3d\",\"line\":{\"colorbar\":{\"outlinewidth\":0,\"ticks\":\"\"}},\"marker\":{\"colorbar\":{\"outlinewidth\":0,\"ticks\":\"\"}}}],\"scattermapbox\":[{\"type\":\"scattermapbox\",\"marker\":{\"colorbar\":{\"outlinewidth\":0,\"ticks\":\"\"}}}],\"scatterternary\":[{\"type\":\"scatterternary\",\"marker\":{\"colorbar\":{\"outlinewidth\":0,\"ticks\":\"\"}}}],\"scattercarpet\":[{\"type\":\"scattercarpet\",\"marker\":{\"colorbar\":{\"outlinewidth\":0,\"ticks\":\"\"}}}],\"carpet\":[{\"aaxis\":{\"endlinecolor\":\"#A2B1C6\",\"gridcolor\":\"#506784\",\"linecolor\":\"#506784\",\"minorgridcolor\":\"#506784\",\"startlinecolor\":\"#A2B1C6\"},\"baxis\":{\"endlinecolor\":\"#A2B1C6\",\"gridcolor\":\"#506784\",\"linecolor\":\"#506784\",\"minorgridcolor\":\"#506784\",\"startlinecolor\":\"#A2B1C6\"},\"type\":\"carpet\"}],\"table\":[{\"cells\":{\"fill\":{\"color\":\"#506784\"},\"line\":{\"color\":\"rgb(17,17,17)\"}},\"header\":{\"fill\":{\"color\":\"#2a3f5f\"},\"line\":{\"color\":\"rgb(17,17,17)\"}},\"type\":\"table\"}],\"barpolar\":[{\"marker\":{\"line\":{\"color\":\"rgb(17,17,17)\",\"width\":0.5},\"pattern\":{\"fillmode\":\"overlay\",\"size\":10,\"solidity\":0.2}},\"type\":\"barpolar\"}],\"pie\":[{\"automargin\":true,\"type\":\"pie\"}]},\"layout\":{\"autotypenumbers\":\"strict\",\"colorway\":[\"#636efa\",\"#EF553B\",\"#00cc96\",\"#ab63fa\",\"#FFA15A\",\"#19d3f3\",\"#FF6692\",\"#B6E880\",\"#FF97FF\",\"#FECB52\"],\"font\":{\"color\":\"#f2f5fa\"},\"hovermode\":\"closest\",\"hoverlabel\":{\"align\":\"left\"},\"paper_bgcolor\":\"rgb(17,17,17)\",\"plot_bgcolor\":\"rgb(17,17,17)\",\"polar\":{\"bgcolor\":\"rgb(17,17,17)\",\"angularaxis\":{\"gridcolor\":\"#506784\",\"linecolor\":\"#506784\",\"ticks\":\"\"},\"radialaxis\":{\"gridcolor\":\"#506784\",\"linecolor\":\"#506784\",\"ticks\":\"\"}},\"ternary\":{\"bgcolor\":\"rgb(17,17,17)\",\"aaxis\":{\"gridcolor\":\"#506784\",\"linecolor\":\"#506784\",\"ticks\":\"\"},\"baxis\":{\"gridcolor\":\"#506784\",\"linecolor\":\"#506784\",\"ticks\":\"\"},\"caxis\":{\"gridcolor\":\"#506784\",\"linecolor\":\"#506784\",\"ticks\":\"\"}},\"coloraxis\":{\"colorbar\":{\"outlinewidth\":0,\"ticks\":\"\"}},\"colorscale\":{\"sequential\":[[0.0,\"#0d0887\"],[0.1111111111111111,\"#46039f\"],[0.2222222222222222,\"#7201a8\"],[0.3333333333333333,\"#9c179e\"],[0.4444444444444444,\"#bd3786\"],[0.5555555555555556,\"#d8576b\"],[0.6666666666666666,\"#ed7953\"],[0.7777777777777778,\"#fb9f3a\"],[0.8888888888888888,\"#fdca26\"],[1.0,\"#f0f921\"]],\"sequentialminus\":[[0.0,\"#0d0887\"],[0.1111111111111111,\"#46039f\"],[0.2222222222222222,\"#7201a8\"],[0.3333333333333333,\"#9c179e\"],[0.4444444444444444,\"#bd3786\"],[0.5555555555555556,\"#d8576b\"],[0.6666666666666666,\"#ed7953\"],[0.7777777777777778,\"#fb9f3a\"],[0.8888888888888888,\"#fdca26\"],[1.0,\"#f0f921\"]],\"diverging\":[[0,\"#8e0152\"],[0.1,\"#c51b7d\"],[0.2,\"#de77ae\"],[0.3,\"#f1b6da\"],[0.4,\"#fde0ef\"],[0.5,\"#f7f7f7\"],[0.6,\"#e6f5d0\"],[0.7,\"#b8e186\"],[0.8,\"#7fbc41\"],[0.9,\"#4d9221\"],[1,\"#276419\"]]},\"xaxis\":{\"gridcolor\":\"#283442\",\"linecolor\":\"#506784\",\"ticks\":\"\",\"title\":{\"standoff\":15},\"zerolinecolor\":\"#283442\",\"automargin\":true,\"zerolinewidth\":2},\"yaxis\":{\"gridcolor\":\"#283442\",\"linecolor\":\"#506784\",\"ticks\":\"\",\"title\":{\"standoff\":15},\"zerolinecolor\":\"#283442\",\"automargin\":true,\"zerolinewidth\":2},\"scene\":{\"xaxis\":{\"backgroundcolor\":\"rgb(17,17,17)\",\"gridcolor\":\"#506784\",\"linecolor\":\"#506784\",\"showbackground\":true,\"ticks\":\"\",\"zerolinecolor\":\"#C8D4E3\",\"gridwidth\":2},\"yaxis\":{\"backgroundcolor\":\"rgb(17,17,17)\",\"gridcolor\":\"#506784\",\"linecolor\":\"#506784\",\"showbackground\":true,\"ticks\":\"\",\"zerolinecolor\":\"#C8D4E3\",\"gridwidth\":2},\"zaxis\":{\"backgroundcolor\":\"rgb(17,17,17)\",\"gridcolor\":\"#506784\",\"linecolor\":\"#506784\",\"showbackground\":true,\"ticks\":\"\",\"zerolinecolor\":\"#C8D4E3\",\"gridwidth\":2}},\"shapedefaults\":{\"line\":{\"color\":\"#f2f5fa\"}},\"annotationdefaults\":{\"arrowcolor\":\"#f2f5fa\",\"arrowhead\":0,\"arrowwidth\":1},\"geo\":{\"bgcolor\":\"rgb(17,17,17)\",\"landcolor\":\"rgb(17,17,17)\",\"subunitcolor\":\"#506784\",\"showland\":true,\"showlakes\":true,\"lakecolor\":\"rgb(17,17,17)\"},\"title\":{\"x\":0.05},\"updatemenudefaults\":{\"bgcolor\":\"#506784\",\"borderwidth\":0},\"sliderdefaults\":{\"bgcolor\":\"#C8D4E3\",\"borderwidth\":1,\"bordercolor\":\"rgb(17,17,17)\",\"tickwidth\":0},\"mapbox\":{\"style\":\"dark\"}}},\"xaxis\":{\"anchor\":\"y\",\"domain\":[0.0,1.0],\"title\":{\"text\":\"nb_goals_scored\"}},\"yaxis\":{\"anchor\":\"x\",\"domain\":[0.0,1.0],\"title\":{\"text\":\"nb_wins\"}},\"legend\":{\"tracegroupgap\":0,\"itemsizing\":\"constant\"},\"title\":{\"text\":\"Corr\\u00e9lation entre le nombre de buts marqu\\u00e9s et le nombre de victoires\"},\"shapes\":[{\"line\":{\"color\":\"red\",\"dash\":\"dash\",\"width\":2},\"type\":\"line\",\"x0\":0,\"x1\":168,\"y0\":0,\"y1\":60}]},                        {\"responsive\": true}                    ).then(function(){\n                            \nvar gd = document.getElementById('9645d3b2-8b69-4ebf-89ab-dbd6eccbc69f');\nvar x = new MutationObserver(function (mutations, observer) {{\n        var display = window.getComputedStyle(gd).display;\n        if (!display || display === 'none') {{\n            console.log([gd, 'removed!']);\n            Plotly.purge(gd);\n            observer.disconnect();\n        }}\n}});\n\n// Listen for the removal of the full notebook cells\nvar notebookContainer = gd.closest('#notebook-container');\nif (notebookContainer) {{\n    x.observe(notebookContainer, {childList: true});\n}}\n\n// Listen for the clearing of the current output cell\nvar outputEl = gd.closest('.output');\nif (outputEl) {{\n    x.observe(outputEl, {childList: true});\n}}\n\n                        })                };                });            </script>        </div>"
     },
     "metadata": {},
     "output_type": "display_data"
    }
   ],
   "source": [
    "fig = px.scatter(df_summary, x='nb_goals_scored', y='nb_wins',\n",
    "                 size='nb_tournaments',\n",
    "                 title='Corrélation entre le nombre de buts marqués et le nombre de victoires')\n",
    "\n",
    "fig.add_shape(type='line',\n",
    "              x0=df_summary['nb_goals_scored'].min(),\n",
    "              y0=df_summary['nb_wins'].min(),\n",
    "              x1=df_summary['nb_goals_scored'].max(),\n",
    "              y1=df_summary['nb_wins'].max(),\n",
    "              line=dict(color='red', width=2, dash='dash'))\n",
    "\n",
    "fig.show()"
   ],
   "metadata": {
    "collapsed": false,
    "ExecuteTime": {
     "end_time": "2024-01-03T17:01:22.651989200Z",
     "start_time": "2024-01-03T17:01:22.496758800Z"
    }
   },
   "id": "5b96946d11b252c3",
   "execution_count": 116
  },
  {
   "cell_type": "markdown",
   "source": [
    "---\n",
    "## Autres explorations"
   ],
   "metadata": {
    "collapsed": false
   },
   "id": "71e4d5f35b4ac202"
  },
  {
   "cell_type": "code",
   "outputs": [
    {
     "data": {
      "text/plain": "                     Country   Region\n0                    Algeria     UNAF\n1                     Angola   COSAFA\n2                      Benin     UFOA\n3                   Botswana   COSAFA\n4               Burkina Faso     UFOA\n5                    Burundi   CECAFA\n6                   Cameroon  UNIFFAC\n7                 Cape Verde     UFOA\n8   Central African Republic  UNIFFAC\n9                       Chad  UNIFFAC\n10                   Comoros   COSAFA\n11                  DR Congo  UNIFFAC\n12                  Djibouti   CECAFA\n13                     Egypt     UNAF\n14         Equatorial Guinea  UNIFFAC\n15                   Eritrea   CECAFA\n16                  Eswatini   COSAFA\n17                  Ethiopia   CECAFA\n18                     Gabon  UNIFFAC\n19                    Gambia     UFOA\n20                     Ghana     UFOA\n21                    Guinea     UFOA\n22             Guinea-Bissau     UFOA\n23               Ivory Coast     UFOA\n24                     Kenya   CECAFA\n25                   Lesotho   COSAFA\n26                   Liberia     UFOA\n27                     Libya     UNAF\n28                Madagascar   COSAFA\n29                    Malawi   COSAFA\n30                      Mali     UFOA\n31                Mauritania     UFOA\n32                 Mauritius   COSAFA\n33                   Morocco     UNAF\n34                Mozambique   COSAFA\n35                   Namibia   COSAFA\n36                     Niger     UFOA\n37                   Nigeria     UFOA\n38                     Congo  UNIFFAC\n39                    Rwanda   CECAFA\n40     Sao Tome and Principe  UNIFFAC\n41                   Senegal     UFOA\n42                Seychelles   COSAFA\n43              Sierra Leone     UFOA\n44                   Somalia   CECAFA\n45              South Africa   COSAFA\n46               South Sudan   CECAFA\n47                     Sudan   CECAFA\n48                  Tanzania   CECAFA\n49                      Togo     UFOA\n50                   Tunisia     UNAF\n51                    Uganda   CECAFA\n52                    Zambia   COSAFA\n53                  Zimbabwe   COSAFA",
      "text/html": "<div>\n<style scoped>\n    .dataframe tbody tr th:only-of-type {\n        vertical-align: middle;\n    }\n\n    .dataframe tbody tr th {\n        vertical-align: top;\n    }\n\n    .dataframe thead th {\n        text-align: right;\n    }\n</style>\n<table border=\"1\" class=\"dataframe\">\n  <thead>\n    <tr style=\"text-align: right;\">\n      <th></th>\n      <th>Country</th>\n      <th>Region</th>\n    </tr>\n  </thead>\n  <tbody>\n    <tr>\n      <th>0</th>\n      <td>Algeria</td>\n      <td>UNAF</td>\n    </tr>\n    <tr>\n      <th>1</th>\n      <td>Angola</td>\n      <td>COSAFA</td>\n    </tr>\n    <tr>\n      <th>2</th>\n      <td>Benin</td>\n      <td>UFOA</td>\n    </tr>\n    <tr>\n      <th>3</th>\n      <td>Botswana</td>\n      <td>COSAFA</td>\n    </tr>\n    <tr>\n      <th>4</th>\n      <td>Burkina Faso</td>\n      <td>UFOA</td>\n    </tr>\n    <tr>\n      <th>5</th>\n      <td>Burundi</td>\n      <td>CECAFA</td>\n    </tr>\n    <tr>\n      <th>6</th>\n      <td>Cameroon</td>\n      <td>UNIFFAC</td>\n    </tr>\n    <tr>\n      <th>7</th>\n      <td>Cape Verde</td>\n      <td>UFOA</td>\n    </tr>\n    <tr>\n      <th>8</th>\n      <td>Central African Republic</td>\n      <td>UNIFFAC</td>\n    </tr>\n    <tr>\n      <th>9</th>\n      <td>Chad</td>\n      <td>UNIFFAC</td>\n    </tr>\n    <tr>\n      <th>10</th>\n      <td>Comoros</td>\n      <td>COSAFA</td>\n    </tr>\n    <tr>\n      <th>11</th>\n      <td>DR Congo</td>\n      <td>UNIFFAC</td>\n    </tr>\n    <tr>\n      <th>12</th>\n      <td>Djibouti</td>\n      <td>CECAFA</td>\n    </tr>\n    <tr>\n      <th>13</th>\n      <td>Egypt</td>\n      <td>UNAF</td>\n    </tr>\n    <tr>\n      <th>14</th>\n      <td>Equatorial Guinea</td>\n      <td>UNIFFAC</td>\n    </tr>\n    <tr>\n      <th>15</th>\n      <td>Eritrea</td>\n      <td>CECAFA</td>\n    </tr>\n    <tr>\n      <th>16</th>\n      <td>Eswatini</td>\n      <td>COSAFA</td>\n    </tr>\n    <tr>\n      <th>17</th>\n      <td>Ethiopia</td>\n      <td>CECAFA</td>\n    </tr>\n    <tr>\n      <th>18</th>\n      <td>Gabon</td>\n      <td>UNIFFAC</td>\n    </tr>\n    <tr>\n      <th>19</th>\n      <td>Gambia</td>\n      <td>UFOA</td>\n    </tr>\n    <tr>\n      <th>20</th>\n      <td>Ghana</td>\n      <td>UFOA</td>\n    </tr>\n    <tr>\n      <th>21</th>\n      <td>Guinea</td>\n      <td>UFOA</td>\n    </tr>\n    <tr>\n      <th>22</th>\n      <td>Guinea-Bissau</td>\n      <td>UFOA</td>\n    </tr>\n    <tr>\n      <th>23</th>\n      <td>Ivory Coast</td>\n      <td>UFOA</td>\n    </tr>\n    <tr>\n      <th>24</th>\n      <td>Kenya</td>\n      <td>CECAFA</td>\n    </tr>\n    <tr>\n      <th>25</th>\n      <td>Lesotho</td>\n      <td>COSAFA</td>\n    </tr>\n    <tr>\n      <th>26</th>\n      <td>Liberia</td>\n      <td>UFOA</td>\n    </tr>\n    <tr>\n      <th>27</th>\n      <td>Libya</td>\n      <td>UNAF</td>\n    </tr>\n    <tr>\n      <th>28</th>\n      <td>Madagascar</td>\n      <td>COSAFA</td>\n    </tr>\n    <tr>\n      <th>29</th>\n      <td>Malawi</td>\n      <td>COSAFA</td>\n    </tr>\n    <tr>\n      <th>30</th>\n      <td>Mali</td>\n      <td>UFOA</td>\n    </tr>\n    <tr>\n      <th>31</th>\n      <td>Mauritania</td>\n      <td>UFOA</td>\n    </tr>\n    <tr>\n      <th>32</th>\n      <td>Mauritius</td>\n      <td>COSAFA</td>\n    </tr>\n    <tr>\n      <th>33</th>\n      <td>Morocco</td>\n      <td>UNAF</td>\n    </tr>\n    <tr>\n      <th>34</th>\n      <td>Mozambique</td>\n      <td>COSAFA</td>\n    </tr>\n    <tr>\n      <th>35</th>\n      <td>Namibia</td>\n      <td>COSAFA</td>\n    </tr>\n    <tr>\n      <th>36</th>\n      <td>Niger</td>\n      <td>UFOA</td>\n    </tr>\n    <tr>\n      <th>37</th>\n      <td>Nigeria</td>\n      <td>UFOA</td>\n    </tr>\n    <tr>\n      <th>38</th>\n      <td>Congo</td>\n      <td>UNIFFAC</td>\n    </tr>\n    <tr>\n      <th>39</th>\n      <td>Rwanda</td>\n      <td>CECAFA</td>\n    </tr>\n    <tr>\n      <th>40</th>\n      <td>Sao Tome and Principe</td>\n      <td>UNIFFAC</td>\n    </tr>\n    <tr>\n      <th>41</th>\n      <td>Senegal</td>\n      <td>UFOA</td>\n    </tr>\n    <tr>\n      <th>42</th>\n      <td>Seychelles</td>\n      <td>COSAFA</td>\n    </tr>\n    <tr>\n      <th>43</th>\n      <td>Sierra Leone</td>\n      <td>UFOA</td>\n    </tr>\n    <tr>\n      <th>44</th>\n      <td>Somalia</td>\n      <td>CECAFA</td>\n    </tr>\n    <tr>\n      <th>45</th>\n      <td>South Africa</td>\n      <td>COSAFA</td>\n    </tr>\n    <tr>\n      <th>46</th>\n      <td>South Sudan</td>\n      <td>CECAFA</td>\n    </tr>\n    <tr>\n      <th>47</th>\n      <td>Sudan</td>\n      <td>CECAFA</td>\n    </tr>\n    <tr>\n      <th>48</th>\n      <td>Tanzania</td>\n      <td>CECAFA</td>\n    </tr>\n    <tr>\n      <th>49</th>\n      <td>Togo</td>\n      <td>UFOA</td>\n    </tr>\n    <tr>\n      <th>50</th>\n      <td>Tunisia</td>\n      <td>UNAF</td>\n    </tr>\n    <tr>\n      <th>51</th>\n      <td>Uganda</td>\n      <td>CECAFA</td>\n    </tr>\n    <tr>\n      <th>52</th>\n      <td>Zambia</td>\n      <td>COSAFA</td>\n    </tr>\n    <tr>\n      <th>53</th>\n      <td>Zimbabwe</td>\n      <td>COSAFA</td>\n    </tr>\n  </tbody>\n</table>\n</div>"
     },
     "execution_count": 118,
     "metadata": {},
     "output_type": "execute_result"
    }
   ],
   "source": [
    "df_countries"
   ],
   "metadata": {
    "collapsed": false,
    "ExecuteTime": {
     "end_time": "2024-01-03T17:18:37.717510700Z",
     "start_time": "2024-01-03T17:18:37.625056300Z"
    }
   },
   "id": "7e50773415f371b9",
   "execution_count": 118
  },
  {
   "cell_type": "code",
   "outputs": [
    {
     "data": {
      "application/vnd.plotly.v1+json": {
       "data": [
        {
         "alignmentgroup": "True",
         "hovertemplate": "Region=%{x}<br>Nombre de pays=%{text}<extra></extra>",
         "legendgroup": "UFOA",
         "marker": {
          "color": "#636efa",
          "pattern": {
           "shape": ""
          }
         },
         "name": "UFOA",
         "offsetgroup": "UFOA",
         "orientation": "v",
         "showlegend": true,
         "text": [
          16.0
         ],
         "textposition": "outside",
         "x": [
          "UFOA"
         ],
         "xaxis": "x",
         "y": [
          16
         ],
         "yaxis": "y",
         "type": "bar"
        },
        {
         "alignmentgroup": "True",
         "hovertemplate": "Region=%{x}<br>Nombre de pays=%{text}<extra></extra>",
         "legendgroup": "COSAFA",
         "marker": {
          "color": "#EF553B",
          "pattern": {
           "shape": ""
          }
         },
         "name": "COSAFA",
         "offsetgroup": "COSAFA",
         "orientation": "v",
         "showlegend": true,
         "text": [
          14.0
         ],
         "textposition": "outside",
         "x": [
          "COSAFA"
         ],
         "xaxis": "x",
         "y": [
          14
         ],
         "yaxis": "y",
         "type": "bar"
        },
        {
         "alignmentgroup": "True",
         "hovertemplate": "Region=%{x}<br>Nombre de pays=%{text}<extra></extra>",
         "legendgroup": "CECAFA",
         "marker": {
          "color": "#00cc96",
          "pattern": {
           "shape": ""
          }
         },
         "name": "CECAFA",
         "offsetgroup": "CECAFA",
         "orientation": "v",
         "showlegend": true,
         "text": [
          11.0
         ],
         "textposition": "outside",
         "x": [
          "CECAFA"
         ],
         "xaxis": "x",
         "y": [
          11
         ],
         "yaxis": "y",
         "type": "bar"
        },
        {
         "alignmentgroup": "True",
         "hovertemplate": "Region=%{x}<br>Nombre de pays=%{text}<extra></extra>",
         "legendgroup": "UNIFFAC",
         "marker": {
          "color": "#ab63fa",
          "pattern": {
           "shape": ""
          }
         },
         "name": "UNIFFAC",
         "offsetgroup": "UNIFFAC",
         "orientation": "v",
         "showlegend": true,
         "text": [
          8.0
         ],
         "textposition": "outside",
         "x": [
          "UNIFFAC"
         ],
         "xaxis": "x",
         "y": [
          8
         ],
         "yaxis": "y",
         "type": "bar"
        },
        {
         "alignmentgroup": "True",
         "hovertemplate": "Region=%{x}<br>Nombre de pays=%{text}<extra></extra>",
         "legendgroup": "UNAF",
         "marker": {
          "color": "#FFA15A",
          "pattern": {
           "shape": ""
          }
         },
         "name": "UNAF",
         "offsetgroup": "UNAF",
         "orientation": "v",
         "showlegend": true,
         "text": [
          5.0
         ],
         "textposition": "outside",
         "x": [
          "UNAF"
         ],
         "xaxis": "x",
         "y": [
          5
         ],
         "yaxis": "y",
         "type": "bar"
        }
       ],
       "layout": {
        "template": {
         "data": {
          "histogram2dcontour": [
           {
            "type": "histogram2dcontour",
            "colorbar": {
             "outlinewidth": 0,
             "ticks": ""
            },
            "colorscale": [
             [
              0.0,
              "#0d0887"
             ],
             [
              0.1111111111111111,
              "#46039f"
             ],
             [
              0.2222222222222222,
              "#7201a8"
             ],
             [
              0.3333333333333333,
              "#9c179e"
             ],
             [
              0.4444444444444444,
              "#bd3786"
             ],
             [
              0.5555555555555556,
              "#d8576b"
             ],
             [
              0.6666666666666666,
              "#ed7953"
             ],
             [
              0.7777777777777778,
              "#fb9f3a"
             ],
             [
              0.8888888888888888,
              "#fdca26"
             ],
             [
              1.0,
              "#f0f921"
             ]
            ]
           }
          ],
          "choropleth": [
           {
            "type": "choropleth",
            "colorbar": {
             "outlinewidth": 0,
             "ticks": ""
            }
           }
          ],
          "histogram2d": [
           {
            "type": "histogram2d",
            "colorbar": {
             "outlinewidth": 0,
             "ticks": ""
            },
            "colorscale": [
             [
              0.0,
              "#0d0887"
             ],
             [
              0.1111111111111111,
              "#46039f"
             ],
             [
              0.2222222222222222,
              "#7201a8"
             ],
             [
              0.3333333333333333,
              "#9c179e"
             ],
             [
              0.4444444444444444,
              "#bd3786"
             ],
             [
              0.5555555555555556,
              "#d8576b"
             ],
             [
              0.6666666666666666,
              "#ed7953"
             ],
             [
              0.7777777777777778,
              "#fb9f3a"
             ],
             [
              0.8888888888888888,
              "#fdca26"
             ],
             [
              1.0,
              "#f0f921"
             ]
            ]
           }
          ],
          "heatmap": [
           {
            "type": "heatmap",
            "colorbar": {
             "outlinewidth": 0,
             "ticks": ""
            },
            "colorscale": [
             [
              0.0,
              "#0d0887"
             ],
             [
              0.1111111111111111,
              "#46039f"
             ],
             [
              0.2222222222222222,
              "#7201a8"
             ],
             [
              0.3333333333333333,
              "#9c179e"
             ],
             [
              0.4444444444444444,
              "#bd3786"
             ],
             [
              0.5555555555555556,
              "#d8576b"
             ],
             [
              0.6666666666666666,
              "#ed7953"
             ],
             [
              0.7777777777777778,
              "#fb9f3a"
             ],
             [
              0.8888888888888888,
              "#fdca26"
             ],
             [
              1.0,
              "#f0f921"
             ]
            ]
           }
          ],
          "heatmapgl": [
           {
            "type": "heatmapgl",
            "colorbar": {
             "outlinewidth": 0,
             "ticks": ""
            },
            "colorscale": [
             [
              0.0,
              "#0d0887"
             ],
             [
              0.1111111111111111,
              "#46039f"
             ],
             [
              0.2222222222222222,
              "#7201a8"
             ],
             [
              0.3333333333333333,
              "#9c179e"
             ],
             [
              0.4444444444444444,
              "#bd3786"
             ],
             [
              0.5555555555555556,
              "#d8576b"
             ],
             [
              0.6666666666666666,
              "#ed7953"
             ],
             [
              0.7777777777777778,
              "#fb9f3a"
             ],
             [
              0.8888888888888888,
              "#fdca26"
             ],
             [
              1.0,
              "#f0f921"
             ]
            ]
           }
          ],
          "contourcarpet": [
           {
            "type": "contourcarpet",
            "colorbar": {
             "outlinewidth": 0,
             "ticks": ""
            }
           }
          ],
          "contour": [
           {
            "type": "contour",
            "colorbar": {
             "outlinewidth": 0,
             "ticks": ""
            },
            "colorscale": [
             [
              0.0,
              "#0d0887"
             ],
             [
              0.1111111111111111,
              "#46039f"
             ],
             [
              0.2222222222222222,
              "#7201a8"
             ],
             [
              0.3333333333333333,
              "#9c179e"
             ],
             [
              0.4444444444444444,
              "#bd3786"
             ],
             [
              0.5555555555555556,
              "#d8576b"
             ],
             [
              0.6666666666666666,
              "#ed7953"
             ],
             [
              0.7777777777777778,
              "#fb9f3a"
             ],
             [
              0.8888888888888888,
              "#fdca26"
             ],
             [
              1.0,
              "#f0f921"
             ]
            ]
           }
          ],
          "surface": [
           {
            "type": "surface",
            "colorbar": {
             "outlinewidth": 0,
             "ticks": ""
            },
            "colorscale": [
             [
              0.0,
              "#0d0887"
             ],
             [
              0.1111111111111111,
              "#46039f"
             ],
             [
              0.2222222222222222,
              "#7201a8"
             ],
             [
              0.3333333333333333,
              "#9c179e"
             ],
             [
              0.4444444444444444,
              "#bd3786"
             ],
             [
              0.5555555555555556,
              "#d8576b"
             ],
             [
              0.6666666666666666,
              "#ed7953"
             ],
             [
              0.7777777777777778,
              "#fb9f3a"
             ],
             [
              0.8888888888888888,
              "#fdca26"
             ],
             [
              1.0,
              "#f0f921"
             ]
            ]
           }
          ],
          "mesh3d": [
           {
            "type": "mesh3d",
            "colorbar": {
             "outlinewidth": 0,
             "ticks": ""
            }
           }
          ],
          "scatter": [
           {
            "marker": {
             "line": {
              "color": "#283442"
             }
            },
            "type": "scatter"
           }
          ],
          "parcoords": [
           {
            "type": "parcoords",
            "line": {
             "colorbar": {
              "outlinewidth": 0,
              "ticks": ""
             }
            }
           }
          ],
          "scatterpolargl": [
           {
            "type": "scatterpolargl",
            "marker": {
             "colorbar": {
              "outlinewidth": 0,
              "ticks": ""
             }
            }
           }
          ],
          "bar": [
           {
            "error_x": {
             "color": "#f2f5fa"
            },
            "error_y": {
             "color": "#f2f5fa"
            },
            "marker": {
             "line": {
              "color": "rgb(17,17,17)",
              "width": 0.5
             },
             "pattern": {
              "fillmode": "overlay",
              "size": 10,
              "solidity": 0.2
             }
            },
            "type": "bar"
           }
          ],
          "scattergeo": [
           {
            "type": "scattergeo",
            "marker": {
             "colorbar": {
              "outlinewidth": 0,
              "ticks": ""
             }
            }
           }
          ],
          "scatterpolar": [
           {
            "type": "scatterpolar",
            "marker": {
             "colorbar": {
              "outlinewidth": 0,
              "ticks": ""
             }
            }
           }
          ],
          "histogram": [
           {
            "marker": {
             "pattern": {
              "fillmode": "overlay",
              "size": 10,
              "solidity": 0.2
             }
            },
            "type": "histogram"
           }
          ],
          "scattergl": [
           {
            "marker": {
             "line": {
              "color": "#283442"
             }
            },
            "type": "scattergl"
           }
          ],
          "scatter3d": [
           {
            "type": "scatter3d",
            "line": {
             "colorbar": {
              "outlinewidth": 0,
              "ticks": ""
             }
            },
            "marker": {
             "colorbar": {
              "outlinewidth": 0,
              "ticks": ""
             }
            }
           }
          ],
          "scattermapbox": [
           {
            "type": "scattermapbox",
            "marker": {
             "colorbar": {
              "outlinewidth": 0,
              "ticks": ""
             }
            }
           }
          ],
          "scatterternary": [
           {
            "type": "scatterternary",
            "marker": {
             "colorbar": {
              "outlinewidth": 0,
              "ticks": ""
             }
            }
           }
          ],
          "scattercarpet": [
           {
            "type": "scattercarpet",
            "marker": {
             "colorbar": {
              "outlinewidth": 0,
              "ticks": ""
             }
            }
           }
          ],
          "carpet": [
           {
            "aaxis": {
             "endlinecolor": "#A2B1C6",
             "gridcolor": "#506784",
             "linecolor": "#506784",
             "minorgridcolor": "#506784",
             "startlinecolor": "#A2B1C6"
            },
            "baxis": {
             "endlinecolor": "#A2B1C6",
             "gridcolor": "#506784",
             "linecolor": "#506784",
             "minorgridcolor": "#506784",
             "startlinecolor": "#A2B1C6"
            },
            "type": "carpet"
           }
          ],
          "table": [
           {
            "cells": {
             "fill": {
              "color": "#506784"
             },
             "line": {
              "color": "rgb(17,17,17)"
             }
            },
            "header": {
             "fill": {
              "color": "#2a3f5f"
             },
             "line": {
              "color": "rgb(17,17,17)"
             }
            },
            "type": "table"
           }
          ],
          "barpolar": [
           {
            "marker": {
             "line": {
              "color": "rgb(17,17,17)",
              "width": 0.5
             },
             "pattern": {
              "fillmode": "overlay",
              "size": 10,
              "solidity": 0.2
             }
            },
            "type": "barpolar"
           }
          ],
          "pie": [
           {
            "automargin": true,
            "type": "pie"
           }
          ]
         },
         "layout": {
          "autotypenumbers": "strict",
          "colorway": [
           "#636efa",
           "#EF553B",
           "#00cc96",
           "#ab63fa",
           "#FFA15A",
           "#19d3f3",
           "#FF6692",
           "#B6E880",
           "#FF97FF",
           "#FECB52"
          ],
          "font": {
           "color": "#f2f5fa"
          },
          "hovermode": "closest",
          "hoverlabel": {
           "align": "left"
          },
          "paper_bgcolor": "rgb(17,17,17)",
          "plot_bgcolor": "rgb(17,17,17)",
          "polar": {
           "bgcolor": "rgb(17,17,17)",
           "angularaxis": {
            "gridcolor": "#506784",
            "linecolor": "#506784",
            "ticks": ""
           },
           "radialaxis": {
            "gridcolor": "#506784",
            "linecolor": "#506784",
            "ticks": ""
           }
          },
          "ternary": {
           "bgcolor": "rgb(17,17,17)",
           "aaxis": {
            "gridcolor": "#506784",
            "linecolor": "#506784",
            "ticks": ""
           },
           "baxis": {
            "gridcolor": "#506784",
            "linecolor": "#506784",
            "ticks": ""
           },
           "caxis": {
            "gridcolor": "#506784",
            "linecolor": "#506784",
            "ticks": ""
           }
          },
          "coloraxis": {
           "colorbar": {
            "outlinewidth": 0,
            "ticks": ""
           }
          },
          "colorscale": {
           "sequential": [
            [
             0.0,
             "#0d0887"
            ],
            [
             0.1111111111111111,
             "#46039f"
            ],
            [
             0.2222222222222222,
             "#7201a8"
            ],
            [
             0.3333333333333333,
             "#9c179e"
            ],
            [
             0.4444444444444444,
             "#bd3786"
            ],
            [
             0.5555555555555556,
             "#d8576b"
            ],
            [
             0.6666666666666666,
             "#ed7953"
            ],
            [
             0.7777777777777778,
             "#fb9f3a"
            ],
            [
             0.8888888888888888,
             "#fdca26"
            ],
            [
             1.0,
             "#f0f921"
            ]
           ],
           "sequentialminus": [
            [
             0.0,
             "#0d0887"
            ],
            [
             0.1111111111111111,
             "#46039f"
            ],
            [
             0.2222222222222222,
             "#7201a8"
            ],
            [
             0.3333333333333333,
             "#9c179e"
            ],
            [
             0.4444444444444444,
             "#bd3786"
            ],
            [
             0.5555555555555556,
             "#d8576b"
            ],
            [
             0.6666666666666666,
             "#ed7953"
            ],
            [
             0.7777777777777778,
             "#fb9f3a"
            ],
            [
             0.8888888888888888,
             "#fdca26"
            ],
            [
             1.0,
             "#f0f921"
            ]
           ],
           "diverging": [
            [
             0,
             "#8e0152"
            ],
            [
             0.1,
             "#c51b7d"
            ],
            [
             0.2,
             "#de77ae"
            ],
            [
             0.3,
             "#f1b6da"
            ],
            [
             0.4,
             "#fde0ef"
            ],
            [
             0.5,
             "#f7f7f7"
            ],
            [
             0.6,
             "#e6f5d0"
            ],
            [
             0.7,
             "#b8e186"
            ],
            [
             0.8,
             "#7fbc41"
            ],
            [
             0.9,
             "#4d9221"
            ],
            [
             1,
             "#276419"
            ]
           ]
          },
          "xaxis": {
           "gridcolor": "#283442",
           "linecolor": "#506784",
           "ticks": "",
           "title": {
            "standoff": 15
           },
           "zerolinecolor": "#283442",
           "automargin": true,
           "zerolinewidth": 2
          },
          "yaxis": {
           "gridcolor": "#283442",
           "linecolor": "#506784",
           "ticks": "",
           "title": {
            "standoff": 15
           },
           "zerolinecolor": "#283442",
           "automargin": true,
           "zerolinewidth": 2
          },
          "scene": {
           "xaxis": {
            "backgroundcolor": "rgb(17,17,17)",
            "gridcolor": "#506784",
            "linecolor": "#506784",
            "showbackground": true,
            "ticks": "",
            "zerolinecolor": "#C8D4E3",
            "gridwidth": 2
           },
           "yaxis": {
            "backgroundcolor": "rgb(17,17,17)",
            "gridcolor": "#506784",
            "linecolor": "#506784",
            "showbackground": true,
            "ticks": "",
            "zerolinecolor": "#C8D4E3",
            "gridwidth": 2
           },
           "zaxis": {
            "backgroundcolor": "rgb(17,17,17)",
            "gridcolor": "#506784",
            "linecolor": "#506784",
            "showbackground": true,
            "ticks": "",
            "zerolinecolor": "#C8D4E3",
            "gridwidth": 2
           }
          },
          "shapedefaults": {
           "line": {
            "color": "#f2f5fa"
           }
          },
          "annotationdefaults": {
           "arrowcolor": "#f2f5fa",
           "arrowhead": 0,
           "arrowwidth": 1
          },
          "geo": {
           "bgcolor": "rgb(17,17,17)",
           "landcolor": "rgb(17,17,17)",
           "subunitcolor": "#506784",
           "showland": true,
           "showlakes": true,
           "lakecolor": "rgb(17,17,17)"
          },
          "title": {
           "x": 0.05
          },
          "updatemenudefaults": {
           "bgcolor": "#506784",
           "borderwidth": 0
          },
          "sliderdefaults": {
           "bgcolor": "#C8D4E3",
           "borderwidth": 1,
           "bordercolor": "rgb(17,17,17)",
           "tickwidth": 0
          },
          "mapbox": {
           "style": "dark"
          }
         }
        },
        "xaxis": {
         "anchor": "y",
         "domain": [
          0.0,
          1.0
         ],
         "title": {
          "text": "Region"
         },
         "categoryorder": "array",
         "categoryarray": [
          "UFOA",
          "COSAFA",
          "CECAFA",
          "UNIFFAC",
          "UNAF"
         ]
        },
        "yaxis": {
         "anchor": "x",
         "domain": [
          0.0,
          1.0
         ],
         "title": {
          "text": "Nombre de pays"
         }
        },
        "legend": {
         "title": {
          "text": "Region"
         },
         "tracegroupgap": 0
        },
        "title": {
         "text": "Nombre de pays par région"
        },
        "barmode": "relative"
       },
       "config": {
        "plotlyServerURL": "https://plot.ly"
       }
      },
      "text/html": "<div>                            <div id=\"e541f90a-35ad-49db-9c9b-e654595d5321\" class=\"plotly-graph-div\" style=\"height:525px; width:100%;\"></div>            <script type=\"text/javascript\">                require([\"plotly\"], function(Plotly) {                    window.PLOTLYENV=window.PLOTLYENV || {};                                    if (document.getElementById(\"e541f90a-35ad-49db-9c9b-e654595d5321\")) {                    Plotly.newPlot(                        \"e541f90a-35ad-49db-9c9b-e654595d5321\",                        [{\"alignmentgroup\":\"True\",\"hovertemplate\":\"Region=%{x}<br>Nombre de pays=%{text}<extra></extra>\",\"legendgroup\":\"UFOA\",\"marker\":{\"color\":\"#636efa\",\"pattern\":{\"shape\":\"\"}},\"name\":\"UFOA\",\"offsetgroup\":\"UFOA\",\"orientation\":\"v\",\"showlegend\":true,\"text\":[16.0],\"textposition\":\"outside\",\"x\":[\"UFOA\"],\"xaxis\":\"x\",\"y\":[16],\"yaxis\":\"y\",\"type\":\"bar\"},{\"alignmentgroup\":\"True\",\"hovertemplate\":\"Region=%{x}<br>Nombre de pays=%{text}<extra></extra>\",\"legendgroup\":\"COSAFA\",\"marker\":{\"color\":\"#EF553B\",\"pattern\":{\"shape\":\"\"}},\"name\":\"COSAFA\",\"offsetgroup\":\"COSAFA\",\"orientation\":\"v\",\"showlegend\":true,\"text\":[14.0],\"textposition\":\"outside\",\"x\":[\"COSAFA\"],\"xaxis\":\"x\",\"y\":[14],\"yaxis\":\"y\",\"type\":\"bar\"},{\"alignmentgroup\":\"True\",\"hovertemplate\":\"Region=%{x}<br>Nombre de pays=%{text}<extra></extra>\",\"legendgroup\":\"CECAFA\",\"marker\":{\"color\":\"#00cc96\",\"pattern\":{\"shape\":\"\"}},\"name\":\"CECAFA\",\"offsetgroup\":\"CECAFA\",\"orientation\":\"v\",\"showlegend\":true,\"text\":[11.0],\"textposition\":\"outside\",\"x\":[\"CECAFA\"],\"xaxis\":\"x\",\"y\":[11],\"yaxis\":\"y\",\"type\":\"bar\"},{\"alignmentgroup\":\"True\",\"hovertemplate\":\"Region=%{x}<br>Nombre de pays=%{text}<extra></extra>\",\"legendgroup\":\"UNIFFAC\",\"marker\":{\"color\":\"#ab63fa\",\"pattern\":{\"shape\":\"\"}},\"name\":\"UNIFFAC\",\"offsetgroup\":\"UNIFFAC\",\"orientation\":\"v\",\"showlegend\":true,\"text\":[8.0],\"textposition\":\"outside\",\"x\":[\"UNIFFAC\"],\"xaxis\":\"x\",\"y\":[8],\"yaxis\":\"y\",\"type\":\"bar\"},{\"alignmentgroup\":\"True\",\"hovertemplate\":\"Region=%{x}<br>Nombre de pays=%{text}<extra></extra>\",\"legendgroup\":\"UNAF\",\"marker\":{\"color\":\"#FFA15A\",\"pattern\":{\"shape\":\"\"}},\"name\":\"UNAF\",\"offsetgroup\":\"UNAF\",\"orientation\":\"v\",\"showlegend\":true,\"text\":[5.0],\"textposition\":\"outside\",\"x\":[\"UNAF\"],\"xaxis\":\"x\",\"y\":[5],\"yaxis\":\"y\",\"type\":\"bar\"}],                        {\"template\":{\"data\":{\"histogram2dcontour\":[{\"type\":\"histogram2dcontour\",\"colorbar\":{\"outlinewidth\":0,\"ticks\":\"\"},\"colorscale\":[[0.0,\"#0d0887\"],[0.1111111111111111,\"#46039f\"],[0.2222222222222222,\"#7201a8\"],[0.3333333333333333,\"#9c179e\"],[0.4444444444444444,\"#bd3786\"],[0.5555555555555556,\"#d8576b\"],[0.6666666666666666,\"#ed7953\"],[0.7777777777777778,\"#fb9f3a\"],[0.8888888888888888,\"#fdca26\"],[1.0,\"#f0f921\"]]}],\"choropleth\":[{\"type\":\"choropleth\",\"colorbar\":{\"outlinewidth\":0,\"ticks\":\"\"}}],\"histogram2d\":[{\"type\":\"histogram2d\",\"colorbar\":{\"outlinewidth\":0,\"ticks\":\"\"},\"colorscale\":[[0.0,\"#0d0887\"],[0.1111111111111111,\"#46039f\"],[0.2222222222222222,\"#7201a8\"],[0.3333333333333333,\"#9c179e\"],[0.4444444444444444,\"#bd3786\"],[0.5555555555555556,\"#d8576b\"],[0.6666666666666666,\"#ed7953\"],[0.7777777777777778,\"#fb9f3a\"],[0.8888888888888888,\"#fdca26\"],[1.0,\"#f0f921\"]]}],\"heatmap\":[{\"type\":\"heatmap\",\"colorbar\":{\"outlinewidth\":0,\"ticks\":\"\"},\"colorscale\":[[0.0,\"#0d0887\"],[0.1111111111111111,\"#46039f\"],[0.2222222222222222,\"#7201a8\"],[0.3333333333333333,\"#9c179e\"],[0.4444444444444444,\"#bd3786\"],[0.5555555555555556,\"#d8576b\"],[0.6666666666666666,\"#ed7953\"],[0.7777777777777778,\"#fb9f3a\"],[0.8888888888888888,\"#fdca26\"],[1.0,\"#f0f921\"]]}],\"heatmapgl\":[{\"type\":\"heatmapgl\",\"colorbar\":{\"outlinewidth\":0,\"ticks\":\"\"},\"colorscale\":[[0.0,\"#0d0887\"],[0.1111111111111111,\"#46039f\"],[0.2222222222222222,\"#7201a8\"],[0.3333333333333333,\"#9c179e\"],[0.4444444444444444,\"#bd3786\"],[0.5555555555555556,\"#d8576b\"],[0.6666666666666666,\"#ed7953\"],[0.7777777777777778,\"#fb9f3a\"],[0.8888888888888888,\"#fdca26\"],[1.0,\"#f0f921\"]]}],\"contourcarpet\":[{\"type\":\"contourcarpet\",\"colorbar\":{\"outlinewidth\":0,\"ticks\":\"\"}}],\"contour\":[{\"type\":\"contour\",\"colorbar\":{\"outlinewidth\":0,\"ticks\":\"\"},\"colorscale\":[[0.0,\"#0d0887\"],[0.1111111111111111,\"#46039f\"],[0.2222222222222222,\"#7201a8\"],[0.3333333333333333,\"#9c179e\"],[0.4444444444444444,\"#bd3786\"],[0.5555555555555556,\"#d8576b\"],[0.6666666666666666,\"#ed7953\"],[0.7777777777777778,\"#fb9f3a\"],[0.8888888888888888,\"#fdca26\"],[1.0,\"#f0f921\"]]}],\"surface\":[{\"type\":\"surface\",\"colorbar\":{\"outlinewidth\":0,\"ticks\":\"\"},\"colorscale\":[[0.0,\"#0d0887\"],[0.1111111111111111,\"#46039f\"],[0.2222222222222222,\"#7201a8\"],[0.3333333333333333,\"#9c179e\"],[0.4444444444444444,\"#bd3786\"],[0.5555555555555556,\"#d8576b\"],[0.6666666666666666,\"#ed7953\"],[0.7777777777777778,\"#fb9f3a\"],[0.8888888888888888,\"#fdca26\"],[1.0,\"#f0f921\"]]}],\"mesh3d\":[{\"type\":\"mesh3d\",\"colorbar\":{\"outlinewidth\":0,\"ticks\":\"\"}}],\"scatter\":[{\"marker\":{\"line\":{\"color\":\"#283442\"}},\"type\":\"scatter\"}],\"parcoords\":[{\"type\":\"parcoords\",\"line\":{\"colorbar\":{\"outlinewidth\":0,\"ticks\":\"\"}}}],\"scatterpolargl\":[{\"type\":\"scatterpolargl\",\"marker\":{\"colorbar\":{\"outlinewidth\":0,\"ticks\":\"\"}}}],\"bar\":[{\"error_x\":{\"color\":\"#f2f5fa\"},\"error_y\":{\"color\":\"#f2f5fa\"},\"marker\":{\"line\":{\"color\":\"rgb(17,17,17)\",\"width\":0.5},\"pattern\":{\"fillmode\":\"overlay\",\"size\":10,\"solidity\":0.2}},\"type\":\"bar\"}],\"scattergeo\":[{\"type\":\"scattergeo\",\"marker\":{\"colorbar\":{\"outlinewidth\":0,\"ticks\":\"\"}}}],\"scatterpolar\":[{\"type\":\"scatterpolar\",\"marker\":{\"colorbar\":{\"outlinewidth\":0,\"ticks\":\"\"}}}],\"histogram\":[{\"marker\":{\"pattern\":{\"fillmode\":\"overlay\",\"size\":10,\"solidity\":0.2}},\"type\":\"histogram\"}],\"scattergl\":[{\"marker\":{\"line\":{\"color\":\"#283442\"}},\"type\":\"scattergl\"}],\"scatter3d\":[{\"type\":\"scatter3d\",\"line\":{\"colorbar\":{\"outlinewidth\":0,\"ticks\":\"\"}},\"marker\":{\"colorbar\":{\"outlinewidth\":0,\"ticks\":\"\"}}}],\"scattermapbox\":[{\"type\":\"scattermapbox\",\"marker\":{\"colorbar\":{\"outlinewidth\":0,\"ticks\":\"\"}}}],\"scatterternary\":[{\"type\":\"scatterternary\",\"marker\":{\"colorbar\":{\"outlinewidth\":0,\"ticks\":\"\"}}}],\"scattercarpet\":[{\"type\":\"scattercarpet\",\"marker\":{\"colorbar\":{\"outlinewidth\":0,\"ticks\":\"\"}}}],\"carpet\":[{\"aaxis\":{\"endlinecolor\":\"#A2B1C6\",\"gridcolor\":\"#506784\",\"linecolor\":\"#506784\",\"minorgridcolor\":\"#506784\",\"startlinecolor\":\"#A2B1C6\"},\"baxis\":{\"endlinecolor\":\"#A2B1C6\",\"gridcolor\":\"#506784\",\"linecolor\":\"#506784\",\"minorgridcolor\":\"#506784\",\"startlinecolor\":\"#A2B1C6\"},\"type\":\"carpet\"}],\"table\":[{\"cells\":{\"fill\":{\"color\":\"#506784\"},\"line\":{\"color\":\"rgb(17,17,17)\"}},\"header\":{\"fill\":{\"color\":\"#2a3f5f\"},\"line\":{\"color\":\"rgb(17,17,17)\"}},\"type\":\"table\"}],\"barpolar\":[{\"marker\":{\"line\":{\"color\":\"rgb(17,17,17)\",\"width\":0.5},\"pattern\":{\"fillmode\":\"overlay\",\"size\":10,\"solidity\":0.2}},\"type\":\"barpolar\"}],\"pie\":[{\"automargin\":true,\"type\":\"pie\"}]},\"layout\":{\"autotypenumbers\":\"strict\",\"colorway\":[\"#636efa\",\"#EF553B\",\"#00cc96\",\"#ab63fa\",\"#FFA15A\",\"#19d3f3\",\"#FF6692\",\"#B6E880\",\"#FF97FF\",\"#FECB52\"],\"font\":{\"color\":\"#f2f5fa\"},\"hovermode\":\"closest\",\"hoverlabel\":{\"align\":\"left\"},\"paper_bgcolor\":\"rgb(17,17,17)\",\"plot_bgcolor\":\"rgb(17,17,17)\",\"polar\":{\"bgcolor\":\"rgb(17,17,17)\",\"angularaxis\":{\"gridcolor\":\"#506784\",\"linecolor\":\"#506784\",\"ticks\":\"\"},\"radialaxis\":{\"gridcolor\":\"#506784\",\"linecolor\":\"#506784\",\"ticks\":\"\"}},\"ternary\":{\"bgcolor\":\"rgb(17,17,17)\",\"aaxis\":{\"gridcolor\":\"#506784\",\"linecolor\":\"#506784\",\"ticks\":\"\"},\"baxis\":{\"gridcolor\":\"#506784\",\"linecolor\":\"#506784\",\"ticks\":\"\"},\"caxis\":{\"gridcolor\":\"#506784\",\"linecolor\":\"#506784\",\"ticks\":\"\"}},\"coloraxis\":{\"colorbar\":{\"outlinewidth\":0,\"ticks\":\"\"}},\"colorscale\":{\"sequential\":[[0.0,\"#0d0887\"],[0.1111111111111111,\"#46039f\"],[0.2222222222222222,\"#7201a8\"],[0.3333333333333333,\"#9c179e\"],[0.4444444444444444,\"#bd3786\"],[0.5555555555555556,\"#d8576b\"],[0.6666666666666666,\"#ed7953\"],[0.7777777777777778,\"#fb9f3a\"],[0.8888888888888888,\"#fdca26\"],[1.0,\"#f0f921\"]],\"sequentialminus\":[[0.0,\"#0d0887\"],[0.1111111111111111,\"#46039f\"],[0.2222222222222222,\"#7201a8\"],[0.3333333333333333,\"#9c179e\"],[0.4444444444444444,\"#bd3786\"],[0.5555555555555556,\"#d8576b\"],[0.6666666666666666,\"#ed7953\"],[0.7777777777777778,\"#fb9f3a\"],[0.8888888888888888,\"#fdca26\"],[1.0,\"#f0f921\"]],\"diverging\":[[0,\"#8e0152\"],[0.1,\"#c51b7d\"],[0.2,\"#de77ae\"],[0.3,\"#f1b6da\"],[0.4,\"#fde0ef\"],[0.5,\"#f7f7f7\"],[0.6,\"#e6f5d0\"],[0.7,\"#b8e186\"],[0.8,\"#7fbc41\"],[0.9,\"#4d9221\"],[1,\"#276419\"]]},\"xaxis\":{\"gridcolor\":\"#283442\",\"linecolor\":\"#506784\",\"ticks\":\"\",\"title\":{\"standoff\":15},\"zerolinecolor\":\"#283442\",\"automargin\":true,\"zerolinewidth\":2},\"yaxis\":{\"gridcolor\":\"#283442\",\"linecolor\":\"#506784\",\"ticks\":\"\",\"title\":{\"standoff\":15},\"zerolinecolor\":\"#283442\",\"automargin\":true,\"zerolinewidth\":2},\"scene\":{\"xaxis\":{\"backgroundcolor\":\"rgb(17,17,17)\",\"gridcolor\":\"#506784\",\"linecolor\":\"#506784\",\"showbackground\":true,\"ticks\":\"\",\"zerolinecolor\":\"#C8D4E3\",\"gridwidth\":2},\"yaxis\":{\"backgroundcolor\":\"rgb(17,17,17)\",\"gridcolor\":\"#506784\",\"linecolor\":\"#506784\",\"showbackground\":true,\"ticks\":\"\",\"zerolinecolor\":\"#C8D4E3\",\"gridwidth\":2},\"zaxis\":{\"backgroundcolor\":\"rgb(17,17,17)\",\"gridcolor\":\"#506784\",\"linecolor\":\"#506784\",\"showbackground\":true,\"ticks\":\"\",\"zerolinecolor\":\"#C8D4E3\",\"gridwidth\":2}},\"shapedefaults\":{\"line\":{\"color\":\"#f2f5fa\"}},\"annotationdefaults\":{\"arrowcolor\":\"#f2f5fa\",\"arrowhead\":0,\"arrowwidth\":1},\"geo\":{\"bgcolor\":\"rgb(17,17,17)\",\"landcolor\":\"rgb(17,17,17)\",\"subunitcolor\":\"#506784\",\"showland\":true,\"showlakes\":true,\"lakecolor\":\"rgb(17,17,17)\"},\"title\":{\"x\":0.05},\"updatemenudefaults\":{\"bgcolor\":\"#506784\",\"borderwidth\":0},\"sliderdefaults\":{\"bgcolor\":\"#C8D4E3\",\"borderwidth\":1,\"bordercolor\":\"rgb(17,17,17)\",\"tickwidth\":0},\"mapbox\":{\"style\":\"dark\"}}},\"xaxis\":{\"anchor\":\"y\",\"domain\":[0.0,1.0],\"title\":{\"text\":\"Region\"},\"categoryorder\":\"array\",\"categoryarray\":[\"UFOA\",\"COSAFA\",\"CECAFA\",\"UNIFFAC\",\"UNAF\"]},\"yaxis\":{\"anchor\":\"x\",\"domain\":[0.0,1.0],\"title\":{\"text\":\"Nombre de pays\"}},\"legend\":{\"title\":{\"text\":\"Region\"},\"tracegroupgap\":0},\"title\":{\"text\":\"Nombre de pays par r\\u00e9gion\"},\"barmode\":\"relative\"},                        {\"responsive\": true}                    ).then(function(){\n                            \nvar gd = document.getElementById('e541f90a-35ad-49db-9c9b-e654595d5321');\nvar x = new MutationObserver(function (mutations, observer) {{\n        var display = window.getComputedStyle(gd).display;\n        if (!display || display === 'none') {{\n            console.log([gd, 'removed!']);\n            Plotly.purge(gd);\n            observer.disconnect();\n        }}\n}});\n\n// Listen for the removal of the full notebook cells\nvar notebookContainer = gd.closest('#notebook-container');\nif (notebookContainer) {{\n    x.observe(notebookContainer, {childList: true});\n}}\n\n// Listen for the clearing of the current output cell\nvar outputEl = gd.closest('.output');\nif (outputEl) {{\n    x.observe(outputEl, {childList: true});\n}}\n\n                        })                };                });            </script>        </div>"
     },
     "metadata": {},
     "output_type": "display_data"
    }
   ],
   "source": [
    "nb_region = df_countries['Region'].value_counts().reset_index()\n",
    "nb_region.columns = ['Region', 'Number of Countries']\n",
    "\n",
    "fig = px.bar(nb_region, x='Region', y='Number of Countries',\n",
    "             title='Nombre de pays par région',\n",
    "             labels={'Number of Countries': 'Nombre de pays'},\n",
    "             text='Number of Countries',\n",
    "             color='Region')\n",
    "\n",
    "fig.update_traces(textposition='outside')  # Position des annotations\n",
    "fig.show()"
   ],
   "metadata": {
    "collapsed": false,
    "ExecuteTime": {
     "end_time": "2024-01-03T17:25:31.941184200Z",
     "start_time": "2024-01-03T17:25:31.733591Z"
    }
   },
   "id": "190340b874a0260f",
   "execution_count": 122
  },
  {
   "cell_type": "code",
   "outputs": [
    {
     "data": {
      "text/plain": "    Year                      Host     Champion(titles)         WinningCoach  \\\n0   1957                     Sudan           Egypt  (1)         Mourad Fahmy   \n1   1959                     Egypt           Egypt  (2)           Pál Titkos   \n2   1962                  Ethiopia        Ethiopia  (1)  Ydnekatchew Tessema   \n3   1963                     Ghana           Ghana  (1)       Charles Gyamfi   \n4   1965                   Tunisia           Ghana  (2)       Charles Gyamfi   \n5   1968                  Ethiopia  Congo-Kinshasa  (1)       Ferenc Csanádi   \n6   1970                     Sudan           Sudan  (1)        Jiří Starosta   \n7   1972                  Cameroon           Congo  (1)  Adolphe Bibanzoulou   \n8   1974                     Egypt           Zaire  (2)      Blagoje Vidinić   \n9   1976                  Ethiopia         Morocco  (1)  Gheorghe Mărdărescu   \n10  1978                     Ghana           Ghana  (3)      Fred Osam-Duodu   \n11  1980                   Nigeria         Nigeria  (1)          Otto Glória   \n12  1982                     Libya           Ghana  (4)       Charles Gyamfi   \n13  1984               Ivory Coast        Cameroon  (1)  Radivoje Ognjanović   \n14  1986                     Egypt           Egypt  (3)           Mike Smith   \n15  1988                   Morocco        Cameroon  (2)        Claude Le Roy   \n16  1990                   Algeria         Algeria  (1)   Abdelhamid Kermali   \n17  1992                   Senegal     Ivory Coast  (1)          Yeo Martial   \n18  1994                   Tunisia         Nigeria  (2)    Clemens Westerhof   \n19  1996              South Africa    South Africa  (1)         Clive Barker   \n20  1998              Burkina Faso           Egypt  (4)    Mahmoud El-Gohary   \n21  2000            Ghana  Nigeria        Cameroon  (3)     Pierre Lechantre   \n22  2002                      Mali        Cameroon  (4)     Winfried Schäfer   \n23  2004                   Tunisia         Tunisia  (1)        Roger Lemerre   \n24  2006                     Egypt           Egypt  (5)       Hassan Shehata   \n25  2008                     Ghana           Egypt  (6)       Hassan Shehata   \n26  2010                    Angola           Egypt  (7)       Hassan Shehata   \n27  2012  Gabon  Equatorial Guinea          Zambia  (1)         Hervé Renard   \n28  2013              South Africa         Nigeria  (3)        Stephen Keshi   \n29  2015         Equatorial Guinea     Ivory Coast  (2)         Hervé Renard   \n30  2017                     Gabon        Cameroon  (5)           Hugo Broos   \n31  2019                     Egypt         Algeria  (2)       Djamel Belmadi   \n32  2021                  Cameroon          Senegal (1)          Aliou Cissé   \n\n                                     TopScorer(goals)   MostValuablePlayer  \n0                                        Ad-Diba  (5)            El Gohary  \n1                              Mahmoud El Gohary  (3)             El Deeba  \n2       Mengistu Worku  (3)  Badawi Abdel Fattah  (3)       Mengistu Worku  \n3                               Hassan El Shazly  (6)     Hassan El Shazly  \n4   Ben Acheampong  (3)  Osei Kofi  (3)  Eustache ...            Osei Kofi  \n5                                  Laurent Pokou  (6)        Kazadi Mwamba  \n6                                  Laurent Pokou  (8)        Laurent Pokou  \n7                                    Salif Keita  (5)      François M'Pelé  \n8                                  Ndaye Mulamba  (9)      Mohamed Timoumi  \n9                            Aliou Mamadou Keita  (4)          Ahmed Faras  \n10  Phillip Omondi  (3)  Opoku Afriyie  (3)  Segun...    Karim Abdul Razak  \n11            Khaled Labied  (3)  Segun Odegbami  (3)     Christian Chukwu  \n12                               George Alhassan  (4)      Fawzi Al-Issawi  \n13                                Taher Abouzaid  (4)      Théophile Abega  \n14                                   Roger Milla  (4)          Roger Milla  \n15  Lakhdar Belloumi  (2)  Roger Milla  (2)  Abdou...      Aziz Bouderbala  \n16                                  Djamel Menad  (4)         Rabah Madjer  \n17                                Rashidi Yekini  (4)           Abedi Pele  \n18                                Rashidi Yekini  (5)       Rashidi Yekini  \n19                                Kalusha Bwalya  (5)       Kalusha Bwalya  \n20            Hossam Hassan  (7)  Benni McCarthy  (7)       Benni McCarthy  \n21                                Shaun Bartlett  (5)               Lauren  \n22  Patrick Mboma  (3)  René Salomon Olembé  (3)  ...        Rigobert Song  \n23  Patrick Mboma  (4)  Frédéric Kanouté  (4)  You...       Jay-Jay Okocha  \n24                                  Samuel Eto'o  (5)         Ahmed Hassan  \n25                                  Samuel Eto'o  (5)       Hosny Abd Rabo  \n26                                  Mohamed Nagy  (5)         Ahmed Hassan  \n27  Manucho  (3)  Didier Drogba  (3)  Pierre-Emeri...  Christopher Katongo  \n28         Mubarak Wakaso  (4)  Emmanuel Emenike  (4)    Jonathan Pitroipa  \n29  Thievy Bifouma  (3)  Dieumerci Mbokani  (3)  J...       Christian Atsu  \n30                              Junior Kabananga  (3)   Christian Bassogog  \n31                                  Odion Ighalo  (5)      Ismael Bennacer  \n32                              Vincent Aboubakar (8)           Sadio Mané  ",
      "text/html": "<div>\n<style scoped>\n    .dataframe tbody tr th:only-of-type {\n        vertical-align: middle;\n    }\n\n    .dataframe tbody tr th {\n        vertical-align: top;\n    }\n\n    .dataframe thead th {\n        text-align: right;\n    }\n</style>\n<table border=\"1\" class=\"dataframe\">\n  <thead>\n    <tr style=\"text-align: right;\">\n      <th></th>\n      <th>Year</th>\n      <th>Host</th>\n      <th>Champion(titles)</th>\n      <th>WinningCoach</th>\n      <th>TopScorer(goals)</th>\n      <th>MostValuablePlayer</th>\n    </tr>\n  </thead>\n  <tbody>\n    <tr>\n      <th>0</th>\n      <td>1957</td>\n      <td>Sudan</td>\n      <td>Egypt  (1)</td>\n      <td>Mourad Fahmy</td>\n      <td>Ad-Diba  (5)</td>\n      <td>El Gohary</td>\n    </tr>\n    <tr>\n      <th>1</th>\n      <td>1959</td>\n      <td>Egypt</td>\n      <td>Egypt  (2)</td>\n      <td>Pál Titkos</td>\n      <td>Mahmoud El Gohary  (3)</td>\n      <td>El Deeba</td>\n    </tr>\n    <tr>\n      <th>2</th>\n      <td>1962</td>\n      <td>Ethiopia</td>\n      <td>Ethiopia  (1)</td>\n      <td>Ydnekatchew Tessema</td>\n      <td>Mengistu Worku  (3)  Badawi Abdel Fattah  (3)</td>\n      <td>Mengistu Worku</td>\n    </tr>\n    <tr>\n      <th>3</th>\n      <td>1963</td>\n      <td>Ghana</td>\n      <td>Ghana  (1)</td>\n      <td>Charles Gyamfi</td>\n      <td>Hassan El Shazly  (6)</td>\n      <td>Hassan El Shazly</td>\n    </tr>\n    <tr>\n      <th>4</th>\n      <td>1965</td>\n      <td>Tunisia</td>\n      <td>Ghana  (2)</td>\n      <td>Charles Gyamfi</td>\n      <td>Ben Acheampong  (3)  Osei Kofi  (3)  Eustache ...</td>\n      <td>Osei Kofi</td>\n    </tr>\n    <tr>\n      <th>5</th>\n      <td>1968</td>\n      <td>Ethiopia</td>\n      <td>Congo-Kinshasa  (1)</td>\n      <td>Ferenc Csanádi</td>\n      <td>Laurent Pokou  (6)</td>\n      <td>Kazadi Mwamba</td>\n    </tr>\n    <tr>\n      <th>6</th>\n      <td>1970</td>\n      <td>Sudan</td>\n      <td>Sudan  (1)</td>\n      <td>Jiří Starosta</td>\n      <td>Laurent Pokou  (8)</td>\n      <td>Laurent Pokou</td>\n    </tr>\n    <tr>\n      <th>7</th>\n      <td>1972</td>\n      <td>Cameroon</td>\n      <td>Congo  (1)</td>\n      <td>Adolphe Bibanzoulou</td>\n      <td>Salif Keita  (5)</td>\n      <td>François M'Pelé</td>\n    </tr>\n    <tr>\n      <th>8</th>\n      <td>1974</td>\n      <td>Egypt</td>\n      <td>Zaire  (2)</td>\n      <td>Blagoje Vidinić</td>\n      <td>Ndaye Mulamba  (9)</td>\n      <td>Mohamed Timoumi</td>\n    </tr>\n    <tr>\n      <th>9</th>\n      <td>1976</td>\n      <td>Ethiopia</td>\n      <td>Morocco  (1)</td>\n      <td>Gheorghe Mărdărescu</td>\n      <td>Aliou Mamadou Keita  (4)</td>\n      <td>Ahmed Faras</td>\n    </tr>\n    <tr>\n      <th>10</th>\n      <td>1978</td>\n      <td>Ghana</td>\n      <td>Ghana  (3)</td>\n      <td>Fred Osam-Duodu</td>\n      <td>Phillip Omondi  (3)  Opoku Afriyie  (3)  Segun...</td>\n      <td>Karim Abdul Razak</td>\n    </tr>\n    <tr>\n      <th>11</th>\n      <td>1980</td>\n      <td>Nigeria</td>\n      <td>Nigeria  (1)</td>\n      <td>Otto Glória</td>\n      <td>Khaled Labied  (3)  Segun Odegbami  (3)</td>\n      <td>Christian Chukwu</td>\n    </tr>\n    <tr>\n      <th>12</th>\n      <td>1982</td>\n      <td>Libya</td>\n      <td>Ghana  (4)</td>\n      <td>Charles Gyamfi</td>\n      <td>George Alhassan  (4)</td>\n      <td>Fawzi Al-Issawi</td>\n    </tr>\n    <tr>\n      <th>13</th>\n      <td>1984</td>\n      <td>Ivory Coast</td>\n      <td>Cameroon  (1)</td>\n      <td>Radivoje Ognjanović</td>\n      <td>Taher Abouzaid  (4)</td>\n      <td>Théophile Abega</td>\n    </tr>\n    <tr>\n      <th>14</th>\n      <td>1986</td>\n      <td>Egypt</td>\n      <td>Egypt  (3)</td>\n      <td>Mike Smith</td>\n      <td>Roger Milla  (4)</td>\n      <td>Roger Milla</td>\n    </tr>\n    <tr>\n      <th>15</th>\n      <td>1988</td>\n      <td>Morocco</td>\n      <td>Cameroon  (2)</td>\n      <td>Claude Le Roy</td>\n      <td>Lakhdar Belloumi  (2)  Roger Milla  (2)  Abdou...</td>\n      <td>Aziz Bouderbala</td>\n    </tr>\n    <tr>\n      <th>16</th>\n      <td>1990</td>\n      <td>Algeria</td>\n      <td>Algeria  (1)</td>\n      <td>Abdelhamid Kermali</td>\n      <td>Djamel Menad  (4)</td>\n      <td>Rabah Madjer</td>\n    </tr>\n    <tr>\n      <th>17</th>\n      <td>1992</td>\n      <td>Senegal</td>\n      <td>Ivory Coast  (1)</td>\n      <td>Yeo Martial</td>\n      <td>Rashidi Yekini  (4)</td>\n      <td>Abedi Pele</td>\n    </tr>\n    <tr>\n      <th>18</th>\n      <td>1994</td>\n      <td>Tunisia</td>\n      <td>Nigeria  (2)</td>\n      <td>Clemens Westerhof</td>\n      <td>Rashidi Yekini  (5)</td>\n      <td>Rashidi Yekini</td>\n    </tr>\n    <tr>\n      <th>19</th>\n      <td>1996</td>\n      <td>South Africa</td>\n      <td>South Africa  (1)</td>\n      <td>Clive Barker</td>\n      <td>Kalusha Bwalya  (5)</td>\n      <td>Kalusha Bwalya</td>\n    </tr>\n    <tr>\n      <th>20</th>\n      <td>1998</td>\n      <td>Burkina Faso</td>\n      <td>Egypt  (4)</td>\n      <td>Mahmoud El-Gohary</td>\n      <td>Hossam Hassan  (7)  Benni McCarthy  (7)</td>\n      <td>Benni McCarthy</td>\n    </tr>\n    <tr>\n      <th>21</th>\n      <td>2000</td>\n      <td>Ghana  Nigeria</td>\n      <td>Cameroon  (3)</td>\n      <td>Pierre Lechantre</td>\n      <td>Shaun Bartlett  (5)</td>\n      <td>Lauren</td>\n    </tr>\n    <tr>\n      <th>22</th>\n      <td>2002</td>\n      <td>Mali</td>\n      <td>Cameroon  (4)</td>\n      <td>Winfried Schäfer</td>\n      <td>Patrick Mboma  (3)  René Salomon Olembé  (3)  ...</td>\n      <td>Rigobert Song</td>\n    </tr>\n    <tr>\n      <th>23</th>\n      <td>2004</td>\n      <td>Tunisia</td>\n      <td>Tunisia  (1)</td>\n      <td>Roger Lemerre</td>\n      <td>Patrick Mboma  (4)  Frédéric Kanouté  (4)  You...</td>\n      <td>Jay-Jay Okocha</td>\n    </tr>\n    <tr>\n      <th>24</th>\n      <td>2006</td>\n      <td>Egypt</td>\n      <td>Egypt  (5)</td>\n      <td>Hassan Shehata</td>\n      <td>Samuel Eto'o  (5)</td>\n      <td>Ahmed Hassan</td>\n    </tr>\n    <tr>\n      <th>25</th>\n      <td>2008</td>\n      <td>Ghana</td>\n      <td>Egypt  (6)</td>\n      <td>Hassan Shehata</td>\n      <td>Samuel Eto'o  (5)</td>\n      <td>Hosny Abd Rabo</td>\n    </tr>\n    <tr>\n      <th>26</th>\n      <td>2010</td>\n      <td>Angola</td>\n      <td>Egypt  (7)</td>\n      <td>Hassan Shehata</td>\n      <td>Mohamed Nagy  (5)</td>\n      <td>Ahmed Hassan</td>\n    </tr>\n    <tr>\n      <th>27</th>\n      <td>2012</td>\n      <td>Gabon  Equatorial Guinea</td>\n      <td>Zambia  (1)</td>\n      <td>Hervé Renard</td>\n      <td>Manucho  (3)  Didier Drogba  (3)  Pierre-Emeri...</td>\n      <td>Christopher Katongo</td>\n    </tr>\n    <tr>\n      <th>28</th>\n      <td>2013</td>\n      <td>South Africa</td>\n      <td>Nigeria  (3)</td>\n      <td>Stephen Keshi</td>\n      <td>Mubarak Wakaso  (4)  Emmanuel Emenike  (4)</td>\n      <td>Jonathan Pitroipa</td>\n    </tr>\n    <tr>\n      <th>29</th>\n      <td>2015</td>\n      <td>Equatorial Guinea</td>\n      <td>Ivory Coast  (2)</td>\n      <td>Hervé Renard</td>\n      <td>Thievy Bifouma  (3)  Dieumerci Mbokani  (3)  J...</td>\n      <td>Christian Atsu</td>\n    </tr>\n    <tr>\n      <th>30</th>\n      <td>2017</td>\n      <td>Gabon</td>\n      <td>Cameroon  (5)</td>\n      <td>Hugo Broos</td>\n      <td>Junior Kabananga  (3)</td>\n      <td>Christian Bassogog</td>\n    </tr>\n    <tr>\n      <th>31</th>\n      <td>2019</td>\n      <td>Egypt</td>\n      <td>Algeria  (2)</td>\n      <td>Djamel Belmadi</td>\n      <td>Odion Ighalo  (5)</td>\n      <td>Ismael Bennacer</td>\n    </tr>\n    <tr>\n      <th>32</th>\n      <td>2021</td>\n      <td>Cameroon</td>\n      <td>Senegal (1)</td>\n      <td>Aliou Cissé</td>\n      <td>Vincent Aboubakar (8)</td>\n      <td>Sadio Mané</td>\n    </tr>\n  </tbody>\n</table>\n</div>"
     },
     "execution_count": 119,
     "metadata": {},
     "output_type": "execute_result"
    }
   ],
   "source": [
    "df_stats"
   ],
   "metadata": {
    "collapsed": false,
    "ExecuteTime": {
     "end_time": "2024-01-03T17:18:53.840913500Z",
     "start_time": "2024-01-03T17:18:53.700432700Z"
    }
   },
   "id": "e057d902215506cb",
   "execution_count": 119
  },
  {
   "cell_type": "code",
   "outputs": [],
   "source": [
    "# df_stats = pd.read_csv(\"Tournaments General Statistics MaJ.csv\", sep=\";\")"
   ],
   "metadata": {
    "collapsed": false,
    "ExecuteTime": {
     "end_time": "2024-01-03T17:44:38.861421700Z",
     "start_time": "2024-01-03T17:44:38.778557200Z"
    }
   },
   "id": "3355e13f6c4450e0",
   "execution_count": 133
  },
  {
   "cell_type": "code",
   "outputs": [
    {
     "data": {
      "text/plain": "    Year                      Host        Champion     Champion(titles)  \\\n0   1957                     Sudan           Egypt           Egypt  (1)   \n1   1959                     Egypt           Egypt           Egypt  (2)   \n2   1962                  Ethiopia        Ethiopia        Ethiopia  (1)   \n3   1963                     Ghana           Ghana           Ghana  (1)   \n4   1965                   Tunisia           Ghana           Ghana  (2)   \n5   1968                  Ethiopia  Congo-Kinshasa  Congo-Kinshasa  (1)   \n6   1970                     Sudan           Sudan           Sudan  (1)   \n7   1972                  Cameroon           Congo           Congo  (1)   \n8   1974                     Egypt           Zaire           Zaire  (2)   \n9   1976                  Ethiopia         Morocco         Morocco  (1)   \n10  1978                     Ghana           Ghana           Ghana  (3)   \n11  1980                   Nigeria         Nigeria         Nigeria  (1)   \n12  1982                     Libya           Ghana           Ghana  (4)   \n13  1984               Ivory Coast        Cameroon        Cameroon  (1)   \n14  1986                     Egypt           Egypt           Egypt  (3)   \n15  1988                   Morocco        Cameroon        Cameroon  (2)   \n16  1990                   Algeria         Algeria         Algeria  (1)   \n17  1992                   Senegal     Ivory Coast     Ivory Coast  (1)   \n18  1994                   Tunisia         Nigeria         Nigeria  (2)   \n19  1996              South Africa    South Africa    South Africa  (1)   \n20  1998              Burkina Faso           Egypt           Egypt  (4)   \n21  2000            Ghana  Nigeria        Cameroon        Cameroon  (3)   \n22  2002                      Mali        Cameroon        Cameroon  (4)   \n23  2004                   Tunisia         Tunisia         Tunisia  (1)   \n24  2006                     Egypt           Egypt           Egypt  (5)   \n25  2008                     Ghana           Egypt           Egypt  (6)   \n26  2010                    Angola           Egypt           Egypt  (7)   \n27  2012  Gabon  Equatorial Guinea          Zambia          Zambia  (1)   \n28  2013              South Africa         Nigeria         Nigeria  (3)   \n29  2015         Equatorial Guinea     Ivory Coast     Ivory Coast  (2)   \n30  2017                     Gabon        Cameroon        Cameroon  (5)   \n31  2019                     Egypt         Algeria         Algeria  (2)   \n32  2021                  Cameroon         Senegal          Senegal (1)   \n\n           WinningCoach                                   TopScorer(goals)  \\\n0          Mourad Fahmy                                       Ad-Diba  (5)   \n1            Pál Titkos                             Mahmoud El Gohary  (3)   \n2   Ydnekatchew Tessema      Mengistu Worku  (3)  Badawi Abdel Fattah  (3)   \n3        Charles Gyamfi                              Hassan El Shazly  (6)   \n4        Charles Gyamfi  Ben Acheampong  (3)  Osei Kofi  (3)  Eustache ...   \n5        Ferenc Csanádi                                 Laurent Pokou  (6)   \n6         Jiří Starosta                                 Laurent Pokou  (8)   \n7   Adolphe Bibanzoulou                                   Salif Keita  (5)   \n8       Blagoje Vidinić                                 Ndaye Mulamba  (9)   \n9   Gheorghe Mărdărescu                           Aliou Mamadou Keita  (4)   \n10      Fred Osam-Duodu  Phillip Omondi  (3)  Opoku Afriyie  (3)  Segun...   \n11          Otto Glória            Khaled Labied  (3)  Segun Odegbami  (3)   \n12       Charles Gyamfi                               George Alhassan  (4)   \n13  Radivoje Ognjanović                                Taher Abouzaid  (4)   \n14           Mike Smith                                   Roger Milla  (4)   \n15        Claude Le Roy  Lakhdar Belloumi  (2)  Roger Milla  (2)  Abdou...   \n16   Abdelhamid Kermali                                  Djamel Menad  (4)   \n17          Yeo Martial                                Rashidi Yekini  (4)   \n18    Clemens Westerhof                                Rashidi Yekini  (5)   \n19         Clive Barker                                Kalusha Bwalya  (5)   \n20    Mahmoud El-Gohary            Hossam Hassan  (7)  Benni McCarthy  (7)   \n21     Pierre Lechantre                                Shaun Bartlett  (5)   \n22     Winfried Schäfer  Patrick Mboma  (3)  René Salomon Olembé  (3)  ...   \n23        Roger Lemerre  Patrick Mboma  (4)  Frédéric Kanouté  (4)  You...   \n24       Hassan Shehata                                  Samuel Eto'o  (5)   \n25       Hassan Shehata                                  Samuel Eto'o  (5)   \n26       Hassan Shehata                                  Mohamed Nagy  (5)   \n27         Hervé Renard  Manucho  (3)  Didier Drogba  (3)  Pierre-Emeri...   \n28        Stephen Keshi         Mubarak Wakaso  (4)  Emmanuel Emenike  (4)   \n29         Hervé Renard  Thievy Bifouma  (3)  Dieumerci Mbokani  (3)  J...   \n30           Hugo Broos                              Junior Kabananga  (3)   \n31       Djamel Belmadi                                  Odion Ighalo  (5)   \n32          Aliou Cissé                              Vincent Aboubakar (8)   \n\n     MostValuablePlayer  \n0             El Gohary  \n1              El Deeba  \n2        Mengistu Worku  \n3      Hassan El Shazly  \n4             Osei Kofi  \n5         Kazadi Mwamba  \n6         Laurent Pokou  \n7       François M'Pelé  \n8       Mohamed Timoumi  \n9           Ahmed Faras  \n10    Karim Abdul Razak  \n11     Christian Chukwu  \n12      Fawzi Al-Issawi  \n13      Théophile Abega  \n14          Roger Milla  \n15      Aziz Bouderbala  \n16         Rabah Madjer  \n17           Abedi Pele  \n18       Rashidi Yekini  \n19       Kalusha Bwalya  \n20       Benni McCarthy  \n21               Lauren  \n22        Rigobert Song  \n23       Jay-Jay Okocha  \n24         Ahmed Hassan  \n25       Hosny Abd Rabo  \n26         Ahmed Hassan  \n27  Christopher Katongo  \n28    Jonathan Pitroipa  \n29       Christian Atsu  \n30   Christian Bassogog  \n31      Ismael Bennacer  \n32           Sadio Mané  ",
      "text/html": "<div>\n<style scoped>\n    .dataframe tbody tr th:only-of-type {\n        vertical-align: middle;\n    }\n\n    .dataframe tbody tr th {\n        vertical-align: top;\n    }\n\n    .dataframe thead th {\n        text-align: right;\n    }\n</style>\n<table border=\"1\" class=\"dataframe\">\n  <thead>\n    <tr style=\"text-align: right;\">\n      <th></th>\n      <th>Year</th>\n      <th>Host</th>\n      <th>Champion</th>\n      <th>Champion(titles)</th>\n      <th>WinningCoach</th>\n      <th>TopScorer(goals)</th>\n      <th>MostValuablePlayer</th>\n    </tr>\n  </thead>\n  <tbody>\n    <tr>\n      <th>0</th>\n      <td>1957</td>\n      <td>Sudan</td>\n      <td>Egypt</td>\n      <td>Egypt  (1)</td>\n      <td>Mourad Fahmy</td>\n      <td>Ad-Diba  (5)</td>\n      <td>El Gohary</td>\n    </tr>\n    <tr>\n      <th>1</th>\n      <td>1959</td>\n      <td>Egypt</td>\n      <td>Egypt</td>\n      <td>Egypt  (2)</td>\n      <td>Pál Titkos</td>\n      <td>Mahmoud El Gohary  (3)</td>\n      <td>El Deeba</td>\n    </tr>\n    <tr>\n      <th>2</th>\n      <td>1962</td>\n      <td>Ethiopia</td>\n      <td>Ethiopia</td>\n      <td>Ethiopia  (1)</td>\n      <td>Ydnekatchew Tessema</td>\n      <td>Mengistu Worku  (3)  Badawi Abdel Fattah  (3)</td>\n      <td>Mengistu Worku</td>\n    </tr>\n    <tr>\n      <th>3</th>\n      <td>1963</td>\n      <td>Ghana</td>\n      <td>Ghana</td>\n      <td>Ghana  (1)</td>\n      <td>Charles Gyamfi</td>\n      <td>Hassan El Shazly  (6)</td>\n      <td>Hassan El Shazly</td>\n    </tr>\n    <tr>\n      <th>4</th>\n      <td>1965</td>\n      <td>Tunisia</td>\n      <td>Ghana</td>\n      <td>Ghana  (2)</td>\n      <td>Charles Gyamfi</td>\n      <td>Ben Acheampong  (3)  Osei Kofi  (3)  Eustache ...</td>\n      <td>Osei Kofi</td>\n    </tr>\n    <tr>\n      <th>5</th>\n      <td>1968</td>\n      <td>Ethiopia</td>\n      <td>Congo-Kinshasa</td>\n      <td>Congo-Kinshasa  (1)</td>\n      <td>Ferenc Csanádi</td>\n      <td>Laurent Pokou  (6)</td>\n      <td>Kazadi Mwamba</td>\n    </tr>\n    <tr>\n      <th>6</th>\n      <td>1970</td>\n      <td>Sudan</td>\n      <td>Sudan</td>\n      <td>Sudan  (1)</td>\n      <td>Jiří Starosta</td>\n      <td>Laurent Pokou  (8)</td>\n      <td>Laurent Pokou</td>\n    </tr>\n    <tr>\n      <th>7</th>\n      <td>1972</td>\n      <td>Cameroon</td>\n      <td>Congo</td>\n      <td>Congo  (1)</td>\n      <td>Adolphe Bibanzoulou</td>\n      <td>Salif Keita  (5)</td>\n      <td>François M'Pelé</td>\n    </tr>\n    <tr>\n      <th>8</th>\n      <td>1974</td>\n      <td>Egypt</td>\n      <td>Zaire</td>\n      <td>Zaire  (2)</td>\n      <td>Blagoje Vidinić</td>\n      <td>Ndaye Mulamba  (9)</td>\n      <td>Mohamed Timoumi</td>\n    </tr>\n    <tr>\n      <th>9</th>\n      <td>1976</td>\n      <td>Ethiopia</td>\n      <td>Morocco</td>\n      <td>Morocco  (1)</td>\n      <td>Gheorghe Mărdărescu</td>\n      <td>Aliou Mamadou Keita  (4)</td>\n      <td>Ahmed Faras</td>\n    </tr>\n    <tr>\n      <th>10</th>\n      <td>1978</td>\n      <td>Ghana</td>\n      <td>Ghana</td>\n      <td>Ghana  (3)</td>\n      <td>Fred Osam-Duodu</td>\n      <td>Phillip Omondi  (3)  Opoku Afriyie  (3)  Segun...</td>\n      <td>Karim Abdul Razak</td>\n    </tr>\n    <tr>\n      <th>11</th>\n      <td>1980</td>\n      <td>Nigeria</td>\n      <td>Nigeria</td>\n      <td>Nigeria  (1)</td>\n      <td>Otto Glória</td>\n      <td>Khaled Labied  (3)  Segun Odegbami  (3)</td>\n      <td>Christian Chukwu</td>\n    </tr>\n    <tr>\n      <th>12</th>\n      <td>1982</td>\n      <td>Libya</td>\n      <td>Ghana</td>\n      <td>Ghana  (4)</td>\n      <td>Charles Gyamfi</td>\n      <td>George Alhassan  (4)</td>\n      <td>Fawzi Al-Issawi</td>\n    </tr>\n    <tr>\n      <th>13</th>\n      <td>1984</td>\n      <td>Ivory Coast</td>\n      <td>Cameroon</td>\n      <td>Cameroon  (1)</td>\n      <td>Radivoje Ognjanović</td>\n      <td>Taher Abouzaid  (4)</td>\n      <td>Théophile Abega</td>\n    </tr>\n    <tr>\n      <th>14</th>\n      <td>1986</td>\n      <td>Egypt</td>\n      <td>Egypt</td>\n      <td>Egypt  (3)</td>\n      <td>Mike Smith</td>\n      <td>Roger Milla  (4)</td>\n      <td>Roger Milla</td>\n    </tr>\n    <tr>\n      <th>15</th>\n      <td>1988</td>\n      <td>Morocco</td>\n      <td>Cameroon</td>\n      <td>Cameroon  (2)</td>\n      <td>Claude Le Roy</td>\n      <td>Lakhdar Belloumi  (2)  Roger Milla  (2)  Abdou...</td>\n      <td>Aziz Bouderbala</td>\n    </tr>\n    <tr>\n      <th>16</th>\n      <td>1990</td>\n      <td>Algeria</td>\n      <td>Algeria</td>\n      <td>Algeria  (1)</td>\n      <td>Abdelhamid Kermali</td>\n      <td>Djamel Menad  (4)</td>\n      <td>Rabah Madjer</td>\n    </tr>\n    <tr>\n      <th>17</th>\n      <td>1992</td>\n      <td>Senegal</td>\n      <td>Ivory Coast</td>\n      <td>Ivory Coast  (1)</td>\n      <td>Yeo Martial</td>\n      <td>Rashidi Yekini  (4)</td>\n      <td>Abedi Pele</td>\n    </tr>\n    <tr>\n      <th>18</th>\n      <td>1994</td>\n      <td>Tunisia</td>\n      <td>Nigeria</td>\n      <td>Nigeria  (2)</td>\n      <td>Clemens Westerhof</td>\n      <td>Rashidi Yekini  (5)</td>\n      <td>Rashidi Yekini</td>\n    </tr>\n    <tr>\n      <th>19</th>\n      <td>1996</td>\n      <td>South Africa</td>\n      <td>South Africa</td>\n      <td>South Africa  (1)</td>\n      <td>Clive Barker</td>\n      <td>Kalusha Bwalya  (5)</td>\n      <td>Kalusha Bwalya</td>\n    </tr>\n    <tr>\n      <th>20</th>\n      <td>1998</td>\n      <td>Burkina Faso</td>\n      <td>Egypt</td>\n      <td>Egypt  (4)</td>\n      <td>Mahmoud El-Gohary</td>\n      <td>Hossam Hassan  (7)  Benni McCarthy  (7)</td>\n      <td>Benni McCarthy</td>\n    </tr>\n    <tr>\n      <th>21</th>\n      <td>2000</td>\n      <td>Ghana  Nigeria</td>\n      <td>Cameroon</td>\n      <td>Cameroon  (3)</td>\n      <td>Pierre Lechantre</td>\n      <td>Shaun Bartlett  (5)</td>\n      <td>Lauren</td>\n    </tr>\n    <tr>\n      <th>22</th>\n      <td>2002</td>\n      <td>Mali</td>\n      <td>Cameroon</td>\n      <td>Cameroon  (4)</td>\n      <td>Winfried Schäfer</td>\n      <td>Patrick Mboma  (3)  René Salomon Olembé  (3)  ...</td>\n      <td>Rigobert Song</td>\n    </tr>\n    <tr>\n      <th>23</th>\n      <td>2004</td>\n      <td>Tunisia</td>\n      <td>Tunisia</td>\n      <td>Tunisia  (1)</td>\n      <td>Roger Lemerre</td>\n      <td>Patrick Mboma  (4)  Frédéric Kanouté  (4)  You...</td>\n      <td>Jay-Jay Okocha</td>\n    </tr>\n    <tr>\n      <th>24</th>\n      <td>2006</td>\n      <td>Egypt</td>\n      <td>Egypt</td>\n      <td>Egypt  (5)</td>\n      <td>Hassan Shehata</td>\n      <td>Samuel Eto'o  (5)</td>\n      <td>Ahmed Hassan</td>\n    </tr>\n    <tr>\n      <th>25</th>\n      <td>2008</td>\n      <td>Ghana</td>\n      <td>Egypt</td>\n      <td>Egypt  (6)</td>\n      <td>Hassan Shehata</td>\n      <td>Samuel Eto'o  (5)</td>\n      <td>Hosny Abd Rabo</td>\n    </tr>\n    <tr>\n      <th>26</th>\n      <td>2010</td>\n      <td>Angola</td>\n      <td>Egypt</td>\n      <td>Egypt  (7)</td>\n      <td>Hassan Shehata</td>\n      <td>Mohamed Nagy  (5)</td>\n      <td>Ahmed Hassan</td>\n    </tr>\n    <tr>\n      <th>27</th>\n      <td>2012</td>\n      <td>Gabon  Equatorial Guinea</td>\n      <td>Zambia</td>\n      <td>Zambia  (1)</td>\n      <td>Hervé Renard</td>\n      <td>Manucho  (3)  Didier Drogba  (3)  Pierre-Emeri...</td>\n      <td>Christopher Katongo</td>\n    </tr>\n    <tr>\n      <th>28</th>\n      <td>2013</td>\n      <td>South Africa</td>\n      <td>Nigeria</td>\n      <td>Nigeria  (3)</td>\n      <td>Stephen Keshi</td>\n      <td>Mubarak Wakaso  (4)  Emmanuel Emenike  (4)</td>\n      <td>Jonathan Pitroipa</td>\n    </tr>\n    <tr>\n      <th>29</th>\n      <td>2015</td>\n      <td>Equatorial Guinea</td>\n      <td>Ivory Coast</td>\n      <td>Ivory Coast  (2)</td>\n      <td>Hervé Renard</td>\n      <td>Thievy Bifouma  (3)  Dieumerci Mbokani  (3)  J...</td>\n      <td>Christian Atsu</td>\n    </tr>\n    <tr>\n      <th>30</th>\n      <td>2017</td>\n      <td>Gabon</td>\n      <td>Cameroon</td>\n      <td>Cameroon  (5)</td>\n      <td>Hugo Broos</td>\n      <td>Junior Kabananga  (3)</td>\n      <td>Christian Bassogog</td>\n    </tr>\n    <tr>\n      <th>31</th>\n      <td>2019</td>\n      <td>Egypt</td>\n      <td>Algeria</td>\n      <td>Algeria  (2)</td>\n      <td>Djamel Belmadi</td>\n      <td>Odion Ighalo  (5)</td>\n      <td>Ismael Bennacer</td>\n    </tr>\n    <tr>\n      <th>32</th>\n      <td>2021</td>\n      <td>Cameroon</td>\n      <td>Senegal</td>\n      <td>Senegal (1)</td>\n      <td>Aliou Cissé</td>\n      <td>Vincent Aboubakar (8)</td>\n      <td>Sadio Mané</td>\n    </tr>\n  </tbody>\n</table>\n</div>"
     },
     "execution_count": 134,
     "metadata": {},
     "output_type": "execute_result"
    }
   ],
   "source": [
    "df_stats.insert(2, \"Champion\", df_stats[\"Champion(titles)\"].apply(lambda champion: champion.split(' (')[0]))\n",
    "df_stats['Champion'] = df_stats['Champion'].str.strip()\n",
    "df_stats"
   ],
   "metadata": {
    "collapsed": false,
    "ExecuteTime": {
     "end_time": "2024-01-03T17:44:40.027920400Z",
     "start_time": "2024-01-03T17:44:39.869818300Z"
    }
   },
   "id": "b10413739e1c1ccd",
   "execution_count": 134
  },
  {
   "cell_type": "code",
   "outputs": [],
   "source": [
    "df_stats['Champion'].replace(\"Congo-Kinshasa\", \"DR Congo\", inplace=True)\n",
    "df_stats['Champion'].replace(\"Zaire\", \"DR Congo\", inplace=True)"
   ],
   "metadata": {
    "collapsed": false,
    "ExecuteTime": {
     "end_time": "2024-01-03T17:44:44.182351600Z",
     "start_time": "2024-01-03T17:44:44.127031300Z"
    }
   },
   "id": "2af98e2ec6f251db",
   "execution_count": 135
  },
  {
   "cell_type": "code",
   "outputs": [
    {
     "data": {
      "text/plain": "    Year                      Host      Champion     Champion(titles)  \\\n0   1957                     Sudan         Egypt           Egypt  (1)   \n1   1959                     Egypt         Egypt           Egypt  (2)   \n2   1962                  Ethiopia      Ethiopia        Ethiopia  (1)   \n3   1963                     Ghana         Ghana           Ghana  (1)   \n4   1965                   Tunisia         Ghana           Ghana  (2)   \n5   1968                  Ethiopia      DR Congo  Congo-Kinshasa  (1)   \n6   1970                     Sudan         Sudan           Sudan  (1)   \n7   1972                  Cameroon         Congo           Congo  (1)   \n8   1974                     Egypt      DR Congo           Zaire  (2)   \n9   1976                  Ethiopia       Morocco         Morocco  (1)   \n10  1978                     Ghana         Ghana           Ghana  (3)   \n11  1980                   Nigeria       Nigeria         Nigeria  (1)   \n12  1982                     Libya         Ghana           Ghana  (4)   \n13  1984               Ivory Coast      Cameroon        Cameroon  (1)   \n14  1986                     Egypt         Egypt           Egypt  (3)   \n15  1988                   Morocco      Cameroon        Cameroon  (2)   \n16  1990                   Algeria       Algeria         Algeria  (1)   \n17  1992                   Senegal   Ivory Coast     Ivory Coast  (1)   \n18  1994                   Tunisia       Nigeria         Nigeria  (2)   \n19  1996              South Africa  South Africa    South Africa  (1)   \n20  1998              Burkina Faso         Egypt           Egypt  (4)   \n21  2000            Ghana  Nigeria      Cameroon        Cameroon  (3)   \n22  2002                      Mali      Cameroon        Cameroon  (4)   \n23  2004                   Tunisia       Tunisia         Tunisia  (1)   \n24  2006                     Egypt         Egypt           Egypt  (5)   \n25  2008                     Ghana         Egypt           Egypt  (6)   \n26  2010                    Angola         Egypt           Egypt  (7)   \n27  2012  Gabon  Equatorial Guinea        Zambia          Zambia  (1)   \n28  2013              South Africa       Nigeria         Nigeria  (3)   \n29  2015         Equatorial Guinea   Ivory Coast     Ivory Coast  (2)   \n30  2017                     Gabon      Cameroon        Cameroon  (5)   \n31  2019                     Egypt       Algeria         Algeria  (2)   \n32  2021                  Cameroon       Senegal          Senegal (1)   \n\n           WinningCoach                                   TopScorer(goals)  \\\n0          Mourad Fahmy                                       Ad-Diba  (5)   \n1            Pál Titkos                             Mahmoud El Gohary  (3)   \n2   Ydnekatchew Tessema      Mengistu Worku  (3)  Badawi Abdel Fattah  (3)   \n3        Charles Gyamfi                              Hassan El Shazly  (6)   \n4        Charles Gyamfi  Ben Acheampong  (3)  Osei Kofi  (3)  Eustache ...   \n5        Ferenc Csanádi                                 Laurent Pokou  (6)   \n6         Jiří Starosta                                 Laurent Pokou  (8)   \n7   Adolphe Bibanzoulou                                   Salif Keita  (5)   \n8       Blagoje Vidinić                                 Ndaye Mulamba  (9)   \n9   Gheorghe Mărdărescu                           Aliou Mamadou Keita  (4)   \n10      Fred Osam-Duodu  Phillip Omondi  (3)  Opoku Afriyie  (3)  Segun...   \n11          Otto Glória            Khaled Labied  (3)  Segun Odegbami  (3)   \n12       Charles Gyamfi                               George Alhassan  (4)   \n13  Radivoje Ognjanović                                Taher Abouzaid  (4)   \n14           Mike Smith                                   Roger Milla  (4)   \n15        Claude Le Roy  Lakhdar Belloumi  (2)  Roger Milla  (2)  Abdou...   \n16   Abdelhamid Kermali                                  Djamel Menad  (4)   \n17          Yeo Martial                                Rashidi Yekini  (4)   \n18    Clemens Westerhof                                Rashidi Yekini  (5)   \n19         Clive Barker                                Kalusha Bwalya  (5)   \n20    Mahmoud El-Gohary            Hossam Hassan  (7)  Benni McCarthy  (7)   \n21     Pierre Lechantre                                Shaun Bartlett  (5)   \n22     Winfried Schäfer  Patrick Mboma  (3)  René Salomon Olembé  (3)  ...   \n23        Roger Lemerre  Patrick Mboma  (4)  Frédéric Kanouté  (4)  You...   \n24       Hassan Shehata                                  Samuel Eto'o  (5)   \n25       Hassan Shehata                                  Samuel Eto'o  (5)   \n26       Hassan Shehata                                  Mohamed Nagy  (5)   \n27         Hervé Renard  Manucho  (3)  Didier Drogba  (3)  Pierre-Emeri...   \n28        Stephen Keshi         Mubarak Wakaso  (4)  Emmanuel Emenike  (4)   \n29         Hervé Renard  Thievy Bifouma  (3)  Dieumerci Mbokani  (3)  J...   \n30           Hugo Broos                              Junior Kabananga  (3)   \n31       Djamel Belmadi                                  Odion Ighalo  (5)   \n32          Aliou Cissé                              Vincent Aboubakar (8)   \n\n     MostValuablePlayer HostRegion ChampionRegion  \n0             El Gohary     CECAFA           UNAF  \n1              El Deeba       UNAF           UNAF  \n2        Mengistu Worku     CECAFA         CECAFA  \n3      Hassan El Shazly       UFOA           UFOA  \n4             Osei Kofi       UNAF           UFOA  \n5         Kazadi Mwamba     CECAFA        UNIFFAC  \n6         Laurent Pokou     CECAFA         CECAFA  \n7       François M'Pelé    UNIFFAC        UNIFFAC  \n8       Mohamed Timoumi       UNAF        UNIFFAC  \n9           Ahmed Faras     CECAFA           UNAF  \n10    Karim Abdul Razak       UFOA           UFOA  \n11     Christian Chukwu       UFOA           UFOA  \n12      Fawzi Al-Issawi       UNAF           UFOA  \n13      Théophile Abega       UFOA        UNIFFAC  \n14          Roger Milla       UNAF           UNAF  \n15      Aziz Bouderbala       UNAF        UNIFFAC  \n16         Rabah Madjer       UNAF           UNAF  \n17           Abedi Pele       UFOA           UFOA  \n18       Rashidi Yekini       UNAF           UFOA  \n19       Kalusha Bwalya     COSAFA         COSAFA  \n20       Benni McCarthy       UFOA           UNAF  \n21               Lauren        NaN        UNIFFAC  \n22        Rigobert Song       UFOA        UNIFFAC  \n23       Jay-Jay Okocha       UNAF           UNAF  \n24         Ahmed Hassan       UNAF           UNAF  \n25       Hosny Abd Rabo       UFOA           UNAF  \n26         Ahmed Hassan     COSAFA           UNAF  \n27  Christopher Katongo        NaN         COSAFA  \n28    Jonathan Pitroipa     COSAFA           UFOA  \n29       Christian Atsu    UNIFFAC           UFOA  \n30   Christian Bassogog    UNIFFAC        UNIFFAC  \n31      Ismael Bennacer       UNAF           UNAF  \n32           Sadio Mané    UNIFFAC           UFOA  ",
      "text/html": "<div>\n<style scoped>\n    .dataframe tbody tr th:only-of-type {\n        vertical-align: middle;\n    }\n\n    .dataframe tbody tr th {\n        vertical-align: top;\n    }\n\n    .dataframe thead th {\n        text-align: right;\n    }\n</style>\n<table border=\"1\" class=\"dataframe\">\n  <thead>\n    <tr style=\"text-align: right;\">\n      <th></th>\n      <th>Year</th>\n      <th>Host</th>\n      <th>Champion</th>\n      <th>Champion(titles)</th>\n      <th>WinningCoach</th>\n      <th>TopScorer(goals)</th>\n      <th>MostValuablePlayer</th>\n      <th>HostRegion</th>\n      <th>ChampionRegion</th>\n    </tr>\n  </thead>\n  <tbody>\n    <tr>\n      <th>0</th>\n      <td>1957</td>\n      <td>Sudan</td>\n      <td>Egypt</td>\n      <td>Egypt  (1)</td>\n      <td>Mourad Fahmy</td>\n      <td>Ad-Diba  (5)</td>\n      <td>El Gohary</td>\n      <td>CECAFA</td>\n      <td>UNAF</td>\n    </tr>\n    <tr>\n      <th>1</th>\n      <td>1959</td>\n      <td>Egypt</td>\n      <td>Egypt</td>\n      <td>Egypt  (2)</td>\n      <td>Pál Titkos</td>\n      <td>Mahmoud El Gohary  (3)</td>\n      <td>El Deeba</td>\n      <td>UNAF</td>\n      <td>UNAF</td>\n    </tr>\n    <tr>\n      <th>2</th>\n      <td>1962</td>\n      <td>Ethiopia</td>\n      <td>Ethiopia</td>\n      <td>Ethiopia  (1)</td>\n      <td>Ydnekatchew Tessema</td>\n      <td>Mengistu Worku  (3)  Badawi Abdel Fattah  (3)</td>\n      <td>Mengistu Worku</td>\n      <td>CECAFA</td>\n      <td>CECAFA</td>\n    </tr>\n    <tr>\n      <th>3</th>\n      <td>1963</td>\n      <td>Ghana</td>\n      <td>Ghana</td>\n      <td>Ghana  (1)</td>\n      <td>Charles Gyamfi</td>\n      <td>Hassan El Shazly  (6)</td>\n      <td>Hassan El Shazly</td>\n      <td>UFOA</td>\n      <td>UFOA</td>\n    </tr>\n    <tr>\n      <th>4</th>\n      <td>1965</td>\n      <td>Tunisia</td>\n      <td>Ghana</td>\n      <td>Ghana  (2)</td>\n      <td>Charles Gyamfi</td>\n      <td>Ben Acheampong  (3)  Osei Kofi  (3)  Eustache ...</td>\n      <td>Osei Kofi</td>\n      <td>UNAF</td>\n      <td>UFOA</td>\n    </tr>\n    <tr>\n      <th>5</th>\n      <td>1968</td>\n      <td>Ethiopia</td>\n      <td>DR Congo</td>\n      <td>Congo-Kinshasa  (1)</td>\n      <td>Ferenc Csanádi</td>\n      <td>Laurent Pokou  (6)</td>\n      <td>Kazadi Mwamba</td>\n      <td>CECAFA</td>\n      <td>UNIFFAC</td>\n    </tr>\n    <tr>\n      <th>6</th>\n      <td>1970</td>\n      <td>Sudan</td>\n      <td>Sudan</td>\n      <td>Sudan  (1)</td>\n      <td>Jiří Starosta</td>\n      <td>Laurent Pokou  (8)</td>\n      <td>Laurent Pokou</td>\n      <td>CECAFA</td>\n      <td>CECAFA</td>\n    </tr>\n    <tr>\n      <th>7</th>\n      <td>1972</td>\n      <td>Cameroon</td>\n      <td>Congo</td>\n      <td>Congo  (1)</td>\n      <td>Adolphe Bibanzoulou</td>\n      <td>Salif Keita  (5)</td>\n      <td>François M'Pelé</td>\n      <td>UNIFFAC</td>\n      <td>UNIFFAC</td>\n    </tr>\n    <tr>\n      <th>8</th>\n      <td>1974</td>\n      <td>Egypt</td>\n      <td>DR Congo</td>\n      <td>Zaire  (2)</td>\n      <td>Blagoje Vidinić</td>\n      <td>Ndaye Mulamba  (9)</td>\n      <td>Mohamed Timoumi</td>\n      <td>UNAF</td>\n      <td>UNIFFAC</td>\n    </tr>\n    <tr>\n      <th>9</th>\n      <td>1976</td>\n      <td>Ethiopia</td>\n      <td>Morocco</td>\n      <td>Morocco  (1)</td>\n      <td>Gheorghe Mărdărescu</td>\n      <td>Aliou Mamadou Keita  (4)</td>\n      <td>Ahmed Faras</td>\n      <td>CECAFA</td>\n      <td>UNAF</td>\n    </tr>\n    <tr>\n      <th>10</th>\n      <td>1978</td>\n      <td>Ghana</td>\n      <td>Ghana</td>\n      <td>Ghana  (3)</td>\n      <td>Fred Osam-Duodu</td>\n      <td>Phillip Omondi  (3)  Opoku Afriyie  (3)  Segun...</td>\n      <td>Karim Abdul Razak</td>\n      <td>UFOA</td>\n      <td>UFOA</td>\n    </tr>\n    <tr>\n      <th>11</th>\n      <td>1980</td>\n      <td>Nigeria</td>\n      <td>Nigeria</td>\n      <td>Nigeria  (1)</td>\n      <td>Otto Glória</td>\n      <td>Khaled Labied  (3)  Segun Odegbami  (3)</td>\n      <td>Christian Chukwu</td>\n      <td>UFOA</td>\n      <td>UFOA</td>\n    </tr>\n    <tr>\n      <th>12</th>\n      <td>1982</td>\n      <td>Libya</td>\n      <td>Ghana</td>\n      <td>Ghana  (4)</td>\n      <td>Charles Gyamfi</td>\n      <td>George Alhassan  (4)</td>\n      <td>Fawzi Al-Issawi</td>\n      <td>UNAF</td>\n      <td>UFOA</td>\n    </tr>\n    <tr>\n      <th>13</th>\n      <td>1984</td>\n      <td>Ivory Coast</td>\n      <td>Cameroon</td>\n      <td>Cameroon  (1)</td>\n      <td>Radivoje Ognjanović</td>\n      <td>Taher Abouzaid  (4)</td>\n      <td>Théophile Abega</td>\n      <td>UFOA</td>\n      <td>UNIFFAC</td>\n    </tr>\n    <tr>\n      <th>14</th>\n      <td>1986</td>\n      <td>Egypt</td>\n      <td>Egypt</td>\n      <td>Egypt  (3)</td>\n      <td>Mike Smith</td>\n      <td>Roger Milla  (4)</td>\n      <td>Roger Milla</td>\n      <td>UNAF</td>\n      <td>UNAF</td>\n    </tr>\n    <tr>\n      <th>15</th>\n      <td>1988</td>\n      <td>Morocco</td>\n      <td>Cameroon</td>\n      <td>Cameroon  (2)</td>\n      <td>Claude Le Roy</td>\n      <td>Lakhdar Belloumi  (2)  Roger Milla  (2)  Abdou...</td>\n      <td>Aziz Bouderbala</td>\n      <td>UNAF</td>\n      <td>UNIFFAC</td>\n    </tr>\n    <tr>\n      <th>16</th>\n      <td>1990</td>\n      <td>Algeria</td>\n      <td>Algeria</td>\n      <td>Algeria  (1)</td>\n      <td>Abdelhamid Kermali</td>\n      <td>Djamel Menad  (4)</td>\n      <td>Rabah Madjer</td>\n      <td>UNAF</td>\n      <td>UNAF</td>\n    </tr>\n    <tr>\n      <th>17</th>\n      <td>1992</td>\n      <td>Senegal</td>\n      <td>Ivory Coast</td>\n      <td>Ivory Coast  (1)</td>\n      <td>Yeo Martial</td>\n      <td>Rashidi Yekini  (4)</td>\n      <td>Abedi Pele</td>\n      <td>UFOA</td>\n      <td>UFOA</td>\n    </tr>\n    <tr>\n      <th>18</th>\n      <td>1994</td>\n      <td>Tunisia</td>\n      <td>Nigeria</td>\n      <td>Nigeria  (2)</td>\n      <td>Clemens Westerhof</td>\n      <td>Rashidi Yekini  (5)</td>\n      <td>Rashidi Yekini</td>\n      <td>UNAF</td>\n      <td>UFOA</td>\n    </tr>\n    <tr>\n      <th>19</th>\n      <td>1996</td>\n      <td>South Africa</td>\n      <td>South Africa</td>\n      <td>South Africa  (1)</td>\n      <td>Clive Barker</td>\n      <td>Kalusha Bwalya  (5)</td>\n      <td>Kalusha Bwalya</td>\n      <td>COSAFA</td>\n      <td>COSAFA</td>\n    </tr>\n    <tr>\n      <th>20</th>\n      <td>1998</td>\n      <td>Burkina Faso</td>\n      <td>Egypt</td>\n      <td>Egypt  (4)</td>\n      <td>Mahmoud El-Gohary</td>\n      <td>Hossam Hassan  (7)  Benni McCarthy  (7)</td>\n      <td>Benni McCarthy</td>\n      <td>UFOA</td>\n      <td>UNAF</td>\n    </tr>\n    <tr>\n      <th>21</th>\n      <td>2000</td>\n      <td>Ghana  Nigeria</td>\n      <td>Cameroon</td>\n      <td>Cameroon  (3)</td>\n      <td>Pierre Lechantre</td>\n      <td>Shaun Bartlett  (5)</td>\n      <td>Lauren</td>\n      <td>NaN</td>\n      <td>UNIFFAC</td>\n    </tr>\n    <tr>\n      <th>22</th>\n      <td>2002</td>\n      <td>Mali</td>\n      <td>Cameroon</td>\n      <td>Cameroon  (4)</td>\n      <td>Winfried Schäfer</td>\n      <td>Patrick Mboma  (3)  René Salomon Olembé  (3)  ...</td>\n      <td>Rigobert Song</td>\n      <td>UFOA</td>\n      <td>UNIFFAC</td>\n    </tr>\n    <tr>\n      <th>23</th>\n      <td>2004</td>\n      <td>Tunisia</td>\n      <td>Tunisia</td>\n      <td>Tunisia  (1)</td>\n      <td>Roger Lemerre</td>\n      <td>Patrick Mboma  (4)  Frédéric Kanouté  (4)  You...</td>\n      <td>Jay-Jay Okocha</td>\n      <td>UNAF</td>\n      <td>UNAF</td>\n    </tr>\n    <tr>\n      <th>24</th>\n      <td>2006</td>\n      <td>Egypt</td>\n      <td>Egypt</td>\n      <td>Egypt  (5)</td>\n      <td>Hassan Shehata</td>\n      <td>Samuel Eto'o  (5)</td>\n      <td>Ahmed Hassan</td>\n      <td>UNAF</td>\n      <td>UNAF</td>\n    </tr>\n    <tr>\n      <th>25</th>\n      <td>2008</td>\n      <td>Ghana</td>\n      <td>Egypt</td>\n      <td>Egypt  (6)</td>\n      <td>Hassan Shehata</td>\n      <td>Samuel Eto'o  (5)</td>\n      <td>Hosny Abd Rabo</td>\n      <td>UFOA</td>\n      <td>UNAF</td>\n    </tr>\n    <tr>\n      <th>26</th>\n      <td>2010</td>\n      <td>Angola</td>\n      <td>Egypt</td>\n      <td>Egypt  (7)</td>\n      <td>Hassan Shehata</td>\n      <td>Mohamed Nagy  (5)</td>\n      <td>Ahmed Hassan</td>\n      <td>COSAFA</td>\n      <td>UNAF</td>\n    </tr>\n    <tr>\n      <th>27</th>\n      <td>2012</td>\n      <td>Gabon  Equatorial Guinea</td>\n      <td>Zambia</td>\n      <td>Zambia  (1)</td>\n      <td>Hervé Renard</td>\n      <td>Manucho  (3)  Didier Drogba  (3)  Pierre-Emeri...</td>\n      <td>Christopher Katongo</td>\n      <td>NaN</td>\n      <td>COSAFA</td>\n    </tr>\n    <tr>\n      <th>28</th>\n      <td>2013</td>\n      <td>South Africa</td>\n      <td>Nigeria</td>\n      <td>Nigeria  (3)</td>\n      <td>Stephen Keshi</td>\n      <td>Mubarak Wakaso  (4)  Emmanuel Emenike  (4)</td>\n      <td>Jonathan Pitroipa</td>\n      <td>COSAFA</td>\n      <td>UFOA</td>\n    </tr>\n    <tr>\n      <th>29</th>\n      <td>2015</td>\n      <td>Equatorial Guinea</td>\n      <td>Ivory Coast</td>\n      <td>Ivory Coast  (2)</td>\n      <td>Hervé Renard</td>\n      <td>Thievy Bifouma  (3)  Dieumerci Mbokani  (3)  J...</td>\n      <td>Christian Atsu</td>\n      <td>UNIFFAC</td>\n      <td>UFOA</td>\n    </tr>\n    <tr>\n      <th>30</th>\n      <td>2017</td>\n      <td>Gabon</td>\n      <td>Cameroon</td>\n      <td>Cameroon  (5)</td>\n      <td>Hugo Broos</td>\n      <td>Junior Kabananga  (3)</td>\n      <td>Christian Bassogog</td>\n      <td>UNIFFAC</td>\n      <td>UNIFFAC</td>\n    </tr>\n    <tr>\n      <th>31</th>\n      <td>2019</td>\n      <td>Egypt</td>\n      <td>Algeria</td>\n      <td>Algeria  (2)</td>\n      <td>Djamel Belmadi</td>\n      <td>Odion Ighalo  (5)</td>\n      <td>Ismael Bennacer</td>\n      <td>UNAF</td>\n      <td>UNAF</td>\n    </tr>\n    <tr>\n      <th>32</th>\n      <td>2021</td>\n      <td>Cameroon</td>\n      <td>Senegal</td>\n      <td>Senegal (1)</td>\n      <td>Aliou Cissé</td>\n      <td>Vincent Aboubakar (8)</td>\n      <td>Sadio Mané</td>\n      <td>UNIFFAC</td>\n      <td>UFOA</td>\n    </tr>\n  </tbody>\n</table>\n</div>"
     },
     "execution_count": 136,
     "metadata": {},
     "output_type": "execute_result"
    }
   ],
   "source": [
    "df_stats = df_stats.merge(df_countries, left_on='Host', right_on='Country', how='left').rename(columns={'Region': 'HostRegion'})\n",
    "df_stats = df_stats.merge(df_countries, left_on='Champion', right_on='Country', how='left').rename(columns={'Region': 'ChampionRegion'})\n",
    "\n",
    "df_stats = df_stats.drop(['Country_x', 'Country_y'], axis=1)\n",
    "df_stats"
   ],
   "metadata": {
    "collapsed": false,
    "ExecuteTime": {
     "end_time": "2024-01-03T17:44:46.796527900Z",
     "start_time": "2024-01-03T17:44:46.612573Z"
    }
   },
   "id": "9e921c97cbd4e8f6",
   "execution_count": 136
  },
  {
   "cell_type": "code",
   "outputs": [
    {
     "data": {
      "text/plain": "    Year                      Host      Champion     Champion(titles)  \\\n0   1957                     Sudan         Egypt           Egypt  (1)   \n1   1959                     Egypt         Egypt           Egypt  (2)   \n2   1962                  Ethiopia      Ethiopia        Ethiopia  (1)   \n3   1963                     Ghana         Ghana           Ghana  (1)   \n4   1965                   Tunisia         Ghana           Ghana  (2)   \n5   1968                  Ethiopia      DR Congo  Congo-Kinshasa  (1)   \n6   1970                     Sudan         Sudan           Sudan  (1)   \n7   1972                  Cameroon         Congo           Congo  (1)   \n8   1974                     Egypt      DR Congo           Zaire  (2)   \n9   1976                  Ethiopia       Morocco         Morocco  (1)   \n10  1978                     Ghana         Ghana           Ghana  (3)   \n11  1980                   Nigeria       Nigeria         Nigeria  (1)   \n12  1982                     Libya         Ghana           Ghana  (4)   \n13  1984               Ivory Coast      Cameroon        Cameroon  (1)   \n14  1986                     Egypt         Egypt           Egypt  (3)   \n15  1988                   Morocco      Cameroon        Cameroon  (2)   \n16  1990                   Algeria       Algeria         Algeria  (1)   \n17  1992                   Senegal   Ivory Coast     Ivory Coast  (1)   \n18  1994                   Tunisia       Nigeria         Nigeria  (2)   \n19  1996              South Africa  South Africa    South Africa  (1)   \n20  1998              Burkina Faso         Egypt           Egypt  (4)   \n21  2000            Ghana  Nigeria      Cameroon        Cameroon  (3)   \n22  2002                      Mali      Cameroon        Cameroon  (4)   \n23  2004                   Tunisia       Tunisia         Tunisia  (1)   \n24  2006                     Egypt         Egypt           Egypt  (5)   \n25  2008                     Ghana         Egypt           Egypt  (6)   \n26  2010                    Angola         Egypt           Egypt  (7)   \n27  2012  Gabon  Equatorial Guinea        Zambia          Zambia  (1)   \n28  2013              South Africa       Nigeria         Nigeria  (3)   \n29  2015         Equatorial Guinea   Ivory Coast     Ivory Coast  (2)   \n30  2017                     Gabon      Cameroon        Cameroon  (5)   \n31  2019                     Egypt       Algeria         Algeria  (2)   \n32  2021                  Cameroon       Senegal          Senegal (1)   \n\n           WinningCoach                                   TopScorer(goals)  \\\n0          Mourad Fahmy                                       Ad-Diba  (5)   \n1            Pál Titkos                             Mahmoud El Gohary  (3)   \n2   Ydnekatchew Tessema      Mengistu Worku  (3)  Badawi Abdel Fattah  (3)   \n3        Charles Gyamfi                              Hassan El Shazly  (6)   \n4        Charles Gyamfi  Ben Acheampong  (3)  Osei Kofi  (3)  Eustache ...   \n5        Ferenc Csanádi                                 Laurent Pokou  (6)   \n6         Jiří Starosta                                 Laurent Pokou  (8)   \n7   Adolphe Bibanzoulou                                   Salif Keita  (5)   \n8       Blagoje Vidinić                                 Ndaye Mulamba  (9)   \n9   Gheorghe Mărdărescu                           Aliou Mamadou Keita  (4)   \n10      Fred Osam-Duodu  Phillip Omondi  (3)  Opoku Afriyie  (3)  Segun...   \n11          Otto Glória            Khaled Labied  (3)  Segun Odegbami  (3)   \n12       Charles Gyamfi                               George Alhassan  (4)   \n13  Radivoje Ognjanović                                Taher Abouzaid  (4)   \n14           Mike Smith                                   Roger Milla  (4)   \n15        Claude Le Roy  Lakhdar Belloumi  (2)  Roger Milla  (2)  Abdou...   \n16   Abdelhamid Kermali                                  Djamel Menad  (4)   \n17          Yeo Martial                                Rashidi Yekini  (4)   \n18    Clemens Westerhof                                Rashidi Yekini  (5)   \n19         Clive Barker                                Kalusha Bwalya  (5)   \n20    Mahmoud El-Gohary            Hossam Hassan  (7)  Benni McCarthy  (7)   \n21     Pierre Lechantre                                Shaun Bartlett  (5)   \n22     Winfried Schäfer  Patrick Mboma  (3)  René Salomon Olembé  (3)  ...   \n23        Roger Lemerre  Patrick Mboma  (4)  Frédéric Kanouté  (4)  You...   \n24       Hassan Shehata                                  Samuel Eto'o  (5)   \n25       Hassan Shehata                                  Samuel Eto'o  (5)   \n26       Hassan Shehata                                  Mohamed Nagy  (5)   \n27         Hervé Renard  Manucho  (3)  Didier Drogba  (3)  Pierre-Emeri...   \n28        Stephen Keshi         Mubarak Wakaso  (4)  Emmanuel Emenike  (4)   \n29         Hervé Renard  Thievy Bifouma  (3)  Dieumerci Mbokani  (3)  J...   \n30           Hugo Broos                              Junior Kabananga  (3)   \n31       Djamel Belmadi                                  Odion Ighalo  (5)   \n32          Aliou Cissé                              Vincent Aboubakar (8)   \n\n     MostValuablePlayer HostRegion ChampionRegion  \n0             El Gohary     CECAFA           UNAF  \n1              El Deeba       UNAF           UNAF  \n2        Mengistu Worku     CECAFA         CECAFA  \n3      Hassan El Shazly       UFOA           UFOA  \n4             Osei Kofi       UNAF           UFOA  \n5         Kazadi Mwamba     CECAFA        UNIFFAC  \n6         Laurent Pokou     CECAFA         CECAFA  \n7       François M'Pelé    UNIFFAC        UNIFFAC  \n8       Mohamed Timoumi       UNAF        UNIFFAC  \n9           Ahmed Faras     CECAFA           UNAF  \n10    Karim Abdul Razak       UFOA           UFOA  \n11     Christian Chukwu       UFOA           UFOA  \n12      Fawzi Al-Issawi       UNAF           UFOA  \n13      Théophile Abega       UFOA        UNIFFAC  \n14          Roger Milla       UNAF           UNAF  \n15      Aziz Bouderbala       UNAF        UNIFFAC  \n16         Rabah Madjer       UNAF           UNAF  \n17           Abedi Pele       UFOA           UFOA  \n18       Rashidi Yekini       UNAF           UFOA  \n19       Kalusha Bwalya     COSAFA         COSAFA  \n20       Benni McCarthy       UFOA           UNAF  \n21               Lauren       UFOA        UNIFFAC  \n22        Rigobert Song       UFOA        UNIFFAC  \n23       Jay-Jay Okocha       UNAF           UNAF  \n24         Ahmed Hassan       UNAF           UNAF  \n25       Hosny Abd Rabo       UFOA           UNAF  \n26         Ahmed Hassan     COSAFA           UNAF  \n27  Christopher Katongo    UNIFFAC         COSAFA  \n28    Jonathan Pitroipa     COSAFA           UFOA  \n29       Christian Atsu    UNIFFAC           UFOA  \n30   Christian Bassogog    UNIFFAC        UNIFFAC  \n31      Ismael Bennacer       UNAF           UNAF  \n32           Sadio Mané    UNIFFAC           UFOA  ",
      "text/html": "<div>\n<style scoped>\n    .dataframe tbody tr th:only-of-type {\n        vertical-align: middle;\n    }\n\n    .dataframe tbody tr th {\n        vertical-align: top;\n    }\n\n    .dataframe thead th {\n        text-align: right;\n    }\n</style>\n<table border=\"1\" class=\"dataframe\">\n  <thead>\n    <tr style=\"text-align: right;\">\n      <th></th>\n      <th>Year</th>\n      <th>Host</th>\n      <th>Champion</th>\n      <th>Champion(titles)</th>\n      <th>WinningCoach</th>\n      <th>TopScorer(goals)</th>\n      <th>MostValuablePlayer</th>\n      <th>HostRegion</th>\n      <th>ChampionRegion</th>\n    </tr>\n  </thead>\n  <tbody>\n    <tr>\n      <th>0</th>\n      <td>1957</td>\n      <td>Sudan</td>\n      <td>Egypt</td>\n      <td>Egypt  (1)</td>\n      <td>Mourad Fahmy</td>\n      <td>Ad-Diba  (5)</td>\n      <td>El Gohary</td>\n      <td>CECAFA</td>\n      <td>UNAF</td>\n    </tr>\n    <tr>\n      <th>1</th>\n      <td>1959</td>\n      <td>Egypt</td>\n      <td>Egypt</td>\n      <td>Egypt  (2)</td>\n      <td>Pál Titkos</td>\n      <td>Mahmoud El Gohary  (3)</td>\n      <td>El Deeba</td>\n      <td>UNAF</td>\n      <td>UNAF</td>\n    </tr>\n    <tr>\n      <th>2</th>\n      <td>1962</td>\n      <td>Ethiopia</td>\n      <td>Ethiopia</td>\n      <td>Ethiopia  (1)</td>\n      <td>Ydnekatchew Tessema</td>\n      <td>Mengistu Worku  (3)  Badawi Abdel Fattah  (3)</td>\n      <td>Mengistu Worku</td>\n      <td>CECAFA</td>\n      <td>CECAFA</td>\n    </tr>\n    <tr>\n      <th>3</th>\n      <td>1963</td>\n      <td>Ghana</td>\n      <td>Ghana</td>\n      <td>Ghana  (1)</td>\n      <td>Charles Gyamfi</td>\n      <td>Hassan El Shazly  (6)</td>\n      <td>Hassan El Shazly</td>\n      <td>UFOA</td>\n      <td>UFOA</td>\n    </tr>\n    <tr>\n      <th>4</th>\n      <td>1965</td>\n      <td>Tunisia</td>\n      <td>Ghana</td>\n      <td>Ghana  (2)</td>\n      <td>Charles Gyamfi</td>\n      <td>Ben Acheampong  (3)  Osei Kofi  (3)  Eustache ...</td>\n      <td>Osei Kofi</td>\n      <td>UNAF</td>\n      <td>UFOA</td>\n    </tr>\n    <tr>\n      <th>5</th>\n      <td>1968</td>\n      <td>Ethiopia</td>\n      <td>DR Congo</td>\n      <td>Congo-Kinshasa  (1)</td>\n      <td>Ferenc Csanádi</td>\n      <td>Laurent Pokou  (6)</td>\n      <td>Kazadi Mwamba</td>\n      <td>CECAFA</td>\n      <td>UNIFFAC</td>\n    </tr>\n    <tr>\n      <th>6</th>\n      <td>1970</td>\n      <td>Sudan</td>\n      <td>Sudan</td>\n      <td>Sudan  (1)</td>\n      <td>Jiří Starosta</td>\n      <td>Laurent Pokou  (8)</td>\n      <td>Laurent Pokou</td>\n      <td>CECAFA</td>\n      <td>CECAFA</td>\n    </tr>\n    <tr>\n      <th>7</th>\n      <td>1972</td>\n      <td>Cameroon</td>\n      <td>Congo</td>\n      <td>Congo  (1)</td>\n      <td>Adolphe Bibanzoulou</td>\n      <td>Salif Keita  (5)</td>\n      <td>François M'Pelé</td>\n      <td>UNIFFAC</td>\n      <td>UNIFFAC</td>\n    </tr>\n    <tr>\n      <th>8</th>\n      <td>1974</td>\n      <td>Egypt</td>\n      <td>DR Congo</td>\n      <td>Zaire  (2)</td>\n      <td>Blagoje Vidinić</td>\n      <td>Ndaye Mulamba  (9)</td>\n      <td>Mohamed Timoumi</td>\n      <td>UNAF</td>\n      <td>UNIFFAC</td>\n    </tr>\n    <tr>\n      <th>9</th>\n      <td>1976</td>\n      <td>Ethiopia</td>\n      <td>Morocco</td>\n      <td>Morocco  (1)</td>\n      <td>Gheorghe Mărdărescu</td>\n      <td>Aliou Mamadou Keita  (4)</td>\n      <td>Ahmed Faras</td>\n      <td>CECAFA</td>\n      <td>UNAF</td>\n    </tr>\n    <tr>\n      <th>10</th>\n      <td>1978</td>\n      <td>Ghana</td>\n      <td>Ghana</td>\n      <td>Ghana  (3)</td>\n      <td>Fred Osam-Duodu</td>\n      <td>Phillip Omondi  (3)  Opoku Afriyie  (3)  Segun...</td>\n      <td>Karim Abdul Razak</td>\n      <td>UFOA</td>\n      <td>UFOA</td>\n    </tr>\n    <tr>\n      <th>11</th>\n      <td>1980</td>\n      <td>Nigeria</td>\n      <td>Nigeria</td>\n      <td>Nigeria  (1)</td>\n      <td>Otto Glória</td>\n      <td>Khaled Labied  (3)  Segun Odegbami  (3)</td>\n      <td>Christian Chukwu</td>\n      <td>UFOA</td>\n      <td>UFOA</td>\n    </tr>\n    <tr>\n      <th>12</th>\n      <td>1982</td>\n      <td>Libya</td>\n      <td>Ghana</td>\n      <td>Ghana  (4)</td>\n      <td>Charles Gyamfi</td>\n      <td>George Alhassan  (4)</td>\n      <td>Fawzi Al-Issawi</td>\n      <td>UNAF</td>\n      <td>UFOA</td>\n    </tr>\n    <tr>\n      <th>13</th>\n      <td>1984</td>\n      <td>Ivory Coast</td>\n      <td>Cameroon</td>\n      <td>Cameroon  (1)</td>\n      <td>Radivoje Ognjanović</td>\n      <td>Taher Abouzaid  (4)</td>\n      <td>Théophile Abega</td>\n      <td>UFOA</td>\n      <td>UNIFFAC</td>\n    </tr>\n    <tr>\n      <th>14</th>\n      <td>1986</td>\n      <td>Egypt</td>\n      <td>Egypt</td>\n      <td>Egypt  (3)</td>\n      <td>Mike Smith</td>\n      <td>Roger Milla  (4)</td>\n      <td>Roger Milla</td>\n      <td>UNAF</td>\n      <td>UNAF</td>\n    </tr>\n    <tr>\n      <th>15</th>\n      <td>1988</td>\n      <td>Morocco</td>\n      <td>Cameroon</td>\n      <td>Cameroon  (2)</td>\n      <td>Claude Le Roy</td>\n      <td>Lakhdar Belloumi  (2)  Roger Milla  (2)  Abdou...</td>\n      <td>Aziz Bouderbala</td>\n      <td>UNAF</td>\n      <td>UNIFFAC</td>\n    </tr>\n    <tr>\n      <th>16</th>\n      <td>1990</td>\n      <td>Algeria</td>\n      <td>Algeria</td>\n      <td>Algeria  (1)</td>\n      <td>Abdelhamid Kermali</td>\n      <td>Djamel Menad  (4)</td>\n      <td>Rabah Madjer</td>\n      <td>UNAF</td>\n      <td>UNAF</td>\n    </tr>\n    <tr>\n      <th>17</th>\n      <td>1992</td>\n      <td>Senegal</td>\n      <td>Ivory Coast</td>\n      <td>Ivory Coast  (1)</td>\n      <td>Yeo Martial</td>\n      <td>Rashidi Yekini  (4)</td>\n      <td>Abedi Pele</td>\n      <td>UFOA</td>\n      <td>UFOA</td>\n    </tr>\n    <tr>\n      <th>18</th>\n      <td>1994</td>\n      <td>Tunisia</td>\n      <td>Nigeria</td>\n      <td>Nigeria  (2)</td>\n      <td>Clemens Westerhof</td>\n      <td>Rashidi Yekini  (5)</td>\n      <td>Rashidi Yekini</td>\n      <td>UNAF</td>\n      <td>UFOA</td>\n    </tr>\n    <tr>\n      <th>19</th>\n      <td>1996</td>\n      <td>South Africa</td>\n      <td>South Africa</td>\n      <td>South Africa  (1)</td>\n      <td>Clive Barker</td>\n      <td>Kalusha Bwalya  (5)</td>\n      <td>Kalusha Bwalya</td>\n      <td>COSAFA</td>\n      <td>COSAFA</td>\n    </tr>\n    <tr>\n      <th>20</th>\n      <td>1998</td>\n      <td>Burkina Faso</td>\n      <td>Egypt</td>\n      <td>Egypt  (4)</td>\n      <td>Mahmoud El-Gohary</td>\n      <td>Hossam Hassan  (7)  Benni McCarthy  (7)</td>\n      <td>Benni McCarthy</td>\n      <td>UFOA</td>\n      <td>UNAF</td>\n    </tr>\n    <tr>\n      <th>21</th>\n      <td>2000</td>\n      <td>Ghana  Nigeria</td>\n      <td>Cameroon</td>\n      <td>Cameroon  (3)</td>\n      <td>Pierre Lechantre</td>\n      <td>Shaun Bartlett  (5)</td>\n      <td>Lauren</td>\n      <td>UFOA</td>\n      <td>UNIFFAC</td>\n    </tr>\n    <tr>\n      <th>22</th>\n      <td>2002</td>\n      <td>Mali</td>\n      <td>Cameroon</td>\n      <td>Cameroon  (4)</td>\n      <td>Winfried Schäfer</td>\n      <td>Patrick Mboma  (3)  René Salomon Olembé  (3)  ...</td>\n      <td>Rigobert Song</td>\n      <td>UFOA</td>\n      <td>UNIFFAC</td>\n    </tr>\n    <tr>\n      <th>23</th>\n      <td>2004</td>\n      <td>Tunisia</td>\n      <td>Tunisia</td>\n      <td>Tunisia  (1)</td>\n      <td>Roger Lemerre</td>\n      <td>Patrick Mboma  (4)  Frédéric Kanouté  (4)  You...</td>\n      <td>Jay-Jay Okocha</td>\n      <td>UNAF</td>\n      <td>UNAF</td>\n    </tr>\n    <tr>\n      <th>24</th>\n      <td>2006</td>\n      <td>Egypt</td>\n      <td>Egypt</td>\n      <td>Egypt  (5)</td>\n      <td>Hassan Shehata</td>\n      <td>Samuel Eto'o  (5)</td>\n      <td>Ahmed Hassan</td>\n      <td>UNAF</td>\n      <td>UNAF</td>\n    </tr>\n    <tr>\n      <th>25</th>\n      <td>2008</td>\n      <td>Ghana</td>\n      <td>Egypt</td>\n      <td>Egypt  (6)</td>\n      <td>Hassan Shehata</td>\n      <td>Samuel Eto'o  (5)</td>\n      <td>Hosny Abd Rabo</td>\n      <td>UFOA</td>\n      <td>UNAF</td>\n    </tr>\n    <tr>\n      <th>26</th>\n      <td>2010</td>\n      <td>Angola</td>\n      <td>Egypt</td>\n      <td>Egypt  (7)</td>\n      <td>Hassan Shehata</td>\n      <td>Mohamed Nagy  (5)</td>\n      <td>Ahmed Hassan</td>\n      <td>COSAFA</td>\n      <td>UNAF</td>\n    </tr>\n    <tr>\n      <th>27</th>\n      <td>2012</td>\n      <td>Gabon  Equatorial Guinea</td>\n      <td>Zambia</td>\n      <td>Zambia  (1)</td>\n      <td>Hervé Renard</td>\n      <td>Manucho  (3)  Didier Drogba  (3)  Pierre-Emeri...</td>\n      <td>Christopher Katongo</td>\n      <td>UNIFFAC</td>\n      <td>COSAFA</td>\n    </tr>\n    <tr>\n      <th>28</th>\n      <td>2013</td>\n      <td>South Africa</td>\n      <td>Nigeria</td>\n      <td>Nigeria  (3)</td>\n      <td>Stephen Keshi</td>\n      <td>Mubarak Wakaso  (4)  Emmanuel Emenike  (4)</td>\n      <td>Jonathan Pitroipa</td>\n      <td>COSAFA</td>\n      <td>UFOA</td>\n    </tr>\n    <tr>\n      <th>29</th>\n      <td>2015</td>\n      <td>Equatorial Guinea</td>\n      <td>Ivory Coast</td>\n      <td>Ivory Coast  (2)</td>\n      <td>Hervé Renard</td>\n      <td>Thievy Bifouma  (3)  Dieumerci Mbokani  (3)  J...</td>\n      <td>Christian Atsu</td>\n      <td>UNIFFAC</td>\n      <td>UFOA</td>\n    </tr>\n    <tr>\n      <th>30</th>\n      <td>2017</td>\n      <td>Gabon</td>\n      <td>Cameroon</td>\n      <td>Cameroon  (5)</td>\n      <td>Hugo Broos</td>\n      <td>Junior Kabananga  (3)</td>\n      <td>Christian Bassogog</td>\n      <td>UNIFFAC</td>\n      <td>UNIFFAC</td>\n    </tr>\n    <tr>\n      <th>31</th>\n      <td>2019</td>\n      <td>Egypt</td>\n      <td>Algeria</td>\n      <td>Algeria  (2)</td>\n      <td>Djamel Belmadi</td>\n      <td>Odion Ighalo  (5)</td>\n      <td>Ismael Bennacer</td>\n      <td>UNAF</td>\n      <td>UNAF</td>\n    </tr>\n    <tr>\n      <th>32</th>\n      <td>2021</td>\n      <td>Cameroon</td>\n      <td>Senegal</td>\n      <td>Senegal (1)</td>\n      <td>Aliou Cissé</td>\n      <td>Vincent Aboubakar (8)</td>\n      <td>Sadio Mané</td>\n      <td>UNIFFAC</td>\n      <td>UFOA</td>\n    </tr>\n  </tbody>\n</table>\n</div>"
     },
     "execution_count": 144,
     "metadata": {},
     "output_type": "execute_result"
    }
   ],
   "source": [
    "df_stats.loc[(df_stats['Host']==\"Ghana  Nigeria\"), \"HostRegion\"] = \"UFOA\"\n",
    "df_stats.loc[df_stats['Host']==\"Gabon  Equatorial Guinea\", \"HostRegion\"] = \"UNIFFAC\"\n",
    "\n",
    "df_stats"
   ],
   "metadata": {
    "collapsed": false,
    "ExecuteTime": {
     "end_time": "2024-01-03T17:57:39.375317300Z",
     "start_time": "2024-01-03T17:57:39.261916300Z"
    }
   },
   "id": "2a7510b1098c2ffc",
   "execution_count": 144
  },
  {
   "cell_type": "code",
   "outputs": [
    {
     "data": {
      "text/plain": "['Year',\n 'Host',\n 'Champion',\n 'Champion(titles)',\n 'WinningCoach',\n 'TopScorer(goals)',\n 'MostValuablePlayer',\n 'HostRegion',\n 'ChampionRegion']"
     },
     "execution_count": 145,
     "metadata": {},
     "output_type": "execute_result"
    }
   ],
   "source": [
    "df_stats.columns.to_list()"
   ],
   "metadata": {
    "collapsed": false,
    "ExecuteTime": {
     "end_time": "2024-01-03T17:58:24.820663300Z",
     "start_time": "2024-01-03T17:58:24.554498500Z"
    }
   },
   "id": "807de0a8b3125417",
   "execution_count": 145
  },
  {
   "cell_type": "code",
   "outputs": [],
   "source": [
    "new_col_order = ['Year',\n",
    "                 'Host',\n",
    "                 'HostRegion',\n",
    "                 'Champion',\n",
    "                 'ChampionRegion',\n",
    "                 'WinningCoach',\n",
    "                 'TopScorer(goals)',\n",
    "                 'MostValuablePlayer']\n",
    "df_stats = df_stats [new_col_order]"
   ],
   "metadata": {
    "collapsed": false,
    "ExecuteTime": {
     "end_time": "2024-01-03T18:00:16.814337600Z",
     "start_time": "2024-01-03T18:00:16.664025800Z"
    }
   },
   "id": "2bd4bc1d0aceb094",
   "execution_count": 146
  },
  {
   "cell_type": "code",
   "outputs": [
    {
     "data": {
      "text/plain": "    Year                      Host HostRegion      Champion ChampionRegion  \\\n0   1957                     Sudan     CECAFA         Egypt           UNAF   \n1   1959                     Egypt       UNAF         Egypt           UNAF   \n2   1962                  Ethiopia     CECAFA      Ethiopia         CECAFA   \n3   1963                     Ghana       UFOA         Ghana           UFOA   \n4   1965                   Tunisia       UNAF         Ghana           UFOA   \n5   1968                  Ethiopia     CECAFA      DR Congo        UNIFFAC   \n6   1970                     Sudan     CECAFA         Sudan         CECAFA   \n7   1972                  Cameroon    UNIFFAC         Congo        UNIFFAC   \n8   1974                     Egypt       UNAF      DR Congo        UNIFFAC   \n9   1976                  Ethiopia     CECAFA       Morocco           UNAF   \n10  1978                     Ghana       UFOA         Ghana           UFOA   \n11  1980                   Nigeria       UFOA       Nigeria           UFOA   \n12  1982                     Libya       UNAF         Ghana           UFOA   \n13  1984               Ivory Coast       UFOA      Cameroon        UNIFFAC   \n14  1986                     Egypt       UNAF         Egypt           UNAF   \n15  1988                   Morocco       UNAF      Cameroon        UNIFFAC   \n16  1990                   Algeria       UNAF       Algeria           UNAF   \n17  1992                   Senegal       UFOA   Ivory Coast           UFOA   \n18  1994                   Tunisia       UNAF       Nigeria           UFOA   \n19  1996              South Africa     COSAFA  South Africa         COSAFA   \n20  1998              Burkina Faso       UFOA         Egypt           UNAF   \n21  2000            Ghana  Nigeria       UFOA      Cameroon        UNIFFAC   \n22  2002                      Mali       UFOA      Cameroon        UNIFFAC   \n23  2004                   Tunisia       UNAF       Tunisia           UNAF   \n24  2006                     Egypt       UNAF         Egypt           UNAF   \n25  2008                     Ghana       UFOA         Egypt           UNAF   \n26  2010                    Angola     COSAFA         Egypt           UNAF   \n27  2012  Gabon  Equatorial Guinea    UNIFFAC        Zambia         COSAFA   \n28  2013              South Africa     COSAFA       Nigeria           UFOA   \n29  2015         Equatorial Guinea    UNIFFAC   Ivory Coast           UFOA   \n30  2017                     Gabon    UNIFFAC      Cameroon        UNIFFAC   \n31  2019                     Egypt       UNAF       Algeria           UNAF   \n32  2021                  Cameroon    UNIFFAC       Senegal           UFOA   \n\n           WinningCoach                                   TopScorer(goals)  \\\n0          Mourad Fahmy                                       Ad-Diba  (5)   \n1            Pál Titkos                             Mahmoud El Gohary  (3)   \n2   Ydnekatchew Tessema      Mengistu Worku  (3)  Badawi Abdel Fattah  (3)   \n3        Charles Gyamfi                              Hassan El Shazly  (6)   \n4        Charles Gyamfi  Ben Acheampong  (3)  Osei Kofi  (3)  Eustache ...   \n5        Ferenc Csanádi                                 Laurent Pokou  (6)   \n6         Jiří Starosta                                 Laurent Pokou  (8)   \n7   Adolphe Bibanzoulou                                   Salif Keita  (5)   \n8       Blagoje Vidinić                                 Ndaye Mulamba  (9)   \n9   Gheorghe Mărdărescu                           Aliou Mamadou Keita  (4)   \n10      Fred Osam-Duodu  Phillip Omondi  (3)  Opoku Afriyie  (3)  Segun...   \n11          Otto Glória            Khaled Labied  (3)  Segun Odegbami  (3)   \n12       Charles Gyamfi                               George Alhassan  (4)   \n13  Radivoje Ognjanović                                Taher Abouzaid  (4)   \n14           Mike Smith                                   Roger Milla  (4)   \n15        Claude Le Roy  Lakhdar Belloumi  (2)  Roger Milla  (2)  Abdou...   \n16   Abdelhamid Kermali                                  Djamel Menad  (4)   \n17          Yeo Martial                                Rashidi Yekini  (4)   \n18    Clemens Westerhof                                Rashidi Yekini  (5)   \n19         Clive Barker                                Kalusha Bwalya  (5)   \n20    Mahmoud El-Gohary            Hossam Hassan  (7)  Benni McCarthy  (7)   \n21     Pierre Lechantre                                Shaun Bartlett  (5)   \n22     Winfried Schäfer  Patrick Mboma  (3)  René Salomon Olembé  (3)  ...   \n23        Roger Lemerre  Patrick Mboma  (4)  Frédéric Kanouté  (4)  You...   \n24       Hassan Shehata                                  Samuel Eto'o  (5)   \n25       Hassan Shehata                                  Samuel Eto'o  (5)   \n26       Hassan Shehata                                  Mohamed Nagy  (5)   \n27         Hervé Renard  Manucho  (3)  Didier Drogba  (3)  Pierre-Emeri...   \n28        Stephen Keshi         Mubarak Wakaso  (4)  Emmanuel Emenike  (4)   \n29         Hervé Renard  Thievy Bifouma  (3)  Dieumerci Mbokani  (3)  J...   \n30           Hugo Broos                              Junior Kabananga  (3)   \n31       Djamel Belmadi                                  Odion Ighalo  (5)   \n32          Aliou Cissé                              Vincent Aboubakar (8)   \n\n     MostValuablePlayer  \n0             El Gohary  \n1              El Deeba  \n2        Mengistu Worku  \n3      Hassan El Shazly  \n4             Osei Kofi  \n5         Kazadi Mwamba  \n6         Laurent Pokou  \n7       François M'Pelé  \n8       Mohamed Timoumi  \n9           Ahmed Faras  \n10    Karim Abdul Razak  \n11     Christian Chukwu  \n12      Fawzi Al-Issawi  \n13      Théophile Abega  \n14          Roger Milla  \n15      Aziz Bouderbala  \n16         Rabah Madjer  \n17           Abedi Pele  \n18       Rashidi Yekini  \n19       Kalusha Bwalya  \n20       Benni McCarthy  \n21               Lauren  \n22        Rigobert Song  \n23       Jay-Jay Okocha  \n24         Ahmed Hassan  \n25       Hosny Abd Rabo  \n26         Ahmed Hassan  \n27  Christopher Katongo  \n28    Jonathan Pitroipa  \n29       Christian Atsu  \n30   Christian Bassogog  \n31      Ismael Bennacer  \n32           Sadio Mané  ",
      "text/html": "<div>\n<style scoped>\n    .dataframe tbody tr th:only-of-type {\n        vertical-align: middle;\n    }\n\n    .dataframe tbody tr th {\n        vertical-align: top;\n    }\n\n    .dataframe thead th {\n        text-align: right;\n    }\n</style>\n<table border=\"1\" class=\"dataframe\">\n  <thead>\n    <tr style=\"text-align: right;\">\n      <th></th>\n      <th>Year</th>\n      <th>Host</th>\n      <th>HostRegion</th>\n      <th>Champion</th>\n      <th>ChampionRegion</th>\n      <th>WinningCoach</th>\n      <th>TopScorer(goals)</th>\n      <th>MostValuablePlayer</th>\n    </tr>\n  </thead>\n  <tbody>\n    <tr>\n      <th>0</th>\n      <td>1957</td>\n      <td>Sudan</td>\n      <td>CECAFA</td>\n      <td>Egypt</td>\n      <td>UNAF</td>\n      <td>Mourad Fahmy</td>\n      <td>Ad-Diba  (5)</td>\n      <td>El Gohary</td>\n    </tr>\n    <tr>\n      <th>1</th>\n      <td>1959</td>\n      <td>Egypt</td>\n      <td>UNAF</td>\n      <td>Egypt</td>\n      <td>UNAF</td>\n      <td>Pál Titkos</td>\n      <td>Mahmoud El Gohary  (3)</td>\n      <td>El Deeba</td>\n    </tr>\n    <tr>\n      <th>2</th>\n      <td>1962</td>\n      <td>Ethiopia</td>\n      <td>CECAFA</td>\n      <td>Ethiopia</td>\n      <td>CECAFA</td>\n      <td>Ydnekatchew Tessema</td>\n      <td>Mengistu Worku  (3)  Badawi Abdel Fattah  (3)</td>\n      <td>Mengistu Worku</td>\n    </tr>\n    <tr>\n      <th>3</th>\n      <td>1963</td>\n      <td>Ghana</td>\n      <td>UFOA</td>\n      <td>Ghana</td>\n      <td>UFOA</td>\n      <td>Charles Gyamfi</td>\n      <td>Hassan El Shazly  (6)</td>\n      <td>Hassan El Shazly</td>\n    </tr>\n    <tr>\n      <th>4</th>\n      <td>1965</td>\n      <td>Tunisia</td>\n      <td>UNAF</td>\n      <td>Ghana</td>\n      <td>UFOA</td>\n      <td>Charles Gyamfi</td>\n      <td>Ben Acheampong  (3)  Osei Kofi  (3)  Eustache ...</td>\n      <td>Osei Kofi</td>\n    </tr>\n    <tr>\n      <th>5</th>\n      <td>1968</td>\n      <td>Ethiopia</td>\n      <td>CECAFA</td>\n      <td>DR Congo</td>\n      <td>UNIFFAC</td>\n      <td>Ferenc Csanádi</td>\n      <td>Laurent Pokou  (6)</td>\n      <td>Kazadi Mwamba</td>\n    </tr>\n    <tr>\n      <th>6</th>\n      <td>1970</td>\n      <td>Sudan</td>\n      <td>CECAFA</td>\n      <td>Sudan</td>\n      <td>CECAFA</td>\n      <td>Jiří Starosta</td>\n      <td>Laurent Pokou  (8)</td>\n      <td>Laurent Pokou</td>\n    </tr>\n    <tr>\n      <th>7</th>\n      <td>1972</td>\n      <td>Cameroon</td>\n      <td>UNIFFAC</td>\n      <td>Congo</td>\n      <td>UNIFFAC</td>\n      <td>Adolphe Bibanzoulou</td>\n      <td>Salif Keita  (5)</td>\n      <td>François M'Pelé</td>\n    </tr>\n    <tr>\n      <th>8</th>\n      <td>1974</td>\n      <td>Egypt</td>\n      <td>UNAF</td>\n      <td>DR Congo</td>\n      <td>UNIFFAC</td>\n      <td>Blagoje Vidinić</td>\n      <td>Ndaye Mulamba  (9)</td>\n      <td>Mohamed Timoumi</td>\n    </tr>\n    <tr>\n      <th>9</th>\n      <td>1976</td>\n      <td>Ethiopia</td>\n      <td>CECAFA</td>\n      <td>Morocco</td>\n      <td>UNAF</td>\n      <td>Gheorghe Mărdărescu</td>\n      <td>Aliou Mamadou Keita  (4)</td>\n      <td>Ahmed Faras</td>\n    </tr>\n    <tr>\n      <th>10</th>\n      <td>1978</td>\n      <td>Ghana</td>\n      <td>UFOA</td>\n      <td>Ghana</td>\n      <td>UFOA</td>\n      <td>Fred Osam-Duodu</td>\n      <td>Phillip Omondi  (3)  Opoku Afriyie  (3)  Segun...</td>\n      <td>Karim Abdul Razak</td>\n    </tr>\n    <tr>\n      <th>11</th>\n      <td>1980</td>\n      <td>Nigeria</td>\n      <td>UFOA</td>\n      <td>Nigeria</td>\n      <td>UFOA</td>\n      <td>Otto Glória</td>\n      <td>Khaled Labied  (3)  Segun Odegbami  (3)</td>\n      <td>Christian Chukwu</td>\n    </tr>\n    <tr>\n      <th>12</th>\n      <td>1982</td>\n      <td>Libya</td>\n      <td>UNAF</td>\n      <td>Ghana</td>\n      <td>UFOA</td>\n      <td>Charles Gyamfi</td>\n      <td>George Alhassan  (4)</td>\n      <td>Fawzi Al-Issawi</td>\n    </tr>\n    <tr>\n      <th>13</th>\n      <td>1984</td>\n      <td>Ivory Coast</td>\n      <td>UFOA</td>\n      <td>Cameroon</td>\n      <td>UNIFFAC</td>\n      <td>Radivoje Ognjanović</td>\n      <td>Taher Abouzaid  (4)</td>\n      <td>Théophile Abega</td>\n    </tr>\n    <tr>\n      <th>14</th>\n      <td>1986</td>\n      <td>Egypt</td>\n      <td>UNAF</td>\n      <td>Egypt</td>\n      <td>UNAF</td>\n      <td>Mike Smith</td>\n      <td>Roger Milla  (4)</td>\n      <td>Roger Milla</td>\n    </tr>\n    <tr>\n      <th>15</th>\n      <td>1988</td>\n      <td>Morocco</td>\n      <td>UNAF</td>\n      <td>Cameroon</td>\n      <td>UNIFFAC</td>\n      <td>Claude Le Roy</td>\n      <td>Lakhdar Belloumi  (2)  Roger Milla  (2)  Abdou...</td>\n      <td>Aziz Bouderbala</td>\n    </tr>\n    <tr>\n      <th>16</th>\n      <td>1990</td>\n      <td>Algeria</td>\n      <td>UNAF</td>\n      <td>Algeria</td>\n      <td>UNAF</td>\n      <td>Abdelhamid Kermali</td>\n      <td>Djamel Menad  (4)</td>\n      <td>Rabah Madjer</td>\n    </tr>\n    <tr>\n      <th>17</th>\n      <td>1992</td>\n      <td>Senegal</td>\n      <td>UFOA</td>\n      <td>Ivory Coast</td>\n      <td>UFOA</td>\n      <td>Yeo Martial</td>\n      <td>Rashidi Yekini  (4)</td>\n      <td>Abedi Pele</td>\n    </tr>\n    <tr>\n      <th>18</th>\n      <td>1994</td>\n      <td>Tunisia</td>\n      <td>UNAF</td>\n      <td>Nigeria</td>\n      <td>UFOA</td>\n      <td>Clemens Westerhof</td>\n      <td>Rashidi Yekini  (5)</td>\n      <td>Rashidi Yekini</td>\n    </tr>\n    <tr>\n      <th>19</th>\n      <td>1996</td>\n      <td>South Africa</td>\n      <td>COSAFA</td>\n      <td>South Africa</td>\n      <td>COSAFA</td>\n      <td>Clive Barker</td>\n      <td>Kalusha Bwalya  (5)</td>\n      <td>Kalusha Bwalya</td>\n    </tr>\n    <tr>\n      <th>20</th>\n      <td>1998</td>\n      <td>Burkina Faso</td>\n      <td>UFOA</td>\n      <td>Egypt</td>\n      <td>UNAF</td>\n      <td>Mahmoud El-Gohary</td>\n      <td>Hossam Hassan  (7)  Benni McCarthy  (7)</td>\n      <td>Benni McCarthy</td>\n    </tr>\n    <tr>\n      <th>21</th>\n      <td>2000</td>\n      <td>Ghana  Nigeria</td>\n      <td>UFOA</td>\n      <td>Cameroon</td>\n      <td>UNIFFAC</td>\n      <td>Pierre Lechantre</td>\n      <td>Shaun Bartlett  (5)</td>\n      <td>Lauren</td>\n    </tr>\n    <tr>\n      <th>22</th>\n      <td>2002</td>\n      <td>Mali</td>\n      <td>UFOA</td>\n      <td>Cameroon</td>\n      <td>UNIFFAC</td>\n      <td>Winfried Schäfer</td>\n      <td>Patrick Mboma  (3)  René Salomon Olembé  (3)  ...</td>\n      <td>Rigobert Song</td>\n    </tr>\n    <tr>\n      <th>23</th>\n      <td>2004</td>\n      <td>Tunisia</td>\n      <td>UNAF</td>\n      <td>Tunisia</td>\n      <td>UNAF</td>\n      <td>Roger Lemerre</td>\n      <td>Patrick Mboma  (4)  Frédéric Kanouté  (4)  You...</td>\n      <td>Jay-Jay Okocha</td>\n    </tr>\n    <tr>\n      <th>24</th>\n      <td>2006</td>\n      <td>Egypt</td>\n      <td>UNAF</td>\n      <td>Egypt</td>\n      <td>UNAF</td>\n      <td>Hassan Shehata</td>\n      <td>Samuel Eto'o  (5)</td>\n      <td>Ahmed Hassan</td>\n    </tr>\n    <tr>\n      <th>25</th>\n      <td>2008</td>\n      <td>Ghana</td>\n      <td>UFOA</td>\n      <td>Egypt</td>\n      <td>UNAF</td>\n      <td>Hassan Shehata</td>\n      <td>Samuel Eto'o  (5)</td>\n      <td>Hosny Abd Rabo</td>\n    </tr>\n    <tr>\n      <th>26</th>\n      <td>2010</td>\n      <td>Angola</td>\n      <td>COSAFA</td>\n      <td>Egypt</td>\n      <td>UNAF</td>\n      <td>Hassan Shehata</td>\n      <td>Mohamed Nagy  (5)</td>\n      <td>Ahmed Hassan</td>\n    </tr>\n    <tr>\n      <th>27</th>\n      <td>2012</td>\n      <td>Gabon  Equatorial Guinea</td>\n      <td>UNIFFAC</td>\n      <td>Zambia</td>\n      <td>COSAFA</td>\n      <td>Hervé Renard</td>\n      <td>Manucho  (3)  Didier Drogba  (3)  Pierre-Emeri...</td>\n      <td>Christopher Katongo</td>\n    </tr>\n    <tr>\n      <th>28</th>\n      <td>2013</td>\n      <td>South Africa</td>\n      <td>COSAFA</td>\n      <td>Nigeria</td>\n      <td>UFOA</td>\n      <td>Stephen Keshi</td>\n      <td>Mubarak Wakaso  (4)  Emmanuel Emenike  (4)</td>\n      <td>Jonathan Pitroipa</td>\n    </tr>\n    <tr>\n      <th>29</th>\n      <td>2015</td>\n      <td>Equatorial Guinea</td>\n      <td>UNIFFAC</td>\n      <td>Ivory Coast</td>\n      <td>UFOA</td>\n      <td>Hervé Renard</td>\n      <td>Thievy Bifouma  (3)  Dieumerci Mbokani  (3)  J...</td>\n      <td>Christian Atsu</td>\n    </tr>\n    <tr>\n      <th>30</th>\n      <td>2017</td>\n      <td>Gabon</td>\n      <td>UNIFFAC</td>\n      <td>Cameroon</td>\n      <td>UNIFFAC</td>\n      <td>Hugo Broos</td>\n      <td>Junior Kabananga  (3)</td>\n      <td>Christian Bassogog</td>\n    </tr>\n    <tr>\n      <th>31</th>\n      <td>2019</td>\n      <td>Egypt</td>\n      <td>UNAF</td>\n      <td>Algeria</td>\n      <td>UNAF</td>\n      <td>Djamel Belmadi</td>\n      <td>Odion Ighalo  (5)</td>\n      <td>Ismael Bennacer</td>\n    </tr>\n    <tr>\n      <th>32</th>\n      <td>2021</td>\n      <td>Cameroon</td>\n      <td>UNIFFAC</td>\n      <td>Senegal</td>\n      <td>UFOA</td>\n      <td>Aliou Cissé</td>\n      <td>Vincent Aboubakar (8)</td>\n      <td>Sadio Mané</td>\n    </tr>\n  </tbody>\n</table>\n</div>"
     },
     "execution_count": 147,
     "metadata": {},
     "output_type": "execute_result"
    }
   ],
   "source": [
    "df_stats"
   ],
   "metadata": {
    "collapsed": false,
    "ExecuteTime": {
     "end_time": "2024-01-03T18:00:21.261003100Z",
     "start_time": "2024-01-03T18:00:20.959095700Z"
    }
   },
   "id": "e06a4d5d9a6f0d3b",
   "execution_count": 147
  },
  {
   "cell_type": "markdown",
   "source": [
    "Nombre de victoires des pays organisateurs"
   ],
   "metadata": {
    "collapsed": false
   },
   "id": "f6f548a0001000da"
  },
  {
   "cell_type": "code",
   "outputs": [
    {
     "data": {
      "application/vnd.plotly.v1+json": {
       "data": [
        {
         "alignmentgroup": "True",
         "hovertemplate": "Pays organisateur=%{x}<br>Nombre de victoires=%{y}<extra></extra>",
         "legendgroup": "Egypt",
         "marker": {
          "color": "#636efa",
          "pattern": {
           "shape": ""
          }
         },
         "name": "Egypt",
         "offsetgroup": "Egypt",
         "orientation": "v",
         "showlegend": true,
         "textposition": "auto",
         "x": [
          "Egypt"
         ],
         "xaxis": "x",
         "y": [
          3
         ],
         "yaxis": "y",
         "type": "bar"
        },
        {
         "alignmentgroup": "True",
         "hovertemplate": "Pays organisateur=%{x}<br>Nombre de victoires=%{y}<extra></extra>",
         "legendgroup": "Ghana",
         "marker": {
          "color": "#EF553B",
          "pattern": {
           "shape": ""
          }
         },
         "name": "Ghana",
         "offsetgroup": "Ghana",
         "orientation": "v",
         "showlegend": true,
         "textposition": "auto",
         "x": [
          "Ghana"
         ],
         "xaxis": "x",
         "y": [
          2
         ],
         "yaxis": "y",
         "type": "bar"
        },
        {
         "alignmentgroup": "True",
         "hovertemplate": "Pays organisateur=%{x}<br>Nombre de victoires=%{y}<extra></extra>",
         "legendgroup": "Algeria",
         "marker": {
          "color": "#00cc96",
          "pattern": {
           "shape": ""
          }
         },
         "name": "Algeria",
         "offsetgroup": "Algeria",
         "orientation": "v",
         "showlegend": true,
         "textposition": "auto",
         "x": [
          "Algeria"
         ],
         "xaxis": "x",
         "y": [
          1
         ],
         "yaxis": "y",
         "type": "bar"
        },
        {
         "alignmentgroup": "True",
         "hovertemplate": "Pays organisateur=%{x}<br>Nombre de victoires=%{y}<extra></extra>",
         "legendgroup": "Ethiopia",
         "marker": {
          "color": "#ab63fa",
          "pattern": {
           "shape": ""
          }
         },
         "name": "Ethiopia",
         "offsetgroup": "Ethiopia",
         "orientation": "v",
         "showlegend": true,
         "textposition": "auto",
         "x": [
          "Ethiopia"
         ],
         "xaxis": "x",
         "y": [
          1
         ],
         "yaxis": "y",
         "type": "bar"
        },
        {
         "alignmentgroup": "True",
         "hovertemplate": "Pays organisateur=%{x}<br>Nombre de victoires=%{y}<extra></extra>",
         "legendgroup": "Nigeria",
         "marker": {
          "color": "#FFA15A",
          "pattern": {
           "shape": ""
          }
         },
         "name": "Nigeria",
         "offsetgroup": "Nigeria",
         "orientation": "v",
         "showlegend": true,
         "textposition": "auto",
         "x": [
          "Nigeria"
         ],
         "xaxis": "x",
         "y": [
          1
         ],
         "yaxis": "y",
         "type": "bar"
        },
        {
         "alignmentgroup": "True",
         "hovertemplate": "Pays organisateur=%{x}<br>Nombre de victoires=%{y}<extra></extra>",
         "legendgroup": "South Africa",
         "marker": {
          "color": "#19d3f3",
          "pattern": {
           "shape": ""
          }
         },
         "name": "South Africa",
         "offsetgroup": "South Africa",
         "orientation": "v",
         "showlegend": true,
         "textposition": "auto",
         "x": [
          "South Africa"
         ],
         "xaxis": "x",
         "y": [
          1
         ],
         "yaxis": "y",
         "type": "bar"
        },
        {
         "alignmentgroup": "True",
         "hovertemplate": "Pays organisateur=%{x}<br>Nombre de victoires=%{y}<extra></extra>",
         "legendgroup": "Sudan",
         "marker": {
          "color": "#FF6692",
          "pattern": {
           "shape": ""
          }
         },
         "name": "Sudan",
         "offsetgroup": "Sudan",
         "orientation": "v",
         "showlegend": true,
         "textposition": "auto",
         "x": [
          "Sudan"
         ],
         "xaxis": "x",
         "y": [
          1
         ],
         "yaxis": "y",
         "type": "bar"
        },
        {
         "alignmentgroup": "True",
         "hovertemplate": "Pays organisateur=%{x}<br>Nombre de victoires=%{y}<extra></extra>",
         "legendgroup": "Tunisia",
         "marker": {
          "color": "#B6E880",
          "pattern": {
           "shape": ""
          }
         },
         "name": "Tunisia",
         "offsetgroup": "Tunisia",
         "orientation": "v",
         "showlegend": true,
         "textposition": "auto",
         "x": [
          "Tunisia"
         ],
         "xaxis": "x",
         "y": [
          1
         ],
         "yaxis": "y",
         "type": "bar"
        }
       ],
       "layout": {
        "template": {
         "data": {
          "histogram2dcontour": [
           {
            "type": "histogram2dcontour",
            "colorbar": {
             "outlinewidth": 0,
             "ticks": ""
            },
            "colorscale": [
             [
              0.0,
              "#0d0887"
             ],
             [
              0.1111111111111111,
              "#46039f"
             ],
             [
              0.2222222222222222,
              "#7201a8"
             ],
             [
              0.3333333333333333,
              "#9c179e"
             ],
             [
              0.4444444444444444,
              "#bd3786"
             ],
             [
              0.5555555555555556,
              "#d8576b"
             ],
             [
              0.6666666666666666,
              "#ed7953"
             ],
             [
              0.7777777777777778,
              "#fb9f3a"
             ],
             [
              0.8888888888888888,
              "#fdca26"
             ],
             [
              1.0,
              "#f0f921"
             ]
            ]
           }
          ],
          "choropleth": [
           {
            "type": "choropleth",
            "colorbar": {
             "outlinewidth": 0,
             "ticks": ""
            }
           }
          ],
          "histogram2d": [
           {
            "type": "histogram2d",
            "colorbar": {
             "outlinewidth": 0,
             "ticks": ""
            },
            "colorscale": [
             [
              0.0,
              "#0d0887"
             ],
             [
              0.1111111111111111,
              "#46039f"
             ],
             [
              0.2222222222222222,
              "#7201a8"
             ],
             [
              0.3333333333333333,
              "#9c179e"
             ],
             [
              0.4444444444444444,
              "#bd3786"
             ],
             [
              0.5555555555555556,
              "#d8576b"
             ],
             [
              0.6666666666666666,
              "#ed7953"
             ],
             [
              0.7777777777777778,
              "#fb9f3a"
             ],
             [
              0.8888888888888888,
              "#fdca26"
             ],
             [
              1.0,
              "#f0f921"
             ]
            ]
           }
          ],
          "heatmap": [
           {
            "type": "heatmap",
            "colorbar": {
             "outlinewidth": 0,
             "ticks": ""
            },
            "colorscale": [
             [
              0.0,
              "#0d0887"
             ],
             [
              0.1111111111111111,
              "#46039f"
             ],
             [
              0.2222222222222222,
              "#7201a8"
             ],
             [
              0.3333333333333333,
              "#9c179e"
             ],
             [
              0.4444444444444444,
              "#bd3786"
             ],
             [
              0.5555555555555556,
              "#d8576b"
             ],
             [
              0.6666666666666666,
              "#ed7953"
             ],
             [
              0.7777777777777778,
              "#fb9f3a"
             ],
             [
              0.8888888888888888,
              "#fdca26"
             ],
             [
              1.0,
              "#f0f921"
             ]
            ]
           }
          ],
          "heatmapgl": [
           {
            "type": "heatmapgl",
            "colorbar": {
             "outlinewidth": 0,
             "ticks": ""
            },
            "colorscale": [
             [
              0.0,
              "#0d0887"
             ],
             [
              0.1111111111111111,
              "#46039f"
             ],
             [
              0.2222222222222222,
              "#7201a8"
             ],
             [
              0.3333333333333333,
              "#9c179e"
             ],
             [
              0.4444444444444444,
              "#bd3786"
             ],
             [
              0.5555555555555556,
              "#d8576b"
             ],
             [
              0.6666666666666666,
              "#ed7953"
             ],
             [
              0.7777777777777778,
              "#fb9f3a"
             ],
             [
              0.8888888888888888,
              "#fdca26"
             ],
             [
              1.0,
              "#f0f921"
             ]
            ]
           }
          ],
          "contourcarpet": [
           {
            "type": "contourcarpet",
            "colorbar": {
             "outlinewidth": 0,
             "ticks": ""
            }
           }
          ],
          "contour": [
           {
            "type": "contour",
            "colorbar": {
             "outlinewidth": 0,
             "ticks": ""
            },
            "colorscale": [
             [
              0.0,
              "#0d0887"
             ],
             [
              0.1111111111111111,
              "#46039f"
             ],
             [
              0.2222222222222222,
              "#7201a8"
             ],
             [
              0.3333333333333333,
              "#9c179e"
             ],
             [
              0.4444444444444444,
              "#bd3786"
             ],
             [
              0.5555555555555556,
              "#d8576b"
             ],
             [
              0.6666666666666666,
              "#ed7953"
             ],
             [
              0.7777777777777778,
              "#fb9f3a"
             ],
             [
              0.8888888888888888,
              "#fdca26"
             ],
             [
              1.0,
              "#f0f921"
             ]
            ]
           }
          ],
          "surface": [
           {
            "type": "surface",
            "colorbar": {
             "outlinewidth": 0,
             "ticks": ""
            },
            "colorscale": [
             [
              0.0,
              "#0d0887"
             ],
             [
              0.1111111111111111,
              "#46039f"
             ],
             [
              0.2222222222222222,
              "#7201a8"
             ],
             [
              0.3333333333333333,
              "#9c179e"
             ],
             [
              0.4444444444444444,
              "#bd3786"
             ],
             [
              0.5555555555555556,
              "#d8576b"
             ],
             [
              0.6666666666666666,
              "#ed7953"
             ],
             [
              0.7777777777777778,
              "#fb9f3a"
             ],
             [
              0.8888888888888888,
              "#fdca26"
             ],
             [
              1.0,
              "#f0f921"
             ]
            ]
           }
          ],
          "mesh3d": [
           {
            "type": "mesh3d",
            "colorbar": {
             "outlinewidth": 0,
             "ticks": ""
            }
           }
          ],
          "scatter": [
           {
            "marker": {
             "line": {
              "color": "#283442"
             }
            },
            "type": "scatter"
           }
          ],
          "parcoords": [
           {
            "type": "parcoords",
            "line": {
             "colorbar": {
              "outlinewidth": 0,
              "ticks": ""
             }
            }
           }
          ],
          "scatterpolargl": [
           {
            "type": "scatterpolargl",
            "marker": {
             "colorbar": {
              "outlinewidth": 0,
              "ticks": ""
             }
            }
           }
          ],
          "bar": [
           {
            "error_x": {
             "color": "#f2f5fa"
            },
            "error_y": {
             "color": "#f2f5fa"
            },
            "marker": {
             "line": {
              "color": "rgb(17,17,17)",
              "width": 0.5
             },
             "pattern": {
              "fillmode": "overlay",
              "size": 10,
              "solidity": 0.2
             }
            },
            "type": "bar"
           }
          ],
          "scattergeo": [
           {
            "type": "scattergeo",
            "marker": {
             "colorbar": {
              "outlinewidth": 0,
              "ticks": ""
             }
            }
           }
          ],
          "scatterpolar": [
           {
            "type": "scatterpolar",
            "marker": {
             "colorbar": {
              "outlinewidth": 0,
              "ticks": ""
             }
            }
           }
          ],
          "histogram": [
           {
            "marker": {
             "pattern": {
              "fillmode": "overlay",
              "size": 10,
              "solidity": 0.2
             }
            },
            "type": "histogram"
           }
          ],
          "scattergl": [
           {
            "marker": {
             "line": {
              "color": "#283442"
             }
            },
            "type": "scattergl"
           }
          ],
          "scatter3d": [
           {
            "type": "scatter3d",
            "line": {
             "colorbar": {
              "outlinewidth": 0,
              "ticks": ""
             }
            },
            "marker": {
             "colorbar": {
              "outlinewidth": 0,
              "ticks": ""
             }
            }
           }
          ],
          "scattermapbox": [
           {
            "type": "scattermapbox",
            "marker": {
             "colorbar": {
              "outlinewidth": 0,
              "ticks": ""
             }
            }
           }
          ],
          "scatterternary": [
           {
            "type": "scatterternary",
            "marker": {
             "colorbar": {
              "outlinewidth": 0,
              "ticks": ""
             }
            }
           }
          ],
          "scattercarpet": [
           {
            "type": "scattercarpet",
            "marker": {
             "colorbar": {
              "outlinewidth": 0,
              "ticks": ""
             }
            }
           }
          ],
          "carpet": [
           {
            "aaxis": {
             "endlinecolor": "#A2B1C6",
             "gridcolor": "#506784",
             "linecolor": "#506784",
             "minorgridcolor": "#506784",
             "startlinecolor": "#A2B1C6"
            },
            "baxis": {
             "endlinecolor": "#A2B1C6",
             "gridcolor": "#506784",
             "linecolor": "#506784",
             "minorgridcolor": "#506784",
             "startlinecolor": "#A2B1C6"
            },
            "type": "carpet"
           }
          ],
          "table": [
           {
            "cells": {
             "fill": {
              "color": "#506784"
             },
             "line": {
              "color": "rgb(17,17,17)"
             }
            },
            "header": {
             "fill": {
              "color": "#2a3f5f"
             },
             "line": {
              "color": "rgb(17,17,17)"
             }
            },
            "type": "table"
           }
          ],
          "barpolar": [
           {
            "marker": {
             "line": {
              "color": "rgb(17,17,17)",
              "width": 0.5
             },
             "pattern": {
              "fillmode": "overlay",
              "size": 10,
              "solidity": 0.2
             }
            },
            "type": "barpolar"
           }
          ],
          "pie": [
           {
            "automargin": true,
            "type": "pie"
           }
          ]
         },
         "layout": {
          "autotypenumbers": "strict",
          "colorway": [
           "#636efa",
           "#EF553B",
           "#00cc96",
           "#ab63fa",
           "#FFA15A",
           "#19d3f3",
           "#FF6692",
           "#B6E880",
           "#FF97FF",
           "#FECB52"
          ],
          "font": {
           "color": "#f2f5fa"
          },
          "hovermode": "closest",
          "hoverlabel": {
           "align": "left"
          },
          "paper_bgcolor": "rgb(17,17,17)",
          "plot_bgcolor": "rgb(17,17,17)",
          "polar": {
           "bgcolor": "rgb(17,17,17)",
           "angularaxis": {
            "gridcolor": "#506784",
            "linecolor": "#506784",
            "ticks": ""
           },
           "radialaxis": {
            "gridcolor": "#506784",
            "linecolor": "#506784",
            "ticks": ""
           }
          },
          "ternary": {
           "bgcolor": "rgb(17,17,17)",
           "aaxis": {
            "gridcolor": "#506784",
            "linecolor": "#506784",
            "ticks": ""
           },
           "baxis": {
            "gridcolor": "#506784",
            "linecolor": "#506784",
            "ticks": ""
           },
           "caxis": {
            "gridcolor": "#506784",
            "linecolor": "#506784",
            "ticks": ""
           }
          },
          "coloraxis": {
           "colorbar": {
            "outlinewidth": 0,
            "ticks": ""
           }
          },
          "colorscale": {
           "sequential": [
            [
             0.0,
             "#0d0887"
            ],
            [
             0.1111111111111111,
             "#46039f"
            ],
            [
             0.2222222222222222,
             "#7201a8"
            ],
            [
             0.3333333333333333,
             "#9c179e"
            ],
            [
             0.4444444444444444,
             "#bd3786"
            ],
            [
             0.5555555555555556,
             "#d8576b"
            ],
            [
             0.6666666666666666,
             "#ed7953"
            ],
            [
             0.7777777777777778,
             "#fb9f3a"
            ],
            [
             0.8888888888888888,
             "#fdca26"
            ],
            [
             1.0,
             "#f0f921"
            ]
           ],
           "sequentialminus": [
            [
             0.0,
             "#0d0887"
            ],
            [
             0.1111111111111111,
             "#46039f"
            ],
            [
             0.2222222222222222,
             "#7201a8"
            ],
            [
             0.3333333333333333,
             "#9c179e"
            ],
            [
             0.4444444444444444,
             "#bd3786"
            ],
            [
             0.5555555555555556,
             "#d8576b"
            ],
            [
             0.6666666666666666,
             "#ed7953"
            ],
            [
             0.7777777777777778,
             "#fb9f3a"
            ],
            [
             0.8888888888888888,
             "#fdca26"
            ],
            [
             1.0,
             "#f0f921"
            ]
           ],
           "diverging": [
            [
             0,
             "#8e0152"
            ],
            [
             0.1,
             "#c51b7d"
            ],
            [
             0.2,
             "#de77ae"
            ],
            [
             0.3,
             "#f1b6da"
            ],
            [
             0.4,
             "#fde0ef"
            ],
            [
             0.5,
             "#f7f7f7"
            ],
            [
             0.6,
             "#e6f5d0"
            ],
            [
             0.7,
             "#b8e186"
            ],
            [
             0.8,
             "#7fbc41"
            ],
            [
             0.9,
             "#4d9221"
            ],
            [
             1,
             "#276419"
            ]
           ]
          },
          "xaxis": {
           "gridcolor": "#283442",
           "linecolor": "#506784",
           "ticks": "",
           "title": {
            "standoff": 15
           },
           "zerolinecolor": "#283442",
           "automargin": true,
           "zerolinewidth": 2
          },
          "yaxis": {
           "gridcolor": "#283442",
           "linecolor": "#506784",
           "ticks": "",
           "title": {
            "standoff": 15
           },
           "zerolinecolor": "#283442",
           "automargin": true,
           "zerolinewidth": 2
          },
          "scene": {
           "xaxis": {
            "backgroundcolor": "rgb(17,17,17)",
            "gridcolor": "#506784",
            "linecolor": "#506784",
            "showbackground": true,
            "ticks": "",
            "zerolinecolor": "#C8D4E3",
            "gridwidth": 2
           },
           "yaxis": {
            "backgroundcolor": "rgb(17,17,17)",
            "gridcolor": "#506784",
            "linecolor": "#506784",
            "showbackground": true,
            "ticks": "",
            "zerolinecolor": "#C8D4E3",
            "gridwidth": 2
           },
           "zaxis": {
            "backgroundcolor": "rgb(17,17,17)",
            "gridcolor": "#506784",
            "linecolor": "#506784",
            "showbackground": true,
            "ticks": "",
            "zerolinecolor": "#C8D4E3",
            "gridwidth": 2
           }
          },
          "shapedefaults": {
           "line": {
            "color": "#f2f5fa"
           }
          },
          "annotationdefaults": {
           "arrowcolor": "#f2f5fa",
           "arrowhead": 0,
           "arrowwidth": 1
          },
          "geo": {
           "bgcolor": "rgb(17,17,17)",
           "landcolor": "rgb(17,17,17)",
           "subunitcolor": "#506784",
           "showland": true,
           "showlakes": true,
           "lakecolor": "rgb(17,17,17)"
          },
          "title": {
           "x": 0.05
          },
          "updatemenudefaults": {
           "bgcolor": "#506784",
           "borderwidth": 0
          },
          "sliderdefaults": {
           "bgcolor": "#C8D4E3",
           "borderwidth": 1,
           "bordercolor": "rgb(17,17,17)",
           "tickwidth": 0
          },
          "mapbox": {
           "style": "dark"
          }
         }
        },
        "xaxis": {
         "anchor": "y",
         "domain": [
          0.0,
          1.0
         ],
         "title": {
          "text": "Pays organisateur"
         },
         "categoryorder": "array",
         "categoryarray": [
          "Egypt",
          "Ghana",
          "Algeria",
          "Ethiopia",
          "Nigeria",
          "South Africa",
          "Sudan",
          "Tunisia"
         ]
        },
        "yaxis": {
         "anchor": "x",
         "domain": [
          0.0,
          1.0
         ],
         "title": {
          "text": "Nombre de victoires"
         }
        },
        "legend": {
         "title": {
          "text": "Pays organisateur"
         },
         "tracegroupgap": 0
        },
        "title": {
         "text": "Nombre de victoires des pays organisateurs"
        },
        "barmode": "relative"
       },
       "config": {
        "plotlyServerURL": "https://plot.ly"
       }
      },
      "text/html": "<div>                            <div id=\"c1736326-8dca-43a7-8e89-5e366ac16ed5\" class=\"plotly-graph-div\" style=\"height:525px; width:100%;\"></div>            <script type=\"text/javascript\">                require([\"plotly\"], function(Plotly) {                    window.PLOTLYENV=window.PLOTLYENV || {};                                    if (document.getElementById(\"c1736326-8dca-43a7-8e89-5e366ac16ed5\")) {                    Plotly.newPlot(                        \"c1736326-8dca-43a7-8e89-5e366ac16ed5\",                        [{\"alignmentgroup\":\"True\",\"hovertemplate\":\"Pays organisateur=%{x}<br>Nombre de victoires=%{y}<extra></extra>\",\"legendgroup\":\"Egypt\",\"marker\":{\"color\":\"#636efa\",\"pattern\":{\"shape\":\"\"}},\"name\":\"Egypt\",\"offsetgroup\":\"Egypt\",\"orientation\":\"v\",\"showlegend\":true,\"textposition\":\"auto\",\"x\":[\"Egypt\"],\"xaxis\":\"x\",\"y\":[3],\"yaxis\":\"y\",\"type\":\"bar\"},{\"alignmentgroup\":\"True\",\"hovertemplate\":\"Pays organisateur=%{x}<br>Nombre de victoires=%{y}<extra></extra>\",\"legendgroup\":\"Ghana\",\"marker\":{\"color\":\"#EF553B\",\"pattern\":{\"shape\":\"\"}},\"name\":\"Ghana\",\"offsetgroup\":\"Ghana\",\"orientation\":\"v\",\"showlegend\":true,\"textposition\":\"auto\",\"x\":[\"Ghana\"],\"xaxis\":\"x\",\"y\":[2],\"yaxis\":\"y\",\"type\":\"bar\"},{\"alignmentgroup\":\"True\",\"hovertemplate\":\"Pays organisateur=%{x}<br>Nombre de victoires=%{y}<extra></extra>\",\"legendgroup\":\"Algeria\",\"marker\":{\"color\":\"#00cc96\",\"pattern\":{\"shape\":\"\"}},\"name\":\"Algeria\",\"offsetgroup\":\"Algeria\",\"orientation\":\"v\",\"showlegend\":true,\"textposition\":\"auto\",\"x\":[\"Algeria\"],\"xaxis\":\"x\",\"y\":[1],\"yaxis\":\"y\",\"type\":\"bar\"},{\"alignmentgroup\":\"True\",\"hovertemplate\":\"Pays organisateur=%{x}<br>Nombre de victoires=%{y}<extra></extra>\",\"legendgroup\":\"Ethiopia\",\"marker\":{\"color\":\"#ab63fa\",\"pattern\":{\"shape\":\"\"}},\"name\":\"Ethiopia\",\"offsetgroup\":\"Ethiopia\",\"orientation\":\"v\",\"showlegend\":true,\"textposition\":\"auto\",\"x\":[\"Ethiopia\"],\"xaxis\":\"x\",\"y\":[1],\"yaxis\":\"y\",\"type\":\"bar\"},{\"alignmentgroup\":\"True\",\"hovertemplate\":\"Pays organisateur=%{x}<br>Nombre de victoires=%{y}<extra></extra>\",\"legendgroup\":\"Nigeria\",\"marker\":{\"color\":\"#FFA15A\",\"pattern\":{\"shape\":\"\"}},\"name\":\"Nigeria\",\"offsetgroup\":\"Nigeria\",\"orientation\":\"v\",\"showlegend\":true,\"textposition\":\"auto\",\"x\":[\"Nigeria\"],\"xaxis\":\"x\",\"y\":[1],\"yaxis\":\"y\",\"type\":\"bar\"},{\"alignmentgroup\":\"True\",\"hovertemplate\":\"Pays organisateur=%{x}<br>Nombre de victoires=%{y}<extra></extra>\",\"legendgroup\":\"South Africa\",\"marker\":{\"color\":\"#19d3f3\",\"pattern\":{\"shape\":\"\"}},\"name\":\"South Africa\",\"offsetgroup\":\"South Africa\",\"orientation\":\"v\",\"showlegend\":true,\"textposition\":\"auto\",\"x\":[\"South Africa\"],\"xaxis\":\"x\",\"y\":[1],\"yaxis\":\"y\",\"type\":\"bar\"},{\"alignmentgroup\":\"True\",\"hovertemplate\":\"Pays organisateur=%{x}<br>Nombre de victoires=%{y}<extra></extra>\",\"legendgroup\":\"Sudan\",\"marker\":{\"color\":\"#FF6692\",\"pattern\":{\"shape\":\"\"}},\"name\":\"Sudan\",\"offsetgroup\":\"Sudan\",\"orientation\":\"v\",\"showlegend\":true,\"textposition\":\"auto\",\"x\":[\"Sudan\"],\"xaxis\":\"x\",\"y\":[1],\"yaxis\":\"y\",\"type\":\"bar\"},{\"alignmentgroup\":\"True\",\"hovertemplate\":\"Pays organisateur=%{x}<br>Nombre de victoires=%{y}<extra></extra>\",\"legendgroup\":\"Tunisia\",\"marker\":{\"color\":\"#B6E880\",\"pattern\":{\"shape\":\"\"}},\"name\":\"Tunisia\",\"offsetgroup\":\"Tunisia\",\"orientation\":\"v\",\"showlegend\":true,\"textposition\":\"auto\",\"x\":[\"Tunisia\"],\"xaxis\":\"x\",\"y\":[1],\"yaxis\":\"y\",\"type\":\"bar\"}],                        {\"template\":{\"data\":{\"histogram2dcontour\":[{\"type\":\"histogram2dcontour\",\"colorbar\":{\"outlinewidth\":0,\"ticks\":\"\"},\"colorscale\":[[0.0,\"#0d0887\"],[0.1111111111111111,\"#46039f\"],[0.2222222222222222,\"#7201a8\"],[0.3333333333333333,\"#9c179e\"],[0.4444444444444444,\"#bd3786\"],[0.5555555555555556,\"#d8576b\"],[0.6666666666666666,\"#ed7953\"],[0.7777777777777778,\"#fb9f3a\"],[0.8888888888888888,\"#fdca26\"],[1.0,\"#f0f921\"]]}],\"choropleth\":[{\"type\":\"choropleth\",\"colorbar\":{\"outlinewidth\":0,\"ticks\":\"\"}}],\"histogram2d\":[{\"type\":\"histogram2d\",\"colorbar\":{\"outlinewidth\":0,\"ticks\":\"\"},\"colorscale\":[[0.0,\"#0d0887\"],[0.1111111111111111,\"#46039f\"],[0.2222222222222222,\"#7201a8\"],[0.3333333333333333,\"#9c179e\"],[0.4444444444444444,\"#bd3786\"],[0.5555555555555556,\"#d8576b\"],[0.6666666666666666,\"#ed7953\"],[0.7777777777777778,\"#fb9f3a\"],[0.8888888888888888,\"#fdca26\"],[1.0,\"#f0f921\"]]}],\"heatmap\":[{\"type\":\"heatmap\",\"colorbar\":{\"outlinewidth\":0,\"ticks\":\"\"},\"colorscale\":[[0.0,\"#0d0887\"],[0.1111111111111111,\"#46039f\"],[0.2222222222222222,\"#7201a8\"],[0.3333333333333333,\"#9c179e\"],[0.4444444444444444,\"#bd3786\"],[0.5555555555555556,\"#d8576b\"],[0.6666666666666666,\"#ed7953\"],[0.7777777777777778,\"#fb9f3a\"],[0.8888888888888888,\"#fdca26\"],[1.0,\"#f0f921\"]]}],\"heatmapgl\":[{\"type\":\"heatmapgl\",\"colorbar\":{\"outlinewidth\":0,\"ticks\":\"\"},\"colorscale\":[[0.0,\"#0d0887\"],[0.1111111111111111,\"#46039f\"],[0.2222222222222222,\"#7201a8\"],[0.3333333333333333,\"#9c179e\"],[0.4444444444444444,\"#bd3786\"],[0.5555555555555556,\"#d8576b\"],[0.6666666666666666,\"#ed7953\"],[0.7777777777777778,\"#fb9f3a\"],[0.8888888888888888,\"#fdca26\"],[1.0,\"#f0f921\"]]}],\"contourcarpet\":[{\"type\":\"contourcarpet\",\"colorbar\":{\"outlinewidth\":0,\"ticks\":\"\"}}],\"contour\":[{\"type\":\"contour\",\"colorbar\":{\"outlinewidth\":0,\"ticks\":\"\"},\"colorscale\":[[0.0,\"#0d0887\"],[0.1111111111111111,\"#46039f\"],[0.2222222222222222,\"#7201a8\"],[0.3333333333333333,\"#9c179e\"],[0.4444444444444444,\"#bd3786\"],[0.5555555555555556,\"#d8576b\"],[0.6666666666666666,\"#ed7953\"],[0.7777777777777778,\"#fb9f3a\"],[0.8888888888888888,\"#fdca26\"],[1.0,\"#f0f921\"]]}],\"surface\":[{\"type\":\"surface\",\"colorbar\":{\"outlinewidth\":0,\"ticks\":\"\"},\"colorscale\":[[0.0,\"#0d0887\"],[0.1111111111111111,\"#46039f\"],[0.2222222222222222,\"#7201a8\"],[0.3333333333333333,\"#9c179e\"],[0.4444444444444444,\"#bd3786\"],[0.5555555555555556,\"#d8576b\"],[0.6666666666666666,\"#ed7953\"],[0.7777777777777778,\"#fb9f3a\"],[0.8888888888888888,\"#fdca26\"],[1.0,\"#f0f921\"]]}],\"mesh3d\":[{\"type\":\"mesh3d\",\"colorbar\":{\"outlinewidth\":0,\"ticks\":\"\"}}],\"scatter\":[{\"marker\":{\"line\":{\"color\":\"#283442\"}},\"type\":\"scatter\"}],\"parcoords\":[{\"type\":\"parcoords\",\"line\":{\"colorbar\":{\"outlinewidth\":0,\"ticks\":\"\"}}}],\"scatterpolargl\":[{\"type\":\"scatterpolargl\",\"marker\":{\"colorbar\":{\"outlinewidth\":0,\"ticks\":\"\"}}}],\"bar\":[{\"error_x\":{\"color\":\"#f2f5fa\"},\"error_y\":{\"color\":\"#f2f5fa\"},\"marker\":{\"line\":{\"color\":\"rgb(17,17,17)\",\"width\":0.5},\"pattern\":{\"fillmode\":\"overlay\",\"size\":10,\"solidity\":0.2}},\"type\":\"bar\"}],\"scattergeo\":[{\"type\":\"scattergeo\",\"marker\":{\"colorbar\":{\"outlinewidth\":0,\"ticks\":\"\"}}}],\"scatterpolar\":[{\"type\":\"scatterpolar\",\"marker\":{\"colorbar\":{\"outlinewidth\":0,\"ticks\":\"\"}}}],\"histogram\":[{\"marker\":{\"pattern\":{\"fillmode\":\"overlay\",\"size\":10,\"solidity\":0.2}},\"type\":\"histogram\"}],\"scattergl\":[{\"marker\":{\"line\":{\"color\":\"#283442\"}},\"type\":\"scattergl\"}],\"scatter3d\":[{\"type\":\"scatter3d\",\"line\":{\"colorbar\":{\"outlinewidth\":0,\"ticks\":\"\"}},\"marker\":{\"colorbar\":{\"outlinewidth\":0,\"ticks\":\"\"}}}],\"scattermapbox\":[{\"type\":\"scattermapbox\",\"marker\":{\"colorbar\":{\"outlinewidth\":0,\"ticks\":\"\"}}}],\"scatterternary\":[{\"type\":\"scatterternary\",\"marker\":{\"colorbar\":{\"outlinewidth\":0,\"ticks\":\"\"}}}],\"scattercarpet\":[{\"type\":\"scattercarpet\",\"marker\":{\"colorbar\":{\"outlinewidth\":0,\"ticks\":\"\"}}}],\"carpet\":[{\"aaxis\":{\"endlinecolor\":\"#A2B1C6\",\"gridcolor\":\"#506784\",\"linecolor\":\"#506784\",\"minorgridcolor\":\"#506784\",\"startlinecolor\":\"#A2B1C6\"},\"baxis\":{\"endlinecolor\":\"#A2B1C6\",\"gridcolor\":\"#506784\",\"linecolor\":\"#506784\",\"minorgridcolor\":\"#506784\",\"startlinecolor\":\"#A2B1C6\"},\"type\":\"carpet\"}],\"table\":[{\"cells\":{\"fill\":{\"color\":\"#506784\"},\"line\":{\"color\":\"rgb(17,17,17)\"}},\"header\":{\"fill\":{\"color\":\"#2a3f5f\"},\"line\":{\"color\":\"rgb(17,17,17)\"}},\"type\":\"table\"}],\"barpolar\":[{\"marker\":{\"line\":{\"color\":\"rgb(17,17,17)\",\"width\":0.5},\"pattern\":{\"fillmode\":\"overlay\",\"size\":10,\"solidity\":0.2}},\"type\":\"barpolar\"}],\"pie\":[{\"automargin\":true,\"type\":\"pie\"}]},\"layout\":{\"autotypenumbers\":\"strict\",\"colorway\":[\"#636efa\",\"#EF553B\",\"#00cc96\",\"#ab63fa\",\"#FFA15A\",\"#19d3f3\",\"#FF6692\",\"#B6E880\",\"#FF97FF\",\"#FECB52\"],\"font\":{\"color\":\"#f2f5fa\"},\"hovermode\":\"closest\",\"hoverlabel\":{\"align\":\"left\"},\"paper_bgcolor\":\"rgb(17,17,17)\",\"plot_bgcolor\":\"rgb(17,17,17)\",\"polar\":{\"bgcolor\":\"rgb(17,17,17)\",\"angularaxis\":{\"gridcolor\":\"#506784\",\"linecolor\":\"#506784\",\"ticks\":\"\"},\"radialaxis\":{\"gridcolor\":\"#506784\",\"linecolor\":\"#506784\",\"ticks\":\"\"}},\"ternary\":{\"bgcolor\":\"rgb(17,17,17)\",\"aaxis\":{\"gridcolor\":\"#506784\",\"linecolor\":\"#506784\",\"ticks\":\"\"},\"baxis\":{\"gridcolor\":\"#506784\",\"linecolor\":\"#506784\",\"ticks\":\"\"},\"caxis\":{\"gridcolor\":\"#506784\",\"linecolor\":\"#506784\",\"ticks\":\"\"}},\"coloraxis\":{\"colorbar\":{\"outlinewidth\":0,\"ticks\":\"\"}},\"colorscale\":{\"sequential\":[[0.0,\"#0d0887\"],[0.1111111111111111,\"#46039f\"],[0.2222222222222222,\"#7201a8\"],[0.3333333333333333,\"#9c179e\"],[0.4444444444444444,\"#bd3786\"],[0.5555555555555556,\"#d8576b\"],[0.6666666666666666,\"#ed7953\"],[0.7777777777777778,\"#fb9f3a\"],[0.8888888888888888,\"#fdca26\"],[1.0,\"#f0f921\"]],\"sequentialminus\":[[0.0,\"#0d0887\"],[0.1111111111111111,\"#46039f\"],[0.2222222222222222,\"#7201a8\"],[0.3333333333333333,\"#9c179e\"],[0.4444444444444444,\"#bd3786\"],[0.5555555555555556,\"#d8576b\"],[0.6666666666666666,\"#ed7953\"],[0.7777777777777778,\"#fb9f3a\"],[0.8888888888888888,\"#fdca26\"],[1.0,\"#f0f921\"]],\"diverging\":[[0,\"#8e0152\"],[0.1,\"#c51b7d\"],[0.2,\"#de77ae\"],[0.3,\"#f1b6da\"],[0.4,\"#fde0ef\"],[0.5,\"#f7f7f7\"],[0.6,\"#e6f5d0\"],[0.7,\"#b8e186\"],[0.8,\"#7fbc41\"],[0.9,\"#4d9221\"],[1,\"#276419\"]]},\"xaxis\":{\"gridcolor\":\"#283442\",\"linecolor\":\"#506784\",\"ticks\":\"\",\"title\":{\"standoff\":15},\"zerolinecolor\":\"#283442\",\"automargin\":true,\"zerolinewidth\":2},\"yaxis\":{\"gridcolor\":\"#283442\",\"linecolor\":\"#506784\",\"ticks\":\"\",\"title\":{\"standoff\":15},\"zerolinecolor\":\"#283442\",\"automargin\":true,\"zerolinewidth\":2},\"scene\":{\"xaxis\":{\"backgroundcolor\":\"rgb(17,17,17)\",\"gridcolor\":\"#506784\",\"linecolor\":\"#506784\",\"showbackground\":true,\"ticks\":\"\",\"zerolinecolor\":\"#C8D4E3\",\"gridwidth\":2},\"yaxis\":{\"backgroundcolor\":\"rgb(17,17,17)\",\"gridcolor\":\"#506784\",\"linecolor\":\"#506784\",\"showbackground\":true,\"ticks\":\"\",\"zerolinecolor\":\"#C8D4E3\",\"gridwidth\":2},\"zaxis\":{\"backgroundcolor\":\"rgb(17,17,17)\",\"gridcolor\":\"#506784\",\"linecolor\":\"#506784\",\"showbackground\":true,\"ticks\":\"\",\"zerolinecolor\":\"#C8D4E3\",\"gridwidth\":2}},\"shapedefaults\":{\"line\":{\"color\":\"#f2f5fa\"}},\"annotationdefaults\":{\"arrowcolor\":\"#f2f5fa\",\"arrowhead\":0,\"arrowwidth\":1},\"geo\":{\"bgcolor\":\"rgb(17,17,17)\",\"landcolor\":\"rgb(17,17,17)\",\"subunitcolor\":\"#506784\",\"showland\":true,\"showlakes\":true,\"lakecolor\":\"rgb(17,17,17)\"},\"title\":{\"x\":0.05},\"updatemenudefaults\":{\"bgcolor\":\"#506784\",\"borderwidth\":0},\"sliderdefaults\":{\"bgcolor\":\"#C8D4E3\",\"borderwidth\":1,\"bordercolor\":\"rgb(17,17,17)\",\"tickwidth\":0},\"mapbox\":{\"style\":\"dark\"}}},\"xaxis\":{\"anchor\":\"y\",\"domain\":[0.0,1.0],\"title\":{\"text\":\"Pays organisateur\"},\"categoryorder\":\"array\",\"categoryarray\":[\"Egypt\",\"Ghana\",\"Algeria\",\"Ethiopia\",\"Nigeria\",\"South Africa\",\"Sudan\",\"Tunisia\"]},\"yaxis\":{\"anchor\":\"x\",\"domain\":[0.0,1.0],\"title\":{\"text\":\"Nombre de victoires\"}},\"legend\":{\"title\":{\"text\":\"Pays organisateur\"},\"tracegroupgap\":0},\"title\":{\"text\":\"Nombre de victoires des pays organisateurs\"},\"barmode\":\"relative\"},                        {\"responsive\": true}                    ).then(function(){\n                            \nvar gd = document.getElementById('c1736326-8dca-43a7-8e89-5e366ac16ed5');\nvar x = new MutationObserver(function (mutations, observer) {{\n        var display = window.getComputedStyle(gd).display;\n        if (!display || display === 'none') {{\n            console.log([gd, 'removed!']);\n            Plotly.purge(gd);\n            observer.disconnect();\n        }}\n}});\n\n// Listen for the removal of the full notebook cells\nvar notebookContainer = gd.closest('#notebook-container');\nif (notebookContainer) {{\n    x.observe(notebookContainer, {childList: true});\n}}\n\n// Listen for the clearing of the current output cell\nvar outputEl = gd.closest('.output');\nif (outputEl) {{\n    x.observe(outputEl, {childList: true});\n}}\n\n                        })                };                });            </script>        </div>"
     },
     "metadata": {},
     "output_type": "display_data"
    }
   ],
   "source": [
    "df_stats['HostWinner'] = df_stats['Host'] == df_stats['Champion']\n",
    "\n",
    "# Créons un DataFrame avec le décompte des victoires par pays organisateur\n",
    "host_wins_count = df_stats[df_stats['HostWinner']].groupby('Host').size().reset_index(name='Wins')\n",
    "\n",
    "data = host_wins_count.sort_values(by='Wins', ascending=False).head(10)\n",
    "\n",
    "# Créons un diagramme à barres empilées\n",
    "fig = px.bar(data, x='Host', y='Wins', color='Host',\n",
    "             title='Nombre de victoires des pays organisateurs',\n",
    "             labels={'Host': 'Pays organisateur', 'Wins': 'Nombre de victoires'})\n",
    "\n",
    "fig.show()"
   ],
   "metadata": {
    "collapsed": false,
    "ExecuteTime": {
     "end_time": "2024-01-03T18:10:45.358485200Z",
     "start_time": "2024-01-03T18:10:44.867884200Z"
    }
   },
   "id": "f8fadaad9d132e73",
   "execution_count": 152
  },
  {
   "cell_type": "markdown",
   "source": [
    "Nombre de victoires des sous-confédérations organisatrices"
   ],
   "metadata": {
    "collapsed": false
   },
   "id": "7671e188b35c9a47"
  },
  {
   "cell_type": "code",
   "outputs": [
    {
     "data": {
      "application/vnd.plotly.v1+json": {
       "data": [
        {
         "alignmentgroup": "True",
         "hovertemplate": "Pays champion=%{x}<br>Nombre de victoires=%{y}<extra></extra>",
         "legendgroup": "Egypt",
         "marker": {
          "color": "#636efa",
          "pattern": {
           "shape": ""
          }
         },
         "name": "Egypt",
         "offsetgroup": "Egypt",
         "orientation": "v",
         "showlegend": true,
         "textposition": "auto",
         "x": [
          "Egypt"
         ],
         "xaxis": "x",
         "y": [
          3
         ],
         "yaxis": "y",
         "type": "bar"
        },
        {
         "alignmentgroup": "True",
         "hovertemplate": "Pays champion=%{x}<br>Nombre de victoires=%{y}<extra></extra>",
         "legendgroup": "Algeria",
         "marker": {
          "color": "#EF553B",
          "pattern": {
           "shape": ""
          }
         },
         "name": "Algeria",
         "offsetgroup": "Algeria",
         "orientation": "v",
         "showlegend": true,
         "textposition": "auto",
         "x": [
          "Algeria"
         ],
         "xaxis": "x",
         "y": [
          2
         ],
         "yaxis": "y",
         "type": "bar"
        },
        {
         "alignmentgroup": "True",
         "hovertemplate": "Pays champion=%{x}<br>Nombre de victoires=%{y}<extra></extra>",
         "legendgroup": "Ghana",
         "marker": {
          "color": "#00cc96",
          "pattern": {
           "shape": ""
          }
         },
         "name": "Ghana",
         "offsetgroup": "Ghana",
         "orientation": "v",
         "showlegend": true,
         "textposition": "auto",
         "x": [
          "Ghana"
         ],
         "xaxis": "x",
         "y": [
          2
         ],
         "yaxis": "y",
         "type": "bar"
        },
        {
         "alignmentgroup": "True",
         "hovertemplate": "Pays champion=%{x}<br>Nombre de victoires=%{y}<extra></extra>",
         "legendgroup": "Cameroon",
         "marker": {
          "color": "#ab63fa",
          "pattern": {
           "shape": ""
          }
         },
         "name": "Cameroon",
         "offsetgroup": "Cameroon",
         "orientation": "v",
         "showlegend": true,
         "textposition": "auto",
         "x": [
          "Cameroon"
         ],
         "xaxis": "x",
         "y": [
          1
         ],
         "yaxis": "y",
         "type": "bar"
        },
        {
         "alignmentgroup": "True",
         "hovertemplate": "Pays champion=%{x}<br>Nombre de victoires=%{y}<extra></extra>",
         "legendgroup": "Congo",
         "marker": {
          "color": "#FFA15A",
          "pattern": {
           "shape": ""
          }
         },
         "name": "Congo",
         "offsetgroup": "Congo",
         "orientation": "v",
         "showlegend": true,
         "textposition": "auto",
         "x": [
          "Congo"
         ],
         "xaxis": "x",
         "y": [
          1
         ],
         "yaxis": "y",
         "type": "bar"
        },
        {
         "alignmentgroup": "True",
         "hovertemplate": "Pays champion=%{x}<br>Nombre de victoires=%{y}<extra></extra>",
         "legendgroup": "Ethiopia",
         "marker": {
          "color": "#19d3f3",
          "pattern": {
           "shape": ""
          }
         },
         "name": "Ethiopia",
         "offsetgroup": "Ethiopia",
         "orientation": "v",
         "showlegend": true,
         "textposition": "auto",
         "x": [
          "Ethiopia"
         ],
         "xaxis": "x",
         "y": [
          1
         ],
         "yaxis": "y",
         "type": "bar"
        },
        {
         "alignmentgroup": "True",
         "hovertemplate": "Pays champion=%{x}<br>Nombre de victoires=%{y}<extra></extra>",
         "legendgroup": "Ivory Coast",
         "marker": {
          "color": "#FF6692",
          "pattern": {
           "shape": ""
          }
         },
         "name": "Ivory Coast",
         "offsetgroup": "Ivory Coast",
         "orientation": "v",
         "showlegend": true,
         "textposition": "auto",
         "x": [
          "Ivory Coast"
         ],
         "xaxis": "x",
         "y": [
          1
         ],
         "yaxis": "y",
         "type": "bar"
        },
        {
         "alignmentgroup": "True",
         "hovertemplate": "Pays champion=%{x}<br>Nombre de victoires=%{y}<extra></extra>",
         "legendgroup": "Nigeria",
         "marker": {
          "color": "#B6E880",
          "pattern": {
           "shape": ""
          }
         },
         "name": "Nigeria",
         "offsetgroup": "Nigeria",
         "orientation": "v",
         "showlegend": true,
         "textposition": "auto",
         "x": [
          "Nigeria"
         ],
         "xaxis": "x",
         "y": [
          1
         ],
         "yaxis": "y",
         "type": "bar"
        },
        {
         "alignmentgroup": "True",
         "hovertemplate": "Pays champion=%{x}<br>Nombre de victoires=%{y}<extra></extra>",
         "legendgroup": "South Africa",
         "marker": {
          "color": "#FF97FF",
          "pattern": {
           "shape": ""
          }
         },
         "name": "South Africa",
         "offsetgroup": "South Africa",
         "orientation": "v",
         "showlegend": true,
         "textposition": "auto",
         "x": [
          "South Africa"
         ],
         "xaxis": "x",
         "y": [
          1
         ],
         "yaxis": "y",
         "type": "bar"
        },
        {
         "alignmentgroup": "True",
         "hovertemplate": "Pays champion=%{x}<br>Nombre de victoires=%{y}<extra></extra>",
         "legendgroup": "Sudan",
         "marker": {
          "color": "#FECB52",
          "pattern": {
           "shape": ""
          }
         },
         "name": "Sudan",
         "offsetgroup": "Sudan",
         "orientation": "v",
         "showlegend": true,
         "textposition": "auto",
         "x": [
          "Sudan"
         ],
         "xaxis": "x",
         "y": [
          1
         ],
         "yaxis": "y",
         "type": "bar"
        }
       ],
       "layout": {
        "template": {
         "data": {
          "histogram2dcontour": [
           {
            "type": "histogram2dcontour",
            "colorbar": {
             "outlinewidth": 0,
             "ticks": ""
            },
            "colorscale": [
             [
              0.0,
              "#0d0887"
             ],
             [
              0.1111111111111111,
              "#46039f"
             ],
             [
              0.2222222222222222,
              "#7201a8"
             ],
             [
              0.3333333333333333,
              "#9c179e"
             ],
             [
              0.4444444444444444,
              "#bd3786"
             ],
             [
              0.5555555555555556,
              "#d8576b"
             ],
             [
              0.6666666666666666,
              "#ed7953"
             ],
             [
              0.7777777777777778,
              "#fb9f3a"
             ],
             [
              0.8888888888888888,
              "#fdca26"
             ],
             [
              1.0,
              "#f0f921"
             ]
            ]
           }
          ],
          "choropleth": [
           {
            "type": "choropleth",
            "colorbar": {
             "outlinewidth": 0,
             "ticks": ""
            }
           }
          ],
          "histogram2d": [
           {
            "type": "histogram2d",
            "colorbar": {
             "outlinewidth": 0,
             "ticks": ""
            },
            "colorscale": [
             [
              0.0,
              "#0d0887"
             ],
             [
              0.1111111111111111,
              "#46039f"
             ],
             [
              0.2222222222222222,
              "#7201a8"
             ],
             [
              0.3333333333333333,
              "#9c179e"
             ],
             [
              0.4444444444444444,
              "#bd3786"
             ],
             [
              0.5555555555555556,
              "#d8576b"
             ],
             [
              0.6666666666666666,
              "#ed7953"
             ],
             [
              0.7777777777777778,
              "#fb9f3a"
             ],
             [
              0.8888888888888888,
              "#fdca26"
             ],
             [
              1.0,
              "#f0f921"
             ]
            ]
           }
          ],
          "heatmap": [
           {
            "type": "heatmap",
            "colorbar": {
             "outlinewidth": 0,
             "ticks": ""
            },
            "colorscale": [
             [
              0.0,
              "#0d0887"
             ],
             [
              0.1111111111111111,
              "#46039f"
             ],
             [
              0.2222222222222222,
              "#7201a8"
             ],
             [
              0.3333333333333333,
              "#9c179e"
             ],
             [
              0.4444444444444444,
              "#bd3786"
             ],
             [
              0.5555555555555556,
              "#d8576b"
             ],
             [
              0.6666666666666666,
              "#ed7953"
             ],
             [
              0.7777777777777778,
              "#fb9f3a"
             ],
             [
              0.8888888888888888,
              "#fdca26"
             ],
             [
              1.0,
              "#f0f921"
             ]
            ]
           }
          ],
          "heatmapgl": [
           {
            "type": "heatmapgl",
            "colorbar": {
             "outlinewidth": 0,
             "ticks": ""
            },
            "colorscale": [
             [
              0.0,
              "#0d0887"
             ],
             [
              0.1111111111111111,
              "#46039f"
             ],
             [
              0.2222222222222222,
              "#7201a8"
             ],
             [
              0.3333333333333333,
              "#9c179e"
             ],
             [
              0.4444444444444444,
              "#bd3786"
             ],
             [
              0.5555555555555556,
              "#d8576b"
             ],
             [
              0.6666666666666666,
              "#ed7953"
             ],
             [
              0.7777777777777778,
              "#fb9f3a"
             ],
             [
              0.8888888888888888,
              "#fdca26"
             ],
             [
              1.0,
              "#f0f921"
             ]
            ]
           }
          ],
          "contourcarpet": [
           {
            "type": "contourcarpet",
            "colorbar": {
             "outlinewidth": 0,
             "ticks": ""
            }
           }
          ],
          "contour": [
           {
            "type": "contour",
            "colorbar": {
             "outlinewidth": 0,
             "ticks": ""
            },
            "colorscale": [
             [
              0.0,
              "#0d0887"
             ],
             [
              0.1111111111111111,
              "#46039f"
             ],
             [
              0.2222222222222222,
              "#7201a8"
             ],
             [
              0.3333333333333333,
              "#9c179e"
             ],
             [
              0.4444444444444444,
              "#bd3786"
             ],
             [
              0.5555555555555556,
              "#d8576b"
             ],
             [
              0.6666666666666666,
              "#ed7953"
             ],
             [
              0.7777777777777778,
              "#fb9f3a"
             ],
             [
              0.8888888888888888,
              "#fdca26"
             ],
             [
              1.0,
              "#f0f921"
             ]
            ]
           }
          ],
          "surface": [
           {
            "type": "surface",
            "colorbar": {
             "outlinewidth": 0,
             "ticks": ""
            },
            "colorscale": [
             [
              0.0,
              "#0d0887"
             ],
             [
              0.1111111111111111,
              "#46039f"
             ],
             [
              0.2222222222222222,
              "#7201a8"
             ],
             [
              0.3333333333333333,
              "#9c179e"
             ],
             [
              0.4444444444444444,
              "#bd3786"
             ],
             [
              0.5555555555555556,
              "#d8576b"
             ],
             [
              0.6666666666666666,
              "#ed7953"
             ],
             [
              0.7777777777777778,
              "#fb9f3a"
             ],
             [
              0.8888888888888888,
              "#fdca26"
             ],
             [
              1.0,
              "#f0f921"
             ]
            ]
           }
          ],
          "mesh3d": [
           {
            "type": "mesh3d",
            "colorbar": {
             "outlinewidth": 0,
             "ticks": ""
            }
           }
          ],
          "scatter": [
           {
            "marker": {
             "line": {
              "color": "#283442"
             }
            },
            "type": "scatter"
           }
          ],
          "parcoords": [
           {
            "type": "parcoords",
            "line": {
             "colorbar": {
              "outlinewidth": 0,
              "ticks": ""
             }
            }
           }
          ],
          "scatterpolargl": [
           {
            "type": "scatterpolargl",
            "marker": {
             "colorbar": {
              "outlinewidth": 0,
              "ticks": ""
             }
            }
           }
          ],
          "bar": [
           {
            "error_x": {
             "color": "#f2f5fa"
            },
            "error_y": {
             "color": "#f2f5fa"
            },
            "marker": {
             "line": {
              "color": "rgb(17,17,17)",
              "width": 0.5
             },
             "pattern": {
              "fillmode": "overlay",
              "size": 10,
              "solidity": 0.2
             }
            },
            "type": "bar"
           }
          ],
          "scattergeo": [
           {
            "type": "scattergeo",
            "marker": {
             "colorbar": {
              "outlinewidth": 0,
              "ticks": ""
             }
            }
           }
          ],
          "scatterpolar": [
           {
            "type": "scatterpolar",
            "marker": {
             "colorbar": {
              "outlinewidth": 0,
              "ticks": ""
             }
            }
           }
          ],
          "histogram": [
           {
            "marker": {
             "pattern": {
              "fillmode": "overlay",
              "size": 10,
              "solidity": 0.2
             }
            },
            "type": "histogram"
           }
          ],
          "scattergl": [
           {
            "marker": {
             "line": {
              "color": "#283442"
             }
            },
            "type": "scattergl"
           }
          ],
          "scatter3d": [
           {
            "type": "scatter3d",
            "line": {
             "colorbar": {
              "outlinewidth": 0,
              "ticks": ""
             }
            },
            "marker": {
             "colorbar": {
              "outlinewidth": 0,
              "ticks": ""
             }
            }
           }
          ],
          "scattermapbox": [
           {
            "type": "scattermapbox",
            "marker": {
             "colorbar": {
              "outlinewidth": 0,
              "ticks": ""
             }
            }
           }
          ],
          "scatterternary": [
           {
            "type": "scatterternary",
            "marker": {
             "colorbar": {
              "outlinewidth": 0,
              "ticks": ""
             }
            }
           }
          ],
          "scattercarpet": [
           {
            "type": "scattercarpet",
            "marker": {
             "colorbar": {
              "outlinewidth": 0,
              "ticks": ""
             }
            }
           }
          ],
          "carpet": [
           {
            "aaxis": {
             "endlinecolor": "#A2B1C6",
             "gridcolor": "#506784",
             "linecolor": "#506784",
             "minorgridcolor": "#506784",
             "startlinecolor": "#A2B1C6"
            },
            "baxis": {
             "endlinecolor": "#A2B1C6",
             "gridcolor": "#506784",
             "linecolor": "#506784",
             "minorgridcolor": "#506784",
             "startlinecolor": "#A2B1C6"
            },
            "type": "carpet"
           }
          ],
          "table": [
           {
            "cells": {
             "fill": {
              "color": "#506784"
             },
             "line": {
              "color": "rgb(17,17,17)"
             }
            },
            "header": {
             "fill": {
              "color": "#2a3f5f"
             },
             "line": {
              "color": "rgb(17,17,17)"
             }
            },
            "type": "table"
           }
          ],
          "barpolar": [
           {
            "marker": {
             "line": {
              "color": "rgb(17,17,17)",
              "width": 0.5
             },
             "pattern": {
              "fillmode": "overlay",
              "size": 10,
              "solidity": 0.2
             }
            },
            "type": "barpolar"
           }
          ],
          "pie": [
           {
            "automargin": true,
            "type": "pie"
           }
          ]
         },
         "layout": {
          "autotypenumbers": "strict",
          "colorway": [
           "#636efa",
           "#EF553B",
           "#00cc96",
           "#ab63fa",
           "#FFA15A",
           "#19d3f3",
           "#FF6692",
           "#B6E880",
           "#FF97FF",
           "#FECB52"
          ],
          "font": {
           "color": "#f2f5fa"
          },
          "hovermode": "closest",
          "hoverlabel": {
           "align": "left"
          },
          "paper_bgcolor": "rgb(17,17,17)",
          "plot_bgcolor": "rgb(17,17,17)",
          "polar": {
           "bgcolor": "rgb(17,17,17)",
           "angularaxis": {
            "gridcolor": "#506784",
            "linecolor": "#506784",
            "ticks": ""
           },
           "radialaxis": {
            "gridcolor": "#506784",
            "linecolor": "#506784",
            "ticks": ""
           }
          },
          "ternary": {
           "bgcolor": "rgb(17,17,17)",
           "aaxis": {
            "gridcolor": "#506784",
            "linecolor": "#506784",
            "ticks": ""
           },
           "baxis": {
            "gridcolor": "#506784",
            "linecolor": "#506784",
            "ticks": ""
           },
           "caxis": {
            "gridcolor": "#506784",
            "linecolor": "#506784",
            "ticks": ""
           }
          },
          "coloraxis": {
           "colorbar": {
            "outlinewidth": 0,
            "ticks": ""
           }
          },
          "colorscale": {
           "sequential": [
            [
             0.0,
             "#0d0887"
            ],
            [
             0.1111111111111111,
             "#46039f"
            ],
            [
             0.2222222222222222,
             "#7201a8"
            ],
            [
             0.3333333333333333,
             "#9c179e"
            ],
            [
             0.4444444444444444,
             "#bd3786"
            ],
            [
             0.5555555555555556,
             "#d8576b"
            ],
            [
             0.6666666666666666,
             "#ed7953"
            ],
            [
             0.7777777777777778,
             "#fb9f3a"
            ],
            [
             0.8888888888888888,
             "#fdca26"
            ],
            [
             1.0,
             "#f0f921"
            ]
           ],
           "sequentialminus": [
            [
             0.0,
             "#0d0887"
            ],
            [
             0.1111111111111111,
             "#46039f"
            ],
            [
             0.2222222222222222,
             "#7201a8"
            ],
            [
             0.3333333333333333,
             "#9c179e"
            ],
            [
             0.4444444444444444,
             "#bd3786"
            ],
            [
             0.5555555555555556,
             "#d8576b"
            ],
            [
             0.6666666666666666,
             "#ed7953"
            ],
            [
             0.7777777777777778,
             "#fb9f3a"
            ],
            [
             0.8888888888888888,
             "#fdca26"
            ],
            [
             1.0,
             "#f0f921"
            ]
           ],
           "diverging": [
            [
             0,
             "#8e0152"
            ],
            [
             0.1,
             "#c51b7d"
            ],
            [
             0.2,
             "#de77ae"
            ],
            [
             0.3,
             "#f1b6da"
            ],
            [
             0.4,
             "#fde0ef"
            ],
            [
             0.5,
             "#f7f7f7"
            ],
            [
             0.6,
             "#e6f5d0"
            ],
            [
             0.7,
             "#b8e186"
            ],
            [
             0.8,
             "#7fbc41"
            ],
            [
             0.9,
             "#4d9221"
            ],
            [
             1,
             "#276419"
            ]
           ]
          },
          "xaxis": {
           "gridcolor": "#283442",
           "linecolor": "#506784",
           "ticks": "",
           "title": {
            "standoff": 15
           },
           "zerolinecolor": "#283442",
           "automargin": true,
           "zerolinewidth": 2
          },
          "yaxis": {
           "gridcolor": "#283442",
           "linecolor": "#506784",
           "ticks": "",
           "title": {
            "standoff": 15
           },
           "zerolinecolor": "#283442",
           "automargin": true,
           "zerolinewidth": 2
          },
          "scene": {
           "xaxis": {
            "backgroundcolor": "rgb(17,17,17)",
            "gridcolor": "#506784",
            "linecolor": "#506784",
            "showbackground": true,
            "ticks": "",
            "zerolinecolor": "#C8D4E3",
            "gridwidth": 2
           },
           "yaxis": {
            "backgroundcolor": "rgb(17,17,17)",
            "gridcolor": "#506784",
            "linecolor": "#506784",
            "showbackground": true,
            "ticks": "",
            "zerolinecolor": "#C8D4E3",
            "gridwidth": 2
           },
           "zaxis": {
            "backgroundcolor": "rgb(17,17,17)",
            "gridcolor": "#506784",
            "linecolor": "#506784",
            "showbackground": true,
            "ticks": "",
            "zerolinecolor": "#C8D4E3",
            "gridwidth": 2
           }
          },
          "shapedefaults": {
           "line": {
            "color": "#f2f5fa"
           }
          },
          "annotationdefaults": {
           "arrowcolor": "#f2f5fa",
           "arrowhead": 0,
           "arrowwidth": 1
          },
          "geo": {
           "bgcolor": "rgb(17,17,17)",
           "landcolor": "rgb(17,17,17)",
           "subunitcolor": "#506784",
           "showland": true,
           "showlakes": true,
           "lakecolor": "rgb(17,17,17)"
          },
          "title": {
           "x": 0.05
          },
          "updatemenudefaults": {
           "bgcolor": "#506784",
           "borderwidth": 0
          },
          "sliderdefaults": {
           "bgcolor": "#C8D4E3",
           "borderwidth": 1,
           "bordercolor": "rgb(17,17,17)",
           "tickwidth": 0
          },
          "mapbox": {
           "style": "dark"
          }
         }
        },
        "xaxis": {
         "anchor": "y",
         "domain": [
          0.0,
          1.0
         ],
         "title": {
          "text": "Pays champion"
         },
         "categoryorder": "array",
         "categoryarray": [
          "Egypt",
          "Algeria",
          "Ghana",
          "Cameroon",
          "Congo",
          "Ethiopia",
          "Ivory Coast",
          "Nigeria",
          "South Africa",
          "Sudan"
         ]
        },
        "yaxis": {
         "anchor": "x",
         "domain": [
          0.0,
          1.0
         ],
         "title": {
          "text": "Nombre de victoires"
         }
        },
        "legend": {
         "title": {
          "text": "Pays champion"
         },
         "tracegroupgap": 0
        },
        "title": {
         "text": "Nombre de victoires des pays champions dans la même région que l'organisateur"
        },
        "barmode": "relative"
       },
       "config": {
        "plotlyServerURL": "https://plot.ly"
       }
      },
      "text/html": "<div>                            <div id=\"b57078d7-76f3-43c1-afcd-c04a1670788c\" class=\"plotly-graph-div\" style=\"height:525px; width:100%;\"></div>            <script type=\"text/javascript\">                require([\"plotly\"], function(Plotly) {                    window.PLOTLYENV=window.PLOTLYENV || {};                                    if (document.getElementById(\"b57078d7-76f3-43c1-afcd-c04a1670788c\")) {                    Plotly.newPlot(                        \"b57078d7-76f3-43c1-afcd-c04a1670788c\",                        [{\"alignmentgroup\":\"True\",\"hovertemplate\":\"Pays champion=%{x}<br>Nombre de victoires=%{y}<extra></extra>\",\"legendgroup\":\"Egypt\",\"marker\":{\"color\":\"#636efa\",\"pattern\":{\"shape\":\"\"}},\"name\":\"Egypt\",\"offsetgroup\":\"Egypt\",\"orientation\":\"v\",\"showlegend\":true,\"textposition\":\"auto\",\"x\":[\"Egypt\"],\"xaxis\":\"x\",\"y\":[3],\"yaxis\":\"y\",\"type\":\"bar\"},{\"alignmentgroup\":\"True\",\"hovertemplate\":\"Pays champion=%{x}<br>Nombre de victoires=%{y}<extra></extra>\",\"legendgroup\":\"Algeria\",\"marker\":{\"color\":\"#EF553B\",\"pattern\":{\"shape\":\"\"}},\"name\":\"Algeria\",\"offsetgroup\":\"Algeria\",\"orientation\":\"v\",\"showlegend\":true,\"textposition\":\"auto\",\"x\":[\"Algeria\"],\"xaxis\":\"x\",\"y\":[2],\"yaxis\":\"y\",\"type\":\"bar\"},{\"alignmentgroup\":\"True\",\"hovertemplate\":\"Pays champion=%{x}<br>Nombre de victoires=%{y}<extra></extra>\",\"legendgroup\":\"Ghana\",\"marker\":{\"color\":\"#00cc96\",\"pattern\":{\"shape\":\"\"}},\"name\":\"Ghana\",\"offsetgroup\":\"Ghana\",\"orientation\":\"v\",\"showlegend\":true,\"textposition\":\"auto\",\"x\":[\"Ghana\"],\"xaxis\":\"x\",\"y\":[2],\"yaxis\":\"y\",\"type\":\"bar\"},{\"alignmentgroup\":\"True\",\"hovertemplate\":\"Pays champion=%{x}<br>Nombre de victoires=%{y}<extra></extra>\",\"legendgroup\":\"Cameroon\",\"marker\":{\"color\":\"#ab63fa\",\"pattern\":{\"shape\":\"\"}},\"name\":\"Cameroon\",\"offsetgroup\":\"Cameroon\",\"orientation\":\"v\",\"showlegend\":true,\"textposition\":\"auto\",\"x\":[\"Cameroon\"],\"xaxis\":\"x\",\"y\":[1],\"yaxis\":\"y\",\"type\":\"bar\"},{\"alignmentgroup\":\"True\",\"hovertemplate\":\"Pays champion=%{x}<br>Nombre de victoires=%{y}<extra></extra>\",\"legendgroup\":\"Congo\",\"marker\":{\"color\":\"#FFA15A\",\"pattern\":{\"shape\":\"\"}},\"name\":\"Congo\",\"offsetgroup\":\"Congo\",\"orientation\":\"v\",\"showlegend\":true,\"textposition\":\"auto\",\"x\":[\"Congo\"],\"xaxis\":\"x\",\"y\":[1],\"yaxis\":\"y\",\"type\":\"bar\"},{\"alignmentgroup\":\"True\",\"hovertemplate\":\"Pays champion=%{x}<br>Nombre de victoires=%{y}<extra></extra>\",\"legendgroup\":\"Ethiopia\",\"marker\":{\"color\":\"#19d3f3\",\"pattern\":{\"shape\":\"\"}},\"name\":\"Ethiopia\",\"offsetgroup\":\"Ethiopia\",\"orientation\":\"v\",\"showlegend\":true,\"textposition\":\"auto\",\"x\":[\"Ethiopia\"],\"xaxis\":\"x\",\"y\":[1],\"yaxis\":\"y\",\"type\":\"bar\"},{\"alignmentgroup\":\"True\",\"hovertemplate\":\"Pays champion=%{x}<br>Nombre de victoires=%{y}<extra></extra>\",\"legendgroup\":\"Ivory Coast\",\"marker\":{\"color\":\"#FF6692\",\"pattern\":{\"shape\":\"\"}},\"name\":\"Ivory Coast\",\"offsetgroup\":\"Ivory Coast\",\"orientation\":\"v\",\"showlegend\":true,\"textposition\":\"auto\",\"x\":[\"Ivory Coast\"],\"xaxis\":\"x\",\"y\":[1],\"yaxis\":\"y\",\"type\":\"bar\"},{\"alignmentgroup\":\"True\",\"hovertemplate\":\"Pays champion=%{x}<br>Nombre de victoires=%{y}<extra></extra>\",\"legendgroup\":\"Nigeria\",\"marker\":{\"color\":\"#B6E880\",\"pattern\":{\"shape\":\"\"}},\"name\":\"Nigeria\",\"offsetgroup\":\"Nigeria\",\"orientation\":\"v\",\"showlegend\":true,\"textposition\":\"auto\",\"x\":[\"Nigeria\"],\"xaxis\":\"x\",\"y\":[1],\"yaxis\":\"y\",\"type\":\"bar\"},{\"alignmentgroup\":\"True\",\"hovertemplate\":\"Pays champion=%{x}<br>Nombre de victoires=%{y}<extra></extra>\",\"legendgroup\":\"South Africa\",\"marker\":{\"color\":\"#FF97FF\",\"pattern\":{\"shape\":\"\"}},\"name\":\"South Africa\",\"offsetgroup\":\"South Africa\",\"orientation\":\"v\",\"showlegend\":true,\"textposition\":\"auto\",\"x\":[\"South Africa\"],\"xaxis\":\"x\",\"y\":[1],\"yaxis\":\"y\",\"type\":\"bar\"},{\"alignmentgroup\":\"True\",\"hovertemplate\":\"Pays champion=%{x}<br>Nombre de victoires=%{y}<extra></extra>\",\"legendgroup\":\"Sudan\",\"marker\":{\"color\":\"#FECB52\",\"pattern\":{\"shape\":\"\"}},\"name\":\"Sudan\",\"offsetgroup\":\"Sudan\",\"orientation\":\"v\",\"showlegend\":true,\"textposition\":\"auto\",\"x\":[\"Sudan\"],\"xaxis\":\"x\",\"y\":[1],\"yaxis\":\"y\",\"type\":\"bar\"}],                        {\"template\":{\"data\":{\"histogram2dcontour\":[{\"type\":\"histogram2dcontour\",\"colorbar\":{\"outlinewidth\":0,\"ticks\":\"\"},\"colorscale\":[[0.0,\"#0d0887\"],[0.1111111111111111,\"#46039f\"],[0.2222222222222222,\"#7201a8\"],[0.3333333333333333,\"#9c179e\"],[0.4444444444444444,\"#bd3786\"],[0.5555555555555556,\"#d8576b\"],[0.6666666666666666,\"#ed7953\"],[0.7777777777777778,\"#fb9f3a\"],[0.8888888888888888,\"#fdca26\"],[1.0,\"#f0f921\"]]}],\"choropleth\":[{\"type\":\"choropleth\",\"colorbar\":{\"outlinewidth\":0,\"ticks\":\"\"}}],\"histogram2d\":[{\"type\":\"histogram2d\",\"colorbar\":{\"outlinewidth\":0,\"ticks\":\"\"},\"colorscale\":[[0.0,\"#0d0887\"],[0.1111111111111111,\"#46039f\"],[0.2222222222222222,\"#7201a8\"],[0.3333333333333333,\"#9c179e\"],[0.4444444444444444,\"#bd3786\"],[0.5555555555555556,\"#d8576b\"],[0.6666666666666666,\"#ed7953\"],[0.7777777777777778,\"#fb9f3a\"],[0.8888888888888888,\"#fdca26\"],[1.0,\"#f0f921\"]]}],\"heatmap\":[{\"type\":\"heatmap\",\"colorbar\":{\"outlinewidth\":0,\"ticks\":\"\"},\"colorscale\":[[0.0,\"#0d0887\"],[0.1111111111111111,\"#46039f\"],[0.2222222222222222,\"#7201a8\"],[0.3333333333333333,\"#9c179e\"],[0.4444444444444444,\"#bd3786\"],[0.5555555555555556,\"#d8576b\"],[0.6666666666666666,\"#ed7953\"],[0.7777777777777778,\"#fb9f3a\"],[0.8888888888888888,\"#fdca26\"],[1.0,\"#f0f921\"]]}],\"heatmapgl\":[{\"type\":\"heatmapgl\",\"colorbar\":{\"outlinewidth\":0,\"ticks\":\"\"},\"colorscale\":[[0.0,\"#0d0887\"],[0.1111111111111111,\"#46039f\"],[0.2222222222222222,\"#7201a8\"],[0.3333333333333333,\"#9c179e\"],[0.4444444444444444,\"#bd3786\"],[0.5555555555555556,\"#d8576b\"],[0.6666666666666666,\"#ed7953\"],[0.7777777777777778,\"#fb9f3a\"],[0.8888888888888888,\"#fdca26\"],[1.0,\"#f0f921\"]]}],\"contourcarpet\":[{\"type\":\"contourcarpet\",\"colorbar\":{\"outlinewidth\":0,\"ticks\":\"\"}}],\"contour\":[{\"type\":\"contour\",\"colorbar\":{\"outlinewidth\":0,\"ticks\":\"\"},\"colorscale\":[[0.0,\"#0d0887\"],[0.1111111111111111,\"#46039f\"],[0.2222222222222222,\"#7201a8\"],[0.3333333333333333,\"#9c179e\"],[0.4444444444444444,\"#bd3786\"],[0.5555555555555556,\"#d8576b\"],[0.6666666666666666,\"#ed7953\"],[0.7777777777777778,\"#fb9f3a\"],[0.8888888888888888,\"#fdca26\"],[1.0,\"#f0f921\"]]}],\"surface\":[{\"type\":\"surface\",\"colorbar\":{\"outlinewidth\":0,\"ticks\":\"\"},\"colorscale\":[[0.0,\"#0d0887\"],[0.1111111111111111,\"#46039f\"],[0.2222222222222222,\"#7201a8\"],[0.3333333333333333,\"#9c179e\"],[0.4444444444444444,\"#bd3786\"],[0.5555555555555556,\"#d8576b\"],[0.6666666666666666,\"#ed7953\"],[0.7777777777777778,\"#fb9f3a\"],[0.8888888888888888,\"#fdca26\"],[1.0,\"#f0f921\"]]}],\"mesh3d\":[{\"type\":\"mesh3d\",\"colorbar\":{\"outlinewidth\":0,\"ticks\":\"\"}}],\"scatter\":[{\"marker\":{\"line\":{\"color\":\"#283442\"}},\"type\":\"scatter\"}],\"parcoords\":[{\"type\":\"parcoords\",\"line\":{\"colorbar\":{\"outlinewidth\":0,\"ticks\":\"\"}}}],\"scatterpolargl\":[{\"type\":\"scatterpolargl\",\"marker\":{\"colorbar\":{\"outlinewidth\":0,\"ticks\":\"\"}}}],\"bar\":[{\"error_x\":{\"color\":\"#f2f5fa\"},\"error_y\":{\"color\":\"#f2f5fa\"},\"marker\":{\"line\":{\"color\":\"rgb(17,17,17)\",\"width\":0.5},\"pattern\":{\"fillmode\":\"overlay\",\"size\":10,\"solidity\":0.2}},\"type\":\"bar\"}],\"scattergeo\":[{\"type\":\"scattergeo\",\"marker\":{\"colorbar\":{\"outlinewidth\":0,\"ticks\":\"\"}}}],\"scatterpolar\":[{\"type\":\"scatterpolar\",\"marker\":{\"colorbar\":{\"outlinewidth\":0,\"ticks\":\"\"}}}],\"histogram\":[{\"marker\":{\"pattern\":{\"fillmode\":\"overlay\",\"size\":10,\"solidity\":0.2}},\"type\":\"histogram\"}],\"scattergl\":[{\"marker\":{\"line\":{\"color\":\"#283442\"}},\"type\":\"scattergl\"}],\"scatter3d\":[{\"type\":\"scatter3d\",\"line\":{\"colorbar\":{\"outlinewidth\":0,\"ticks\":\"\"}},\"marker\":{\"colorbar\":{\"outlinewidth\":0,\"ticks\":\"\"}}}],\"scattermapbox\":[{\"type\":\"scattermapbox\",\"marker\":{\"colorbar\":{\"outlinewidth\":0,\"ticks\":\"\"}}}],\"scatterternary\":[{\"type\":\"scatterternary\",\"marker\":{\"colorbar\":{\"outlinewidth\":0,\"ticks\":\"\"}}}],\"scattercarpet\":[{\"type\":\"scattercarpet\",\"marker\":{\"colorbar\":{\"outlinewidth\":0,\"ticks\":\"\"}}}],\"carpet\":[{\"aaxis\":{\"endlinecolor\":\"#A2B1C6\",\"gridcolor\":\"#506784\",\"linecolor\":\"#506784\",\"minorgridcolor\":\"#506784\",\"startlinecolor\":\"#A2B1C6\"},\"baxis\":{\"endlinecolor\":\"#A2B1C6\",\"gridcolor\":\"#506784\",\"linecolor\":\"#506784\",\"minorgridcolor\":\"#506784\",\"startlinecolor\":\"#A2B1C6\"},\"type\":\"carpet\"}],\"table\":[{\"cells\":{\"fill\":{\"color\":\"#506784\"},\"line\":{\"color\":\"rgb(17,17,17)\"}},\"header\":{\"fill\":{\"color\":\"#2a3f5f\"},\"line\":{\"color\":\"rgb(17,17,17)\"}},\"type\":\"table\"}],\"barpolar\":[{\"marker\":{\"line\":{\"color\":\"rgb(17,17,17)\",\"width\":0.5},\"pattern\":{\"fillmode\":\"overlay\",\"size\":10,\"solidity\":0.2}},\"type\":\"barpolar\"}],\"pie\":[{\"automargin\":true,\"type\":\"pie\"}]},\"layout\":{\"autotypenumbers\":\"strict\",\"colorway\":[\"#636efa\",\"#EF553B\",\"#00cc96\",\"#ab63fa\",\"#FFA15A\",\"#19d3f3\",\"#FF6692\",\"#B6E880\",\"#FF97FF\",\"#FECB52\"],\"font\":{\"color\":\"#f2f5fa\"},\"hovermode\":\"closest\",\"hoverlabel\":{\"align\":\"left\"},\"paper_bgcolor\":\"rgb(17,17,17)\",\"plot_bgcolor\":\"rgb(17,17,17)\",\"polar\":{\"bgcolor\":\"rgb(17,17,17)\",\"angularaxis\":{\"gridcolor\":\"#506784\",\"linecolor\":\"#506784\",\"ticks\":\"\"},\"radialaxis\":{\"gridcolor\":\"#506784\",\"linecolor\":\"#506784\",\"ticks\":\"\"}},\"ternary\":{\"bgcolor\":\"rgb(17,17,17)\",\"aaxis\":{\"gridcolor\":\"#506784\",\"linecolor\":\"#506784\",\"ticks\":\"\"},\"baxis\":{\"gridcolor\":\"#506784\",\"linecolor\":\"#506784\",\"ticks\":\"\"},\"caxis\":{\"gridcolor\":\"#506784\",\"linecolor\":\"#506784\",\"ticks\":\"\"}},\"coloraxis\":{\"colorbar\":{\"outlinewidth\":0,\"ticks\":\"\"}},\"colorscale\":{\"sequential\":[[0.0,\"#0d0887\"],[0.1111111111111111,\"#46039f\"],[0.2222222222222222,\"#7201a8\"],[0.3333333333333333,\"#9c179e\"],[0.4444444444444444,\"#bd3786\"],[0.5555555555555556,\"#d8576b\"],[0.6666666666666666,\"#ed7953\"],[0.7777777777777778,\"#fb9f3a\"],[0.8888888888888888,\"#fdca26\"],[1.0,\"#f0f921\"]],\"sequentialminus\":[[0.0,\"#0d0887\"],[0.1111111111111111,\"#46039f\"],[0.2222222222222222,\"#7201a8\"],[0.3333333333333333,\"#9c179e\"],[0.4444444444444444,\"#bd3786\"],[0.5555555555555556,\"#d8576b\"],[0.6666666666666666,\"#ed7953\"],[0.7777777777777778,\"#fb9f3a\"],[0.8888888888888888,\"#fdca26\"],[1.0,\"#f0f921\"]],\"diverging\":[[0,\"#8e0152\"],[0.1,\"#c51b7d\"],[0.2,\"#de77ae\"],[0.3,\"#f1b6da\"],[0.4,\"#fde0ef\"],[0.5,\"#f7f7f7\"],[0.6,\"#e6f5d0\"],[0.7,\"#b8e186\"],[0.8,\"#7fbc41\"],[0.9,\"#4d9221\"],[1,\"#276419\"]]},\"xaxis\":{\"gridcolor\":\"#283442\",\"linecolor\":\"#506784\",\"ticks\":\"\",\"title\":{\"standoff\":15},\"zerolinecolor\":\"#283442\",\"automargin\":true,\"zerolinewidth\":2},\"yaxis\":{\"gridcolor\":\"#283442\",\"linecolor\":\"#506784\",\"ticks\":\"\",\"title\":{\"standoff\":15},\"zerolinecolor\":\"#283442\",\"automargin\":true,\"zerolinewidth\":2},\"scene\":{\"xaxis\":{\"backgroundcolor\":\"rgb(17,17,17)\",\"gridcolor\":\"#506784\",\"linecolor\":\"#506784\",\"showbackground\":true,\"ticks\":\"\",\"zerolinecolor\":\"#C8D4E3\",\"gridwidth\":2},\"yaxis\":{\"backgroundcolor\":\"rgb(17,17,17)\",\"gridcolor\":\"#506784\",\"linecolor\":\"#506784\",\"showbackground\":true,\"ticks\":\"\",\"zerolinecolor\":\"#C8D4E3\",\"gridwidth\":2},\"zaxis\":{\"backgroundcolor\":\"rgb(17,17,17)\",\"gridcolor\":\"#506784\",\"linecolor\":\"#506784\",\"showbackground\":true,\"ticks\":\"\",\"zerolinecolor\":\"#C8D4E3\",\"gridwidth\":2}},\"shapedefaults\":{\"line\":{\"color\":\"#f2f5fa\"}},\"annotationdefaults\":{\"arrowcolor\":\"#f2f5fa\",\"arrowhead\":0,\"arrowwidth\":1},\"geo\":{\"bgcolor\":\"rgb(17,17,17)\",\"landcolor\":\"rgb(17,17,17)\",\"subunitcolor\":\"#506784\",\"showland\":true,\"showlakes\":true,\"lakecolor\":\"rgb(17,17,17)\"},\"title\":{\"x\":0.05},\"updatemenudefaults\":{\"bgcolor\":\"#506784\",\"borderwidth\":0},\"sliderdefaults\":{\"bgcolor\":\"#C8D4E3\",\"borderwidth\":1,\"bordercolor\":\"rgb(17,17,17)\",\"tickwidth\":0},\"mapbox\":{\"style\":\"dark\"}}},\"xaxis\":{\"anchor\":\"y\",\"domain\":[0.0,1.0],\"title\":{\"text\":\"Pays champion\"},\"categoryorder\":\"array\",\"categoryarray\":[\"Egypt\",\"Algeria\",\"Ghana\",\"Cameroon\",\"Congo\",\"Ethiopia\",\"Ivory Coast\",\"Nigeria\",\"South Africa\",\"Sudan\"]},\"yaxis\":{\"anchor\":\"x\",\"domain\":[0.0,1.0],\"title\":{\"text\":\"Nombre de victoires\"}},\"legend\":{\"title\":{\"text\":\"Pays champion\"},\"tracegroupgap\":0},\"title\":{\"text\":\"Nombre de victoires des pays champions dans la m\\u00eame r\\u00e9gion que l'organisateur\"},\"barmode\":\"relative\"},                        {\"responsive\": true}                    ).then(function(){\n                            \nvar gd = document.getElementById('b57078d7-76f3-43c1-afcd-c04a1670788c');\nvar x = new MutationObserver(function (mutations, observer) {{\n        var display = window.getComputedStyle(gd).display;\n        if (!display || display === 'none') {{\n            console.log([gd, 'removed!']);\n            Plotly.purge(gd);\n            observer.disconnect();\n        }}\n}});\n\n// Listen for the removal of the full notebook cells\nvar notebookContainer = gd.closest('#notebook-container');\nif (notebookContainer) {{\n    x.observe(notebookContainer, {childList: true});\n}}\n\n// Listen for the clearing of the current output cell\nvar outputEl = gd.closest('.output');\nif (outputEl) {{\n    x.observe(outputEl, {childList: true});\n}}\n\n                        })                };                });            </script>        </div>"
     },
     "metadata": {},
     "output_type": "display_data"
    }
   ],
   "source": [
    "# Ajoutons une colonne indiquant si le pays champion est de la même région que l'organisateur\n",
    "df_stats['SameRegionWinner'] = df_stats['HostRegion'] == df_stats['ChampionRegion']\n",
    "\n",
    "# Créons un DataFrame avec le décompte des victoires par pays champion dans la même région que l'organisateur\n",
    "same_region_wins_count = df_stats[df_stats['SameRegionWinner']].groupby('Champion').size().reset_index(name='Wins')\n",
    "\n",
    "data = same_region_wins_count.sort_values(by='Wins', ascending=False).head(10)\n",
    "\n",
    "# Crée un diagramme à barres empilées\n",
    "fig = px.bar(data, x='Champion', y='Wins', color='Champion',\n",
    "             title='Nombre de victoires des pays champions dans la même région que l\\'organisateur',\n",
    "             labels={'Champion': 'Pays champion', 'Wins': 'Nombre de victoires'})\n",
    "\n",
    "fig.show()"
   ],
   "metadata": {
    "collapsed": false,
    "ExecuteTime": {
     "end_time": "2024-01-03T18:13:56.739288600Z",
     "start_time": "2024-01-03T18:13:56.525097100Z"
    }
   },
   "id": "b6f60f8ca74958f0",
   "execution_count": 153
  },
  {
   "cell_type": "code",
   "outputs": [
    {
     "data": {
      "application/vnd.plotly.v1+json": {
       "data": [
        {
         "alignmentgroup": "True",
         "hovertemplate": "Sous-confédération=%{x}<br>Nombre de victoires=%{y}<extra></extra>",
         "legendgroup": "UNAF",
         "marker": {
          "color": "#636efa",
          "pattern": {
           "shape": ""
          }
         },
         "name": "UNAF",
         "offsetgroup": "UNAF",
         "orientation": "v",
         "showlegend": true,
         "textposition": "auto",
         "x": [
          "UNAF"
         ],
         "xaxis": "x",
         "y": [
          6
         ],
         "yaxis": "y",
         "type": "bar"
        },
        {
         "alignmentgroup": "True",
         "hovertemplate": "Sous-confédération=%{x}<br>Nombre de victoires=%{y}<extra></extra>",
         "legendgroup": "UFOA",
         "marker": {
          "color": "#EF553B",
          "pattern": {
           "shape": ""
          }
         },
         "name": "UFOA",
         "offsetgroup": "UFOA",
         "orientation": "v",
         "showlegend": true,
         "textposition": "auto",
         "x": [
          "UFOA"
         ],
         "xaxis": "x",
         "y": [
          4
         ],
         "yaxis": "y",
         "type": "bar"
        },
        {
         "alignmentgroup": "True",
         "hovertemplate": "Sous-confédération=%{x}<br>Nombre de victoires=%{y}<extra></extra>",
         "legendgroup": "CECAFA",
         "marker": {
          "color": "#00cc96",
          "pattern": {
           "shape": ""
          }
         },
         "name": "CECAFA",
         "offsetgroup": "CECAFA",
         "orientation": "v",
         "showlegend": true,
         "textposition": "auto",
         "x": [
          "CECAFA"
         ],
         "xaxis": "x",
         "y": [
          2
         ],
         "yaxis": "y",
         "type": "bar"
        },
        {
         "alignmentgroup": "True",
         "hovertemplate": "Sous-confédération=%{x}<br>Nombre de victoires=%{y}<extra></extra>",
         "legendgroup": "UNIFFAC",
         "marker": {
          "color": "#ab63fa",
          "pattern": {
           "shape": ""
          }
         },
         "name": "UNIFFAC",
         "offsetgroup": "UNIFFAC",
         "orientation": "v",
         "showlegend": true,
         "textposition": "auto",
         "x": [
          "UNIFFAC"
         ],
         "xaxis": "x",
         "y": [
          2
         ],
         "yaxis": "y",
         "type": "bar"
        },
        {
         "alignmentgroup": "True",
         "hovertemplate": "Sous-confédération=%{x}<br>Nombre de victoires=%{y}<extra></extra>",
         "legendgroup": "COSAFA",
         "marker": {
          "color": "#FFA15A",
          "pattern": {
           "shape": ""
          }
         },
         "name": "COSAFA",
         "offsetgroup": "COSAFA",
         "orientation": "v",
         "showlegend": true,
         "textposition": "auto",
         "x": [
          "COSAFA"
         ],
         "xaxis": "x",
         "y": [
          1
         ],
         "yaxis": "y",
         "type": "bar"
        }
       ],
       "layout": {
        "template": {
         "data": {
          "histogram2dcontour": [
           {
            "type": "histogram2dcontour",
            "colorbar": {
             "outlinewidth": 0,
             "ticks": ""
            },
            "colorscale": [
             [
              0.0,
              "#0d0887"
             ],
             [
              0.1111111111111111,
              "#46039f"
             ],
             [
              0.2222222222222222,
              "#7201a8"
             ],
             [
              0.3333333333333333,
              "#9c179e"
             ],
             [
              0.4444444444444444,
              "#bd3786"
             ],
             [
              0.5555555555555556,
              "#d8576b"
             ],
             [
              0.6666666666666666,
              "#ed7953"
             ],
             [
              0.7777777777777778,
              "#fb9f3a"
             ],
             [
              0.8888888888888888,
              "#fdca26"
             ],
             [
              1.0,
              "#f0f921"
             ]
            ]
           }
          ],
          "choropleth": [
           {
            "type": "choropleth",
            "colorbar": {
             "outlinewidth": 0,
             "ticks": ""
            }
           }
          ],
          "histogram2d": [
           {
            "type": "histogram2d",
            "colorbar": {
             "outlinewidth": 0,
             "ticks": ""
            },
            "colorscale": [
             [
              0.0,
              "#0d0887"
             ],
             [
              0.1111111111111111,
              "#46039f"
             ],
             [
              0.2222222222222222,
              "#7201a8"
             ],
             [
              0.3333333333333333,
              "#9c179e"
             ],
             [
              0.4444444444444444,
              "#bd3786"
             ],
             [
              0.5555555555555556,
              "#d8576b"
             ],
             [
              0.6666666666666666,
              "#ed7953"
             ],
             [
              0.7777777777777778,
              "#fb9f3a"
             ],
             [
              0.8888888888888888,
              "#fdca26"
             ],
             [
              1.0,
              "#f0f921"
             ]
            ]
           }
          ],
          "heatmap": [
           {
            "type": "heatmap",
            "colorbar": {
             "outlinewidth": 0,
             "ticks": ""
            },
            "colorscale": [
             [
              0.0,
              "#0d0887"
             ],
             [
              0.1111111111111111,
              "#46039f"
             ],
             [
              0.2222222222222222,
              "#7201a8"
             ],
             [
              0.3333333333333333,
              "#9c179e"
             ],
             [
              0.4444444444444444,
              "#bd3786"
             ],
             [
              0.5555555555555556,
              "#d8576b"
             ],
             [
              0.6666666666666666,
              "#ed7953"
             ],
             [
              0.7777777777777778,
              "#fb9f3a"
             ],
             [
              0.8888888888888888,
              "#fdca26"
             ],
             [
              1.0,
              "#f0f921"
             ]
            ]
           }
          ],
          "heatmapgl": [
           {
            "type": "heatmapgl",
            "colorbar": {
             "outlinewidth": 0,
             "ticks": ""
            },
            "colorscale": [
             [
              0.0,
              "#0d0887"
             ],
             [
              0.1111111111111111,
              "#46039f"
             ],
             [
              0.2222222222222222,
              "#7201a8"
             ],
             [
              0.3333333333333333,
              "#9c179e"
             ],
             [
              0.4444444444444444,
              "#bd3786"
             ],
             [
              0.5555555555555556,
              "#d8576b"
             ],
             [
              0.6666666666666666,
              "#ed7953"
             ],
             [
              0.7777777777777778,
              "#fb9f3a"
             ],
             [
              0.8888888888888888,
              "#fdca26"
             ],
             [
              1.0,
              "#f0f921"
             ]
            ]
           }
          ],
          "contourcarpet": [
           {
            "type": "contourcarpet",
            "colorbar": {
             "outlinewidth": 0,
             "ticks": ""
            }
           }
          ],
          "contour": [
           {
            "type": "contour",
            "colorbar": {
             "outlinewidth": 0,
             "ticks": ""
            },
            "colorscale": [
             [
              0.0,
              "#0d0887"
             ],
             [
              0.1111111111111111,
              "#46039f"
             ],
             [
              0.2222222222222222,
              "#7201a8"
             ],
             [
              0.3333333333333333,
              "#9c179e"
             ],
             [
              0.4444444444444444,
              "#bd3786"
             ],
             [
              0.5555555555555556,
              "#d8576b"
             ],
             [
              0.6666666666666666,
              "#ed7953"
             ],
             [
              0.7777777777777778,
              "#fb9f3a"
             ],
             [
              0.8888888888888888,
              "#fdca26"
             ],
             [
              1.0,
              "#f0f921"
             ]
            ]
           }
          ],
          "surface": [
           {
            "type": "surface",
            "colorbar": {
             "outlinewidth": 0,
             "ticks": ""
            },
            "colorscale": [
             [
              0.0,
              "#0d0887"
             ],
             [
              0.1111111111111111,
              "#46039f"
             ],
             [
              0.2222222222222222,
              "#7201a8"
             ],
             [
              0.3333333333333333,
              "#9c179e"
             ],
             [
              0.4444444444444444,
              "#bd3786"
             ],
             [
              0.5555555555555556,
              "#d8576b"
             ],
             [
              0.6666666666666666,
              "#ed7953"
             ],
             [
              0.7777777777777778,
              "#fb9f3a"
             ],
             [
              0.8888888888888888,
              "#fdca26"
             ],
             [
              1.0,
              "#f0f921"
             ]
            ]
           }
          ],
          "mesh3d": [
           {
            "type": "mesh3d",
            "colorbar": {
             "outlinewidth": 0,
             "ticks": ""
            }
           }
          ],
          "scatter": [
           {
            "marker": {
             "line": {
              "color": "#283442"
             }
            },
            "type": "scatter"
           }
          ],
          "parcoords": [
           {
            "type": "parcoords",
            "line": {
             "colorbar": {
              "outlinewidth": 0,
              "ticks": ""
             }
            }
           }
          ],
          "scatterpolargl": [
           {
            "type": "scatterpolargl",
            "marker": {
             "colorbar": {
              "outlinewidth": 0,
              "ticks": ""
             }
            }
           }
          ],
          "bar": [
           {
            "error_x": {
             "color": "#f2f5fa"
            },
            "error_y": {
             "color": "#f2f5fa"
            },
            "marker": {
             "line": {
              "color": "rgb(17,17,17)",
              "width": 0.5
             },
             "pattern": {
              "fillmode": "overlay",
              "size": 10,
              "solidity": 0.2
             }
            },
            "type": "bar"
           }
          ],
          "scattergeo": [
           {
            "type": "scattergeo",
            "marker": {
             "colorbar": {
              "outlinewidth": 0,
              "ticks": ""
             }
            }
           }
          ],
          "scatterpolar": [
           {
            "type": "scatterpolar",
            "marker": {
             "colorbar": {
              "outlinewidth": 0,
              "ticks": ""
             }
            }
           }
          ],
          "histogram": [
           {
            "marker": {
             "pattern": {
              "fillmode": "overlay",
              "size": 10,
              "solidity": 0.2
             }
            },
            "type": "histogram"
           }
          ],
          "scattergl": [
           {
            "marker": {
             "line": {
              "color": "#283442"
             }
            },
            "type": "scattergl"
           }
          ],
          "scatter3d": [
           {
            "type": "scatter3d",
            "line": {
             "colorbar": {
              "outlinewidth": 0,
              "ticks": ""
             }
            },
            "marker": {
             "colorbar": {
              "outlinewidth": 0,
              "ticks": ""
             }
            }
           }
          ],
          "scattermapbox": [
           {
            "type": "scattermapbox",
            "marker": {
             "colorbar": {
              "outlinewidth": 0,
              "ticks": ""
             }
            }
           }
          ],
          "scatterternary": [
           {
            "type": "scatterternary",
            "marker": {
             "colorbar": {
              "outlinewidth": 0,
              "ticks": ""
             }
            }
           }
          ],
          "scattercarpet": [
           {
            "type": "scattercarpet",
            "marker": {
             "colorbar": {
              "outlinewidth": 0,
              "ticks": ""
             }
            }
           }
          ],
          "carpet": [
           {
            "aaxis": {
             "endlinecolor": "#A2B1C6",
             "gridcolor": "#506784",
             "linecolor": "#506784",
             "minorgridcolor": "#506784",
             "startlinecolor": "#A2B1C6"
            },
            "baxis": {
             "endlinecolor": "#A2B1C6",
             "gridcolor": "#506784",
             "linecolor": "#506784",
             "minorgridcolor": "#506784",
             "startlinecolor": "#A2B1C6"
            },
            "type": "carpet"
           }
          ],
          "table": [
           {
            "cells": {
             "fill": {
              "color": "#506784"
             },
             "line": {
              "color": "rgb(17,17,17)"
             }
            },
            "header": {
             "fill": {
              "color": "#2a3f5f"
             },
             "line": {
              "color": "rgb(17,17,17)"
             }
            },
            "type": "table"
           }
          ],
          "barpolar": [
           {
            "marker": {
             "line": {
              "color": "rgb(17,17,17)",
              "width": 0.5
             },
             "pattern": {
              "fillmode": "overlay",
              "size": 10,
              "solidity": 0.2
             }
            },
            "type": "barpolar"
           }
          ],
          "pie": [
           {
            "automargin": true,
            "type": "pie"
           }
          ]
         },
         "layout": {
          "autotypenumbers": "strict",
          "colorway": [
           "#636efa",
           "#EF553B",
           "#00cc96",
           "#ab63fa",
           "#FFA15A",
           "#19d3f3",
           "#FF6692",
           "#B6E880",
           "#FF97FF",
           "#FECB52"
          ],
          "font": {
           "color": "#f2f5fa"
          },
          "hovermode": "closest",
          "hoverlabel": {
           "align": "left"
          },
          "paper_bgcolor": "rgb(17,17,17)",
          "plot_bgcolor": "rgb(17,17,17)",
          "polar": {
           "bgcolor": "rgb(17,17,17)",
           "angularaxis": {
            "gridcolor": "#506784",
            "linecolor": "#506784",
            "ticks": ""
           },
           "radialaxis": {
            "gridcolor": "#506784",
            "linecolor": "#506784",
            "ticks": ""
           }
          },
          "ternary": {
           "bgcolor": "rgb(17,17,17)",
           "aaxis": {
            "gridcolor": "#506784",
            "linecolor": "#506784",
            "ticks": ""
           },
           "baxis": {
            "gridcolor": "#506784",
            "linecolor": "#506784",
            "ticks": ""
           },
           "caxis": {
            "gridcolor": "#506784",
            "linecolor": "#506784",
            "ticks": ""
           }
          },
          "coloraxis": {
           "colorbar": {
            "outlinewidth": 0,
            "ticks": ""
           }
          },
          "colorscale": {
           "sequential": [
            [
             0.0,
             "#0d0887"
            ],
            [
             0.1111111111111111,
             "#46039f"
            ],
            [
             0.2222222222222222,
             "#7201a8"
            ],
            [
             0.3333333333333333,
             "#9c179e"
            ],
            [
             0.4444444444444444,
             "#bd3786"
            ],
            [
             0.5555555555555556,
             "#d8576b"
            ],
            [
             0.6666666666666666,
             "#ed7953"
            ],
            [
             0.7777777777777778,
             "#fb9f3a"
            ],
            [
             0.8888888888888888,
             "#fdca26"
            ],
            [
             1.0,
             "#f0f921"
            ]
           ],
           "sequentialminus": [
            [
             0.0,
             "#0d0887"
            ],
            [
             0.1111111111111111,
             "#46039f"
            ],
            [
             0.2222222222222222,
             "#7201a8"
            ],
            [
             0.3333333333333333,
             "#9c179e"
            ],
            [
             0.4444444444444444,
             "#bd3786"
            ],
            [
             0.5555555555555556,
             "#d8576b"
            ],
            [
             0.6666666666666666,
             "#ed7953"
            ],
            [
             0.7777777777777778,
             "#fb9f3a"
            ],
            [
             0.8888888888888888,
             "#fdca26"
            ],
            [
             1.0,
             "#f0f921"
            ]
           ],
           "diverging": [
            [
             0,
             "#8e0152"
            ],
            [
             0.1,
             "#c51b7d"
            ],
            [
             0.2,
             "#de77ae"
            ],
            [
             0.3,
             "#f1b6da"
            ],
            [
             0.4,
             "#fde0ef"
            ],
            [
             0.5,
             "#f7f7f7"
            ],
            [
             0.6,
             "#e6f5d0"
            ],
            [
             0.7,
             "#b8e186"
            ],
            [
             0.8,
             "#7fbc41"
            ],
            [
             0.9,
             "#4d9221"
            ],
            [
             1,
             "#276419"
            ]
           ]
          },
          "xaxis": {
           "gridcolor": "#283442",
           "linecolor": "#506784",
           "ticks": "",
           "title": {
            "standoff": 15
           },
           "zerolinecolor": "#283442",
           "automargin": true,
           "zerolinewidth": 2
          },
          "yaxis": {
           "gridcolor": "#283442",
           "linecolor": "#506784",
           "ticks": "",
           "title": {
            "standoff": 15
           },
           "zerolinecolor": "#283442",
           "automargin": true,
           "zerolinewidth": 2
          },
          "scene": {
           "xaxis": {
            "backgroundcolor": "rgb(17,17,17)",
            "gridcolor": "#506784",
            "linecolor": "#506784",
            "showbackground": true,
            "ticks": "",
            "zerolinecolor": "#C8D4E3",
            "gridwidth": 2
           },
           "yaxis": {
            "backgroundcolor": "rgb(17,17,17)",
            "gridcolor": "#506784",
            "linecolor": "#506784",
            "showbackground": true,
            "ticks": "",
            "zerolinecolor": "#C8D4E3",
            "gridwidth": 2
           },
           "zaxis": {
            "backgroundcolor": "rgb(17,17,17)",
            "gridcolor": "#506784",
            "linecolor": "#506784",
            "showbackground": true,
            "ticks": "",
            "zerolinecolor": "#C8D4E3",
            "gridwidth": 2
           }
          },
          "shapedefaults": {
           "line": {
            "color": "#f2f5fa"
           }
          },
          "annotationdefaults": {
           "arrowcolor": "#f2f5fa",
           "arrowhead": 0,
           "arrowwidth": 1
          },
          "geo": {
           "bgcolor": "rgb(17,17,17)",
           "landcolor": "rgb(17,17,17)",
           "subunitcolor": "#506784",
           "showland": true,
           "showlakes": true,
           "lakecolor": "rgb(17,17,17)"
          },
          "title": {
           "x": 0.05
          },
          "updatemenudefaults": {
           "bgcolor": "#506784",
           "borderwidth": 0
          },
          "sliderdefaults": {
           "bgcolor": "#C8D4E3",
           "borderwidth": 1,
           "bordercolor": "rgb(17,17,17)",
           "tickwidth": 0
          },
          "mapbox": {
           "style": "dark"
          }
         }
        },
        "xaxis": {
         "anchor": "y",
         "domain": [
          0.0,
          1.0
         ],
         "title": {
          "text": "Sous-confédération"
         },
         "categoryorder": "array",
         "categoryarray": [
          "UNAF",
          "UFOA",
          "CECAFA",
          "UNIFFAC",
          "COSAFA"
         ]
        },
        "yaxis": {
         "anchor": "x",
         "domain": [
          0.0,
          1.0
         ],
         "title": {
          "text": "Nombre de victoires"
         }
        },
        "legend": {
         "title": {
          "text": "Sous-confédération"
         },
         "tracegroupgap": 0
        },
        "title": {
         "text": "Nombre de victoires (groupées) des pays champions dans la même sous-confédération que l'organisateur"
        },
        "barmode": "relative"
       },
       "config": {
        "plotlyServerURL": "https://plot.ly"
       }
      },
      "text/html": "<div>                            <div id=\"d8abb560-68fd-4d36-b2ef-5ec688e86e32\" class=\"plotly-graph-div\" style=\"height:525px; width:100%;\"></div>            <script type=\"text/javascript\">                require([\"plotly\"], function(Plotly) {                    window.PLOTLYENV=window.PLOTLYENV || {};                                    if (document.getElementById(\"d8abb560-68fd-4d36-b2ef-5ec688e86e32\")) {                    Plotly.newPlot(                        \"d8abb560-68fd-4d36-b2ef-5ec688e86e32\",                        [{\"alignmentgroup\":\"True\",\"hovertemplate\":\"Sous-conf\\u00e9d\\u00e9ration=%{x}<br>Nombre de victoires=%{y}<extra></extra>\",\"legendgroup\":\"UNAF\",\"marker\":{\"color\":\"#636efa\",\"pattern\":{\"shape\":\"\"}},\"name\":\"UNAF\",\"offsetgroup\":\"UNAF\",\"orientation\":\"v\",\"showlegend\":true,\"textposition\":\"auto\",\"x\":[\"UNAF\"],\"xaxis\":\"x\",\"y\":[6],\"yaxis\":\"y\",\"type\":\"bar\"},{\"alignmentgroup\":\"True\",\"hovertemplate\":\"Sous-conf\\u00e9d\\u00e9ration=%{x}<br>Nombre de victoires=%{y}<extra></extra>\",\"legendgroup\":\"UFOA\",\"marker\":{\"color\":\"#EF553B\",\"pattern\":{\"shape\":\"\"}},\"name\":\"UFOA\",\"offsetgroup\":\"UFOA\",\"orientation\":\"v\",\"showlegend\":true,\"textposition\":\"auto\",\"x\":[\"UFOA\"],\"xaxis\":\"x\",\"y\":[4],\"yaxis\":\"y\",\"type\":\"bar\"},{\"alignmentgroup\":\"True\",\"hovertemplate\":\"Sous-conf\\u00e9d\\u00e9ration=%{x}<br>Nombre de victoires=%{y}<extra></extra>\",\"legendgroup\":\"CECAFA\",\"marker\":{\"color\":\"#00cc96\",\"pattern\":{\"shape\":\"\"}},\"name\":\"CECAFA\",\"offsetgroup\":\"CECAFA\",\"orientation\":\"v\",\"showlegend\":true,\"textposition\":\"auto\",\"x\":[\"CECAFA\"],\"xaxis\":\"x\",\"y\":[2],\"yaxis\":\"y\",\"type\":\"bar\"},{\"alignmentgroup\":\"True\",\"hovertemplate\":\"Sous-conf\\u00e9d\\u00e9ration=%{x}<br>Nombre de victoires=%{y}<extra></extra>\",\"legendgroup\":\"UNIFFAC\",\"marker\":{\"color\":\"#ab63fa\",\"pattern\":{\"shape\":\"\"}},\"name\":\"UNIFFAC\",\"offsetgroup\":\"UNIFFAC\",\"orientation\":\"v\",\"showlegend\":true,\"textposition\":\"auto\",\"x\":[\"UNIFFAC\"],\"xaxis\":\"x\",\"y\":[2],\"yaxis\":\"y\",\"type\":\"bar\"},{\"alignmentgroup\":\"True\",\"hovertemplate\":\"Sous-conf\\u00e9d\\u00e9ration=%{x}<br>Nombre de victoires=%{y}<extra></extra>\",\"legendgroup\":\"COSAFA\",\"marker\":{\"color\":\"#FFA15A\",\"pattern\":{\"shape\":\"\"}},\"name\":\"COSAFA\",\"offsetgroup\":\"COSAFA\",\"orientation\":\"v\",\"showlegend\":true,\"textposition\":\"auto\",\"x\":[\"COSAFA\"],\"xaxis\":\"x\",\"y\":[1],\"yaxis\":\"y\",\"type\":\"bar\"}],                        {\"template\":{\"data\":{\"histogram2dcontour\":[{\"type\":\"histogram2dcontour\",\"colorbar\":{\"outlinewidth\":0,\"ticks\":\"\"},\"colorscale\":[[0.0,\"#0d0887\"],[0.1111111111111111,\"#46039f\"],[0.2222222222222222,\"#7201a8\"],[0.3333333333333333,\"#9c179e\"],[0.4444444444444444,\"#bd3786\"],[0.5555555555555556,\"#d8576b\"],[0.6666666666666666,\"#ed7953\"],[0.7777777777777778,\"#fb9f3a\"],[0.8888888888888888,\"#fdca26\"],[1.0,\"#f0f921\"]]}],\"choropleth\":[{\"type\":\"choropleth\",\"colorbar\":{\"outlinewidth\":0,\"ticks\":\"\"}}],\"histogram2d\":[{\"type\":\"histogram2d\",\"colorbar\":{\"outlinewidth\":0,\"ticks\":\"\"},\"colorscale\":[[0.0,\"#0d0887\"],[0.1111111111111111,\"#46039f\"],[0.2222222222222222,\"#7201a8\"],[0.3333333333333333,\"#9c179e\"],[0.4444444444444444,\"#bd3786\"],[0.5555555555555556,\"#d8576b\"],[0.6666666666666666,\"#ed7953\"],[0.7777777777777778,\"#fb9f3a\"],[0.8888888888888888,\"#fdca26\"],[1.0,\"#f0f921\"]]}],\"heatmap\":[{\"type\":\"heatmap\",\"colorbar\":{\"outlinewidth\":0,\"ticks\":\"\"},\"colorscale\":[[0.0,\"#0d0887\"],[0.1111111111111111,\"#46039f\"],[0.2222222222222222,\"#7201a8\"],[0.3333333333333333,\"#9c179e\"],[0.4444444444444444,\"#bd3786\"],[0.5555555555555556,\"#d8576b\"],[0.6666666666666666,\"#ed7953\"],[0.7777777777777778,\"#fb9f3a\"],[0.8888888888888888,\"#fdca26\"],[1.0,\"#f0f921\"]]}],\"heatmapgl\":[{\"type\":\"heatmapgl\",\"colorbar\":{\"outlinewidth\":0,\"ticks\":\"\"},\"colorscale\":[[0.0,\"#0d0887\"],[0.1111111111111111,\"#46039f\"],[0.2222222222222222,\"#7201a8\"],[0.3333333333333333,\"#9c179e\"],[0.4444444444444444,\"#bd3786\"],[0.5555555555555556,\"#d8576b\"],[0.6666666666666666,\"#ed7953\"],[0.7777777777777778,\"#fb9f3a\"],[0.8888888888888888,\"#fdca26\"],[1.0,\"#f0f921\"]]}],\"contourcarpet\":[{\"type\":\"contourcarpet\",\"colorbar\":{\"outlinewidth\":0,\"ticks\":\"\"}}],\"contour\":[{\"type\":\"contour\",\"colorbar\":{\"outlinewidth\":0,\"ticks\":\"\"},\"colorscale\":[[0.0,\"#0d0887\"],[0.1111111111111111,\"#46039f\"],[0.2222222222222222,\"#7201a8\"],[0.3333333333333333,\"#9c179e\"],[0.4444444444444444,\"#bd3786\"],[0.5555555555555556,\"#d8576b\"],[0.6666666666666666,\"#ed7953\"],[0.7777777777777778,\"#fb9f3a\"],[0.8888888888888888,\"#fdca26\"],[1.0,\"#f0f921\"]]}],\"surface\":[{\"type\":\"surface\",\"colorbar\":{\"outlinewidth\":0,\"ticks\":\"\"},\"colorscale\":[[0.0,\"#0d0887\"],[0.1111111111111111,\"#46039f\"],[0.2222222222222222,\"#7201a8\"],[0.3333333333333333,\"#9c179e\"],[0.4444444444444444,\"#bd3786\"],[0.5555555555555556,\"#d8576b\"],[0.6666666666666666,\"#ed7953\"],[0.7777777777777778,\"#fb9f3a\"],[0.8888888888888888,\"#fdca26\"],[1.0,\"#f0f921\"]]}],\"mesh3d\":[{\"type\":\"mesh3d\",\"colorbar\":{\"outlinewidth\":0,\"ticks\":\"\"}}],\"scatter\":[{\"marker\":{\"line\":{\"color\":\"#283442\"}},\"type\":\"scatter\"}],\"parcoords\":[{\"type\":\"parcoords\",\"line\":{\"colorbar\":{\"outlinewidth\":0,\"ticks\":\"\"}}}],\"scatterpolargl\":[{\"type\":\"scatterpolargl\",\"marker\":{\"colorbar\":{\"outlinewidth\":0,\"ticks\":\"\"}}}],\"bar\":[{\"error_x\":{\"color\":\"#f2f5fa\"},\"error_y\":{\"color\":\"#f2f5fa\"},\"marker\":{\"line\":{\"color\":\"rgb(17,17,17)\",\"width\":0.5},\"pattern\":{\"fillmode\":\"overlay\",\"size\":10,\"solidity\":0.2}},\"type\":\"bar\"}],\"scattergeo\":[{\"type\":\"scattergeo\",\"marker\":{\"colorbar\":{\"outlinewidth\":0,\"ticks\":\"\"}}}],\"scatterpolar\":[{\"type\":\"scatterpolar\",\"marker\":{\"colorbar\":{\"outlinewidth\":0,\"ticks\":\"\"}}}],\"histogram\":[{\"marker\":{\"pattern\":{\"fillmode\":\"overlay\",\"size\":10,\"solidity\":0.2}},\"type\":\"histogram\"}],\"scattergl\":[{\"marker\":{\"line\":{\"color\":\"#283442\"}},\"type\":\"scattergl\"}],\"scatter3d\":[{\"type\":\"scatter3d\",\"line\":{\"colorbar\":{\"outlinewidth\":0,\"ticks\":\"\"}},\"marker\":{\"colorbar\":{\"outlinewidth\":0,\"ticks\":\"\"}}}],\"scattermapbox\":[{\"type\":\"scattermapbox\",\"marker\":{\"colorbar\":{\"outlinewidth\":0,\"ticks\":\"\"}}}],\"scatterternary\":[{\"type\":\"scatterternary\",\"marker\":{\"colorbar\":{\"outlinewidth\":0,\"ticks\":\"\"}}}],\"scattercarpet\":[{\"type\":\"scattercarpet\",\"marker\":{\"colorbar\":{\"outlinewidth\":0,\"ticks\":\"\"}}}],\"carpet\":[{\"aaxis\":{\"endlinecolor\":\"#A2B1C6\",\"gridcolor\":\"#506784\",\"linecolor\":\"#506784\",\"minorgridcolor\":\"#506784\",\"startlinecolor\":\"#A2B1C6\"},\"baxis\":{\"endlinecolor\":\"#A2B1C6\",\"gridcolor\":\"#506784\",\"linecolor\":\"#506784\",\"minorgridcolor\":\"#506784\",\"startlinecolor\":\"#A2B1C6\"},\"type\":\"carpet\"}],\"table\":[{\"cells\":{\"fill\":{\"color\":\"#506784\"},\"line\":{\"color\":\"rgb(17,17,17)\"}},\"header\":{\"fill\":{\"color\":\"#2a3f5f\"},\"line\":{\"color\":\"rgb(17,17,17)\"}},\"type\":\"table\"}],\"barpolar\":[{\"marker\":{\"line\":{\"color\":\"rgb(17,17,17)\",\"width\":0.5},\"pattern\":{\"fillmode\":\"overlay\",\"size\":10,\"solidity\":0.2}},\"type\":\"barpolar\"}],\"pie\":[{\"automargin\":true,\"type\":\"pie\"}]},\"layout\":{\"autotypenumbers\":\"strict\",\"colorway\":[\"#636efa\",\"#EF553B\",\"#00cc96\",\"#ab63fa\",\"#FFA15A\",\"#19d3f3\",\"#FF6692\",\"#B6E880\",\"#FF97FF\",\"#FECB52\"],\"font\":{\"color\":\"#f2f5fa\"},\"hovermode\":\"closest\",\"hoverlabel\":{\"align\":\"left\"},\"paper_bgcolor\":\"rgb(17,17,17)\",\"plot_bgcolor\":\"rgb(17,17,17)\",\"polar\":{\"bgcolor\":\"rgb(17,17,17)\",\"angularaxis\":{\"gridcolor\":\"#506784\",\"linecolor\":\"#506784\",\"ticks\":\"\"},\"radialaxis\":{\"gridcolor\":\"#506784\",\"linecolor\":\"#506784\",\"ticks\":\"\"}},\"ternary\":{\"bgcolor\":\"rgb(17,17,17)\",\"aaxis\":{\"gridcolor\":\"#506784\",\"linecolor\":\"#506784\",\"ticks\":\"\"},\"baxis\":{\"gridcolor\":\"#506784\",\"linecolor\":\"#506784\",\"ticks\":\"\"},\"caxis\":{\"gridcolor\":\"#506784\",\"linecolor\":\"#506784\",\"ticks\":\"\"}},\"coloraxis\":{\"colorbar\":{\"outlinewidth\":0,\"ticks\":\"\"}},\"colorscale\":{\"sequential\":[[0.0,\"#0d0887\"],[0.1111111111111111,\"#46039f\"],[0.2222222222222222,\"#7201a8\"],[0.3333333333333333,\"#9c179e\"],[0.4444444444444444,\"#bd3786\"],[0.5555555555555556,\"#d8576b\"],[0.6666666666666666,\"#ed7953\"],[0.7777777777777778,\"#fb9f3a\"],[0.8888888888888888,\"#fdca26\"],[1.0,\"#f0f921\"]],\"sequentialminus\":[[0.0,\"#0d0887\"],[0.1111111111111111,\"#46039f\"],[0.2222222222222222,\"#7201a8\"],[0.3333333333333333,\"#9c179e\"],[0.4444444444444444,\"#bd3786\"],[0.5555555555555556,\"#d8576b\"],[0.6666666666666666,\"#ed7953\"],[0.7777777777777778,\"#fb9f3a\"],[0.8888888888888888,\"#fdca26\"],[1.0,\"#f0f921\"]],\"diverging\":[[0,\"#8e0152\"],[0.1,\"#c51b7d\"],[0.2,\"#de77ae\"],[0.3,\"#f1b6da\"],[0.4,\"#fde0ef\"],[0.5,\"#f7f7f7\"],[0.6,\"#e6f5d0\"],[0.7,\"#b8e186\"],[0.8,\"#7fbc41\"],[0.9,\"#4d9221\"],[1,\"#276419\"]]},\"xaxis\":{\"gridcolor\":\"#283442\",\"linecolor\":\"#506784\",\"ticks\":\"\",\"title\":{\"standoff\":15},\"zerolinecolor\":\"#283442\",\"automargin\":true,\"zerolinewidth\":2},\"yaxis\":{\"gridcolor\":\"#283442\",\"linecolor\":\"#506784\",\"ticks\":\"\",\"title\":{\"standoff\":15},\"zerolinecolor\":\"#283442\",\"automargin\":true,\"zerolinewidth\":2},\"scene\":{\"xaxis\":{\"backgroundcolor\":\"rgb(17,17,17)\",\"gridcolor\":\"#506784\",\"linecolor\":\"#506784\",\"showbackground\":true,\"ticks\":\"\",\"zerolinecolor\":\"#C8D4E3\",\"gridwidth\":2},\"yaxis\":{\"backgroundcolor\":\"rgb(17,17,17)\",\"gridcolor\":\"#506784\",\"linecolor\":\"#506784\",\"showbackground\":true,\"ticks\":\"\",\"zerolinecolor\":\"#C8D4E3\",\"gridwidth\":2},\"zaxis\":{\"backgroundcolor\":\"rgb(17,17,17)\",\"gridcolor\":\"#506784\",\"linecolor\":\"#506784\",\"showbackground\":true,\"ticks\":\"\",\"zerolinecolor\":\"#C8D4E3\",\"gridwidth\":2}},\"shapedefaults\":{\"line\":{\"color\":\"#f2f5fa\"}},\"annotationdefaults\":{\"arrowcolor\":\"#f2f5fa\",\"arrowhead\":0,\"arrowwidth\":1},\"geo\":{\"bgcolor\":\"rgb(17,17,17)\",\"landcolor\":\"rgb(17,17,17)\",\"subunitcolor\":\"#506784\",\"showland\":true,\"showlakes\":true,\"lakecolor\":\"rgb(17,17,17)\"},\"title\":{\"x\":0.05},\"updatemenudefaults\":{\"bgcolor\":\"#506784\",\"borderwidth\":0},\"sliderdefaults\":{\"bgcolor\":\"#C8D4E3\",\"borderwidth\":1,\"bordercolor\":\"rgb(17,17,17)\",\"tickwidth\":0},\"mapbox\":{\"style\":\"dark\"}}},\"xaxis\":{\"anchor\":\"y\",\"domain\":[0.0,1.0],\"title\":{\"text\":\"Sous-conf\\u00e9d\\u00e9ration\"},\"categoryorder\":\"array\",\"categoryarray\":[\"UNAF\",\"UFOA\",\"CECAFA\",\"UNIFFAC\",\"COSAFA\"]},\"yaxis\":{\"anchor\":\"x\",\"domain\":[0.0,1.0],\"title\":{\"text\":\"Nombre de victoires\"}},\"legend\":{\"title\":{\"text\":\"Sous-conf\\u00e9d\\u00e9ration\"},\"tracegroupgap\":0},\"title\":{\"text\":\"Nombre de victoires (group\\u00e9es) des pays champions dans la m\\u00eame sous-conf\\u00e9d\\u00e9ration que l'organisateur\"},\"barmode\":\"relative\"},                        {\"responsive\": true}                    ).then(function(){\n                            \nvar gd = document.getElementById('d8abb560-68fd-4d36-b2ef-5ec688e86e32');\nvar x = new MutationObserver(function (mutations, observer) {{\n        var display = window.getComputedStyle(gd).display;\n        if (!display || display === 'none') {{\n            console.log([gd, 'removed!']);\n            Plotly.purge(gd);\n            observer.disconnect();\n        }}\n}});\n\n// Listen for the removal of the full notebook cells\nvar notebookContainer = gd.closest('#notebook-container');\nif (notebookContainer) {{\n    x.observe(notebookContainer, {childList: true});\n}}\n\n// Listen for the clearing of the current output cell\nvar outputEl = gd.closest('.output');\nif (outputEl) {{\n    x.observe(outputEl, {childList: true});\n}}\n\n                        })                };                });            </script>        </div>"
     },
     "metadata": {},
     "output_type": "display_data"
    }
   ],
   "source": [
    "# Ajoutons une colonne indiquant si le pays champion est de la même région que l'organisateur\n",
    "df_stats['SameRegionWinner'] = df_stats['HostRegion'] == df_stats['ChampionRegion']\n",
    "\n",
    "# Créons un DataFrame avec le décompte des victoires par pays champion dans la même région que l'organisateur\n",
    "same_region_wins_count = df_stats[df_stats['SameRegionWinner']].groupby('ChampionRegion').size().reset_index(name='Wins')\n",
    "\n",
    "data = same_region_wins_count.sort_values(by='Wins', ascending=False).head(10)\n",
    "\n",
    "# Crée un diagramme à barres empilées\n",
    "fig = px.bar(data, x='ChampionRegion', y='Wins', color='ChampionRegion',\n",
    "             title='Nombre de victoires (groupées) des pays champions dans la même sous-confédération que l\\'organisateur',\n",
    "             labels={'ChampionRegion': 'Sous-confédération', 'Wins': 'Nombre de victoires'})\n",
    "\n",
    "ig.show()"
   ],
   "metadata": {
    "collapsed": false,
    "ExecuteTime": {
     "end_time": "2024-01-03T18:17:48.396206Z",
     "start_time": "2024-01-03T18:17:48.107509200Z"
    }
   },
   "id": "e43c380a00af189b",
   "execution_count": 156
  },
  {
   "cell_type": "code",
   "outputs": [
    {
     "name": "stdout",
     "output_type": "stream",
     "text": [
      "      index  Wins\n",
      "0     Egypt     4\n",
      "1  Cameroon     4\n",
      "2     Ghana     2\n",
      "3  DR Congo     2\n",
      "4   Nigeria     2\n"
     ]
    }
   ],
   "source": [
    "# Ajoutons une colonne indiquant si le pays champion est dans une autre région que l'organisateur\n",
    "df_stats['DifferentRegionWinner'] = df_stats['HostRegion'] != df_stats['ChampionRegion']\n",
    "\n",
    "# Filtre les occurrences où le champion est dans une autre région que l'organisateur\n",
    "different_region_wins = df_stats[df_stats['DifferentRegionWinner']]['Champion'].value_counts().reset_index(name='Wins')\n",
    "\n",
    "# Affiche les pays qui gagnent le plus dans une autre région\n",
    "top_different_region_winners = different_region_wins.head(5)\n",
    "\n",
    "print(top_different_region_winners)"
   ],
   "metadata": {
    "collapsed": false,
    "ExecuteTime": {
     "end_time": "2024-01-03T18:22:54.757329200Z",
     "start_time": "2024-01-03T18:22:54.548248500Z"
    }
   },
   "id": "570be8c410f3f372",
   "execution_count": 160
  },
  {
   "cell_type": "code",
   "outputs": [],
   "source": [],
   "metadata": {
    "collapsed": false
   },
   "id": "9d15726e9f955164"
  }
 ],
 "metadata": {
  "kernelspec": {
   "display_name": "Python 3",
   "language": "python",
   "name": "python3"
  },
  "language_info": {
   "codemirror_mode": {
    "name": "ipython",
    "version": 2
   },
   "file_extension": ".py",
   "mimetype": "text/x-python",
   "name": "python",
   "nbconvert_exporter": "python",
   "pygments_lexer": "ipython2",
   "version": "2.7.6"
  }
 },
 "nbformat": 4,
 "nbformat_minor": 5
}

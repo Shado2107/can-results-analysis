{
 "cells": [
  {
   "cell_type": "code",
   "execution_count": 90,
   "id": "initial_id",
   "metadata": {
    "collapsed": true,
    "ExecuteTime": {
     "end_time": "2024-01-03T03:04:09.704185200Z",
     "start_time": "2024-01-03T03:04:09.620132200Z"
    }
   },
   "outputs": [],
   "source": [
    "import numpy as np\n",
    "import pandas as pd\n",
    "import matplotlib.pyplot as plt\n",
    "import plotly.express as px"
   ]
  },
  {
   "cell_type": "markdown",
   "source": [
    "---\n",
    "## Récupération des jeux de données et compréhension"
   ],
   "metadata": {
    "collapsed": false
   },
   "id": "5925337c6611236e"
  },
  {
   "cell_type": "code",
   "outputs": [],
   "source": [
    "df_matches = pd.read_csv(\"Africa Cup of Nations Matches MaJ.csv\", sep=\";\")\n",
    "df_countries = pd.read_csv(\"African Countries.csv\", sep=\";\")\n",
    "df_stats = pd.read_csv(\"Tournaments General Statistics MaJ.csv\", sep=\";\")"
   ],
   "metadata": {
    "collapsed": false,
    "ExecuteTime": {
     "end_time": "2024-01-03T03:04:10.945628Z",
     "start_time": "2024-01-03T03:04:10.830358400Z"
    }
   },
   "id": "8017b01817e9c50d",
   "execution_count": 91
  },
  {
   "cell_type": "code",
   "outputs": [
    {
     "name": "stdout",
     "output_type": "stream",
     "text": [
      "<class 'pandas.core.frame.DataFrame'>\n",
      "RangeIndex: 674 entries, 0 to 673\n",
      "Data columns (total 12 columns):\n",
      " #   Column                Non-Null Count  Dtype  \n",
      "---  ------                --------------  -----  \n",
      " 0   Year                  674 non-null    int64  \n",
      " 1   Date                  590 non-null    object \n",
      " 2   Time                  333 non-null    object \n",
      " 3   HomeTeam              674 non-null    object \n",
      " 4   AwayTeam              674 non-null    object \n",
      " 5   HomeTeamGoals         670 non-null    float64\n",
      " 6   AwayTeamGoals         670 non-null    float64\n",
      " 7   Stage                 674 non-null    object \n",
      " 8   SpecialWinConditions  63 non-null     object \n",
      " 9   Stadium               670 non-null    object \n",
      " 10  City                  670 non-null    object \n",
      " 11  Attendance            522 non-null    float64\n",
      "dtypes: float64(3), int64(1), object(8)\n",
      "memory usage: 63.3+ KB\n"
     ]
    }
   ],
   "source": [
    "df_matches.info()"
   ],
   "metadata": {
    "collapsed": false,
    "ExecuteTime": {
     "end_time": "2024-01-03T03:04:11.666737900Z",
     "start_time": "2024-01-03T03:04:11.636187Z"
    }
   },
   "id": "7c402f34a7106163",
   "execution_count": 92
  },
  {
   "cell_type": "code",
   "outputs": [
    {
     "data": {
      "text/plain": "Year                      0\nDate                     84\nTime                    341\nHomeTeam                  0\nAwayTeam                  0\nHomeTeamGoals             4\nAwayTeamGoals             4\nStage                     0\nSpecialWinConditions    611\nStadium                   4\nCity                      4\nAttendance              152\ndtype: int64"
     },
     "execution_count": 93,
     "metadata": {},
     "output_type": "execute_result"
    }
   ],
   "source": [
    "df_matches.isna().sum()"
   ],
   "metadata": {
    "collapsed": false,
    "ExecuteTime": {
     "end_time": "2024-01-03T03:04:12.707305600Z",
     "start_time": "2024-01-03T03:04:12.638786900Z"
    }
   },
   "id": "2fed2b9d8ec1d17a",
   "execution_count": 93
  },
  {
   "cell_type": "code",
   "outputs": [
    {
     "data": {
      "text/plain": "     Year       Date   Time        HomeTeam       AwayTeam  HomeTeamGoals  \\\n1    1957  10/02/1957    NaN      Ethiopia    South Africa            NaN   \n489  2010  11/01/2010  19:30         Ghana            Togo            NaN   \n490  2010  15/01/2010  17:00  Burkina Faso            Togo            NaN   \n493  2010  19/01/2010  17:00   Ivory Coast            Togo            NaN   \n\n     AwayTeamGoals       Stage  \\\n1              NaN  Semifinals   \n489            NaN     Group B   \n490            NaN     Group B   \n493            NaN     Group B   \n\n                                  SpecialWinConditions Stadium City  \\\n1    Ethiopia  wins due to disqualification of othe...     NaN  NaN   \n489  Ghana  wins due to disqualification of other team     NaN  NaN   \n490  Burkina Faso  wins due to disqualification of ...     NaN  NaN   \n493  Ivory Coast  wins due to disqualification of o...     NaN  NaN   \n\n     Attendance  \n1           NaN  \n489         NaN  \n490         NaN  \n493         NaN  ",
      "text/html": "<div>\n<style scoped>\n    .dataframe tbody tr th:only-of-type {\n        vertical-align: middle;\n    }\n\n    .dataframe tbody tr th {\n        vertical-align: top;\n    }\n\n    .dataframe thead th {\n        text-align: right;\n    }\n</style>\n<table border=\"1\" class=\"dataframe\">\n  <thead>\n    <tr style=\"text-align: right;\">\n      <th></th>\n      <th>Year</th>\n      <th>Date</th>\n      <th>Time</th>\n      <th>HomeTeam</th>\n      <th>AwayTeam</th>\n      <th>HomeTeamGoals</th>\n      <th>AwayTeamGoals</th>\n      <th>Stage</th>\n      <th>SpecialWinConditions</th>\n      <th>Stadium</th>\n      <th>City</th>\n      <th>Attendance</th>\n    </tr>\n  </thead>\n  <tbody>\n    <tr>\n      <th>1</th>\n      <td>1957</td>\n      <td>10/02/1957</td>\n      <td>NaN</td>\n      <td>Ethiopia</td>\n      <td>South Africa</td>\n      <td>NaN</td>\n      <td>NaN</td>\n      <td>Semifinals</td>\n      <td>Ethiopia  wins due to disqualification of othe...</td>\n      <td>NaN</td>\n      <td>NaN</td>\n      <td>NaN</td>\n    </tr>\n    <tr>\n      <th>489</th>\n      <td>2010</td>\n      <td>11/01/2010</td>\n      <td>19:30</td>\n      <td>Ghana</td>\n      <td>Togo</td>\n      <td>NaN</td>\n      <td>NaN</td>\n      <td>Group B</td>\n      <td>Ghana  wins due to disqualification of other team</td>\n      <td>NaN</td>\n      <td>NaN</td>\n      <td>NaN</td>\n    </tr>\n    <tr>\n      <th>490</th>\n      <td>2010</td>\n      <td>15/01/2010</td>\n      <td>17:00</td>\n      <td>Burkina Faso</td>\n      <td>Togo</td>\n      <td>NaN</td>\n      <td>NaN</td>\n      <td>Group B</td>\n      <td>Burkina Faso  wins due to disqualification of ...</td>\n      <td>NaN</td>\n      <td>NaN</td>\n      <td>NaN</td>\n    </tr>\n    <tr>\n      <th>493</th>\n      <td>2010</td>\n      <td>19/01/2010</td>\n      <td>17:00</td>\n      <td>Ivory Coast</td>\n      <td>Togo</td>\n      <td>NaN</td>\n      <td>NaN</td>\n      <td>Group B</td>\n      <td>Ivory Coast  wins due to disqualification of o...</td>\n      <td>NaN</td>\n      <td>NaN</td>\n      <td>NaN</td>\n    </tr>\n  </tbody>\n</table>\n</div>"
     },
     "execution_count": 94,
     "metadata": {},
     "output_type": "execute_result"
    }
   ],
   "source": [
    "df_matches.loc[df_matches['HomeTeamGoals'].isna()]"
   ],
   "metadata": {
    "collapsed": false,
    "ExecuteTime": {
     "end_time": "2024-01-03T03:04:14.451241700Z",
     "start_time": "2024-01-03T03:04:14.299957800Z"
    }
   },
   "id": "79b7e4d1233e9830",
   "execution_count": 94
  },
  {
   "cell_type": "markdown",
   "source": [
    "Nous allons supprimer tous les matchs qui n'ont pas été joués"
   ],
   "metadata": {
    "collapsed": false
   },
   "id": "1c600e128ac708fb"
  },
  {
   "cell_type": "code",
   "outputs": [],
   "source": [
    "df_matches.dropna(subset=['HomeTeamGoals'], inplace=True)"
   ],
   "metadata": {
    "collapsed": false,
    "ExecuteTime": {
     "end_time": "2024-01-03T03:04:17.920670800Z",
     "start_time": "2024-01-03T03:04:17.881685Z"
    }
   },
   "id": "9ec23c7c83a22362",
   "execution_count": 95
  },
  {
   "cell_type": "code",
   "outputs": [
    {
     "data": {
      "text/plain": "Year                      0\nDate                     84\nTime                    340\nHomeTeam                  0\nAwayTeam                  0\nHomeTeamGoals             0\nAwayTeamGoals             0\nStage                     0\nSpecialWinConditions    611\nStadium                   0\nCity                      0\nAttendance              148\ndtype: int64"
     },
     "execution_count": 96,
     "metadata": {},
     "output_type": "execute_result"
    }
   ],
   "source": [
    "df_matches.isna().sum()"
   ],
   "metadata": {
    "collapsed": false,
    "ExecuteTime": {
     "end_time": "2024-01-03T03:04:19.199925900Z",
     "start_time": "2024-01-03T03:04:19.058294600Z"
    }
   },
   "id": "7b98b7ee14716b49",
   "execution_count": 96
  },
  {
   "cell_type": "code",
   "outputs": [],
   "source": [
    "# Conversion des types float en int sur les buts et le nombre de personnes au stade\n",
    "df_matches['HomeTeamGoals'] = df_matches['HomeTeamGoals'].astype(int)\n",
    "df_matches['AwayTeamGoals'] = df_matches['AwayTeamGoals'].astype(int)"
   ],
   "metadata": {
    "collapsed": false,
    "ExecuteTime": {
     "end_time": "2024-01-03T03:04:21.234160400Z",
     "start_time": "2024-01-03T03:04:21.215123700Z"
    }
   },
   "id": "bb9f23c7a0ecab81",
   "execution_count": 97
  },
  {
   "cell_type": "code",
   "outputs": [
    {
     "name": "stdout",
     "output_type": "stream",
     "text": [
      "<class 'pandas.core.frame.DataFrame'>\n",
      "Int64Index: 670 entries, 0 to 673\n",
      "Data columns (total 12 columns):\n",
      " #   Column                Non-Null Count  Dtype  \n",
      "---  ------                --------------  -----  \n",
      " 0   Year                  670 non-null    int64  \n",
      " 1   Date                  586 non-null    object \n",
      " 2   Time                  330 non-null    object \n",
      " 3   HomeTeam              670 non-null    object \n",
      " 4   AwayTeam              670 non-null    object \n",
      " 5   HomeTeamGoals         670 non-null    int32  \n",
      " 6   AwayTeamGoals         670 non-null    int32  \n",
      " 7   Stage                 670 non-null    object \n",
      " 8   SpecialWinConditions  59 non-null     object \n",
      " 9   Stadium               670 non-null    object \n",
      " 10  City                  670 non-null    object \n",
      " 11  Attendance            522 non-null    float64\n",
      "dtypes: float64(1), int32(2), int64(1), object(8)\n",
      "memory usage: 62.8+ KB\n"
     ]
    }
   ],
   "source": [
    "df_matches.info()"
   ],
   "metadata": {
    "collapsed": false,
    "ExecuteTime": {
     "end_time": "2024-01-03T03:04:22.802466200Z",
     "start_time": "2024-01-03T03:04:22.711266100Z"
    }
   },
   "id": "960ca5f131302843",
   "execution_count": 98
  },
  {
   "cell_type": "code",
   "outputs": [
    {
     "data": {
      "text/plain": "64"
     },
     "execution_count": 99,
     "metadata": {},
     "output_type": "execute_result"
    }
   ],
   "source": [
    "df_matches['HomeTeam'].nunique()"
   ],
   "metadata": {
    "collapsed": false,
    "ExecuteTime": {
     "end_time": "2024-01-03T03:04:24.724518600Z",
     "start_time": "2024-01-03T03:04:24.680429400Z"
    }
   },
   "id": "6952ac77df744ff2",
   "execution_count": 99
  },
  {
   "cell_type": "code",
   "outputs": [],
   "source": [
    "df_matches['HomeTeam'] = df_matches['HomeTeam'].str.strip()"
   ],
   "metadata": {
    "collapsed": false,
    "ExecuteTime": {
     "end_time": "2024-01-03T03:04:26.232436500Z",
     "start_time": "2024-01-03T03:04:26.205005100Z"
    }
   },
   "id": "8d4c7e7eab0d09be",
   "execution_count": 100
  },
  {
   "cell_type": "code",
   "outputs": [
    {
     "data": {
      "text/plain": "44"
     },
     "execution_count": 101,
     "metadata": {},
     "output_type": "execute_result"
    }
   ],
   "source": [
    "df_matches['HomeTeam'].nunique()"
   ],
   "metadata": {
    "collapsed": false,
    "ExecuteTime": {
     "end_time": "2024-01-03T03:04:27.394748400Z",
     "start_time": "2024-01-03T03:04:27.344201600Z"
    }
   },
   "id": "a41e8940281877a0",
   "execution_count": 101
  },
  {
   "cell_type": "code",
   "outputs": [],
   "source": [
    "df_matches['AwayTeam'] = df_matches['AwayTeam'].str.strip()"
   ],
   "metadata": {
    "collapsed": false,
    "ExecuteTime": {
     "end_time": "2024-01-03T03:04:28.503903800Z",
     "start_time": "2024-01-03T03:04:28.432650300Z"
    }
   },
   "id": "b51345469e3789b9",
   "execution_count": 102
  },
  {
   "cell_type": "markdown",
   "source": [
    "---\n",
    "## Feature Engineering pour déterminer si l'équipe a gagné (ou perdu) à domicile (ou à l'extérieur) et déterminer le gagnant du match"
   ],
   "metadata": {
    "collapsed": false
   },
   "id": "5aa91aedcd3d56db"
  },
  {
   "cell_type": "code",
   "outputs": [],
   "source": [
    "df_matches['HomeWin'] = df_matches['HomeTeamGoals'] > df_matches['AwayTeamGoals']\n",
    "df_matches['AwayWin'] = df_matches['AwayTeamGoals'] > df_matches['HomeTeamGoals']\n",
    "\n",
    "df_matches['HomeLoss'] = df_matches['AwayWin']\n",
    "df_matches['AwayLoss'] = df_matches['HomeWin']\n",
    "\n",
    "df_matches['Draw'] = df_matches['HomeTeamGoals'] == df_matches['AwayTeamGoals']"
   ],
   "metadata": {
    "collapsed": false,
    "ExecuteTime": {
     "end_time": "2024-01-03T03:04:30.197652300Z",
     "start_time": "2024-01-03T03:04:30.165383200Z"
    }
   },
   "id": "e8b507bcec55e689",
   "execution_count": 103
  },
  {
   "cell_type": "code",
   "outputs": [
    {
     "data": {
      "text/plain": "     Year       Date   Time            HomeTeam      AwayTeam  HomeTeamGoals  \\\n564  2017         NaN  17:00           DR Congo         Ghana              1   \n615  2019         NaN  21:00            Nigeria  South Africa              2   \n100  1976  04/03/1976    NaN            Morocco         Zaire              1   \n631  2022  12/01/2022    NaN  Equatorial Guinea   Ivory Coast              0   \n185  1986  17/03/1986    NaN           Cameroon   Ivory Coast              1   \n\n     AwayTeamGoals           Stage SpecialWinConditions  \\\n564              2  Quarter-finals                  NaN   \n615              1  Quarter-finals                  NaN   \n100              0         Group B                  NaN   \n631              1         Group E                  NaN   \n185              0      Semifinals                  NaN   \n\n                         Stadium         City  Attendance  HomeWin  AwayWin  \\\n564                 Stade d'Oyem         Oyem         NaN    False     True   \n615  Cairo International Stadium        Cairo     48343.0     True    False   \n100            Dire Dawa Stadium    Dire Dawa         NaN     True    False   \n631               Japoma Stadium       Douala         NaN    False     True   \n185           Alexandria Stadium   Alexandria     12000.0     True    False   \n\n     HomeLoss  AwayLoss   Draw  \n564      True     False  False  \n615     False      True  False  \n100     False      True  False  \n631      True     False  False  \n185     False      True  False  ",
      "text/html": "<div>\n<style scoped>\n    .dataframe tbody tr th:only-of-type {\n        vertical-align: middle;\n    }\n\n    .dataframe tbody tr th {\n        vertical-align: top;\n    }\n\n    .dataframe thead th {\n        text-align: right;\n    }\n</style>\n<table border=\"1\" class=\"dataframe\">\n  <thead>\n    <tr style=\"text-align: right;\">\n      <th></th>\n      <th>Year</th>\n      <th>Date</th>\n      <th>Time</th>\n      <th>HomeTeam</th>\n      <th>AwayTeam</th>\n      <th>HomeTeamGoals</th>\n      <th>AwayTeamGoals</th>\n      <th>Stage</th>\n      <th>SpecialWinConditions</th>\n      <th>Stadium</th>\n      <th>City</th>\n      <th>Attendance</th>\n      <th>HomeWin</th>\n      <th>AwayWin</th>\n      <th>HomeLoss</th>\n      <th>AwayLoss</th>\n      <th>Draw</th>\n    </tr>\n  </thead>\n  <tbody>\n    <tr>\n      <th>564</th>\n      <td>2017</td>\n      <td>NaN</td>\n      <td>17:00</td>\n      <td>DR Congo</td>\n      <td>Ghana</td>\n      <td>1</td>\n      <td>2</td>\n      <td>Quarter-finals</td>\n      <td>NaN</td>\n      <td>Stade d'Oyem</td>\n      <td>Oyem</td>\n      <td>NaN</td>\n      <td>False</td>\n      <td>True</td>\n      <td>True</td>\n      <td>False</td>\n      <td>False</td>\n    </tr>\n    <tr>\n      <th>615</th>\n      <td>2019</td>\n      <td>NaN</td>\n      <td>21:00</td>\n      <td>Nigeria</td>\n      <td>South Africa</td>\n      <td>2</td>\n      <td>1</td>\n      <td>Quarter-finals</td>\n      <td>NaN</td>\n      <td>Cairo International Stadium</td>\n      <td>Cairo</td>\n      <td>48343.0</td>\n      <td>True</td>\n      <td>False</td>\n      <td>False</td>\n      <td>True</td>\n      <td>False</td>\n    </tr>\n    <tr>\n      <th>100</th>\n      <td>1976</td>\n      <td>04/03/1976</td>\n      <td>NaN</td>\n      <td>Morocco</td>\n      <td>Zaire</td>\n      <td>1</td>\n      <td>0</td>\n      <td>Group B</td>\n      <td>NaN</td>\n      <td>Dire Dawa Stadium</td>\n      <td>Dire Dawa</td>\n      <td>NaN</td>\n      <td>True</td>\n      <td>False</td>\n      <td>False</td>\n      <td>True</td>\n      <td>False</td>\n    </tr>\n    <tr>\n      <th>631</th>\n      <td>2022</td>\n      <td>12/01/2022</td>\n      <td>NaN</td>\n      <td>Equatorial Guinea</td>\n      <td>Ivory Coast</td>\n      <td>0</td>\n      <td>1</td>\n      <td>Group E</td>\n      <td>NaN</td>\n      <td>Japoma Stadium</td>\n      <td>Douala</td>\n      <td>NaN</td>\n      <td>False</td>\n      <td>True</td>\n      <td>True</td>\n      <td>False</td>\n      <td>False</td>\n    </tr>\n    <tr>\n      <th>185</th>\n      <td>1986</td>\n      <td>17/03/1986</td>\n      <td>NaN</td>\n      <td>Cameroon</td>\n      <td>Ivory Coast</td>\n      <td>1</td>\n      <td>0</td>\n      <td>Semifinals</td>\n      <td>NaN</td>\n      <td>Alexandria Stadium</td>\n      <td>Alexandria</td>\n      <td>12000.0</td>\n      <td>True</td>\n      <td>False</td>\n      <td>False</td>\n      <td>True</td>\n      <td>False</td>\n    </tr>\n  </tbody>\n</table>\n</div>"
     },
     "execution_count": 104,
     "metadata": {},
     "output_type": "execute_result"
    }
   ],
   "source": [
    "df_matches.sample(5)"
   ],
   "metadata": {
    "collapsed": false,
    "ExecuteTime": {
     "end_time": "2024-01-03T03:04:31.825950300Z",
     "start_time": "2024-01-03T03:04:31.702869Z"
    }
   },
   "id": "ddc07b6ade250898",
   "execution_count": 104
  },
  {
   "cell_type": "code",
   "outputs": [],
   "source": [
    "df_matches['Winner'] = np.where(~df_matches['Draw'],\n",
    "                                np.where(df_matches['HomeWin'], df_matches['HomeTeam'], df_matches['AwayTeam']),\n",
    "                                df_matches['SpecialWinConditions'].apply(lambda x: x.split(' win')[0] if isinstance(x, str) else ''))"
   ],
   "metadata": {
    "collapsed": false,
    "ExecuteTime": {
     "end_time": "2024-01-03T03:04:33.524627700Z",
     "start_time": "2024-01-03T03:04:33.444658Z"
    }
   },
   "id": "d00e30c85c1ddd18",
   "execution_count": 105
  },
  {
   "cell_type": "markdown",
   "source": [
    "---\n",
    "# Calcul du total de victoires, défaites et matchs nuls par équipe."
   ],
   "metadata": {
    "collapsed": false
   },
   "id": "5a696ae665a89ff4"
  },
  {
   "cell_type": "code",
   "outputs": [],
   "source": [
    "total_wins = pd.concat([df_matches.groupby('HomeTeam')['HomeWin'].sum(),\n",
    "                        df_matches.groupby('AwayTeam')['AwayWin'].sum()], axis=1, sort=False).sum(axis=1)"
   ],
   "metadata": {
    "collapsed": false,
    "ExecuteTime": {
     "end_time": "2024-01-03T03:04:36.324757400Z",
     "start_time": "2024-01-03T03:04:36.257413400Z"
    }
   },
   "id": "82d9f04ae3e8c99a",
   "execution_count": 106
  },
  {
   "cell_type": "code",
   "outputs": [],
   "source": [
    "total_losses = pd.concat([df_matches.groupby('HomeTeam')['HomeLoss'].sum(),\n",
    "                        df_matches.groupby('AwayTeam')['AwayLoss'].sum()], axis=1, sort=False).sum(axis=1)"
   ],
   "metadata": {
    "collapsed": false,
    "ExecuteTime": {
     "end_time": "2024-01-03T03:04:37.348058600Z",
     "start_time": "2024-01-03T03:04:37.274747300Z"
    }
   },
   "id": "bdbc98ee211f0607",
   "execution_count": 107
  },
  {
   "cell_type": "code",
   "outputs": [
    {
     "data": {
      "text/plain": "Algeria                21.0\nAngola                 10.0\nBenin                   5.0\nBurkina Faso           13.0\nBurundi                 0.0\nCameroon               28.0\nCape Verde              1.0\nComoros                 0.0\nCongo                   6.0\nCongo-Kinshasa          1.0\nDR Congo                8.0\nEgypt                  19.0\nEquatorial Guinea       2.0\nEthiopia                3.0\nGabon                  10.0\nGambia                  1.0\nGhana                  19.0\nGuinea                 13.0\nGuinea-Bissau           3.0\nIvory Coast            24.0\nKenya                   4.0\nLiberia                 2.0\nLibya                   4.0\nMadagascar              2.0\nMalawi                  2.0\nMali                   15.0\nMauritania              2.0\nMorocco                21.0\nMozambique              2.0\nNamibia                 2.0\nNigeria                19.0\nRwanda                  1.0\nSenegal                16.0\nSierra Leone            3.0\nSouth Africa           10.0\nSudan                   6.0\nTanzania                1.0\nTogo                    7.0\nTunisia                25.0\nUganda                  3.0\nUnited Arab Rep.        1.0\nZaire                   9.0\nZambia                 14.0\nZimbabwe                2.0\nCongo-Brazzaville       0.0\nCongo-Léopoldville     0.0\nMauritius               0.0\nUpper Volta             0.0\ndtype: float64"
     },
     "execution_count": 120,
     "metadata": {},
     "output_type": "execute_result"
    }
   ],
   "source": [
    "total_draws = pd.concat([df_matches.groupby('HomeTeam')['Draw'].sum(),\n",
    "                        df_matches.groupby('AwayTeam')['Draw'].sum()], axis=1, sort=False).sum(axis=1)"
   ],
   "metadata": {
    "collapsed": false,
    "ExecuteTime": {
     "end_time": "2024-01-03T03:16:27.364450600Z",
     "start_time": "2024-01-03T03:16:27.226198Z"
    }
   },
   "id": "612ec446a1363da",
   "execution_count": 120
  },
  {
   "cell_type": "code",
   "outputs": [
    {
     "data": {
      "text/plain": "Cameroon                88.0\nGhana                   93.0\nEgypt                  102.0\nNigeria                 94.0\nIvory Coast             90.0\nMorocco                 64.0\nAlgeria                 71.0\nSenegal                 61.0\nZambia                  58.0\nTunisia                 71.0\nSouth Africa            37.0\nBurkina Faso            36.0\nMali                    45.0\nDR Congo                31.0\nGuinea                  41.0\nEthiopia                27.0\nGabon                   19.0\nCongo                   20.0\nZaire                   26.0\nAngola                  20.0\nSudan                   24.0\nUganda                  23.0\nLibya                    8.0\nTogo                    22.0\nUnited Arab Rep.         5.0\nZimbabwe                15.0\nMalawi                  10.0\nGuinea-Bissau            9.0\nCongo-Kinshasa           8.0\nMadagascar               5.0\nMauritania               6.0\nKenya                   17.0\nBenin                   14.0\nNamibia                  9.0\nRwanda                   3.0\nLiberia                  5.0\nSierra Leone             8.0\nGambia                   5.0\nMozambique              12.0\nBurundi                  3.0\nTanzania                 6.0\nComoros                  4.0\nEquatorial Guinea        9.0\nCape Verde               5.0\nUpper Volta              3.0\nMauritius                3.0\nCongo-Brazzaville        3.0\nCongo-Léopoldville      2.0\ndtype: float64"
     },
     "execution_count": 123,
     "metadata": {},
     "output_type": "execute_result"
    }
   ],
   "source": [
    "total_games = pd.concat([df_matches['HomeTeam'].value_counts(),\n",
    "                         df_matches['AwayTeam'].value_counts()], axis=1, sort=False).sum(axis=1)\n",
    "total_games"
   ],
   "metadata": {
    "collapsed": false,
    "ExecuteTime": {
     "end_time": "2024-01-03T03:31:47.633494700Z",
     "start_time": "2024-01-03T03:31:47.501313Z"
    }
   },
   "id": "f0880b9ec9d7fbd0",
   "execution_count": 123
  },
  {
   "cell_type": "code",
   "outputs": [],
   "source": [
    "# Transformer ces séries en dictionnaire\n",
    "dict_games = total_games.to_dict()\n",
    "dict_wins = total_wins.to_dict()\n",
    "dict_losses = total_losses.to_dict()\n",
    "dict_draws = total_draws.to_dict()"
   ],
   "metadata": {
    "collapsed": false,
    "ExecuteTime": {
     "end_time": "2024-01-03T03:32:19.932040700Z",
     "start_time": "2024-01-03T03:32:19.881652900Z"
    }
   },
   "id": "9caf2fc38a42a9fa",
   "execution_count": 124
  },
  {
   "cell_type": "code",
   "outputs": [
    {
     "data": {
      "text/plain": "{'Cameroon': 88.0,\n 'Ghana': 93.0,\n 'Egypt': 102.0,\n 'Nigeria': 94.0,\n 'Ivory Coast': 90.0,\n 'Morocco': 64.0,\n 'Algeria': 71.0,\n 'Senegal': 61.0,\n 'Zambia': 58.0,\n 'Tunisia': 71.0,\n 'South Africa': 37.0,\n 'Burkina Faso': 36.0,\n 'Mali': 45.0,\n 'DR Congo': 31.0,\n 'Guinea': 41.0,\n 'Ethiopia': 27.0,\n 'Gabon': 19.0,\n 'Congo': 20.0,\n 'Zaire': 26.0,\n 'Angola': 20.0,\n 'Sudan': 24.0,\n 'Uganda': 23.0,\n 'Libya': 8.0,\n 'Togo': 22.0,\n 'United Arab Rep.': 5.0,\n 'Zimbabwe': 15.0,\n 'Malawi': 10.0,\n 'Guinea-Bissau': 9.0,\n 'Congo-Kinshasa': 8.0,\n 'Madagascar': 5.0,\n 'Mauritania': 6.0,\n 'Kenya': 17.0,\n 'Benin': 14.0,\n 'Namibia': 9.0,\n 'Rwanda': 3.0,\n 'Liberia': 5.0,\n 'Sierra Leone': 8.0,\n 'Gambia': 5.0,\n 'Mozambique': 12.0,\n 'Burundi': 3.0,\n 'Tanzania': 6.0,\n 'Comoros': 4.0,\n 'Equatorial Guinea': 9.0,\n 'Cape Verde': 5.0,\n 'Upper Volta': 3.0,\n 'Mauritius': 3.0,\n 'Congo-Brazzaville': 3.0,\n 'Congo-Léopoldville': 2.0}"
     },
     "execution_count": 125,
     "metadata": {},
     "output_type": "execute_result"
    }
   ],
   "source": [
    "dict_games"
   ],
   "metadata": {
    "collapsed": false,
    "ExecuteTime": {
     "end_time": "2024-01-03T03:32:24.085009500Z",
     "start_time": "2024-01-03T03:32:23.939654400Z"
    }
   },
   "id": "87c6739f2088fa12",
   "execution_count": 125
  },
  {
   "cell_type": "code",
   "outputs": [
    {
     "data": {
      "text/plain": "                  Team  Year\n0                Sudan  1957\n2                Egypt  1957\n3                Egypt  1959\n4                Sudan  1959\n6             Ethiopia  1962\n..                 ...   ...\n522         Cape Verde  2013\n525               Togo  2013\n531  Equatorial Guinea  2015\n532             Guinea  2015\n533            Algeria  2015\n\n[356 rows x 2 columns]",
      "text/html": "<div>\n<style scoped>\n    .dataframe tbody tr th:only-of-type {\n        vertical-align: middle;\n    }\n\n    .dataframe tbody tr th {\n        vertical-align: top;\n    }\n\n    .dataframe thead th {\n        text-align: right;\n    }\n</style>\n<table border=\"1\" class=\"dataframe\">\n  <thead>\n    <tr style=\"text-align: right;\">\n      <th></th>\n      <th>Team</th>\n      <th>Year</th>\n    </tr>\n  </thead>\n  <tbody>\n    <tr>\n      <th>0</th>\n      <td>Sudan</td>\n      <td>1957</td>\n    </tr>\n    <tr>\n      <th>2</th>\n      <td>Egypt</td>\n      <td>1957</td>\n    </tr>\n    <tr>\n      <th>3</th>\n      <td>Egypt</td>\n      <td>1959</td>\n    </tr>\n    <tr>\n      <th>4</th>\n      <td>Sudan</td>\n      <td>1959</td>\n    </tr>\n    <tr>\n      <th>6</th>\n      <td>Ethiopia</td>\n      <td>1962</td>\n    </tr>\n    <tr>\n      <th>...</th>\n      <td>...</td>\n      <td>...</td>\n    </tr>\n    <tr>\n      <th>522</th>\n      <td>Cape Verde</td>\n      <td>2013</td>\n    </tr>\n    <tr>\n      <th>525</th>\n      <td>Togo</td>\n      <td>2013</td>\n    </tr>\n    <tr>\n      <th>531</th>\n      <td>Equatorial Guinea</td>\n      <td>2015</td>\n    </tr>\n    <tr>\n      <th>532</th>\n      <td>Guinea</td>\n      <td>2015</td>\n    </tr>\n    <tr>\n      <th>533</th>\n      <td>Algeria</td>\n      <td>2015</td>\n    </tr>\n  </tbody>\n</table>\n<p>356 rows × 2 columns</p>\n</div>"
     },
     "execution_count": 126,
     "metadata": {},
     "output_type": "execute_result"
    }
   ],
   "source": [
    "# Constitution d'une série avec les équipes et les éditions auxquels ils ont participé...\n",
    "unique_home_teams_and_years = df_matches[[\"HomeTeam\", \"Year\"]].drop_duplicates()\n",
    "unique_home_teams_and_years.rename(columns={'HomeTeam': 'Team'}, inplace=True)\n",
    "\n",
    "unique_away_teams_and_years = df_matches[[\"AwayTeam\", \"Year\"]].drop_duplicates()\n",
    "unique_away_teams_and_years.rename(columns={'AwayTeam': 'Team'}, inplace=True)\n",
    "\n",
    "unique_teams_and_years = (pd.concat([unique_home_teams_and_years, unique_away_teams_and_years])).drop_duplicates()\n",
    "unique_teams_and_years"
   ],
   "metadata": {
    "collapsed": false,
    "ExecuteTime": {
     "end_time": "2024-01-03T03:32:43.995627400Z",
     "start_time": "2024-01-03T03:32:43.810197800Z"
    }
   },
   "id": "e810932361d1e255",
   "execution_count": 126
  },
  {
   "cell_type": "code",
   "outputs": [
    {
     "data": {
      "text/plain": "{'Egypt': 24,\n 'Ivory Coast': 24,\n 'Ghana': 23,\n 'Cameroon': 19,\n 'Nigeria': 19,\n 'Tunisia': 19,\n 'Algeria': 18,\n 'Morocco': 16,\n 'Zambia': 15,\n 'Senegal': 14,\n 'Guinea': 12,\n 'Mali': 11,\n 'Ethiopia': 10,\n 'South Africa': 9,\n 'Burkina Faso': 9,\n 'Sudan': 9,\n 'DR Congo': 8,\n 'Togo': 8,\n 'Gabon': 7,\n 'Zaire': 7,\n 'Uganda': 7,\n 'Angola': 6,\n 'Kenya': 6,\n 'Congo': 6,\n 'Zimbabwe': 5,\n 'Mozambique': 4,\n 'Benin': 4,\n 'Guinea-Bissau': 3,\n 'Equatorial Guinea': 3,\n 'Namibia': 3,\n 'Sierra Leone': 3,\n 'Malawi': 3,\n 'Libya': 2,\n 'Tanzania': 2,\n 'Mauritania': 2,\n 'Liberia': 2,\n 'Congo-Kinshasa': 2,\n 'Cape Verde': 2,\n 'Rwanda': 1,\n 'Gambia': 1,\n 'Mauritius': 1,\n 'Congo-Brazzaville': 1,\n 'Congo-Léopoldville': 1,\n 'United Arab Rep.': 1,\n 'Comoros': 1,\n 'Burundi': 1,\n 'Madagascar': 1,\n 'Upper Volta': 1}"
     },
     "execution_count": 127,
     "metadata": {},
     "output_type": "execute_result"
    }
   ],
   "source": [
    "# ... Calcul du nombre  et transformation en dictionnaire \n",
    "dict_tournaments = unique_teams_and_years['Team'].value_counts().to_dict()\n",
    "dict_tournaments"
   ],
   "metadata": {
    "collapsed": false,
    "ExecuteTime": {
     "end_time": "2024-01-03T03:32:47.826757Z",
     "start_time": "2024-01-03T03:32:47.656662300Z"
    }
   },
   "id": "6b28a7ba0c69aa3e",
   "execution_count": 127
  },
  {
   "cell_type": "code",
   "outputs": [],
   "source": [
    "total_goals_scored = pd.concat([df_matches.groupby('HomeTeam')['HomeTeamGoals'].sum(),\n",
    "                        df_matches.groupby('AwayTeam')['AwayTeamGoals'].sum()], axis=1, sort=False).sum(axis=1)"
   ],
   "metadata": {
    "collapsed": false,
    "ExecuteTime": {
     "end_time": "2024-01-03T03:32:50.521376900Z",
     "start_time": "2024-01-03T03:32:50.420594300Z"
    }
   },
   "id": "2403c2218c75d32d",
   "execution_count": 128
  },
  {
   "cell_type": "code",
   "outputs": [
    {
     "data": {
      "text/plain": "{'Algeria': 87.0,\n 'Angola': 25.0,\n 'Benin': 7.0,\n 'Burkina Faso': 37.0,\n 'Burundi': 0.0,\n 'Cameroon': 135.0,\n 'Cape Verde': 2.0,\n 'Comoros': 4.0,\n 'Congo': 21.0,\n 'Congo-Kinshasa': 12.0,\n 'DR Congo': 35.0,\n 'Egypt': 158.0,\n 'Equatorial Guinea': 5.0,\n 'Ethiopia': 30.0,\n 'Gabon': 16.0,\n 'Gambia': 4.0,\n 'Ghana': 119.0,\n 'Guinea': 51.0,\n 'Guinea-Bissau': 2.0,\n 'Ivory Coast': 129.0,\n 'Kenya': 11.0,\n 'Liberia': 5.0,\n 'Libya': 8.0,\n 'Madagascar': 7.0,\n 'Malawi': 9.0,\n 'Mali': 57.0,\n 'Mauritania': 1.0,\n 'Morocco': 75.0,\n 'Mozambique': 4.0,\n 'Namibia': 10.0,\n 'Nigeria': 133.0,\n 'Rwanda': 3.0,\n 'Senegal': 72.0,\n 'Sierra Leone': 4.0,\n 'South Africa': 41.0,\n 'Sudan': 25.0,\n 'Tanzania': 5.0,\n 'Togo': 15.0,\n 'Tunisia': 99.0,\n 'Uganda': 21.0,\n 'United Arab Rep.': 10.0,\n 'Zaire': 34.0,\n 'Zambia': 72.0,\n 'Zimbabwe': 16.0,\n 'Congo-Brazzaville': 2.0,\n 'Congo-Léopoldville': 2.0,\n 'Mauritius': 2.0,\n 'Upper Volta': 2.0}"
     },
     "execution_count": 129,
     "metadata": {},
     "output_type": "execute_result"
    }
   ],
   "source": [
    "dict_goals_scored = total_goals_scored.to_dict()\n",
    "dict_goals_scored"
   ],
   "metadata": {
    "collapsed": false,
    "ExecuteTime": {
     "end_time": "2024-01-03T03:32:51.555041400Z",
     "start_time": "2024-01-03T03:32:51.491471300Z"
    }
   },
   "id": "b22edc45c0ff2c4",
   "execution_count": 129
  },
  {
   "cell_type": "code",
   "outputs": [
    {
     "data": {
      "text/plain": "{'Algeria': 82.0,\n 'Angola': 30.0,\n 'Benin': 24.0,\n 'Burkina Faso': 52.0,\n 'Burundi': 4.0,\n 'Cameroon': 80.0,\n 'Cape Verde': 6.0,\n 'Comoros': 7.0,\n 'Congo': 30.0,\n 'Congo-Kinshasa': 10.0,\n 'DR Congo': 42.0,\n 'Egypt': 85.0,\n 'Equatorial Guinea': 11.0,\n 'Ethiopia': 60.0,\n 'Gabon': 25.0,\n 'Gambia': 3.0,\n 'Ghana': 81.0,\n 'Guinea': 60.0,\n 'Guinea-Bissau': 12.0,\n 'Ivory Coast': 98.0,\n 'Kenya': 31.0,\n 'Liberia': 7.0,\n 'Libya': 9.0,\n 'Madagascar': 7.0,\n 'Malawi': 15.0,\n 'Mali': 57.0,\n 'Mauritania': 11.0,\n 'Morocco': 55.0,\n 'Mozambique': 26.0,\n 'Namibia': 24.0,\n 'Nigeria': 100.0,\n 'Rwanda': 3.0,\n 'Senegal': 46.0,\n 'Sierra Leone': 14.0,\n 'South Africa': 37.0,\n 'Sudan': 38.0,\n 'Tanzania': 14.0,\n 'Togo': 39.0,\n 'Tunisia': 84.0,\n 'Uganda': 38.0,\n 'United Arab Rep.': 5.0,\n 'Zaire': 37.0,\n 'Zambia': 61.0,\n 'Zimbabwe': 31.0,\n 'Congo-Brazzaville': 8.0,\n 'Congo-Léopoldville': 8.0,\n 'Mauritius': 8.0,\n 'Upper Volta': 9.0}"
     },
     "execution_count": 130,
     "metadata": {},
     "output_type": "execute_result"
    }
   ],
   "source": [
    "total_goals_conceded = pd.concat([df_matches.groupby('HomeTeam')['AwayTeamGoals'].sum(),\n",
    "                                df_matches.groupby('AwayTeam')['HomeTeamGoals'].sum()], axis=1, sort=False).sum(axis=1)\n",
    "dict_goals_conceded = total_goals_conceded.to_dict()\n",
    "dict_goals_conceded"
   ],
   "metadata": {
    "collapsed": false,
    "ExecuteTime": {
     "end_time": "2024-01-03T03:32:54.766079100Z",
     "start_time": "2024-01-03T03:32:54.642841900Z"
    }
   },
   "id": "59d8cacc3d59eb33",
   "execution_count": 130
  },
  {
   "cell_type": "code",
   "outputs": [
    {
     "data": {
      "text/plain": "                     nb_tournaments  nb_games  nb_wins  nb_losses  nb_draws  \\\nEgypt                            24     102.0     57.0       26.0      19.0   \nIvory Coast                      24      90.0     38.0       28.0      24.0   \nGhana                            23      93.0     48.0       26.0      19.0   \nCameroon                         19      88.0     45.0       15.0      28.0   \nNigeria                          19      94.0     52.0       23.0      19.0   \nTunisia                          19      71.0     22.0       24.0      25.0   \nAlgeria                          18      71.0     26.0       24.0      21.0   \nMorocco                          16      64.0     26.0       17.0      21.0   \nZambia                           15      58.0     24.0       20.0      14.0   \nSenegal                          14      61.0     26.0       19.0      16.0   \nGuinea                           12      41.0     12.0       16.0      13.0   \nMali                             11      45.0     16.0       14.0      15.0   \nEthiopia                         10      27.0      7.0       17.0       3.0   \nSouth Africa                      9      37.0     15.0       12.0      10.0   \nBurkina Faso                      9      36.0      8.0       15.0      13.0   \nSudan                             9      24.0      6.0       12.0       6.0   \nDR Congo                          8      31.0      9.0       14.0       8.0   \nTogo                              8      22.0      2.0       13.0       7.0   \nGabon                             7      19.0      3.0        6.0      10.0   \nZaire                             7      26.0      7.0       10.0       9.0   \nUganda                            7      23.0      4.0       16.0       3.0   \nAngola                            6      20.0      3.0        7.0      10.0   \nKenya                             6      17.0      2.0       11.0       4.0   \nCongo                             6      20.0      5.0        9.0       6.0   \nZimbabwe                          5      15.0      3.0       10.0       2.0   \nMozambique                        4      12.0      0.0       10.0       2.0   \nBenin                             4      14.0      0.0        9.0       5.0   \nGuinea-Bissau                     3       9.0      0.0        6.0       3.0   \nEquatorial Guinea                 3       9.0      3.0        4.0       2.0   \nNamibia                           3       9.0      0.0        7.0       2.0   \nSierra Leone                      3       8.0      1.0        4.0       3.0   \nMalawi                            3      10.0      2.0        6.0       2.0   \nLibya                             2       8.0      2.0        2.0       4.0   \nTanzania                          2       6.0      0.0        5.0       1.0   \nMauritania                        2       6.0      0.0        4.0       2.0   \nLiberia                           2       5.0      1.0        2.0       2.0   \nCongo-Kinshasa                    2       8.0      4.0        3.0       1.0   \nCape Verde                        2       5.0      1.0        3.0       1.0   \nRwanda                            1       3.0      1.0        1.0       1.0   \nGambia                            1       5.0      3.0        1.0       1.0   \nMauritius                         1       3.0      0.0        3.0       0.0   \nCongo-Brazzaville                 1       3.0      0.0        3.0       0.0   \nCongo-Léopoldville               1       2.0      0.0        2.0       0.0   \nUnited Arab Rep.                  1       5.0      3.0        1.0       1.0   \nComoros                           1       4.0      1.0        3.0       0.0   \nBurundi                           1       3.0      0.0        3.0       0.0   \nMadagascar                        1       5.0      2.0        1.0       2.0   \nUpper Volta                       1       3.0      0.0        3.0       0.0   \n\n                     nb_goals_scored  nb_goals_conceded  \nEgypt                          158.0               85.0  \nIvory Coast                    129.0               98.0  \nGhana                          119.0               81.0  \nCameroon                       135.0               80.0  \nNigeria                        133.0              100.0  \nTunisia                         99.0               84.0  \nAlgeria                         87.0               82.0  \nMorocco                         75.0               55.0  \nZambia                          72.0               61.0  \nSenegal                         72.0               46.0  \nGuinea                          51.0               60.0  \nMali                            57.0               57.0  \nEthiopia                        30.0               60.0  \nSouth Africa                    41.0               37.0  \nBurkina Faso                    37.0               52.0  \nSudan                           25.0               38.0  \nDR Congo                        35.0               42.0  \nTogo                            15.0               39.0  \nGabon                           16.0               25.0  \nZaire                           34.0               37.0  \nUganda                          21.0               38.0  \nAngola                          25.0               30.0  \nKenya                           11.0               31.0  \nCongo                           21.0               30.0  \nZimbabwe                        16.0               31.0  \nMozambique                       4.0               26.0  \nBenin                            7.0               24.0  \nGuinea-Bissau                    2.0               12.0  \nEquatorial Guinea                5.0               11.0  \nNamibia                         10.0               24.0  \nSierra Leone                     4.0               14.0  \nMalawi                           9.0               15.0  \nLibya                            8.0                9.0  \nTanzania                         5.0               14.0  \nMauritania                       1.0               11.0  \nLiberia                          5.0                7.0  \nCongo-Kinshasa                  12.0               10.0  \nCape Verde                       2.0                6.0  \nRwanda                           3.0                3.0  \nGambia                           4.0                3.0  \nMauritius                        2.0                8.0  \nCongo-Brazzaville                2.0                8.0  \nCongo-Léopoldville              2.0                8.0  \nUnited Arab Rep.                10.0                5.0  \nComoros                          4.0                7.0  \nBurundi                          0.0                4.0  \nMadagascar                       7.0                7.0  \nUpper Volta                      2.0                9.0  ",
      "text/html": "<div>\n<style scoped>\n    .dataframe tbody tr th:only-of-type {\n        vertical-align: middle;\n    }\n\n    .dataframe tbody tr th {\n        vertical-align: top;\n    }\n\n    .dataframe thead th {\n        text-align: right;\n    }\n</style>\n<table border=\"1\" class=\"dataframe\">\n  <thead>\n    <tr style=\"text-align: right;\">\n      <th></th>\n      <th>nb_tournaments</th>\n      <th>nb_games</th>\n      <th>nb_wins</th>\n      <th>nb_losses</th>\n      <th>nb_draws</th>\n      <th>nb_goals_scored</th>\n      <th>nb_goals_conceded</th>\n    </tr>\n  </thead>\n  <tbody>\n    <tr>\n      <th>Egypt</th>\n      <td>24</td>\n      <td>102.0</td>\n      <td>57.0</td>\n      <td>26.0</td>\n      <td>19.0</td>\n      <td>158.0</td>\n      <td>85.0</td>\n    </tr>\n    <tr>\n      <th>Ivory Coast</th>\n      <td>24</td>\n      <td>90.0</td>\n      <td>38.0</td>\n      <td>28.0</td>\n      <td>24.0</td>\n      <td>129.0</td>\n      <td>98.0</td>\n    </tr>\n    <tr>\n      <th>Ghana</th>\n      <td>23</td>\n      <td>93.0</td>\n      <td>48.0</td>\n      <td>26.0</td>\n      <td>19.0</td>\n      <td>119.0</td>\n      <td>81.0</td>\n    </tr>\n    <tr>\n      <th>Cameroon</th>\n      <td>19</td>\n      <td>88.0</td>\n      <td>45.0</td>\n      <td>15.0</td>\n      <td>28.0</td>\n      <td>135.0</td>\n      <td>80.0</td>\n    </tr>\n    <tr>\n      <th>Nigeria</th>\n      <td>19</td>\n      <td>94.0</td>\n      <td>52.0</td>\n      <td>23.0</td>\n      <td>19.0</td>\n      <td>133.0</td>\n      <td>100.0</td>\n    </tr>\n    <tr>\n      <th>Tunisia</th>\n      <td>19</td>\n      <td>71.0</td>\n      <td>22.0</td>\n      <td>24.0</td>\n      <td>25.0</td>\n      <td>99.0</td>\n      <td>84.0</td>\n    </tr>\n    <tr>\n      <th>Algeria</th>\n      <td>18</td>\n      <td>71.0</td>\n      <td>26.0</td>\n      <td>24.0</td>\n      <td>21.0</td>\n      <td>87.0</td>\n      <td>82.0</td>\n    </tr>\n    <tr>\n      <th>Morocco</th>\n      <td>16</td>\n      <td>64.0</td>\n      <td>26.0</td>\n      <td>17.0</td>\n      <td>21.0</td>\n      <td>75.0</td>\n      <td>55.0</td>\n    </tr>\n    <tr>\n      <th>Zambia</th>\n      <td>15</td>\n      <td>58.0</td>\n      <td>24.0</td>\n      <td>20.0</td>\n      <td>14.0</td>\n      <td>72.0</td>\n      <td>61.0</td>\n    </tr>\n    <tr>\n      <th>Senegal</th>\n      <td>14</td>\n      <td>61.0</td>\n      <td>26.0</td>\n      <td>19.0</td>\n      <td>16.0</td>\n      <td>72.0</td>\n      <td>46.0</td>\n    </tr>\n    <tr>\n      <th>Guinea</th>\n      <td>12</td>\n      <td>41.0</td>\n      <td>12.0</td>\n      <td>16.0</td>\n      <td>13.0</td>\n      <td>51.0</td>\n      <td>60.0</td>\n    </tr>\n    <tr>\n      <th>Mali</th>\n      <td>11</td>\n      <td>45.0</td>\n      <td>16.0</td>\n      <td>14.0</td>\n      <td>15.0</td>\n      <td>57.0</td>\n      <td>57.0</td>\n    </tr>\n    <tr>\n      <th>Ethiopia</th>\n      <td>10</td>\n      <td>27.0</td>\n      <td>7.0</td>\n      <td>17.0</td>\n      <td>3.0</td>\n      <td>30.0</td>\n      <td>60.0</td>\n    </tr>\n    <tr>\n      <th>South Africa</th>\n      <td>9</td>\n      <td>37.0</td>\n      <td>15.0</td>\n      <td>12.0</td>\n      <td>10.0</td>\n      <td>41.0</td>\n      <td>37.0</td>\n    </tr>\n    <tr>\n      <th>Burkina Faso</th>\n      <td>9</td>\n      <td>36.0</td>\n      <td>8.0</td>\n      <td>15.0</td>\n      <td>13.0</td>\n      <td>37.0</td>\n      <td>52.0</td>\n    </tr>\n    <tr>\n      <th>Sudan</th>\n      <td>9</td>\n      <td>24.0</td>\n      <td>6.0</td>\n      <td>12.0</td>\n      <td>6.0</td>\n      <td>25.0</td>\n      <td>38.0</td>\n    </tr>\n    <tr>\n      <th>DR Congo</th>\n      <td>8</td>\n      <td>31.0</td>\n      <td>9.0</td>\n      <td>14.0</td>\n      <td>8.0</td>\n      <td>35.0</td>\n      <td>42.0</td>\n    </tr>\n    <tr>\n      <th>Togo</th>\n      <td>8</td>\n      <td>22.0</td>\n      <td>2.0</td>\n      <td>13.0</td>\n      <td>7.0</td>\n      <td>15.0</td>\n      <td>39.0</td>\n    </tr>\n    <tr>\n      <th>Gabon</th>\n      <td>7</td>\n      <td>19.0</td>\n      <td>3.0</td>\n      <td>6.0</td>\n      <td>10.0</td>\n      <td>16.0</td>\n      <td>25.0</td>\n    </tr>\n    <tr>\n      <th>Zaire</th>\n      <td>7</td>\n      <td>26.0</td>\n      <td>7.0</td>\n      <td>10.0</td>\n      <td>9.0</td>\n      <td>34.0</td>\n      <td>37.0</td>\n    </tr>\n    <tr>\n      <th>Uganda</th>\n      <td>7</td>\n      <td>23.0</td>\n      <td>4.0</td>\n      <td>16.0</td>\n      <td>3.0</td>\n      <td>21.0</td>\n      <td>38.0</td>\n    </tr>\n    <tr>\n      <th>Angola</th>\n      <td>6</td>\n      <td>20.0</td>\n      <td>3.0</td>\n      <td>7.0</td>\n      <td>10.0</td>\n      <td>25.0</td>\n      <td>30.0</td>\n    </tr>\n    <tr>\n      <th>Kenya</th>\n      <td>6</td>\n      <td>17.0</td>\n      <td>2.0</td>\n      <td>11.0</td>\n      <td>4.0</td>\n      <td>11.0</td>\n      <td>31.0</td>\n    </tr>\n    <tr>\n      <th>Congo</th>\n      <td>6</td>\n      <td>20.0</td>\n      <td>5.0</td>\n      <td>9.0</td>\n      <td>6.0</td>\n      <td>21.0</td>\n      <td>30.0</td>\n    </tr>\n    <tr>\n      <th>Zimbabwe</th>\n      <td>5</td>\n      <td>15.0</td>\n      <td>3.0</td>\n      <td>10.0</td>\n      <td>2.0</td>\n      <td>16.0</td>\n      <td>31.0</td>\n    </tr>\n    <tr>\n      <th>Mozambique</th>\n      <td>4</td>\n      <td>12.0</td>\n      <td>0.0</td>\n      <td>10.0</td>\n      <td>2.0</td>\n      <td>4.0</td>\n      <td>26.0</td>\n    </tr>\n    <tr>\n      <th>Benin</th>\n      <td>4</td>\n      <td>14.0</td>\n      <td>0.0</td>\n      <td>9.0</td>\n      <td>5.0</td>\n      <td>7.0</td>\n      <td>24.0</td>\n    </tr>\n    <tr>\n      <th>Guinea-Bissau</th>\n      <td>3</td>\n      <td>9.0</td>\n      <td>0.0</td>\n      <td>6.0</td>\n      <td>3.0</td>\n      <td>2.0</td>\n      <td>12.0</td>\n    </tr>\n    <tr>\n      <th>Equatorial Guinea</th>\n      <td>3</td>\n      <td>9.0</td>\n      <td>3.0</td>\n      <td>4.0</td>\n      <td>2.0</td>\n      <td>5.0</td>\n      <td>11.0</td>\n    </tr>\n    <tr>\n      <th>Namibia</th>\n      <td>3</td>\n      <td>9.0</td>\n      <td>0.0</td>\n      <td>7.0</td>\n      <td>2.0</td>\n      <td>10.0</td>\n      <td>24.0</td>\n    </tr>\n    <tr>\n      <th>Sierra Leone</th>\n      <td>3</td>\n      <td>8.0</td>\n      <td>1.0</td>\n      <td>4.0</td>\n      <td>3.0</td>\n      <td>4.0</td>\n      <td>14.0</td>\n    </tr>\n    <tr>\n      <th>Malawi</th>\n      <td>3</td>\n      <td>10.0</td>\n      <td>2.0</td>\n      <td>6.0</td>\n      <td>2.0</td>\n      <td>9.0</td>\n      <td>15.0</td>\n    </tr>\n    <tr>\n      <th>Libya</th>\n      <td>2</td>\n      <td>8.0</td>\n      <td>2.0</td>\n      <td>2.0</td>\n      <td>4.0</td>\n      <td>8.0</td>\n      <td>9.0</td>\n    </tr>\n    <tr>\n      <th>Tanzania</th>\n      <td>2</td>\n      <td>6.0</td>\n      <td>0.0</td>\n      <td>5.0</td>\n      <td>1.0</td>\n      <td>5.0</td>\n      <td>14.0</td>\n    </tr>\n    <tr>\n      <th>Mauritania</th>\n      <td>2</td>\n      <td>6.0</td>\n      <td>0.0</td>\n      <td>4.0</td>\n      <td>2.0</td>\n      <td>1.0</td>\n      <td>11.0</td>\n    </tr>\n    <tr>\n      <th>Liberia</th>\n      <td>2</td>\n      <td>5.0</td>\n      <td>1.0</td>\n      <td>2.0</td>\n      <td>2.0</td>\n      <td>5.0</td>\n      <td>7.0</td>\n    </tr>\n    <tr>\n      <th>Congo-Kinshasa</th>\n      <td>2</td>\n      <td>8.0</td>\n      <td>4.0</td>\n      <td>3.0</td>\n      <td>1.0</td>\n      <td>12.0</td>\n      <td>10.0</td>\n    </tr>\n    <tr>\n      <th>Cape Verde</th>\n      <td>2</td>\n      <td>5.0</td>\n      <td>1.0</td>\n      <td>3.0</td>\n      <td>1.0</td>\n      <td>2.0</td>\n      <td>6.0</td>\n    </tr>\n    <tr>\n      <th>Rwanda</th>\n      <td>1</td>\n      <td>3.0</td>\n      <td>1.0</td>\n      <td>1.0</td>\n      <td>1.0</td>\n      <td>3.0</td>\n      <td>3.0</td>\n    </tr>\n    <tr>\n      <th>Gambia</th>\n      <td>1</td>\n      <td>5.0</td>\n      <td>3.0</td>\n      <td>1.0</td>\n      <td>1.0</td>\n      <td>4.0</td>\n      <td>3.0</td>\n    </tr>\n    <tr>\n      <th>Mauritius</th>\n      <td>1</td>\n      <td>3.0</td>\n      <td>0.0</td>\n      <td>3.0</td>\n      <td>0.0</td>\n      <td>2.0</td>\n      <td>8.0</td>\n    </tr>\n    <tr>\n      <th>Congo-Brazzaville</th>\n      <td>1</td>\n      <td>3.0</td>\n      <td>0.0</td>\n      <td>3.0</td>\n      <td>0.0</td>\n      <td>2.0</td>\n      <td>8.0</td>\n    </tr>\n    <tr>\n      <th>Congo-Léopoldville</th>\n      <td>1</td>\n      <td>2.0</td>\n      <td>0.0</td>\n      <td>2.0</td>\n      <td>0.0</td>\n      <td>2.0</td>\n      <td>8.0</td>\n    </tr>\n    <tr>\n      <th>United Arab Rep.</th>\n      <td>1</td>\n      <td>5.0</td>\n      <td>3.0</td>\n      <td>1.0</td>\n      <td>1.0</td>\n      <td>10.0</td>\n      <td>5.0</td>\n    </tr>\n    <tr>\n      <th>Comoros</th>\n      <td>1</td>\n      <td>4.0</td>\n      <td>1.0</td>\n      <td>3.0</td>\n      <td>0.0</td>\n      <td>4.0</td>\n      <td>7.0</td>\n    </tr>\n    <tr>\n      <th>Burundi</th>\n      <td>1</td>\n      <td>3.0</td>\n      <td>0.0</td>\n      <td>3.0</td>\n      <td>0.0</td>\n      <td>0.0</td>\n      <td>4.0</td>\n    </tr>\n    <tr>\n      <th>Madagascar</th>\n      <td>1</td>\n      <td>5.0</td>\n      <td>2.0</td>\n      <td>1.0</td>\n      <td>2.0</td>\n      <td>7.0</td>\n      <td>7.0</td>\n    </tr>\n    <tr>\n      <th>Upper Volta</th>\n      <td>1</td>\n      <td>3.0</td>\n      <td>0.0</td>\n      <td>3.0</td>\n      <td>0.0</td>\n      <td>2.0</td>\n      <td>9.0</td>\n    </tr>\n  </tbody>\n</table>\n</div>"
     },
     "execution_count": 131,
     "metadata": {},
     "output_type": "execute_result"
    }
   ],
   "source": [
    "df_summary = pd.DataFrame({'nb_tournaments' : dict_tournaments,\n",
    "                          'nb_games' : dict_games,\n",
    "                          'nb_wins' : dict_wins,\n",
    "                          'nb_losses' : dict_losses,\n",
    "                          'nb_draws' : dict_draws,\n",
    "                          'nb_goals_scored' : dict_goals_scored,\n",
    "                          'nb_goals_conceded' : dict_goals_conceded}\n",
    "                          )\n",
    "\n",
    "df_summary"
   ],
   "metadata": {
    "collapsed": false,
    "ExecuteTime": {
     "end_time": "2024-01-03T03:32:57.784225Z",
     "start_time": "2024-01-03T03:32:57.620914700Z"
    }
   },
   "id": "f8718e9c70f2ae27",
   "execution_count": 131
  },
  {
   "cell_type": "code",
   "outputs": [
    {
     "data": {
      "text/plain": "                  index  nb_tournaments  nb_games  nb_wins  nb_losses  \\\n0                 Egypt              24     102.0     57.0       26.0   \n1           Ivory Coast              24      90.0     38.0       28.0   \n2                 Ghana              23      93.0     48.0       26.0   \n3              Cameroon              19      88.0     45.0       15.0   \n4               Nigeria              19      94.0     52.0       23.0   \n5               Tunisia              19      71.0     22.0       24.0   \n6               Algeria              18      71.0     26.0       24.0   \n7               Morocco              16      64.0     26.0       17.0   \n8                Zambia              15      58.0     24.0       20.0   \n9               Senegal              14      61.0     26.0       19.0   \n10               Guinea              12      41.0     12.0       16.0   \n11                 Mali              11      45.0     16.0       14.0   \n12             Ethiopia              10      27.0      7.0       17.0   \n13         South Africa               9      37.0     15.0       12.0   \n14         Burkina Faso               9      36.0      8.0       15.0   \n15                Sudan               9      24.0      6.0       12.0   \n16             DR Congo               8      31.0      9.0       14.0   \n17                 Togo               8      22.0      2.0       13.0   \n18                Gabon               7      19.0      3.0        6.0   \n19                Zaire               7      26.0      7.0       10.0   \n20               Uganda               7      23.0      4.0       16.0   \n21               Angola               6      20.0      3.0        7.0   \n22                Kenya               6      17.0      2.0       11.0   \n23                Congo               6      20.0      5.0        9.0   \n24             Zimbabwe               5      15.0      3.0       10.0   \n25           Mozambique               4      12.0      0.0       10.0   \n26                Benin               4      14.0      0.0        9.0   \n27        Guinea-Bissau               3       9.0      0.0        6.0   \n28    Equatorial Guinea               3       9.0      3.0        4.0   \n29              Namibia               3       9.0      0.0        7.0   \n30         Sierra Leone               3       8.0      1.0        4.0   \n31               Malawi               3      10.0      2.0        6.0   \n32                Libya               2       8.0      2.0        2.0   \n33             Tanzania               2       6.0      0.0        5.0   \n34           Mauritania               2       6.0      0.0        4.0   \n35              Liberia               2       5.0      1.0        2.0   \n36       Congo-Kinshasa               2       8.0      4.0        3.0   \n37           Cape Verde               2       5.0      1.0        3.0   \n38               Rwanda               1       3.0      1.0        1.0   \n39               Gambia               1       5.0      3.0        1.0   \n40            Mauritius               1       3.0      0.0        3.0   \n41    Congo-Brazzaville               1       3.0      0.0        3.0   \n42  Congo-Léopoldville               1       2.0      0.0        2.0   \n43     United Arab Rep.               1       5.0      3.0        1.0   \n44              Comoros               1       4.0      1.0        3.0   \n45              Burundi               1       3.0      0.0        3.0   \n46           Madagascar               1       5.0      2.0        1.0   \n47          Upper Volta               1       3.0      0.0        3.0   \n\n    nb_draws  nb_goals_scored  nb_goals_conceded  \n0       19.0            158.0               85.0  \n1       24.0            129.0               98.0  \n2       19.0            119.0               81.0  \n3       28.0            135.0               80.0  \n4       19.0            133.0              100.0  \n5       25.0             99.0               84.0  \n6       21.0             87.0               82.0  \n7       21.0             75.0               55.0  \n8       14.0             72.0               61.0  \n9       16.0             72.0               46.0  \n10      13.0             51.0               60.0  \n11      15.0             57.0               57.0  \n12       3.0             30.0               60.0  \n13      10.0             41.0               37.0  \n14      13.0             37.0               52.0  \n15       6.0             25.0               38.0  \n16       8.0             35.0               42.0  \n17       7.0             15.0               39.0  \n18      10.0             16.0               25.0  \n19       9.0             34.0               37.0  \n20       3.0             21.0               38.0  \n21      10.0             25.0               30.0  \n22       4.0             11.0               31.0  \n23       6.0             21.0               30.0  \n24       2.0             16.0               31.0  \n25       2.0              4.0               26.0  \n26       5.0              7.0               24.0  \n27       3.0              2.0               12.0  \n28       2.0              5.0               11.0  \n29       2.0             10.0               24.0  \n30       3.0              4.0               14.0  \n31       2.0              9.0               15.0  \n32       4.0              8.0                9.0  \n33       1.0              5.0               14.0  \n34       2.0              1.0               11.0  \n35       2.0              5.0                7.0  \n36       1.0             12.0               10.0  \n37       1.0              2.0                6.0  \n38       1.0              3.0                3.0  \n39       1.0              4.0                3.0  \n40       0.0              2.0                8.0  \n41       0.0              2.0                8.0  \n42       0.0              2.0                8.0  \n43       1.0             10.0                5.0  \n44       0.0              4.0                7.0  \n45       0.0              0.0                4.0  \n46       2.0              7.0                7.0  \n47       0.0              2.0                9.0  ",
      "text/html": "<div>\n<style scoped>\n    .dataframe tbody tr th:only-of-type {\n        vertical-align: middle;\n    }\n\n    .dataframe tbody tr th {\n        vertical-align: top;\n    }\n\n    .dataframe thead th {\n        text-align: right;\n    }\n</style>\n<table border=\"1\" class=\"dataframe\">\n  <thead>\n    <tr style=\"text-align: right;\">\n      <th></th>\n      <th>index</th>\n      <th>nb_tournaments</th>\n      <th>nb_games</th>\n      <th>nb_wins</th>\n      <th>nb_losses</th>\n      <th>nb_draws</th>\n      <th>nb_goals_scored</th>\n      <th>nb_goals_conceded</th>\n    </tr>\n  </thead>\n  <tbody>\n    <tr>\n      <th>0</th>\n      <td>Egypt</td>\n      <td>24</td>\n      <td>102.0</td>\n      <td>57.0</td>\n      <td>26.0</td>\n      <td>19.0</td>\n      <td>158.0</td>\n      <td>85.0</td>\n    </tr>\n    <tr>\n      <th>1</th>\n      <td>Ivory Coast</td>\n      <td>24</td>\n      <td>90.0</td>\n      <td>38.0</td>\n      <td>28.0</td>\n      <td>24.0</td>\n      <td>129.0</td>\n      <td>98.0</td>\n    </tr>\n    <tr>\n      <th>2</th>\n      <td>Ghana</td>\n      <td>23</td>\n      <td>93.0</td>\n      <td>48.0</td>\n      <td>26.0</td>\n      <td>19.0</td>\n      <td>119.0</td>\n      <td>81.0</td>\n    </tr>\n    <tr>\n      <th>3</th>\n      <td>Cameroon</td>\n      <td>19</td>\n      <td>88.0</td>\n      <td>45.0</td>\n      <td>15.0</td>\n      <td>28.0</td>\n      <td>135.0</td>\n      <td>80.0</td>\n    </tr>\n    <tr>\n      <th>4</th>\n      <td>Nigeria</td>\n      <td>19</td>\n      <td>94.0</td>\n      <td>52.0</td>\n      <td>23.0</td>\n      <td>19.0</td>\n      <td>133.0</td>\n      <td>100.0</td>\n    </tr>\n    <tr>\n      <th>5</th>\n      <td>Tunisia</td>\n      <td>19</td>\n      <td>71.0</td>\n      <td>22.0</td>\n      <td>24.0</td>\n      <td>25.0</td>\n      <td>99.0</td>\n      <td>84.0</td>\n    </tr>\n    <tr>\n      <th>6</th>\n      <td>Algeria</td>\n      <td>18</td>\n      <td>71.0</td>\n      <td>26.0</td>\n      <td>24.0</td>\n      <td>21.0</td>\n      <td>87.0</td>\n      <td>82.0</td>\n    </tr>\n    <tr>\n      <th>7</th>\n      <td>Morocco</td>\n      <td>16</td>\n      <td>64.0</td>\n      <td>26.0</td>\n      <td>17.0</td>\n      <td>21.0</td>\n      <td>75.0</td>\n      <td>55.0</td>\n    </tr>\n    <tr>\n      <th>8</th>\n      <td>Zambia</td>\n      <td>15</td>\n      <td>58.0</td>\n      <td>24.0</td>\n      <td>20.0</td>\n      <td>14.0</td>\n      <td>72.0</td>\n      <td>61.0</td>\n    </tr>\n    <tr>\n      <th>9</th>\n      <td>Senegal</td>\n      <td>14</td>\n      <td>61.0</td>\n      <td>26.0</td>\n      <td>19.0</td>\n      <td>16.0</td>\n      <td>72.0</td>\n      <td>46.0</td>\n    </tr>\n    <tr>\n      <th>10</th>\n      <td>Guinea</td>\n      <td>12</td>\n      <td>41.0</td>\n      <td>12.0</td>\n      <td>16.0</td>\n      <td>13.0</td>\n      <td>51.0</td>\n      <td>60.0</td>\n    </tr>\n    <tr>\n      <th>11</th>\n      <td>Mali</td>\n      <td>11</td>\n      <td>45.0</td>\n      <td>16.0</td>\n      <td>14.0</td>\n      <td>15.0</td>\n      <td>57.0</td>\n      <td>57.0</td>\n    </tr>\n    <tr>\n      <th>12</th>\n      <td>Ethiopia</td>\n      <td>10</td>\n      <td>27.0</td>\n      <td>7.0</td>\n      <td>17.0</td>\n      <td>3.0</td>\n      <td>30.0</td>\n      <td>60.0</td>\n    </tr>\n    <tr>\n      <th>13</th>\n      <td>South Africa</td>\n      <td>9</td>\n      <td>37.0</td>\n      <td>15.0</td>\n      <td>12.0</td>\n      <td>10.0</td>\n      <td>41.0</td>\n      <td>37.0</td>\n    </tr>\n    <tr>\n      <th>14</th>\n      <td>Burkina Faso</td>\n      <td>9</td>\n      <td>36.0</td>\n      <td>8.0</td>\n      <td>15.0</td>\n      <td>13.0</td>\n      <td>37.0</td>\n      <td>52.0</td>\n    </tr>\n    <tr>\n      <th>15</th>\n      <td>Sudan</td>\n      <td>9</td>\n      <td>24.0</td>\n      <td>6.0</td>\n      <td>12.0</td>\n      <td>6.0</td>\n      <td>25.0</td>\n      <td>38.0</td>\n    </tr>\n    <tr>\n      <th>16</th>\n      <td>DR Congo</td>\n      <td>8</td>\n      <td>31.0</td>\n      <td>9.0</td>\n      <td>14.0</td>\n      <td>8.0</td>\n      <td>35.0</td>\n      <td>42.0</td>\n    </tr>\n    <tr>\n      <th>17</th>\n      <td>Togo</td>\n      <td>8</td>\n      <td>22.0</td>\n      <td>2.0</td>\n      <td>13.0</td>\n      <td>7.0</td>\n      <td>15.0</td>\n      <td>39.0</td>\n    </tr>\n    <tr>\n      <th>18</th>\n      <td>Gabon</td>\n      <td>7</td>\n      <td>19.0</td>\n      <td>3.0</td>\n      <td>6.0</td>\n      <td>10.0</td>\n      <td>16.0</td>\n      <td>25.0</td>\n    </tr>\n    <tr>\n      <th>19</th>\n      <td>Zaire</td>\n      <td>7</td>\n      <td>26.0</td>\n      <td>7.0</td>\n      <td>10.0</td>\n      <td>9.0</td>\n      <td>34.0</td>\n      <td>37.0</td>\n    </tr>\n    <tr>\n      <th>20</th>\n      <td>Uganda</td>\n      <td>7</td>\n      <td>23.0</td>\n      <td>4.0</td>\n      <td>16.0</td>\n      <td>3.0</td>\n      <td>21.0</td>\n      <td>38.0</td>\n    </tr>\n    <tr>\n      <th>21</th>\n      <td>Angola</td>\n      <td>6</td>\n      <td>20.0</td>\n      <td>3.0</td>\n      <td>7.0</td>\n      <td>10.0</td>\n      <td>25.0</td>\n      <td>30.0</td>\n    </tr>\n    <tr>\n      <th>22</th>\n      <td>Kenya</td>\n      <td>6</td>\n      <td>17.0</td>\n      <td>2.0</td>\n      <td>11.0</td>\n      <td>4.0</td>\n      <td>11.0</td>\n      <td>31.0</td>\n    </tr>\n    <tr>\n      <th>23</th>\n      <td>Congo</td>\n      <td>6</td>\n      <td>20.0</td>\n      <td>5.0</td>\n      <td>9.0</td>\n      <td>6.0</td>\n      <td>21.0</td>\n      <td>30.0</td>\n    </tr>\n    <tr>\n      <th>24</th>\n      <td>Zimbabwe</td>\n      <td>5</td>\n      <td>15.0</td>\n      <td>3.0</td>\n      <td>10.0</td>\n      <td>2.0</td>\n      <td>16.0</td>\n      <td>31.0</td>\n    </tr>\n    <tr>\n      <th>25</th>\n      <td>Mozambique</td>\n      <td>4</td>\n      <td>12.0</td>\n      <td>0.0</td>\n      <td>10.0</td>\n      <td>2.0</td>\n      <td>4.0</td>\n      <td>26.0</td>\n    </tr>\n    <tr>\n      <th>26</th>\n      <td>Benin</td>\n      <td>4</td>\n      <td>14.0</td>\n      <td>0.0</td>\n      <td>9.0</td>\n      <td>5.0</td>\n      <td>7.0</td>\n      <td>24.0</td>\n    </tr>\n    <tr>\n      <th>27</th>\n      <td>Guinea-Bissau</td>\n      <td>3</td>\n      <td>9.0</td>\n      <td>0.0</td>\n      <td>6.0</td>\n      <td>3.0</td>\n      <td>2.0</td>\n      <td>12.0</td>\n    </tr>\n    <tr>\n      <th>28</th>\n      <td>Equatorial Guinea</td>\n      <td>3</td>\n      <td>9.0</td>\n      <td>3.0</td>\n      <td>4.0</td>\n      <td>2.0</td>\n      <td>5.0</td>\n      <td>11.0</td>\n    </tr>\n    <tr>\n      <th>29</th>\n      <td>Namibia</td>\n      <td>3</td>\n      <td>9.0</td>\n      <td>0.0</td>\n      <td>7.0</td>\n      <td>2.0</td>\n      <td>10.0</td>\n      <td>24.0</td>\n    </tr>\n    <tr>\n      <th>30</th>\n      <td>Sierra Leone</td>\n      <td>3</td>\n      <td>8.0</td>\n      <td>1.0</td>\n      <td>4.0</td>\n      <td>3.0</td>\n      <td>4.0</td>\n      <td>14.0</td>\n    </tr>\n    <tr>\n      <th>31</th>\n      <td>Malawi</td>\n      <td>3</td>\n      <td>10.0</td>\n      <td>2.0</td>\n      <td>6.0</td>\n      <td>2.0</td>\n      <td>9.0</td>\n      <td>15.0</td>\n    </tr>\n    <tr>\n      <th>32</th>\n      <td>Libya</td>\n      <td>2</td>\n      <td>8.0</td>\n      <td>2.0</td>\n      <td>2.0</td>\n      <td>4.0</td>\n      <td>8.0</td>\n      <td>9.0</td>\n    </tr>\n    <tr>\n      <th>33</th>\n      <td>Tanzania</td>\n      <td>2</td>\n      <td>6.0</td>\n      <td>0.0</td>\n      <td>5.0</td>\n      <td>1.0</td>\n      <td>5.0</td>\n      <td>14.0</td>\n    </tr>\n    <tr>\n      <th>34</th>\n      <td>Mauritania</td>\n      <td>2</td>\n      <td>6.0</td>\n      <td>0.0</td>\n      <td>4.0</td>\n      <td>2.0</td>\n      <td>1.0</td>\n      <td>11.0</td>\n    </tr>\n    <tr>\n      <th>35</th>\n      <td>Liberia</td>\n      <td>2</td>\n      <td>5.0</td>\n      <td>1.0</td>\n      <td>2.0</td>\n      <td>2.0</td>\n      <td>5.0</td>\n      <td>7.0</td>\n    </tr>\n    <tr>\n      <th>36</th>\n      <td>Congo-Kinshasa</td>\n      <td>2</td>\n      <td>8.0</td>\n      <td>4.0</td>\n      <td>3.0</td>\n      <td>1.0</td>\n      <td>12.0</td>\n      <td>10.0</td>\n    </tr>\n    <tr>\n      <th>37</th>\n      <td>Cape Verde</td>\n      <td>2</td>\n      <td>5.0</td>\n      <td>1.0</td>\n      <td>3.0</td>\n      <td>1.0</td>\n      <td>2.0</td>\n      <td>6.0</td>\n    </tr>\n    <tr>\n      <th>38</th>\n      <td>Rwanda</td>\n      <td>1</td>\n      <td>3.0</td>\n      <td>1.0</td>\n      <td>1.0</td>\n      <td>1.0</td>\n      <td>3.0</td>\n      <td>3.0</td>\n    </tr>\n    <tr>\n      <th>39</th>\n      <td>Gambia</td>\n      <td>1</td>\n      <td>5.0</td>\n      <td>3.0</td>\n      <td>1.0</td>\n      <td>1.0</td>\n      <td>4.0</td>\n      <td>3.0</td>\n    </tr>\n    <tr>\n      <th>40</th>\n      <td>Mauritius</td>\n      <td>1</td>\n      <td>3.0</td>\n      <td>0.0</td>\n      <td>3.0</td>\n      <td>0.0</td>\n      <td>2.0</td>\n      <td>8.0</td>\n    </tr>\n    <tr>\n      <th>41</th>\n      <td>Congo-Brazzaville</td>\n      <td>1</td>\n      <td>3.0</td>\n      <td>0.0</td>\n      <td>3.0</td>\n      <td>0.0</td>\n      <td>2.0</td>\n      <td>8.0</td>\n    </tr>\n    <tr>\n      <th>42</th>\n      <td>Congo-Léopoldville</td>\n      <td>1</td>\n      <td>2.0</td>\n      <td>0.0</td>\n      <td>2.0</td>\n      <td>0.0</td>\n      <td>2.0</td>\n      <td>8.0</td>\n    </tr>\n    <tr>\n      <th>43</th>\n      <td>United Arab Rep.</td>\n      <td>1</td>\n      <td>5.0</td>\n      <td>3.0</td>\n      <td>1.0</td>\n      <td>1.0</td>\n      <td>10.0</td>\n      <td>5.0</td>\n    </tr>\n    <tr>\n      <th>44</th>\n      <td>Comoros</td>\n      <td>1</td>\n      <td>4.0</td>\n      <td>1.0</td>\n      <td>3.0</td>\n      <td>0.0</td>\n      <td>4.0</td>\n      <td>7.0</td>\n    </tr>\n    <tr>\n      <th>45</th>\n      <td>Burundi</td>\n      <td>1</td>\n      <td>3.0</td>\n      <td>0.0</td>\n      <td>3.0</td>\n      <td>0.0</td>\n      <td>0.0</td>\n      <td>4.0</td>\n    </tr>\n    <tr>\n      <th>46</th>\n      <td>Madagascar</td>\n      <td>1</td>\n      <td>5.0</td>\n      <td>2.0</td>\n      <td>1.0</td>\n      <td>2.0</td>\n      <td>7.0</td>\n      <td>7.0</td>\n    </tr>\n    <tr>\n      <th>47</th>\n      <td>Upper Volta</td>\n      <td>1</td>\n      <td>3.0</td>\n      <td>0.0</td>\n      <td>3.0</td>\n      <td>0.0</td>\n      <td>2.0</td>\n      <td>9.0</td>\n    </tr>\n  </tbody>\n</table>\n</div>"
     },
     "execution_count": 132,
     "metadata": {},
     "output_type": "execute_result"
    }
   ],
   "source": [
    "df_summary.reset_index(inplace=True)\n",
    "df_summary"
   ],
   "metadata": {
    "collapsed": false,
    "ExecuteTime": {
     "end_time": "2024-01-03T03:34:28.416552100Z",
     "start_time": "2024-01-03T03:34:28.329217400Z"
    }
   },
   "id": "42fdefaaea860e87",
   "execution_count": 132
  },
  {
   "cell_type": "code",
   "outputs": [
    {
     "data": {
      "text/plain": "                   Team  nb_tournaments  nb_games  nb_wins  nb_losses  \\\n0                 Egypt              24     102.0     57.0       26.0   \n1           Ivory Coast              24      90.0     38.0       28.0   \n2                 Ghana              23      93.0     48.0       26.0   \n3              Cameroon              19      88.0     45.0       15.0   \n4               Nigeria              19      94.0     52.0       23.0   \n5               Tunisia              19      71.0     22.0       24.0   \n6               Algeria              18      71.0     26.0       24.0   \n7               Morocco              16      64.0     26.0       17.0   \n8                Zambia              15      58.0     24.0       20.0   \n9               Senegal              14      61.0     26.0       19.0   \n10               Guinea              12      41.0     12.0       16.0   \n11                 Mali              11      45.0     16.0       14.0   \n12             Ethiopia              10      27.0      7.0       17.0   \n13         South Africa               9      37.0     15.0       12.0   \n14         Burkina Faso               9      36.0      8.0       15.0   \n15                Sudan               9      24.0      6.0       12.0   \n16             DR Congo               8      31.0      9.0       14.0   \n17                 Togo               8      22.0      2.0       13.0   \n18                Gabon               7      19.0      3.0        6.0   \n19                Zaire               7      26.0      7.0       10.0   \n20               Uganda               7      23.0      4.0       16.0   \n21               Angola               6      20.0      3.0        7.0   \n22                Kenya               6      17.0      2.0       11.0   \n23                Congo               6      20.0      5.0        9.0   \n24             Zimbabwe               5      15.0      3.0       10.0   \n25           Mozambique               4      12.0      0.0       10.0   \n26                Benin               4      14.0      0.0        9.0   \n27        Guinea-Bissau               3       9.0      0.0        6.0   \n28    Equatorial Guinea               3       9.0      3.0        4.0   \n29              Namibia               3       9.0      0.0        7.0   \n30         Sierra Leone               3       8.0      1.0        4.0   \n31               Malawi               3      10.0      2.0        6.0   \n32                Libya               2       8.0      2.0        2.0   \n33             Tanzania               2       6.0      0.0        5.0   \n34           Mauritania               2       6.0      0.0        4.0   \n35              Liberia               2       5.0      1.0        2.0   \n36       Congo-Kinshasa               2       8.0      4.0        3.0   \n37           Cape Verde               2       5.0      1.0        3.0   \n38               Rwanda               1       3.0      1.0        1.0   \n39               Gambia               1       5.0      3.0        1.0   \n40            Mauritius               1       3.0      0.0        3.0   \n41    Congo-Brazzaville               1       3.0      0.0        3.0   \n42  Congo-Léopoldville               1       2.0      0.0        2.0   \n43     United Arab Rep.               1       5.0      3.0        1.0   \n44              Comoros               1       4.0      1.0        3.0   \n45              Burundi               1       3.0      0.0        3.0   \n46           Madagascar               1       5.0      2.0        1.0   \n47          Upper Volta               1       3.0      0.0        3.0   \n\n    nb_draws  nb_goals_scored  nb_goals_conceded  \n0       19.0            158.0               85.0  \n1       24.0            129.0               98.0  \n2       19.0            119.0               81.0  \n3       28.0            135.0               80.0  \n4       19.0            133.0              100.0  \n5       25.0             99.0               84.0  \n6       21.0             87.0               82.0  \n7       21.0             75.0               55.0  \n8       14.0             72.0               61.0  \n9       16.0             72.0               46.0  \n10      13.0             51.0               60.0  \n11      15.0             57.0               57.0  \n12       3.0             30.0               60.0  \n13      10.0             41.0               37.0  \n14      13.0             37.0               52.0  \n15       6.0             25.0               38.0  \n16       8.0             35.0               42.0  \n17       7.0             15.0               39.0  \n18      10.0             16.0               25.0  \n19       9.0             34.0               37.0  \n20       3.0             21.0               38.0  \n21      10.0             25.0               30.0  \n22       4.0             11.0               31.0  \n23       6.0             21.0               30.0  \n24       2.0             16.0               31.0  \n25       2.0              4.0               26.0  \n26       5.0              7.0               24.0  \n27       3.0              2.0               12.0  \n28       2.0              5.0               11.0  \n29       2.0             10.0               24.0  \n30       3.0              4.0               14.0  \n31       2.0              9.0               15.0  \n32       4.0              8.0                9.0  \n33       1.0              5.0               14.0  \n34       2.0              1.0               11.0  \n35       2.0              5.0                7.0  \n36       1.0             12.0               10.0  \n37       1.0              2.0                6.0  \n38       1.0              3.0                3.0  \n39       1.0              4.0                3.0  \n40       0.0              2.0                8.0  \n41       0.0              2.0                8.0  \n42       0.0              2.0                8.0  \n43       1.0             10.0                5.0  \n44       0.0              4.0                7.0  \n45       0.0              0.0                4.0  \n46       2.0              7.0                7.0  \n47       0.0              2.0                9.0  ",
      "text/html": "<div>\n<style scoped>\n    .dataframe tbody tr th:only-of-type {\n        vertical-align: middle;\n    }\n\n    .dataframe tbody tr th {\n        vertical-align: top;\n    }\n\n    .dataframe thead th {\n        text-align: right;\n    }\n</style>\n<table border=\"1\" class=\"dataframe\">\n  <thead>\n    <tr style=\"text-align: right;\">\n      <th></th>\n      <th>Team</th>\n      <th>nb_tournaments</th>\n      <th>nb_games</th>\n      <th>nb_wins</th>\n      <th>nb_losses</th>\n      <th>nb_draws</th>\n      <th>nb_goals_scored</th>\n      <th>nb_goals_conceded</th>\n    </tr>\n  </thead>\n  <tbody>\n    <tr>\n      <th>0</th>\n      <td>Egypt</td>\n      <td>24</td>\n      <td>102.0</td>\n      <td>57.0</td>\n      <td>26.0</td>\n      <td>19.0</td>\n      <td>158.0</td>\n      <td>85.0</td>\n    </tr>\n    <tr>\n      <th>1</th>\n      <td>Ivory Coast</td>\n      <td>24</td>\n      <td>90.0</td>\n      <td>38.0</td>\n      <td>28.0</td>\n      <td>24.0</td>\n      <td>129.0</td>\n      <td>98.0</td>\n    </tr>\n    <tr>\n      <th>2</th>\n      <td>Ghana</td>\n      <td>23</td>\n      <td>93.0</td>\n      <td>48.0</td>\n      <td>26.0</td>\n      <td>19.0</td>\n      <td>119.0</td>\n      <td>81.0</td>\n    </tr>\n    <tr>\n      <th>3</th>\n      <td>Cameroon</td>\n      <td>19</td>\n      <td>88.0</td>\n      <td>45.0</td>\n      <td>15.0</td>\n      <td>28.0</td>\n      <td>135.0</td>\n      <td>80.0</td>\n    </tr>\n    <tr>\n      <th>4</th>\n      <td>Nigeria</td>\n      <td>19</td>\n      <td>94.0</td>\n      <td>52.0</td>\n      <td>23.0</td>\n      <td>19.0</td>\n      <td>133.0</td>\n      <td>100.0</td>\n    </tr>\n    <tr>\n      <th>5</th>\n      <td>Tunisia</td>\n      <td>19</td>\n      <td>71.0</td>\n      <td>22.0</td>\n      <td>24.0</td>\n      <td>25.0</td>\n      <td>99.0</td>\n      <td>84.0</td>\n    </tr>\n    <tr>\n      <th>6</th>\n      <td>Algeria</td>\n      <td>18</td>\n      <td>71.0</td>\n      <td>26.0</td>\n      <td>24.0</td>\n      <td>21.0</td>\n      <td>87.0</td>\n      <td>82.0</td>\n    </tr>\n    <tr>\n      <th>7</th>\n      <td>Morocco</td>\n      <td>16</td>\n      <td>64.0</td>\n      <td>26.0</td>\n      <td>17.0</td>\n      <td>21.0</td>\n      <td>75.0</td>\n      <td>55.0</td>\n    </tr>\n    <tr>\n      <th>8</th>\n      <td>Zambia</td>\n      <td>15</td>\n      <td>58.0</td>\n      <td>24.0</td>\n      <td>20.0</td>\n      <td>14.0</td>\n      <td>72.0</td>\n      <td>61.0</td>\n    </tr>\n    <tr>\n      <th>9</th>\n      <td>Senegal</td>\n      <td>14</td>\n      <td>61.0</td>\n      <td>26.0</td>\n      <td>19.0</td>\n      <td>16.0</td>\n      <td>72.0</td>\n      <td>46.0</td>\n    </tr>\n    <tr>\n      <th>10</th>\n      <td>Guinea</td>\n      <td>12</td>\n      <td>41.0</td>\n      <td>12.0</td>\n      <td>16.0</td>\n      <td>13.0</td>\n      <td>51.0</td>\n      <td>60.0</td>\n    </tr>\n    <tr>\n      <th>11</th>\n      <td>Mali</td>\n      <td>11</td>\n      <td>45.0</td>\n      <td>16.0</td>\n      <td>14.0</td>\n      <td>15.0</td>\n      <td>57.0</td>\n      <td>57.0</td>\n    </tr>\n    <tr>\n      <th>12</th>\n      <td>Ethiopia</td>\n      <td>10</td>\n      <td>27.0</td>\n      <td>7.0</td>\n      <td>17.0</td>\n      <td>3.0</td>\n      <td>30.0</td>\n      <td>60.0</td>\n    </tr>\n    <tr>\n      <th>13</th>\n      <td>South Africa</td>\n      <td>9</td>\n      <td>37.0</td>\n      <td>15.0</td>\n      <td>12.0</td>\n      <td>10.0</td>\n      <td>41.0</td>\n      <td>37.0</td>\n    </tr>\n    <tr>\n      <th>14</th>\n      <td>Burkina Faso</td>\n      <td>9</td>\n      <td>36.0</td>\n      <td>8.0</td>\n      <td>15.0</td>\n      <td>13.0</td>\n      <td>37.0</td>\n      <td>52.0</td>\n    </tr>\n    <tr>\n      <th>15</th>\n      <td>Sudan</td>\n      <td>9</td>\n      <td>24.0</td>\n      <td>6.0</td>\n      <td>12.0</td>\n      <td>6.0</td>\n      <td>25.0</td>\n      <td>38.0</td>\n    </tr>\n    <tr>\n      <th>16</th>\n      <td>DR Congo</td>\n      <td>8</td>\n      <td>31.0</td>\n      <td>9.0</td>\n      <td>14.0</td>\n      <td>8.0</td>\n      <td>35.0</td>\n      <td>42.0</td>\n    </tr>\n    <tr>\n      <th>17</th>\n      <td>Togo</td>\n      <td>8</td>\n      <td>22.0</td>\n      <td>2.0</td>\n      <td>13.0</td>\n      <td>7.0</td>\n      <td>15.0</td>\n      <td>39.0</td>\n    </tr>\n    <tr>\n      <th>18</th>\n      <td>Gabon</td>\n      <td>7</td>\n      <td>19.0</td>\n      <td>3.0</td>\n      <td>6.0</td>\n      <td>10.0</td>\n      <td>16.0</td>\n      <td>25.0</td>\n    </tr>\n    <tr>\n      <th>19</th>\n      <td>Zaire</td>\n      <td>7</td>\n      <td>26.0</td>\n      <td>7.0</td>\n      <td>10.0</td>\n      <td>9.0</td>\n      <td>34.0</td>\n      <td>37.0</td>\n    </tr>\n    <tr>\n      <th>20</th>\n      <td>Uganda</td>\n      <td>7</td>\n      <td>23.0</td>\n      <td>4.0</td>\n      <td>16.0</td>\n      <td>3.0</td>\n      <td>21.0</td>\n      <td>38.0</td>\n    </tr>\n    <tr>\n      <th>21</th>\n      <td>Angola</td>\n      <td>6</td>\n      <td>20.0</td>\n      <td>3.0</td>\n      <td>7.0</td>\n      <td>10.0</td>\n      <td>25.0</td>\n      <td>30.0</td>\n    </tr>\n    <tr>\n      <th>22</th>\n      <td>Kenya</td>\n      <td>6</td>\n      <td>17.0</td>\n      <td>2.0</td>\n      <td>11.0</td>\n      <td>4.0</td>\n      <td>11.0</td>\n      <td>31.0</td>\n    </tr>\n    <tr>\n      <th>23</th>\n      <td>Congo</td>\n      <td>6</td>\n      <td>20.0</td>\n      <td>5.0</td>\n      <td>9.0</td>\n      <td>6.0</td>\n      <td>21.0</td>\n      <td>30.0</td>\n    </tr>\n    <tr>\n      <th>24</th>\n      <td>Zimbabwe</td>\n      <td>5</td>\n      <td>15.0</td>\n      <td>3.0</td>\n      <td>10.0</td>\n      <td>2.0</td>\n      <td>16.0</td>\n      <td>31.0</td>\n    </tr>\n    <tr>\n      <th>25</th>\n      <td>Mozambique</td>\n      <td>4</td>\n      <td>12.0</td>\n      <td>0.0</td>\n      <td>10.0</td>\n      <td>2.0</td>\n      <td>4.0</td>\n      <td>26.0</td>\n    </tr>\n    <tr>\n      <th>26</th>\n      <td>Benin</td>\n      <td>4</td>\n      <td>14.0</td>\n      <td>0.0</td>\n      <td>9.0</td>\n      <td>5.0</td>\n      <td>7.0</td>\n      <td>24.0</td>\n    </tr>\n    <tr>\n      <th>27</th>\n      <td>Guinea-Bissau</td>\n      <td>3</td>\n      <td>9.0</td>\n      <td>0.0</td>\n      <td>6.0</td>\n      <td>3.0</td>\n      <td>2.0</td>\n      <td>12.0</td>\n    </tr>\n    <tr>\n      <th>28</th>\n      <td>Equatorial Guinea</td>\n      <td>3</td>\n      <td>9.0</td>\n      <td>3.0</td>\n      <td>4.0</td>\n      <td>2.0</td>\n      <td>5.0</td>\n      <td>11.0</td>\n    </tr>\n    <tr>\n      <th>29</th>\n      <td>Namibia</td>\n      <td>3</td>\n      <td>9.0</td>\n      <td>0.0</td>\n      <td>7.0</td>\n      <td>2.0</td>\n      <td>10.0</td>\n      <td>24.0</td>\n    </tr>\n    <tr>\n      <th>30</th>\n      <td>Sierra Leone</td>\n      <td>3</td>\n      <td>8.0</td>\n      <td>1.0</td>\n      <td>4.0</td>\n      <td>3.0</td>\n      <td>4.0</td>\n      <td>14.0</td>\n    </tr>\n    <tr>\n      <th>31</th>\n      <td>Malawi</td>\n      <td>3</td>\n      <td>10.0</td>\n      <td>2.0</td>\n      <td>6.0</td>\n      <td>2.0</td>\n      <td>9.0</td>\n      <td>15.0</td>\n    </tr>\n    <tr>\n      <th>32</th>\n      <td>Libya</td>\n      <td>2</td>\n      <td>8.0</td>\n      <td>2.0</td>\n      <td>2.0</td>\n      <td>4.0</td>\n      <td>8.0</td>\n      <td>9.0</td>\n    </tr>\n    <tr>\n      <th>33</th>\n      <td>Tanzania</td>\n      <td>2</td>\n      <td>6.0</td>\n      <td>0.0</td>\n      <td>5.0</td>\n      <td>1.0</td>\n      <td>5.0</td>\n      <td>14.0</td>\n    </tr>\n    <tr>\n      <th>34</th>\n      <td>Mauritania</td>\n      <td>2</td>\n      <td>6.0</td>\n      <td>0.0</td>\n      <td>4.0</td>\n      <td>2.0</td>\n      <td>1.0</td>\n      <td>11.0</td>\n    </tr>\n    <tr>\n      <th>35</th>\n      <td>Liberia</td>\n      <td>2</td>\n      <td>5.0</td>\n      <td>1.0</td>\n      <td>2.0</td>\n      <td>2.0</td>\n      <td>5.0</td>\n      <td>7.0</td>\n    </tr>\n    <tr>\n      <th>36</th>\n      <td>Congo-Kinshasa</td>\n      <td>2</td>\n      <td>8.0</td>\n      <td>4.0</td>\n      <td>3.0</td>\n      <td>1.0</td>\n      <td>12.0</td>\n      <td>10.0</td>\n    </tr>\n    <tr>\n      <th>37</th>\n      <td>Cape Verde</td>\n      <td>2</td>\n      <td>5.0</td>\n      <td>1.0</td>\n      <td>3.0</td>\n      <td>1.0</td>\n      <td>2.0</td>\n      <td>6.0</td>\n    </tr>\n    <tr>\n      <th>38</th>\n      <td>Rwanda</td>\n      <td>1</td>\n      <td>3.0</td>\n      <td>1.0</td>\n      <td>1.0</td>\n      <td>1.0</td>\n      <td>3.0</td>\n      <td>3.0</td>\n    </tr>\n    <tr>\n      <th>39</th>\n      <td>Gambia</td>\n      <td>1</td>\n      <td>5.0</td>\n      <td>3.0</td>\n      <td>1.0</td>\n      <td>1.0</td>\n      <td>4.0</td>\n      <td>3.0</td>\n    </tr>\n    <tr>\n      <th>40</th>\n      <td>Mauritius</td>\n      <td>1</td>\n      <td>3.0</td>\n      <td>0.0</td>\n      <td>3.0</td>\n      <td>0.0</td>\n      <td>2.0</td>\n      <td>8.0</td>\n    </tr>\n    <tr>\n      <th>41</th>\n      <td>Congo-Brazzaville</td>\n      <td>1</td>\n      <td>3.0</td>\n      <td>0.0</td>\n      <td>3.0</td>\n      <td>0.0</td>\n      <td>2.0</td>\n      <td>8.0</td>\n    </tr>\n    <tr>\n      <th>42</th>\n      <td>Congo-Léopoldville</td>\n      <td>1</td>\n      <td>2.0</td>\n      <td>0.0</td>\n      <td>2.0</td>\n      <td>0.0</td>\n      <td>2.0</td>\n      <td>8.0</td>\n    </tr>\n    <tr>\n      <th>43</th>\n      <td>United Arab Rep.</td>\n      <td>1</td>\n      <td>5.0</td>\n      <td>3.0</td>\n      <td>1.0</td>\n      <td>1.0</td>\n      <td>10.0</td>\n      <td>5.0</td>\n    </tr>\n    <tr>\n      <th>44</th>\n      <td>Comoros</td>\n      <td>1</td>\n      <td>4.0</td>\n      <td>1.0</td>\n      <td>3.0</td>\n      <td>0.0</td>\n      <td>4.0</td>\n      <td>7.0</td>\n    </tr>\n    <tr>\n      <th>45</th>\n      <td>Burundi</td>\n      <td>1</td>\n      <td>3.0</td>\n      <td>0.0</td>\n      <td>3.0</td>\n      <td>0.0</td>\n      <td>0.0</td>\n      <td>4.0</td>\n    </tr>\n    <tr>\n      <th>46</th>\n      <td>Madagascar</td>\n      <td>1</td>\n      <td>5.0</td>\n      <td>2.0</td>\n      <td>1.0</td>\n      <td>2.0</td>\n      <td>7.0</td>\n      <td>7.0</td>\n    </tr>\n    <tr>\n      <th>47</th>\n      <td>Upper Volta</td>\n      <td>1</td>\n      <td>3.0</td>\n      <td>0.0</td>\n      <td>3.0</td>\n      <td>0.0</td>\n      <td>2.0</td>\n      <td>9.0</td>\n    </tr>\n  </tbody>\n</table>\n</div>"
     },
     "execution_count": 133,
     "metadata": {},
     "output_type": "execute_result"
    }
   ],
   "source": [
    "df_summary.rename(columns={'index' : 'team'}, inplace=True)\n",
    "df_summary"
   ],
   "metadata": {
    "collapsed": false,
    "ExecuteTime": {
     "end_time": "2024-01-03T03:35:20.690213500Z",
     "start_time": "2024-01-03T03:35:20.535699800Z"
    }
   },
   "id": "3733474386343cbf",
   "execution_count": 133
  },
  {
   "cell_type": "code",
   "outputs": [],
   "source": [
    "df_summary['win_percentage'] = (df_summary['nb_wins']/df_summary['nb_games'])*100\n",
    "df_summary['loss_percentage'] = (df_summary['nb_losses']/df_summary['nb_games'])*100\n",
    "df_summary['draw_percentage'] = (df_summary['nb_draws']/df_summary['nb_games'])*100"
   ],
   "metadata": {
    "collapsed": false,
    "ExecuteTime": {
     "end_time": "2024-01-03T03:41:02.619024100Z",
     "start_time": "2024-01-03T03:41:02.462126600Z"
    }
   },
   "id": "dbbd7e0bcc3bb05a",
   "execution_count": 135
  },
  {
   "cell_type": "code",
   "outputs": [
    {
     "name": "stdout",
     "output_type": "stream",
     "text": [
      "<class 'pandas.core.frame.DataFrame'>\n",
      "RangeIndex: 48 entries, 0 to 47\n",
      "Data columns (total 11 columns):\n",
      " #   Column             Non-Null Count  Dtype  \n",
      "---  ------             --------------  -----  \n",
      " 0   Team               48 non-null     object \n",
      " 1   nb_tournaments     48 non-null     int64  \n",
      " 2   nb_games           48 non-null     float64\n",
      " 3   nb_wins            48 non-null     float64\n",
      " 4   nb_losses          48 non-null     float64\n",
      " 5   nb_draws           48 non-null     float64\n",
      " 6   nb_goals_scored    48 non-null     float64\n",
      " 7   nb_goals_conceded  48 non-null     float64\n",
      " 8   win_percentage     48 non-null     float64\n",
      " 9   loss_percentage    48 non-null     float64\n",
      " 10  draw_percentage    48 non-null     float64\n",
      "dtypes: float64(9), int64(1), object(1)\n",
      "memory usage: 4.2+ KB\n"
     ]
    }
   ],
   "source": [
    "df_summary.info()"
   ],
   "metadata": {
    "collapsed": false,
    "ExecuteTime": {
     "end_time": "2024-01-03T03:41:11.747968Z",
     "start_time": "2024-01-03T03:41:11.617667800Z"
    }
   },
   "id": "2f0ac29306ee5f09",
   "execution_count": 136
  },
  {
   "cell_type": "code",
   "outputs": [
    {
     "data": {
      "text/plain": "       nb_tournaments    nb_games    nb_wins  nb_losses   nb_draws  \\\ncount       48.000000   48.000000  48.000000  48.000000  48.000000   \nmean         7.416667   27.916667  10.208333  10.208333   7.500000   \nstd          6.921546   29.436432  15.195126   7.863079   7.938594   \nmin          1.000000    2.000000   0.000000   1.000000   0.000000   \n25%          2.000000    5.750000   1.000000   3.000000   1.750000   \n50%          5.500000   16.000000   3.000000   9.000000   3.500000   \n75%         10.250000   38.000000  12.750000  15.250000  13.000000   \nmax         24.000000  102.000000  57.000000  28.000000  28.000000   \n\n       nb_goals_scored  nb_goals_conceded  win_percentage  loss_percentage  \\\ncount        48.000000          48.000000       48.000000        48.000000   \nmean         33.833333          33.833333       24.918267        50.534157   \nstd          42.783141          28.218248       18.562869        24.639915   \nmin           0.000000           3.000000        0.000000        17.045455   \n25%           4.000000           9.000000       11.096257        31.471096   \n50%          13.500000          28.000000       25.000000        43.055556   \n75%          43.500000          52.750000       40.135135        66.666667   \nmax         158.000000         100.000000       60.000000       100.000000   \n\n       draw_percentage  \ncount        48.000000  \nmean         24.547576  \nstd          13.286166  \nmin           0.000000  \n25%          18.137255  \n50%          25.403226  \n75%          33.333333  \nmax          52.631579  ",
      "text/html": "<div>\n<style scoped>\n    .dataframe tbody tr th:only-of-type {\n        vertical-align: middle;\n    }\n\n    .dataframe tbody tr th {\n        vertical-align: top;\n    }\n\n    .dataframe thead th {\n        text-align: right;\n    }\n</style>\n<table border=\"1\" class=\"dataframe\">\n  <thead>\n    <tr style=\"text-align: right;\">\n      <th></th>\n      <th>nb_tournaments</th>\n      <th>nb_games</th>\n      <th>nb_wins</th>\n      <th>nb_losses</th>\n      <th>nb_draws</th>\n      <th>nb_goals_scored</th>\n      <th>nb_goals_conceded</th>\n      <th>win_percentage</th>\n      <th>loss_percentage</th>\n      <th>draw_percentage</th>\n    </tr>\n  </thead>\n  <tbody>\n    <tr>\n      <th>count</th>\n      <td>48.000000</td>\n      <td>48.000000</td>\n      <td>48.000000</td>\n      <td>48.000000</td>\n      <td>48.000000</td>\n      <td>48.000000</td>\n      <td>48.000000</td>\n      <td>48.000000</td>\n      <td>48.000000</td>\n      <td>48.000000</td>\n    </tr>\n    <tr>\n      <th>mean</th>\n      <td>7.416667</td>\n      <td>27.916667</td>\n      <td>10.208333</td>\n      <td>10.208333</td>\n      <td>7.500000</td>\n      <td>33.833333</td>\n      <td>33.833333</td>\n      <td>24.918267</td>\n      <td>50.534157</td>\n      <td>24.547576</td>\n    </tr>\n    <tr>\n      <th>std</th>\n      <td>6.921546</td>\n      <td>29.436432</td>\n      <td>15.195126</td>\n      <td>7.863079</td>\n      <td>7.938594</td>\n      <td>42.783141</td>\n      <td>28.218248</td>\n      <td>18.562869</td>\n      <td>24.639915</td>\n      <td>13.286166</td>\n    </tr>\n    <tr>\n      <th>min</th>\n      <td>1.000000</td>\n      <td>2.000000</td>\n      <td>0.000000</td>\n      <td>1.000000</td>\n      <td>0.000000</td>\n      <td>0.000000</td>\n      <td>3.000000</td>\n      <td>0.000000</td>\n      <td>17.045455</td>\n      <td>0.000000</td>\n    </tr>\n    <tr>\n      <th>25%</th>\n      <td>2.000000</td>\n      <td>5.750000</td>\n      <td>1.000000</td>\n      <td>3.000000</td>\n      <td>1.750000</td>\n      <td>4.000000</td>\n      <td>9.000000</td>\n      <td>11.096257</td>\n      <td>31.471096</td>\n      <td>18.137255</td>\n    </tr>\n    <tr>\n      <th>50%</th>\n      <td>5.500000</td>\n      <td>16.000000</td>\n      <td>3.000000</td>\n      <td>9.000000</td>\n      <td>3.500000</td>\n      <td>13.500000</td>\n      <td>28.000000</td>\n      <td>25.000000</td>\n      <td>43.055556</td>\n      <td>25.403226</td>\n    </tr>\n    <tr>\n      <th>75%</th>\n      <td>10.250000</td>\n      <td>38.000000</td>\n      <td>12.750000</td>\n      <td>15.250000</td>\n      <td>13.000000</td>\n      <td>43.500000</td>\n      <td>52.750000</td>\n      <td>40.135135</td>\n      <td>66.666667</td>\n      <td>33.333333</td>\n    </tr>\n    <tr>\n      <th>max</th>\n      <td>24.000000</td>\n      <td>102.000000</td>\n      <td>57.000000</td>\n      <td>28.000000</td>\n      <td>28.000000</td>\n      <td>158.000000</td>\n      <td>100.000000</td>\n      <td>60.000000</td>\n      <td>100.000000</td>\n      <td>52.631579</td>\n    </tr>\n  </tbody>\n</table>\n</div>"
     },
     "execution_count": 137,
     "metadata": {},
     "output_type": "execute_result"
    }
   ],
   "source": [
    "df_summary.describe()"
   ],
   "metadata": {
    "collapsed": false,
    "ExecuteTime": {
     "end_time": "2024-01-03T03:41:29.071128600Z",
     "start_time": "2024-01-03T03:41:28.882733300Z"
    }
   },
   "id": "e2df5c3d5555d268",
   "execution_count": 137
  },
  {
   "cell_type": "code",
   "outputs": [],
   "source": [
    "df_summary['nb_tournaments'] = df_summary['nb_tournaments'].astype(int)\n",
    "df_summary['nb_games'] = df_summary['nb_games'].astype(int)\n",
    "df_summary['nb_wins'] = df_summary['nb_wins'].astype(int)\n",
    "df_summary['nb_draws'] = df_summary['nb_draws'].astype(int)\n",
    "df_summary['nb_losses'] = df_summary['nb_losses'].astype(int)\n",
    "df_summary['nb_goals_scored'] = df_summary['nb_goals_scored'].astype(int)\n",
    "df_summary['nb_goals_conceded'] = df_summary['nb_goals_conceded'].astype(int)"
   ],
   "metadata": {
    "collapsed": false,
    "ExecuteTime": {
     "end_time": "2024-01-03T03:44:57.279304600Z",
     "start_time": "2024-01-03T03:44:57.043385200Z"
    }
   },
   "id": "7a1ed9d8e1b33cc7",
   "execution_count": 138
  },
  {
   "cell_type": "code",
   "outputs": [
    {
     "name": "stdout",
     "output_type": "stream",
     "text": [
      "<class 'pandas.core.frame.DataFrame'>\n",
      "RangeIndex: 48 entries, 0 to 47\n",
      "Data columns (total 11 columns):\n",
      " #   Column             Non-Null Count  Dtype  \n",
      "---  ------             --------------  -----  \n",
      " 0   Team               48 non-null     object \n",
      " 1   nb_tournaments     48 non-null     int32  \n",
      " 2   nb_games           48 non-null     int32  \n",
      " 3   nb_wins            48 non-null     int32  \n",
      " 4   nb_losses          48 non-null     int32  \n",
      " 5   nb_draws           48 non-null     int32  \n",
      " 6   nb_goals_scored    48 non-null     int32  \n",
      " 7   nb_goals_conceded  48 non-null     int32  \n",
      " 8   win_percentage     48 non-null     float64\n",
      " 9   loss_percentage    48 non-null     float64\n",
      " 10  draw_percentage    48 non-null     float64\n",
      "dtypes: float64(3), int32(7), object(1)\n",
      "memory usage: 2.9+ KB\n"
     ]
    }
   ],
   "source": [
    "df_summary.info()"
   ],
   "metadata": {
    "collapsed": false,
    "ExecuteTime": {
     "end_time": "2024-01-03T03:45:07.652686Z",
     "start_time": "2024-01-03T03:45:07.636726400Z"
    }
   },
   "id": "1262ad52b6531ff4",
   "execution_count": 139
  },
  {
   "cell_type": "code",
   "outputs": [],
   "source": [],
   "metadata": {
    "collapsed": false
   },
   "id": "6917aeabc1e66518"
  }
 ],
 "metadata": {
  "kernelspec": {
   "display_name": "Python 3",
   "language": "python",
   "name": "python3"
  },
  "language_info": {
   "codemirror_mode": {
    "name": "ipython",
    "version": 2
   },
   "file_extension": ".py",
   "mimetype": "text/x-python",
   "name": "python",
   "nbconvert_exporter": "python",
   "pygments_lexer": "ipython2",
   "version": "2.7.6"
  }
 },
 "nbformat": 4,
 "nbformat_minor": 5
}
